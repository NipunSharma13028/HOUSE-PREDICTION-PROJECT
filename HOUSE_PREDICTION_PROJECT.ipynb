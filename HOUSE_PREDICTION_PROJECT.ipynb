{
  "nbformat": 4,
  "nbformat_minor": 0,
  "metadata": {
    "colab": {
      "name": "HOUSE PREDICTION PROJECT.ipynb",
      "provenance": [],
      "collapsed_sections": [],
      "authorship_tag": "ABX9TyMrRfQIjnVTJgr7Kkm7L+F+",
      "include_colab_link": true
    },
    "kernelspec": {
      "name": "python3",
      "display_name": "Python 3"
    },
    "language_info": {
      "name": "python"
    }
  },
  "cells": [
    {
      "cell_type": "markdown",
      "metadata": {
        "id": "view-in-github",
        "colab_type": "text"
      },
      "source": [
        "<a href=\"https://colab.research.google.com/github/NipunSharma13028/HOUSE-PREDICTION-PROJECT/blob/main/HOUSE_PREDICTION_PROJECT.ipynb\" target=\"_parent\"><img src=\"https://colab.research.google.com/assets/colab-badge.svg\" alt=\"Open In Colab\"/></a>"
      ]
    },
    {
      "cell_type": "code",
      "metadata": {
        "id": "SWE2o1kjgzFH"
      },
      "source": [
        "import numpy as np\n",
        "import pandas as pd\n",
        "import seaborn as sns\n",
        "import cufflinks as cf\n",
        "from scipy import stats\n",
        "import plotly.express as px\n",
        "import matplotlib.pyplot as plt\n",
        "\n",
        "from plotly.offline import download_plotlyjs,init_notebook_mode,plot,iplot"
      ],
      "execution_count": 2,
      "outputs": []
    },
    {
      "cell_type": "code",
      "metadata": {
        "colab": {
          "base_uri": "https://localhost:8080/",
          "height": 206
        },
        "id": "kM8cmBuDhSAF",
        "outputId": "d428fdb4-046a-469a-b244-cfbc369af2ba"
      },
      "source": [
        "df = pd.read_csv(\"MagicBricks.csv\")\n",
        "df.head(n = 5)"
      ],
      "execution_count": 4,
      "outputs": [
        {
          "output_type": "execute_result",
          "data": {
            "text/html": [
              "<div>\n",
              "<style scoped>\n",
              "    .dataframe tbody tr th:only-of-type {\n",
              "        vertical-align: middle;\n",
              "    }\n",
              "\n",
              "    .dataframe tbody tr th {\n",
              "        vertical-align: top;\n",
              "    }\n",
              "\n",
              "    .dataframe thead th {\n",
              "        text-align: right;\n",
              "    }\n",
              "</style>\n",
              "<table border=\"1\" class=\"dataframe\">\n",
              "  <thead>\n",
              "    <tr style=\"text-align: right;\">\n",
              "      <th></th>\n",
              "      <th>Area</th>\n",
              "      <th>BHK</th>\n",
              "      <th>Bathroom</th>\n",
              "      <th>Furnishing</th>\n",
              "      <th>Locality</th>\n",
              "      <th>Parking</th>\n",
              "      <th>Price</th>\n",
              "      <th>Status</th>\n",
              "      <th>Transaction</th>\n",
              "      <th>Type</th>\n",
              "      <th>Per_Sqft</th>\n",
              "    </tr>\n",
              "  </thead>\n",
              "  <tbody>\n",
              "    <tr>\n",
              "      <th>0</th>\n",
              "      <td>800.0</td>\n",
              "      <td>3</td>\n",
              "      <td>2.0</td>\n",
              "      <td>Semi-Furnished</td>\n",
              "      <td>Rohini Sector 25</td>\n",
              "      <td>1.0</td>\n",
              "      <td>6500000</td>\n",
              "      <td>Ready_to_move</td>\n",
              "      <td>New_Property</td>\n",
              "      <td>Builder_Floor</td>\n",
              "      <td>NaN</td>\n",
              "    </tr>\n",
              "    <tr>\n",
              "      <th>1</th>\n",
              "      <td>750.0</td>\n",
              "      <td>2</td>\n",
              "      <td>2.0</td>\n",
              "      <td>Semi-Furnished</td>\n",
              "      <td>J R Designers Floors, Rohini Sector 24</td>\n",
              "      <td>1.0</td>\n",
              "      <td>5000000</td>\n",
              "      <td>Ready_to_move</td>\n",
              "      <td>New_Property</td>\n",
              "      <td>Apartment</td>\n",
              "      <td>6667.0</td>\n",
              "    </tr>\n",
              "    <tr>\n",
              "      <th>2</th>\n",
              "      <td>950.0</td>\n",
              "      <td>2</td>\n",
              "      <td>2.0</td>\n",
              "      <td>Furnished</td>\n",
              "      <td>Citizen Apartment, Rohini Sector 13</td>\n",
              "      <td>1.0</td>\n",
              "      <td>15500000</td>\n",
              "      <td>Ready_to_move</td>\n",
              "      <td>Resale</td>\n",
              "      <td>Apartment</td>\n",
              "      <td>6667.0</td>\n",
              "    </tr>\n",
              "    <tr>\n",
              "      <th>3</th>\n",
              "      <td>600.0</td>\n",
              "      <td>2</td>\n",
              "      <td>2.0</td>\n",
              "      <td>Semi-Furnished</td>\n",
              "      <td>Rohini Sector 24</td>\n",
              "      <td>1.0</td>\n",
              "      <td>4200000</td>\n",
              "      <td>Ready_to_move</td>\n",
              "      <td>Resale</td>\n",
              "      <td>Builder_Floor</td>\n",
              "      <td>6667.0</td>\n",
              "    </tr>\n",
              "    <tr>\n",
              "      <th>4</th>\n",
              "      <td>650.0</td>\n",
              "      <td>2</td>\n",
              "      <td>2.0</td>\n",
              "      <td>Semi-Furnished</td>\n",
              "      <td>Rohini Sector 24 carpet area 650 sqft status R...</td>\n",
              "      <td>1.0</td>\n",
              "      <td>6200000</td>\n",
              "      <td>Ready_to_move</td>\n",
              "      <td>New_Property</td>\n",
              "      <td>Builder_Floor</td>\n",
              "      <td>6667.0</td>\n",
              "    </tr>\n",
              "  </tbody>\n",
              "</table>\n",
              "</div>"
            ],
            "text/plain": [
              "    Area  BHK  Bathroom  ...   Transaction           Type  Per_Sqft\n",
              "0  800.0    3       2.0  ...  New_Property  Builder_Floor       NaN\n",
              "1  750.0    2       2.0  ...  New_Property      Apartment    6667.0\n",
              "2  950.0    2       2.0  ...        Resale      Apartment    6667.0\n",
              "3  600.0    2       2.0  ...        Resale  Builder_Floor    6667.0\n",
              "4  650.0    2       2.0  ...  New_Property  Builder_Floor    6667.0\n",
              "\n",
              "[5 rows x 11 columns]"
            ]
          },
          "metadata": {
            "tags": []
          },
          "execution_count": 4
        }
      ]
    },
    {
      "cell_type": "code",
      "metadata": {
        "colab": {
          "base_uri": "https://localhost:8080/",
          "height": 300
        },
        "id": "Fnkgi8NZhUkD",
        "outputId": "972e16de-7561-4c51-b9c5-688f8a4bda8c"
      },
      "source": [
        "df.describe()\n"
      ],
      "execution_count": 5,
      "outputs": [
        {
          "output_type": "execute_result",
          "data": {
            "text/html": [
              "<div>\n",
              "<style scoped>\n",
              "    .dataframe tbody tr th:only-of-type {\n",
              "        vertical-align: middle;\n",
              "    }\n",
              "\n",
              "    .dataframe tbody tr th {\n",
              "        vertical-align: top;\n",
              "    }\n",
              "\n",
              "    .dataframe thead th {\n",
              "        text-align: right;\n",
              "    }\n",
              "</style>\n",
              "<table border=\"1\" class=\"dataframe\">\n",
              "  <thead>\n",
              "    <tr style=\"text-align: right;\">\n",
              "      <th></th>\n",
              "      <th>Area</th>\n",
              "      <th>BHK</th>\n",
              "      <th>Bathroom</th>\n",
              "      <th>Parking</th>\n",
              "      <th>Price</th>\n",
              "      <th>Per_Sqft</th>\n",
              "    </tr>\n",
              "  </thead>\n",
              "  <tbody>\n",
              "    <tr>\n",
              "      <th>count</th>\n",
              "      <td>1259.000000</td>\n",
              "      <td>1259.000000</td>\n",
              "      <td>1257.000000</td>\n",
              "      <td>1226.000000</td>\n",
              "      <td>1.259000e+03</td>\n",
              "      <td>1018.000000</td>\n",
              "    </tr>\n",
              "    <tr>\n",
              "      <th>mean</th>\n",
              "      <td>1466.452724</td>\n",
              "      <td>2.796664</td>\n",
              "      <td>2.556086</td>\n",
              "      <td>1.935563</td>\n",
              "      <td>2.130670e+07</td>\n",
              "      <td>15690.136542</td>\n",
              "    </tr>\n",
              "    <tr>\n",
              "      <th>std</th>\n",
              "      <td>1568.055040</td>\n",
              "      <td>0.954425</td>\n",
              "      <td>1.042220</td>\n",
              "      <td>6.279212</td>\n",
              "      <td>2.560115e+07</td>\n",
              "      <td>21134.738568</td>\n",
              "    </tr>\n",
              "    <tr>\n",
              "      <th>min</th>\n",
              "      <td>28.000000</td>\n",
              "      <td>1.000000</td>\n",
              "      <td>1.000000</td>\n",
              "      <td>1.000000</td>\n",
              "      <td>1.000000e+06</td>\n",
              "      <td>1259.000000</td>\n",
              "    </tr>\n",
              "    <tr>\n",
              "      <th>25%</th>\n",
              "      <td>800.000000</td>\n",
              "      <td>2.000000</td>\n",
              "      <td>2.000000</td>\n",
              "      <td>1.000000</td>\n",
              "      <td>5.700000e+06</td>\n",
              "      <td>6364.000000</td>\n",
              "    </tr>\n",
              "    <tr>\n",
              "      <th>50%</th>\n",
              "      <td>1200.000000</td>\n",
              "      <td>3.000000</td>\n",
              "      <td>2.000000</td>\n",
              "      <td>1.000000</td>\n",
              "      <td>1.420000e+07</td>\n",
              "      <td>11291.500000</td>\n",
              "    </tr>\n",
              "    <tr>\n",
              "      <th>75%</th>\n",
              "      <td>1700.000000</td>\n",
              "      <td>3.000000</td>\n",
              "      <td>3.000000</td>\n",
              "      <td>2.000000</td>\n",
              "      <td>2.550000e+07</td>\n",
              "      <td>18000.000000</td>\n",
              "    </tr>\n",
              "    <tr>\n",
              "      <th>max</th>\n",
              "      <td>24300.000000</td>\n",
              "      <td>10.000000</td>\n",
              "      <td>7.000000</td>\n",
              "      <td>114.000000</td>\n",
              "      <td>2.400000e+08</td>\n",
              "      <td>183333.000000</td>\n",
              "    </tr>\n",
              "  </tbody>\n",
              "</table>\n",
              "</div>"
            ],
            "text/plain": [
              "               Area          BHK  ...         Price       Per_Sqft\n",
              "count   1259.000000  1259.000000  ...  1.259000e+03    1018.000000\n",
              "mean    1466.452724     2.796664  ...  2.130670e+07   15690.136542\n",
              "std     1568.055040     0.954425  ...  2.560115e+07   21134.738568\n",
              "min       28.000000     1.000000  ...  1.000000e+06    1259.000000\n",
              "25%      800.000000     2.000000  ...  5.700000e+06    6364.000000\n",
              "50%     1200.000000     3.000000  ...  1.420000e+07   11291.500000\n",
              "75%     1700.000000     3.000000  ...  2.550000e+07   18000.000000\n",
              "max    24300.000000    10.000000  ...  2.400000e+08  183333.000000\n",
              "\n",
              "[8 rows x 6 columns]"
            ]
          },
          "metadata": {
            "tags": []
          },
          "execution_count": 5
        }
      ]
    },
    {
      "cell_type": "code",
      "metadata": {
        "colab": {
          "base_uri": "https://localhost:8080/"
        },
        "id": "EmzgTa9Shfu9",
        "outputId": "dbe18e11-a113-45e7-a197-2dba90ca022b"
      },
      "source": [
        "df.info()\n"
      ],
      "execution_count": 6,
      "outputs": [
        {
          "output_type": "stream",
          "text": [
            "<class 'pandas.core.frame.DataFrame'>\n",
            "RangeIndex: 1259 entries, 0 to 1258\n",
            "Data columns (total 11 columns):\n",
            " #   Column       Non-Null Count  Dtype  \n",
            "---  ------       --------------  -----  \n",
            " 0   Area         1259 non-null   float64\n",
            " 1   BHK          1259 non-null   int64  \n",
            " 2   Bathroom     1257 non-null   float64\n",
            " 3   Furnishing   1254 non-null   object \n",
            " 4   Locality     1259 non-null   object \n",
            " 5   Parking      1226 non-null   float64\n",
            " 6   Price        1259 non-null   int64  \n",
            " 7   Status       1259 non-null   object \n",
            " 8   Transaction  1259 non-null   object \n",
            " 9   Type         1254 non-null   object \n",
            " 10  Per_Sqft     1018 non-null   float64\n",
            "dtypes: float64(4), int64(2), object(5)\n",
            "memory usage: 108.3+ KB\n"
          ],
          "name": "stdout"
        }
      ]
    },
    {
      "cell_type": "code",
      "metadata": {
        "colab": {
          "base_uri": "https://localhost:8080/"
        },
        "id": "LbZc3kbUhjZp",
        "outputId": "837161d4-6f18-4304-83e0-0e38d8e253a6"
      },
      "source": [
        "df.shape\n"
      ],
      "execution_count": 7,
      "outputs": [
        {
          "output_type": "execute_result",
          "data": {
            "text/plain": [
              "(1259, 11)"
            ]
          },
          "metadata": {
            "tags": []
          },
          "execution_count": 7
        }
      ]
    },
    {
      "cell_type": "code",
      "metadata": {
        "colab": {
          "base_uri": "https://localhost:8080/",
          "height": 551
        },
        "id": "RfnMItlNhnOE",
        "outputId": "46f5c9d8-e5a2-4896-f8b3-e09ceb01d8ba"
      },
      "source": [
        "import missingno as msno\n",
        "msno.bar(df)\n",
        "plt.show()"
      ],
      "execution_count": 8,
      "outputs": [
        {
          "output_type": "display_data",
          "data": {
            "image/png": "[encoded data removed]",
            "text/plain": [
              "<Figure size 1800x720 with 3 Axes>"
            ]
          },
          "metadata": {
            "tags": [],
            "needs_background": "light"
          }
        }
      ]
    },
    {
      "cell_type": "markdown",
      "metadata": {
        "id": "Ut66ECsqh3A7"
      },
      "source": [
        "DATA **CLEANING**"
      ]
    },
    {
      "cell_type": "code",
      "metadata": {
        "colab": {
          "base_uri": "https://localhost:8080/"
        },
        "id": "d9jwOpfuhpJq",
        "outputId": "c38c72b4-b7b7-4a24-bc72-ee89941f8486"
      },
      "source": [
        "df.isnull().sum()\n"
      ],
      "execution_count": 9,
      "outputs": [
        {
          "output_type": "execute_result",
          "data": {
            "text/plain": [
              "Area             0\n",
              "BHK              0\n",
              "Bathroom         2\n",
              "Furnishing       5\n",
              "Locality         0\n",
              "Parking         33\n",
              "Price            0\n",
              "Status           0\n",
              "Transaction      0\n",
              "Type             5\n",
              "Per_Sqft       241\n",
              "dtype: int64"
            ]
          },
          "metadata": {
            "tags": []
          },
          "execution_count": 9
        }
      ]
    },
    {
      "cell_type": "code",
      "metadata": {
        "colab": {
          "base_uri": "https://localhost:8080/",
          "height": 527
        },
        "id": "4Gt_vkGch6yf",
        "outputId": "96d06732-783a-47a0-ceb0-3a42e3c67ea3"
      },
      "source": [
        "duplicate = df[df.duplicated()]\n",
        "duplicate"
      ],
      "execution_count": 10,
      "outputs": [
        {
          "output_type": "execute_result",
          "data": {
            "text/html": [
              "<div>\n",
              "<style scoped>\n",
              "    .dataframe tbody tr th:only-of-type {\n",
              "        vertical-align: middle;\n",
              "    }\n",
              "\n",
              "    .dataframe tbody tr th {\n",
              "        vertical-align: top;\n",
              "    }\n",
              "\n",
              "    .dataframe thead th {\n",
              "        text-align: right;\n",
              "    }\n",
              "</style>\n",
              "<table border=\"1\" class=\"dataframe\">\n",
              "  <thead>\n",
              "    <tr style=\"text-align: right;\">\n",
              "      <th></th>\n",
              "      <th>Area</th>\n",
              "      <th>BHK</th>\n",
              "      <th>Bathroom</th>\n",
              "      <th>Furnishing</th>\n",
              "      <th>Locality</th>\n",
              "      <th>Parking</th>\n",
              "      <th>Price</th>\n",
              "      <th>Status</th>\n",
              "      <th>Transaction</th>\n",
              "      <th>Type</th>\n",
              "      <th>Per_Sqft</th>\n",
              "    </tr>\n",
              "  </thead>\n",
              "  <tbody>\n",
              "    <tr>\n",
              "      <th>84</th>\n",
              "      <td>1540.0</td>\n",
              "      <td>3</td>\n",
              "      <td>3.0</td>\n",
              "      <td>Semi-Furnished</td>\n",
              "      <td>Nav Kairali Apartment, Dwarka Sector 3</td>\n",
              "      <td>1.0</td>\n",
              "      <td>14500000</td>\n",
              "      <td>Ready_to_move</td>\n",
              "      <td>Resale</td>\n",
              "      <td>Apartment</td>\n",
              "      <td>3524.0</td>\n",
              "    </tr>\n",
              "    <tr>\n",
              "      <th>92</th>\n",
              "      <td>1450.0</td>\n",
              "      <td>3</td>\n",
              "      <td>3.0</td>\n",
              "      <td>Semi-Furnished</td>\n",
              "      <td>Lajpat Nagar 3</td>\n",
              "      <td>2.0</td>\n",
              "      <td>30000000</td>\n",
              "      <td>Ready_to_move</td>\n",
              "      <td>New_Property</td>\n",
              "      <td>Builder_Floor</td>\n",
              "      <td>NaN</td>\n",
              "    </tr>\n",
              "    <tr>\n",
              "      <th>110</th>\n",
              "      <td>1000.0</td>\n",
              "      <td>2</td>\n",
              "      <td>2.0</td>\n",
              "      <td>Furnished</td>\n",
              "      <td>Lajpat Nagar 3</td>\n",
              "      <td>1.0</td>\n",
              "      <td>20000000</td>\n",
              "      <td>Ready_to_move</td>\n",
              "      <td>Resale</td>\n",
              "      <td>Apartment</td>\n",
              "      <td>20000.0</td>\n",
              "    </tr>\n",
              "    <tr>\n",
              "      <th>120</th>\n",
              "      <td>1500.0</td>\n",
              "      <td>1</td>\n",
              "      <td>NaN</td>\n",
              "      <td>Unfurnished</td>\n",
              "      <td>Lajpat Nagar 2</td>\n",
              "      <td>NaN</td>\n",
              "      <td>13500000</td>\n",
              "      <td>Ready_to_move</td>\n",
              "      <td>Resale</td>\n",
              "      <td>Apartment</td>\n",
              "      <td>NaN</td>\n",
              "    </tr>\n",
              "    <tr>\n",
              "      <th>122</th>\n",
              "      <td>1710.0</td>\n",
              "      <td>3</td>\n",
              "      <td>3.0</td>\n",
              "      <td>Semi-Furnished</td>\n",
              "      <td>Lajpat Nagar 2</td>\n",
              "      <td>4.0</td>\n",
              "      <td>26000000</td>\n",
              "      <td>Ready_to_move</td>\n",
              "      <td>New_Property</td>\n",
              "      <td>Builder_Floor</td>\n",
              "      <td>NaN</td>\n",
              "    </tr>\n",
              "    <tr>\n",
              "      <th>...</th>\n",
              "      <td>...</td>\n",
              "      <td>...</td>\n",
              "      <td>...</td>\n",
              "      <td>...</td>\n",
              "      <td>...</td>\n",
              "      <td>...</td>\n",
              "      <td>...</td>\n",
              "      <td>...</td>\n",
              "      <td>...</td>\n",
              "      <td>...</td>\n",
              "      <td>...</td>\n",
              "    </tr>\n",
              "    <tr>\n",
              "      <th>1164</th>\n",
              "      <td>1300.0</td>\n",
              "      <td>2</td>\n",
              "      <td>2.0</td>\n",
              "      <td>Semi-Furnished</td>\n",
              "      <td>Yamuna Apartment, Alaknanda</td>\n",
              "      <td>1.0</td>\n",
              "      <td>15000000</td>\n",
              "      <td>Ready_to_move</td>\n",
              "      <td>Resale</td>\n",
              "      <td>Apartment</td>\n",
              "      <td>11538.0</td>\n",
              "    </tr>\n",
              "    <tr>\n",
              "      <th>1165</th>\n",
              "      <td>1200.0</td>\n",
              "      <td>2</td>\n",
              "      <td>2.0</td>\n",
              "      <td>Unfurnished</td>\n",
              "      <td>Nilgiri Apartment, Alaknanda</td>\n",
              "      <td>1.0</td>\n",
              "      <td>14300000</td>\n",
              "      <td>Ready_to_move</td>\n",
              "      <td>Resale</td>\n",
              "      <td>Apartment</td>\n",
              "      <td>11538.0</td>\n",
              "    </tr>\n",
              "    <tr>\n",
              "      <th>1166</th>\n",
              "      <td>1300.0</td>\n",
              "      <td>3</td>\n",
              "      <td>2.0</td>\n",
              "      <td>Unfurnished</td>\n",
              "      <td>Nilgiri Apartment, Alaknanda</td>\n",
              "      <td>1.0</td>\n",
              "      <td>18500000</td>\n",
              "      <td>Ready_to_move</td>\n",
              "      <td>Resale</td>\n",
              "      <td>Apartment</td>\n",
              "      <td>11538.0</td>\n",
              "    </tr>\n",
              "    <tr>\n",
              "      <th>1167</th>\n",
              "      <td>1400.0</td>\n",
              "      <td>3</td>\n",
              "      <td>3.0</td>\n",
              "      <td>Furnished</td>\n",
              "      <td>Tara Apartment, Alaknanda carpet area 1400 sqf...</td>\n",
              "      <td>1.0</td>\n",
              "      <td>19000000</td>\n",
              "      <td>Ready_to_move</td>\n",
              "      <td>Resale</td>\n",
              "      <td>Apartment</td>\n",
              "      <td>11538.0</td>\n",
              "    </tr>\n",
              "    <tr>\n",
              "      <th>1168</th>\n",
              "      <td>1400.0</td>\n",
              "      <td>3</td>\n",
              "      <td>3.0</td>\n",
              "      <td>Semi-Furnished</td>\n",
              "      <td>Alaknanda</td>\n",
              "      <td>1.0</td>\n",
              "      <td>19000000</td>\n",
              "      <td>Ready_to_move</td>\n",
              "      <td>Resale</td>\n",
              "      <td>Apartment</td>\n",
              "      <td>11538.0</td>\n",
              "    </tr>\n",
              "  </tbody>\n",
              "</table>\n",
              "<p>83 rows × 11 columns</p>\n",
              "</div>"
            ],
            "text/plain": [
              "        Area  BHK  Bathroom  ...   Transaction           Type  Per_Sqft\n",
              "84    1540.0    3       3.0  ...        Resale      Apartment    3524.0\n",
              "92    1450.0    3       3.0  ...  New_Property  Builder_Floor       NaN\n",
              "110   1000.0    2       2.0  ...        Resale      Apartment   20000.0\n",
              "120   1500.0    1       NaN  ...        Resale      Apartment       NaN\n",
              "122   1710.0    3       3.0  ...  New_Property  Builder_Floor       NaN\n",
              "...      ...  ...       ...  ...           ...            ...       ...\n",
              "1164  1300.0    2       2.0  ...        Resale      Apartment   11538.0\n",
              "1165  1200.0    2       2.0  ...        Resale      Apartment   11538.0\n",
              "1166  1300.0    3       2.0  ...        Resale      Apartment   11538.0\n",
              "1167  1400.0    3       3.0  ...        Resale      Apartment   11538.0\n",
              "1168  1400.0    3       3.0  ...        Resale      Apartment   11538.0\n",
              "\n",
              "[83 rows x 11 columns]"
            ]
          },
          "metadata": {
            "tags": []
          },
          "execution_count": 10
        }
      ]
    },
    {
      "cell_type": "code",
      "metadata": {
        "colab": {
          "base_uri": "https://localhost:8080/"
        },
        "id": "NZwY8QSYh_QE",
        "outputId": "2d261a9b-a519-43b6-abba-709071ae28b9"
      },
      "source": [
        "df1 = df.drop_duplicates().reset_index(drop=True)\n",
        "df1.shape"
      ],
      "execution_count": 11,
      "outputs": [
        {
          "output_type": "execute_result",
          "data": {
            "text/plain": [
              "(1176, 11)"
            ]
          },
          "metadata": {
            "tags": []
          },
          "execution_count": 11
        }
      ]
    },
    {
      "cell_type": "code",
      "metadata": {
        "colab": {
          "base_uri": "https://localhost:8080/"
        },
        "id": "a9DbRrr3iLc5",
        "outputId": "7046900b-5cc0-468e-d6f2-49452209b0cb"
      },
      "source": [
        "df1.isnull().sum()\n"
      ],
      "execution_count": 12,
      "outputs": [
        {
          "output_type": "execute_result",
          "data": {
            "text/plain": [
              "Area             0\n",
              "BHK              0\n",
              "Bathroom         1\n",
              "Furnishing       5\n",
              "Locality         0\n",
              "Parking         31\n",
              "Price            0\n",
              "Status           0\n",
              "Transaction      0\n",
              "Type             5\n",
              "Per_Sqft       227\n",
              "dtype: int64"
            ]
          },
          "metadata": {
            "tags": []
          },
          "execution_count": 12
        }
      ]
    },
    {
      "cell_type": "code",
      "metadata": {
        "id": "H83arqxHiP-I"
      },
      "source": [
        "df1['Per_Sqft'] = df1['Per_Sqft'].fillna(df1['Per_Sqft'].mean())\n",
        "df1['Parking'] = df1['Parking'].fillna(df1['Parking'].mode()[0])"
      ],
      "execution_count": 13,
      "outputs": []
    },
    {
      "cell_type": "code",
      "metadata": {
        "id": "7ZB6xG8viTtW"
      },
      "source": [
        "df1 = df1.dropna()\n"
      ],
      "execution_count": 14,
      "outputs": []
    },
    {
      "cell_type": "code",
      "metadata": {
        "colab": {
          "base_uri": "https://localhost:8080/"
        },
        "id": "MA9OdcK1iVls",
        "outputId": "e48015ba-bfc7-4737-875a-527fa322c217"
      },
      "source": [
        "df1.isnull().sum()\n",
        "df1.shape\n"
      ],
      "execution_count": 15,
      "outputs": [
        {
          "output_type": "execute_result",
          "data": {
            "text/plain": [
              "(1170, 11)"
            ]
          },
          "metadata": {
            "tags": []
          },
          "execution_count": 15
        }
      ]
    },
    {
      "cell_type": "markdown",
      "metadata": {
        "id": "Q2sNcAvXibbU"
      },
      "source": [
        "**DATA** **VISUALIZE**"
      ]
    },
    {
      "cell_type": "code",
      "metadata": {
        "colab": {
          "base_uri": "https://localhost:8080/",
          "height": 542
        },
        "id": "zGOPySariaGb",
        "outputId": "04c8c0e6-b7c6-4b37-a2bb-e1536215a285"
      },
      "source": [
        "px.histogram(df1,x='Price', color = 'Type')\n"
      ],
      "execution_count": 16,
      "outputs": [
        {
          "output_type": "display_data",
          "data": {
            "text/html": [
              "<html>\n",
              "<head><meta charset=\"utf-8\" /></head>\n",
              "<body>\n",
              "    <div>\n",
              "            <script src=\"https://cdnjs.cloudflare.com/ajax/libs/mathjax/2.7.5/MathJax.js?config=TeX-AMS-MML_SVG\"></script><script type=\"text/javascript\">if (window.MathJax) {MathJax.Hub.Config({SVG: {font: \"STIX-Web\"}});}</script>\n",
              "                <script type=\"text/javascript\">window.PlotlyConfig = {MathJaxConfig: 'local'};</script>\n",
              "        <script src=\"https://cdn.plot.ly/plotly-latest.min.js\"></script>    \n",
              "            <div id=\"13928a24-7348-406d-b431-f55b62bc784e\" class=\"plotly-graph-div\" style=\"height:525px; width:100%;\"></div>\n",
              "            <script type=\"text/javascript\">\n",
              "                \n",
              "                    window.PLOTLYENV=window.PLOTLYENV || {};\n",
              "                    \n",
              "                if (document.getElementById(\"13928a24-7348-406d-b431-f55b62bc784e\")) {\n",
              "                    Plotly.newPlot(\n",
              "                        '13928a24-7348-406d-b431-f55b62bc784e',\n",
              "                        [{\"alignmentgroup\": \"True\", \"bingroup\": \"x\", \"hoverlabel\": {\"namelength\": 0}, \"hovertemplate\": \"Type=Builder_Floor<br>Price=%{x}<br>count=%{y}\", \"legendgroup\": \"Type=Builder_Floor\", \"marker\": {\"color\": \"#636efa\"}, \"name\": \"Type=Builder_Floor\", \"offsetgroup\": \"Type=Builder_Floor\", \"orientation\": \"v\", \"showlegend\": true, \"type\": \"histogram\", \"x\": [6500000, 4200000, 6200000, 15500000, 10000000, 6800000, 15000000, 6200000, 7700000, 5500000, 5000000, 3310000, 4700000, 4500000, 17000000, 6000000, 4500000, 12000000, 7000000, 7000000, 21000000, 15000000, 10500000, 22500000, 13600000, 30000000, 8910000, 26000000, 30000000, 12500000, 21000000, 7800000, 11500000, 11500000, 26000000, 13000000, 22000000, 15800000, 57500000, 10000000, 30000000, 22000000, 24000000, 31500000, 14600000, 240000000, 8300000, 22500000, 1850000, 6800000, 8900000, 37500000, 21000000, 57500000, 30000000, 30000000, 31500000, 30000000, 41500000, 24800000, 35000000, 40000000, 46000000, 55000000, 24500000, 32500000, 240000000, 19000000, 26000000, 21000000, 27500000, 32500000, 45000000, 21000000, 28000000, 29500000, 14000000, 12500000, 26000000, 11500000, 14600000, 25500000, 31000000, 22000000, 13400000, 35000000, 11000000, 6300000, 12500000, 14500000, 22500000, 15500000, 26000000, 15800000, 15000000, 13000000, 15000000, 25000000, 16500000, 10300000, 26000000, 11000000, 28500000, 4500000, 3600000, 4300000, 4000000, 2000000, 3000000, 2000000, 2000000, 2600000, 5100000, 6000000, 4000000, 6200000, 3500000, 13500000, 12500000, 6500000, 22000000, 6000000, 7300000, 7600000, 20000000, 15000000, 6200000, 6200000, 2300000, 2400000, 3800000, 23000000, 24500000, 10000000, 5500000, 7000000, 6500000, 60000000, 51000000, 170000000, 5510000, 55000000, 51000000, 13000000, 30000000, 2400000, 5500000, 45000000, 60000000, 65000000, 220000000, 60000000, 38500000, 75000000, 70000000, 85000000, 90000000, 56000000, 135500000, 60000000, 170000000, 50000000, 58000000, 37500000, 45000000, 70000000, 60000000, 70000000, 50000000, 75000000, 52500000, 55000000, 120000000, 65000000, 75000000, 47500000, 70000000, 47500000, 40000000, 85000000, 26000000, 35000000, 20000000, 79000000, 17000000, 47500000, 43000000, 26000000, 25000000, 51000000, 40000000, 22500000, 70000000, 45000000, 25500000, 26500000, 15000000, 55000000, 26000000, 38000000, 72500000, 65000000, 4600000, 9200000, 4500000, 6500000, 5650000, 9300000, 6500000, 6000000, 4500000, 4100000, 3800000, 2900000, 2000000, 1550000, 11300000, 4500000, 11500000, 6000000, 4500000, 1900000, 7000000, 6000000, 6400000, 6500000, 4000000, 5000000, 6000000, 2500000, 2700000, 5700000, 25000000, 70000000, 26500000, 18500000, 30000000, 22000000, 9000000, 65000000, 22500000, 8700000, 22000000, 18500000, 16000000, 16000000, 9000000, 4500000, 6000000, 2700000, 2600000, 3500000, 7000000, 4500000, 5500000, 2700000, 2400000, 11500000, 3600000, 1700000, 6600000, 3700000, 5400000, 2550000, 12500000, 7000000, 3500000, 9000000, 2300000, 6000000, 2650000, 5510000, 3200000, 2600000, 4000000, 1850000, 1700000, 2800000, 2150000, 6800000, 6200000, 3100000, 3400000, 4000000, 4800000, 2500000, 2000000, 1900000, 5800000, 2900000, 2000000, 2600000, 2900000, 3200000, 5400000, 3800000, 8200000, 8000000, 9500000, 20000000, 7400000, 15000000, 26500000, 10400000, 1700000, 8000000, 27000000, 19500000, 21100000, 5900000, 12000000, 12000000, 1500000, 12500000, 31000000, 5000000, 22500000, 20000000, 17500000, 35000000, 10200000, 41000000, 6000000, 2200000, 5500000, 6200000, 29500000, 19000000, 75000000, 75000000, 34000000, 47500000, 75000000, 28500000, 12500000, 45000000, 30500000, 22500000, 25000000, 33700000, 27000000, 43500000, 29000000, 30000000, 32500000, 30000000, 51000000, 31000000, 37500000, 32500000, 37500000, 55000000, 87500000, 65000000, 25000000, 38000000, 15000000, 3000000, 8500000, 55000000, 22500000, 72500000, 12500000, 82500000, 55000000, 35000000, 42500000, 4700000, 52500000, 80000000, 11000000, 74000000, 37500000, 52500000, 26000000, 15500000, 22000000, 21000000, 5000000, 22000000, 26500000, 8770000, 42500000, 30000000, 23100000, 12500000, 24500000, 15000000, 27500000, 12000000, 26000000, 36500000, 3000000, 9000000, 6300000, 1500000, 2800000, 2600000, 2350000, 2000000, 5000000, 3500000, 4500000, 4000000, 10800000, 10000000, 9000000, 6000000, 7000000, 3700000, 3100000, 1500000, 7090000, 4500000, 5500000, 6990000, 12500000, 3000000, 2800000, 5000000, 6000000, 2500000, 8500000, 4900000, 3500000, 3000000, 7020000, 3500000, 7000000, 4500000, 5990000, 4400000, 2500000, 1600000, 6500000, 2200000, 8500000, 1700000, 7000000, 5600000, 13500000, 8500000, 7200000, 4000000, 1700000, 6000000, 1200000, 3500000, 8500000, 3200000, 4400000, 7200000, 7500000, 3500000, 6500000, 6200000, 2500000, 6000000, 3790000, 5000000, 2100000, 2300000, 5900000, 3500000, 1850000, 2300000, 3800000, 4500000, 5200000, 2200000, 1600000, 1750000, 1800000, 1900000, 1000000, 5000000, 13000000, 34000000, 60000000, 74500000, 75000000, 62500000, 67000000, 8500000, 11500000, 52500000, 12000000, 10700000, 100000000, 17000000, 12500000, 13000000, 4200000, 36000000, 8100000, 10000000, 62500000, 65000000, 20000000, 57500000, 30000000, 30000000, 30000000, 6500000, 6900000, 3600000, 9300000, 3300000, 2400000, 15000000, 2600000, 6000000, 3600000, 1700000, 75000000, 11700000, 5500000, 41000000, 3800000, 1500000, 2400000, 7000000, 3100000, 61500000, 27500000, 6540000, 15000000, 10000000, 20000000, 5500000, 7000000, 4100000, 24000000, 14500000, 8000000, 5000000, 21000000, 22500000, 19000000, 7500000, 4000000, 8000000, 5800000, 8000000, 6000000, 6500000, 5500000, 22500000, 4600000, 5500000, 22500000, 50000000, 42500000, 45500000, 23000000, 25000000, 29000000, 80000000, 37500000, 32500000, 24500000, 65000000, 27500000, 115000000, 28000000, 8000000, 75100000, 15000000, 27500000, 25000000, 26000000, 4200000, 10000000, 18500000, 3300000, 3800000, 7000000, 16500000, 5600000, 21000000, 21000000, 14000000, 4700000, 26000000, 8000000, 6800000, 18000000, 27500000, 14000000, 9000000, 5500000, 47500000, 45000000, 43500000, 80000000, 60000000, 71000000, 70000000, 85000000, 190000000, 35000000, 65000000, 27500000, 45000000, 100000000, 47000000, 27500000, 70000000, 65000000, 56000000, 110000000, 24000000, 102500000, 100000000, 45000000, 29000000, 25500000, 33500000, 62500000, 47500000, 14700000, 18000000, 22500000, 22000000, 22200000, 22500000, 30000000, 35000000, 17500000, 60000000, 40000000, 11500000, 22500000, 28500000, 29000000, 15500000, 26000000, 16500000, 55000000, 12500000, 17500000, 11500000, 18500000], \"xaxis\": \"x\", \"yaxis\": \"y\"}, {\"alignmentgroup\": \"True\", \"bingroup\": \"x\", \"hoverlabel\": {\"namelength\": 0}, \"hovertemplate\": \"Type=Apartment<br>Price=%{x}<br>count=%{y}\", \"legendgroup\": \"Type=Apartment\", \"marker\": {\"color\": \"#EF553B\"}, \"name\": \"Type=Apartment\", \"offsetgroup\": \"Type=Apartment\", \"orientation\": \"v\", \"showlegend\": true, \"type\": \"histogram\", \"x\": [5000000, 15500000, 4000000, 25000000, 11000000, 5300000, 10500000, 3400000, 5000000, 13500000, 25000000, 4600000, 1900000, 5130000, 5890000, 3700000, 17400000, 15500000, 2400000, 17200000, 14200000, 13500000, 30000000, 21000000, 20500000, 24000000, 16500000, 14900000, 19200000, 14500000, 15600000, 11400000, 31500000, 15800000, 16000000, 10500000, 14800000, 14200000, 24500000, 20000000, 11000000, 1650000, 1400000, 2000000, 7600000, 4700000, 5500000, 2000000, 7300000, 13000000, 11500000, 2800000, 2200000, 4400000, 13500000, 4100000, 12000000, 3500000, 15000000, 17500000, 1900000, 5500000, 10000000, 4700000, 135000000, 93000000, 4370000, 4620000, 1900000, 70000000, 3000000, 3300000, 24900000, 17400000, 25000000, 57000000, 2940000, 15500000, 17200000, 15000000, 50000000, 160000000, 40000000, 29500000, 51100000, 9500000, 2700000, 5800000, 5500000, 3300000, 3300000, 9000000, 14000000, 7300000, 2700000, 3000000, 6500000, 8000000, 4500000, 6500000, 4000000, 7500000, 2500000, 3500000, 5600000, 35000000, 6000000, 37500000, 55300000, 16000000, 50000000, 24000000, 7000000, 15000000, 3950000, 1600000, 36500000, 20000000, 15000000, 25000000, 18500000, 23500000, 8000000, 23000000, 31000000, 7400000, 15500000, 12000000, 23500000, 25000000, 7000000, 17500000, 25000000, 29000000, 21900000, 7500000, 23500000, 24000000, 16500000, 24000000, 17000000, 40000000, 7500000, 3600000, 35000000, 6000000, 29000000, 2500000, 21500000, 15000000, 28900000, 1950000, 3800000, 14000000, 7500000, 2670000, 2500000, 5000000, 25500000, 23000000, 24000000, 21500000, 28000000, 52100000, 20500000, 25000000, 16300000, 2000000, 160000000, 17000000, 4500000, 8500000, 8600000, 13100000, 7000000, 13000000, 16000000, 3200000, 6300000, 5700000, 21000000, 7500000, 6500000, 18000000, 15600000, 15500000, 15200000, 25000000, 15000000, 15800000, 31500000, 14000000, 13200000, 15800000, 16200000, 15500000, 14500000, 14900000, 17200000, 18000000, 15500000, 15800000, 12600000, 15000000, 19500000, 16600000, 17200000, 13000000, 16500000, 10700000, 16200000, 16500000, 14900000, 27500000, 62500000, 70000000, 35500000, 42100000, 42500000, 44000000, 43200000, 52500000, 34300000, 38000000, 52500000, 37500000, 37000000, 40000000, 36200000, 29000000, 42500000, 60000000, 36500000, 42500000, 71500000, 65000000, 58000000, 27500000, 70000000, 65000000, 28600000, 39000000, 32500000, 34000000, 16500000, 13800000, 21000000, 22500000, 15000000, 20000000, 20000000, 19500000, 21500000, 26500000, 20000000, 18000000, 19000000, 15000000, 17500000, 14000000, 21000000, 15600000, 19000000, 16500000, 19000000, 16500000, 15000000, 14300000, 18500000, 19000000, 19000000, 15800000, 17000000, 15500000, 16000000, 12900000, 13500000, 17800000, 13200000, 14000000, 17500000, 17000000, 13000000, 17000000, 12700000, 13500000, 17400000, 17800000, 12700000, 16200000, 11100000, 13600000, 13100000, 12500000, 13600000, 12000000, 20000000, 13500000, 14000000, 10800000, 5500000, 2350000, 8500000, 1650000, 10000000, 2350000, 8500000, 5500000, 6000000, 4500000, 63000000, 4400000, 4500000, 2800000, 3000000, 60000000, 7000000, 2750000, 1500000, 2800000, 4500000, 1800000, 8500000, 6000000, 6500000, 8400000, 8500000, 1600000, 2100000, 1700000, 1500000, 1650000, 6500000, 3000000, 4800000, 4200000, 2900000, 3200000, 3000000, 5500000, 1700000, 2200000, 1500000, 2200000, 3800000, 1800000, 2850000, 2500000, 3500000, 2000000, 3000000, 2000000, 3500000, 1800000, 1600000, 2000000, 1500000, 3000000, 1490000, 3500000, 4000000, 4600000, 1000000, 1000000, 3500000, 2200000, 9000000, 6200000, 2300000, 3300000, 7350000, 12500000, 3500000, 13500000, 9200000, 2500000, 17000000, 9030000, 6500000, 7000000, 4200000, 5800000, 4800000, 7500000, 3000000, 4300000, 7000000, 6700000, 9500000, 17000000, 8000000, 12000000, 9000000, 11500000, 20000000, 8550000, 10500000, 12000000, 11000000, 12000000, 9000000, 10000000, 8100000, 9200000, 14200000, 7500000, 9500000, 14000000, 11600000, 12000000, 7500000, 9800000, 12000000, 12500000, 16500000, 12000000, 7200000, 15000000, 10000000, 11000000, 24700000, 24900000, 11000000, 24800000, 24900000, 24900000, 25900000, 13500000, 30000000, 4950000, 16000000, 30000000, 68900000, 1800000, 12500000, 1600000, 14500000, 25500000, 25000000, 18500000, 39700000, 6800000, 22000000, 17000000, 27500000, 73700000, 52300000, 16000000, 5000000, 16000000, 12500000, 3900000, 20000000, 24500000, 20900000, 43100000, 18000000, 50000000, 18500000, 46500000, 17500000, 42500000, 15500000, 15000000, 40000000, 20000000, 6700000, 16000000, 25000000, 25000000, 37500000, 25000000, 23000000, 17500000, 44000000, 15000000, 42500000, 38000000, 19000000, 43500000, 19500000, 14200000, 14200000, 13500000, 19000000, 7000000, 18800000, 2200000, 23500000, 16000000, 20000000, 13500000, 3800000, 17500000, 12500000, 19000000, 15500000, 13500000, 21000000, 12000000, 35000000, 20500000, 52500000, 7500000, 7800000, 23500000, 8000000, 8600000, 6600000, 30000000, 18500000, 6500000, 15000000, 16100000, 6800000, 9000000, 13500000, 16000000, 11000000, 180000000, 37500000, 18500000, 135000000, 36500000, 35000000, 7500000, 6500000], \"xaxis\": \"x\", \"yaxis\": \"y\"}],\n",
              "                        {\"barmode\": \"relative\", \"legend\": {\"tracegroupgap\": 0}, \"margin\": {\"t\": 60}, \"template\": {\"data\": {\"bar\": [{\"error_x\": {\"color\": \"#2a3f5f\"}, \"error_y\": {\"color\": \"#2a3f5f\"}, \"marker\": {\"line\": {\"color\": \"#E5ECF6\", \"width\": 0.5}}, \"type\": \"bar\"}], \"barpolar\": [{\"marker\": {\"line\": {\"color\": \"#E5ECF6\", \"width\": 0.5}}, \"type\": \"barpolar\"}], \"carpet\": [{\"aaxis\": {\"endlinecolor\": \"#2a3f5f\", \"gridcolor\": \"white\", \"linecolor\": \"white\", \"minorgridcolor\": \"white\", \"startlinecolor\": \"#2a3f5f\"}, \"baxis\": {\"endlinecolor\": \"#2a3f5f\", \"gridcolor\": \"white\", \"linecolor\": \"white\", \"minorgridcolor\": \"white\", \"startlinecolor\": \"#2a3f5f\"}, \"type\": \"carpet\"}], \"choropleth\": [{\"colorbar\": {\"outlinewidth\": 0, \"ticks\": \"\"}, \"type\": \"choropleth\"}], \"contour\": [{\"colorbar\": {\"outlinewidth\": 0, \"ticks\": \"\"}, \"colorscale\": [[0.0, \"#0d0887\"], [0.1111111111111111, \"#46039f\"], [0.2222222222222222, \"#7201a8\"], [0.3333333333333333, \"#9c179e\"], [0.4444444444444444, \"#bd3786\"], [0.5555555555555556, \"#d8576b\"], [0.6666666666666666, \"#ed7953\"], [0.7777777777777778, \"#fb9f3a\"], [0.8888888888888888, \"#fdca26\"], [1.0, \"#f0f921\"]], \"type\": \"contour\"}], \"contourcarpet\": [{\"colorbar\": {\"outlinewidth\": 0, \"ticks\": \"\"}, \"type\": \"contourcarpet\"}], \"heatmap\": [{\"colorbar\": {\"outlinewidth\": 0, \"ticks\": \"\"}, \"colorscale\": [[0.0, \"#0d0887\"], [0.1111111111111111, \"#46039f\"], [0.2222222222222222, \"#7201a8\"], [0.3333333333333333, \"#9c179e\"], [0.4444444444444444, \"#bd3786\"], [0.5555555555555556, \"#d8576b\"], [0.6666666666666666, \"#ed7953\"], [0.7777777777777778, \"#fb9f3a\"], [0.8888888888888888, \"#fdca26\"], [1.0, \"#f0f921\"]], \"type\": \"heatmap\"}], \"heatmapgl\": [{\"colorbar\": {\"outlinewidth\": 0, \"ticks\": \"\"}, \"colorscale\": [[0.0, \"#0d0887\"], [0.1111111111111111, \"#46039f\"], [0.2222222222222222, \"#7201a8\"], [0.3333333333333333, \"#9c179e\"], [0.4444444444444444, \"#bd3786\"], [0.5555555555555556, \"#d8576b\"], [0.6666666666666666, \"#ed7953\"], [0.7777777777777778, \"#fb9f3a\"], [0.8888888888888888, \"#fdca26\"], [1.0, \"#f0f921\"]], \"type\": \"heatmapgl\"}], \"histogram\": [{\"marker\": {\"colorbar\": {\"outlinewidth\": 0, \"ticks\": \"\"}}, \"type\": \"histogram\"}], \"histogram2d\": [{\"colorbar\": {\"outlinewidth\": 0, \"ticks\": \"\"}, \"colorscale\": [[0.0, \"#0d0887\"], [0.1111111111111111, \"#46039f\"], [0.2222222222222222, \"#7201a8\"], [0.3333333333333333, \"#9c179e\"], [0.4444444444444444, \"#bd3786\"], [0.5555555555555556, \"#d8576b\"], [0.6666666666666666, \"#ed7953\"], [0.7777777777777778, \"#fb9f3a\"], [0.8888888888888888, \"#fdca26\"], [1.0, \"#f0f921\"]], \"type\": \"histogram2d\"}], \"histogram2dcontour\": [{\"colorbar\": {\"outlinewidth\": 0, \"ticks\": \"\"}, \"colorscale\": [[0.0, \"#0d0887\"], [0.1111111111111111, \"#46039f\"], [0.2222222222222222, \"#7201a8\"], [0.3333333333333333, \"#9c179e\"], [0.4444444444444444, \"#bd3786\"], [0.5555555555555556, \"#d8576b\"], [0.6666666666666666, \"#ed7953\"], [0.7777777777777778, \"#fb9f3a\"], [0.8888888888888888, \"#fdca26\"], [1.0, \"#f0f921\"]], \"type\": \"histogram2dcontour\"}], \"mesh3d\": [{\"colorbar\": {\"outlinewidth\": 0, \"ticks\": \"\"}, \"type\": \"mesh3d\"}], \"parcoords\": [{\"line\": {\"colorbar\": {\"outlinewidth\": 0, \"ticks\": \"\"}}, \"type\": \"parcoords\"}], \"pie\": [{\"automargin\": true, \"type\": \"pie\"}], \"scatter\": [{\"marker\": {\"colorbar\": {\"outlinewidth\": 0, \"ticks\": \"\"}}, \"type\": \"scatter\"}], \"scatter3d\": [{\"line\": {\"colorbar\": {\"outlinewidth\": 0, \"ticks\": \"\"}}, \"marker\": {\"colorbar\": {\"outlinewidth\": 0, \"ticks\": \"\"}}, \"type\": \"scatter3d\"}], \"scattercarpet\": [{\"marker\": {\"colorbar\": {\"outlinewidth\": 0, \"ticks\": \"\"}}, \"type\": \"scattercarpet\"}], \"scattergeo\": [{\"marker\": {\"colorbar\": {\"outlinewidth\": 0, \"ticks\": \"\"}}, \"type\": \"scattergeo\"}], \"scattergl\": [{\"marker\": {\"colorbar\": {\"outlinewidth\": 0, \"ticks\": \"\"}}, \"type\": \"scattergl\"}], \"scattermapbox\": [{\"marker\": {\"colorbar\": {\"outlinewidth\": 0, \"ticks\": \"\"}}, \"type\": \"scattermapbox\"}], \"scatterpolar\": [{\"marker\": {\"colorbar\": {\"outlinewidth\": 0, \"ticks\": \"\"}}, \"type\": \"scatterpolar\"}], \"scatterpolargl\": [{\"marker\": {\"colorbar\": {\"outlinewidth\": 0, \"ticks\": \"\"}}, \"type\": \"scatterpolargl\"}], \"scatterternary\": [{\"marker\": {\"colorbar\": {\"outlinewidth\": 0, \"ticks\": \"\"}}, \"type\": \"scatterternary\"}], \"surface\": [{\"colorbar\": {\"outlinewidth\": 0, \"ticks\": \"\"}, \"colorscale\": [[0.0, \"#0d0887\"], [0.1111111111111111, \"#46039f\"], [0.2222222222222222, \"#7201a8\"], [0.3333333333333333, \"#9c179e\"], [0.4444444444444444, \"#bd3786\"], [0.5555555555555556, \"#d8576b\"], [0.6666666666666666, \"#ed7953\"], [0.7777777777777778, \"#fb9f3a\"], [0.8888888888888888, \"#fdca26\"], [1.0, \"#f0f921\"]], \"type\": \"surface\"}], \"table\": [{\"cells\": {\"fill\": {\"color\": \"#EBF0F8\"}, \"line\": {\"color\": \"white\"}}, \"header\": {\"fill\": {\"color\": \"#C8D4E3\"}, \"line\": {\"color\": \"white\"}}, \"type\": \"table\"}]}, \"layout\": {\"annotationdefaults\": {\"arrowcolor\": \"#2a3f5f\", \"arrowhead\": 0, \"arrowwidth\": 1}, \"coloraxis\": {\"colorbar\": {\"outlinewidth\": 0, \"ticks\": \"\"}}, \"colorscale\": {\"diverging\": [[0, \"#8e0152\"], [0.1, \"#c51b7d\"], [0.2, \"#de77ae\"], [0.3, \"#f1b6da\"], [0.4, \"#fde0ef\"], [0.5, \"#f7f7f7\"], [0.6, \"#e6f5d0\"], [0.7, \"#b8e186\"], [0.8, \"#7fbc41\"], [0.9, \"#4d9221\"], [1, \"#276419\"]], \"sequential\": [[0.0, \"#0d0887\"], [0.1111111111111111, \"#46039f\"], [0.2222222222222222, \"#7201a8\"], [0.3333333333333333, \"#9c179e\"], [0.4444444444444444, \"#bd3786\"], [0.5555555555555556, \"#d8576b\"], [0.6666666666666666, \"#ed7953\"], [0.7777777777777778, \"#fb9f3a\"], [0.8888888888888888, \"#fdca26\"], [1.0, \"#f0f921\"]], \"sequentialminus\": [[0.0, \"#0d0887\"], [0.1111111111111111, \"#46039f\"], [0.2222222222222222, \"#7201a8\"], [0.3333333333333333, \"#9c179e\"], [0.4444444444444444, \"#bd3786\"], [0.5555555555555556, \"#d8576b\"], [0.6666666666666666, \"#ed7953\"], [0.7777777777777778, \"#fb9f3a\"], [0.8888888888888888, \"#fdca26\"], [1.0, \"#f0f921\"]]}, \"colorway\": [\"#636efa\", \"#EF553B\", \"#00cc96\", \"#ab63fa\", \"#FFA15A\", \"#19d3f3\", \"#FF6692\", \"#B6E880\", \"#FF97FF\", \"#FECB52\"], \"font\": {\"color\": \"#2a3f5f\"}, \"geo\": {\"bgcolor\": \"white\", \"lakecolor\": \"white\", \"landcolor\": \"#E5ECF6\", \"showlakes\": true, \"showland\": true, \"subunitcolor\": \"white\"}, \"hoverlabel\": {\"align\": \"left\"}, \"hovermode\": \"closest\", \"mapbox\": {\"style\": \"light\"}, \"paper_bgcolor\": \"white\", \"plot_bgcolor\": \"#E5ECF6\", \"polar\": {\"angularaxis\": {\"gridcolor\": \"white\", \"linecolor\": \"white\", \"ticks\": \"\"}, \"bgcolor\": \"#E5ECF6\", \"radialaxis\": {\"gridcolor\": \"white\", \"linecolor\": \"white\", \"ticks\": \"\"}}, \"scene\": {\"xaxis\": {\"backgroundcolor\": \"#E5ECF6\", \"gridcolor\": \"white\", \"gridwidth\": 2, \"linecolor\": \"white\", \"showbackground\": true, \"ticks\": \"\", \"zerolinecolor\": \"white\"}, \"yaxis\": {\"backgroundcolor\": \"#E5ECF6\", \"gridcolor\": \"white\", \"gridwidth\": 2, \"linecolor\": \"white\", \"showbackground\": true, \"ticks\": \"\", \"zerolinecolor\": \"white\"}, \"zaxis\": {\"backgroundcolor\": \"#E5ECF6\", \"gridcolor\": \"white\", \"gridwidth\": 2, \"linecolor\": \"white\", \"showbackground\": true, \"ticks\": \"\", \"zerolinecolor\": \"white\"}}, \"shapedefaults\": {\"line\": {\"color\": \"#2a3f5f\"}}, \"ternary\": {\"aaxis\": {\"gridcolor\": \"white\", \"linecolor\": \"white\", \"ticks\": \"\"}, \"baxis\": {\"gridcolor\": \"white\", \"linecolor\": \"white\", \"ticks\": \"\"}, \"bgcolor\": \"#E5ECF6\", \"caxis\": {\"gridcolor\": \"white\", \"linecolor\": \"white\", \"ticks\": \"\"}}, \"title\": {\"x\": 0.05}, \"xaxis\": {\"automargin\": true, \"gridcolor\": \"white\", \"linecolor\": \"white\", \"ticks\": \"\", \"title\": {\"standoff\": 15}, \"zerolinecolor\": \"white\", \"zerolinewidth\": 2}, \"yaxis\": {\"automargin\": true, \"gridcolor\": \"white\", \"linecolor\": \"white\", \"ticks\": \"\", \"title\": {\"standoff\": 15}, \"zerolinecolor\": \"white\", \"zerolinewidth\": 2}}}, \"xaxis\": {\"anchor\": \"y\", \"domain\": [0.0, 1.0], \"title\": {\"text\": \"Price\"}}, \"yaxis\": {\"anchor\": \"x\", \"domain\": [0.0, 1.0], \"title\": {\"text\": \"count\"}}},\n",
              "                        {\"responsive\": true}\n",
              "                    ).then(function(){\n",
              "                            \n",
              "var gd = document.getElementById('13928a24-7348-406d-b431-f55b62bc784e');\n",
              "var x = new MutationObserver(function (mutations, observer) {{\n",
              "        var display = window.getComputedStyle(gd).display;\n",
              "        if (!display || display === 'none') {{\n",
              "            console.log([gd, 'removed!']);\n",
              "            Plotly.purge(gd);\n",
              "            observer.disconnect();\n",
              "        }}\n",
              "}});\n",
              "\n",
              "// Listen for the removal of the full notebook cells\n",
              "var notebookContainer = gd.closest('#notebook-container');\n",
              "if (notebookContainer) {{\n",
              "    x.observe(notebookContainer, {childList: true});\n",
              "}}\n",
              "\n",
              "// Listen for the clearing of the current output cell\n",
              "var outputEl = gd.closest('.output');\n",
              "if (outputEl) {{\n",
              "    x.observe(outputEl, {childList: true});\n",
              "}}\n",
              "\n",
              "                        })\n",
              "                };\n",
              "                \n",
              "            </script>\n",
              "        </div>\n",
              "</body>\n",
              "</html>"
            ]
          },
          "metadata": {
            "tags": []
          }
        }
      ]
    },
    {
      "cell_type": "code",
      "metadata": {
        "colab": {
          "base_uri": "https://localhost:8080/",
          "height": 542
        },
        "id": "D3AqFPCDijC4",
        "outputId": "9648f245-81fe-4cfd-80ca-2f368d352cdd"
      },
      "source": [
        "px.histogram(df1,x='BHK')\n"
      ],
      "execution_count": 17,
      "outputs": [
        {
          "output_type": "display_data",
          "data": {
            "text/html": [
              "<html>\n",
              "<head><meta charset=\"utf-8\" /></head>\n",
              "<body>\n",
              "    <div>\n",
              "            <script src=\"https://cdnjs.cloudflare.com/ajax/libs/mathjax/2.7.5/MathJax.js?config=TeX-AMS-MML_SVG\"></script><script type=\"text/javascript\">if (window.MathJax) {MathJax.Hub.Config({SVG: {font: \"STIX-Web\"}});}</script>\n",
              "                <script type=\"text/javascript\">window.PlotlyConfig = {MathJaxConfig: 'local'};</script>\n",
              "        <script src=\"https://cdn.plot.ly/plotly-latest.min.js\"></script>    \n",
              "            <div id=\"183c6c4c-1553-44d4-890d-e1b7c6f094b6\" class=\"plotly-graph-div\" style=\"height:525px; width:100%;\"></div>\n",
              "            <script type=\"text/javascript\">\n",
              "                \n",
              "                    window.PLOTLYENV=window.PLOTLYENV || {};\n",
              "                    \n",
              "                if (document.getElementById(\"183c6c4c-1553-44d4-890d-e1b7c6f094b6\")) {\n",
              "                    Plotly.newPlot(\n",
              "                        '183c6c4c-1553-44d4-890d-e1b7c6f094b6',\n",
              "                        [{\"alignmentgroup\": \"True\", \"bingroup\": \"x\", \"hoverlabel\": {\"namelength\": 0}, \"hovertemplate\": \"BHK=%{x}<br>count=%{y}\", \"legendgroup\": \"\", \"marker\": {\"color\": \"#636efa\"}, \"name\": \"\", \"offsetgroup\": \"\", \"orientation\": \"v\", \"showlegend\": false, \"type\": \"histogram\", \"x\": [3, 2, 2, 2, 2, 4, 4, 2, 3, 4, 3, 3, 2, 2, 2, 2, 2, 4, 3, 2, 2, 3, 1, 2, 2, 3, 3, 1, 2, 4, 2, 2, 3, 2, 3, 2, 2, 3, 3, 3, 2, 3, 2, 2, 2, 3, 2, 3, 2, 4, 2, 3, 3, 3, 3, 2, 4, 2, 3, 1, 2, 3, 4, 3, 3, 3, 2, 3, 3, 3, 4, 4, 4, 3, 4, 3, 4, 3, 3, 3, 4, 3, 3, 2, 3, 1, 3, 3, 1, 3, 3, 4, 3, 3, 3, 3, 3, 3, 3, 3, 4, 4, 3, 3, 3, 2, 4, 3, 3, 3, 3, 3, 3, 3, 3, 3, 2, 2, 3, 2, 2, 3, 3, 3, 2, 3, 2, 2, 2, 2, 2, 2, 3, 2, 2, 2, 2, 3, 2, 2, 3, 2, 3, 2, 3, 2, 3, 3, 2, 1, 2, 2, 2, 2, 1, 3, 6, 6, 2, 2, 1, 2, 4, 4, 3, 4, 3, 3, 3, 4, 4, 3, 3, 1, 2, 2, 1, 3, 4, 3, 2, 1, 2, 3, 2, 3, 2, 4, 5, 1, 3, 3, 3, 1, 2, 4, 4, 3, 3, 3, 3, 5, 4, 3, 3, 2, 4, 2, 2, 2, 4, 3, 5, 5, 3, 3, 3, 2, 3, 3, 4, 2, 4, 4, 3, 2, 4, 4, 4, 4, 5, 4, 3, 3, 4, 4, 4, 3, 3, 4, 4, 5, 3, 4, 4, 4, 3, 3, 4, 6, 4, 4, 3, 4, 4, 4, 4, 4, 4, 4, 5, 4, 4, 4, 3, 4, 2, 4, 3, 4, 4, 3, 3, 4, 3, 3, 4, 4, 4, 3, 3, 2, 4, 3, 4, 4, 4, 2, 2, 4, 2, 3, 3, 3, 2, 2, 2, 3, 3, 2, 2, 3, 2, 2, 2, 2, 4, 3, 2, 4, 3, 3, 2, 4, 2, 1, 3, 3, 1, 2, 2, 2, 1, 2, 2, 1, 2, 3, 2, 1, 3, 4, 3, 7, 3, 5, 2, 2, 3, 3, 6, 6, 4, 2, 4, 4, 2, 3, 1, 3, 3, 2, 2, 2, 3, 3, 3, 2, 2, 4, 2, 1, 2, 4, 2, 2, 3, 2, 3, 2, 2, 2, 4, 3, 1, 3, 3, 2, 3, 2, 2, 3, 2, 1, 3, 2, 4, 3, 2, 3, 2, 2, 2, 1, 2, 3, 2, 2, 2, 2, 2, 3, 3, 2, 3, 3, 4, 2, 3, 4, 3, 3, 3, 3, 1, 2, 3, 3, 3, 3, 2, 3, 3, 3, 1, 3, 2, 2, 3, 3, 4, 3, 2, 3, 3, 4, 1, 3, 3, 1, 2, 2, 3, 3, 1, 2, 3, 4, 3, 1, 4, 2, 3, 2, 2, 3, 2, 4, 4, 3, 2, 3, 3, 2, 4, 4, 5, 4, 4, 3, 2, 1, 2, 4, 5, 3, 2, 2, 2, 4, 2, 2, 2, 2, 4, 3, 4, 4, 4, 3, 4, 4, 3, 3, 3, 3, 4, 3, 4, 3, 3, 3, 4, 3, 4, 3, 3, 4, 3, 3, 4, 3, 4, 4, 3, 3, 3, 4, 4, 2, 4, 3, 3, 2, 2, 1, 2, 4, 3, 4, 6, 3, 2, 4, 4, 3, 4, 2, 4, 4, 3, 4, 3, 4, 3, 3, 3, 3, 2, 3, 3, 2, 1, 2, 2, 4, 3, 2, 3, 2, 4, 3, 2, 3, 1, 3, 3, 3, 3, 2, 2, 3, 3, 3, 3, 3, 3, 3, 3, 3, 4, 3, 3, 3, 3, 3, 3, 3, 3, 3, 3, 3, 2, 3, 4, 3, 3, 2, 4, 2, 3, 3, 3, 4, 5, 5, 3, 3, 4, 3, 4, 4, 3, 3, 4, 3, 3, 3, 3, 2, 4, 5, 3, 3, 5, 5, 5, 2, 5, 5, 2, 3, 3, 3, 2, 2, 3, 3, 2, 3, 3, 3, 3, 4, 3, 3, 3, 3, 4, 2, 2, 2, 3, 3, 3, 2, 3, 2, 1, 2, 2, 3, 3, 3, 4, 10, 4, 3, 2, 3, 4, 2, 3, 4, 3, 2, 3, 2, 3, 4, 4, 2, 4, 2, 2, 2, 2, 3, 4, 3, 2, 3, 2, 3, 3, 3, 1, 3, 1, 2, 1, 2, 2, 1, 1, 1, 2, 2, 2, 2, 3, 3, 3, 3, 3, 3, 3, 3, 3, 2, 2, 1, 3, 2, 4, 3, 3, 2, 4, 2, 2, 3, 3, 2, 2, 2, 4, 2, 3, 2, 2, 3, 3, 2, 3, 2, 3, 3, 3, 2, 1, 3, 2, 1, 2, 2, 3, 1, 3, 3, 1, 3, 3, 4, 3, 3, 3, 3, 3, 3, 2, 1, 3, 1, 1, 1, 1, 1, 1, 2, 3, 2, 3, 4, 3, 3, 2, 2, 3, 1, 2, 3, 3, 2, 3, 2, 3, 1, 2, 2, 1, 3, 3, 2, 2, 1, 2, 3, 3, 2, 3, 2, 1, 1, 2, 1, 2, 1, 1, 1, 1, 1, 1, 1, 1, 1, 1, 1, 2, 1, 1, 3, 2, 2, 1, 2, 1, 1, 1, 1, 3, 1, 2, 3, 4, 4, 4, 4, 4, 2, 2, 4, 2, 2, 2, 3, 3, 3, 2, 2, 3, 4, 1, 2, 3, 4, 4, 3, 4, 3, 3, 3, 1, 2, 4, 1, 2, 2, 1, 3, 3, 1, 3, 3, 3, 2, 2, 1, 3, 3, 1, 2, 3, 2, 1, 1, 1, 2, 2, 2, 3, 3, 2, 3, 2, 3, 4, 2, 4, 3, 3, 3, 2, 2, 2, 3, 3, 2, 2, 3, 3, 3, 2, 3, 3, 3, 3, 3, 2, 3, 2, 3, 2, 2, 2, 1, 2, 4, 2, 2, 2, 2, 2, 3, 3, 2, 3, 3, 4, 4, 2, 4, 2, 2, 3, 2, 3, 3, 2, 2, 4, 4, 3, 3, 2, 4, 4, 3, 3, 2, 3, 5, 4, 3, 3, 2, 2, 3, 2, 1, 2, 2, 3, 2, 2, 3, 3, 3, 3, 3, 3, 4, 3, 4, 3, 4, 3, 2, 4, 3, 2, 3, 3, 3, 3, 4, 3, 3, 3, 4, 3, 4, 2, 4, 3, 4, 3, 3, 3, 2, 3, 3, 2, 3, 2, 3, 3, 1, 3, 3, 3, 3, 1, 3, 3, 2, 3, 2, 2, 3, 2, 2, 2, 4, 3, 2, 3, 2, 2, 3, 4, 4, 4, 3, 3, 3, 3, 3, 4, 3, 4, 4, 2, 3, 3, 5, 3, 5, 3, 2, 4, 2, 2, 3, 3, 4, 3, 3, 2, 2, 2, 2, 3, 3, 3, 1, 2, 3, 3, 3, 3, 2, 3, 3, 2, 2, 2, 2, 2, 3, 3, 2, 2, 3, 3, 2, 2, 2, 2, 2, 3, 3, 3, 5, 4, 3, 4, 3, 3, 4, 4, 4, 4, 3, 4, 2, 3, 4, 3, 3, 4, 3, 4, 3, 4, 4, 3, 4, 4, 3, 3, 3, 3, 4, 3, 3, 2, 3, 3, 3, 3, 2, 4, 2, 3, 3, 4, 4, 3, 3, 3, 3, 3, 3, 3, 4, 3, 3, 2, 3], \"xaxis\": \"x\", \"yaxis\": \"y\"}],\n",
              "                        {\"barmode\": \"relative\", \"legend\": {\"tracegroupgap\": 0}, \"margin\": {\"t\": 60}, \"template\": {\"data\": {\"bar\": [{\"error_x\": {\"color\": \"#2a3f5f\"}, \"error_y\": {\"color\": \"#2a3f5f\"}, \"marker\": {\"line\": {\"color\": \"#E5ECF6\", \"width\": 0.5}}, \"type\": \"bar\"}], \"barpolar\": [{\"marker\": {\"line\": {\"color\": \"#E5ECF6\", \"width\": 0.5}}, \"type\": \"barpolar\"}], \"carpet\": [{\"aaxis\": {\"endlinecolor\": \"#2a3f5f\", \"gridcolor\": \"white\", \"linecolor\": \"white\", \"minorgridcolor\": \"white\", \"startlinecolor\": \"#2a3f5f\"}, \"baxis\": {\"endlinecolor\": \"#2a3f5f\", \"gridcolor\": \"white\", \"linecolor\": \"white\", \"minorgridcolor\": \"white\", \"startlinecolor\": \"#2a3f5f\"}, \"type\": \"carpet\"}], \"choropleth\": [{\"colorbar\": {\"outlinewidth\": 0, \"ticks\": \"\"}, \"type\": \"choropleth\"}], \"contour\": [{\"colorbar\": {\"outlinewidth\": 0, \"ticks\": \"\"}, \"colorscale\": [[0.0, \"#0d0887\"], [0.1111111111111111, \"#46039f\"], [0.2222222222222222, \"#7201a8\"], [0.3333333333333333, \"#9c179e\"], [0.4444444444444444, \"#bd3786\"], [0.5555555555555556, \"#d8576b\"], [0.6666666666666666, \"#ed7953\"], [0.7777777777777778, \"#fb9f3a\"], [0.8888888888888888, \"#fdca26\"], [1.0, \"#f0f921\"]], \"type\": \"contour\"}], \"contourcarpet\": [{\"colorbar\": {\"outlinewidth\": 0, \"ticks\": \"\"}, \"type\": \"contourcarpet\"}], \"heatmap\": [{\"colorbar\": {\"outlinewidth\": 0, \"ticks\": \"\"}, \"colorscale\": [[0.0, \"#0d0887\"], [0.1111111111111111, \"#46039f\"], [0.2222222222222222, \"#7201a8\"], [0.3333333333333333, \"#9c179e\"], [0.4444444444444444, \"#bd3786\"], [0.5555555555555556, \"#d8576b\"], [0.6666666666666666, \"#ed7953\"], [0.7777777777777778, \"#fb9f3a\"], [0.8888888888888888, \"#fdca26\"], [1.0, \"#f0f921\"]], \"type\": \"heatmap\"}], \"heatmapgl\": [{\"colorbar\": {\"outlinewidth\": 0, \"ticks\": \"\"}, \"colorscale\": [[0.0, \"#0d0887\"], [0.1111111111111111, \"#46039f\"], [0.2222222222222222, \"#7201a8\"], [0.3333333333333333, \"#9c179e\"], [0.4444444444444444, \"#bd3786\"], [0.5555555555555556, \"#d8576b\"], [0.6666666666666666, \"#ed7953\"], [0.7777777777777778, \"#fb9f3a\"], [0.8888888888888888, \"#fdca26\"], [1.0, \"#f0f921\"]], \"type\": \"heatmapgl\"}], \"histogram\": [{\"marker\": {\"colorbar\": {\"outlinewidth\": 0, \"ticks\": \"\"}}, \"type\": \"histogram\"}], \"histogram2d\": [{\"colorbar\": {\"outlinewidth\": 0, \"ticks\": \"\"}, \"colorscale\": [[0.0, \"#0d0887\"], [0.1111111111111111, \"#46039f\"], [0.2222222222222222, \"#7201a8\"], [0.3333333333333333, \"#9c179e\"], [0.4444444444444444, \"#bd3786\"], [0.5555555555555556, \"#d8576b\"], [0.6666666666666666, \"#ed7953\"], [0.7777777777777778, \"#fb9f3a\"], [0.8888888888888888, \"#fdca26\"], [1.0, \"#f0f921\"]], \"type\": \"histogram2d\"}], \"histogram2dcontour\": [{\"colorbar\": {\"outlinewidth\": 0, \"ticks\": \"\"}, \"colorscale\": [[0.0, \"#0d0887\"], [0.1111111111111111, \"#46039f\"], [0.2222222222222222, \"#7201a8\"], [0.3333333333333333, \"#9c179e\"], [0.4444444444444444, \"#bd3786\"], [0.5555555555555556, \"#d8576b\"], [0.6666666666666666, \"#ed7953\"], [0.7777777777777778, \"#fb9f3a\"], [0.8888888888888888, \"#fdca26\"], [1.0, \"#f0f921\"]], \"type\": \"histogram2dcontour\"}], \"mesh3d\": [{\"colorbar\": {\"outlinewidth\": 0, \"ticks\": \"\"}, \"type\": \"mesh3d\"}], \"parcoords\": [{\"line\": {\"colorbar\": {\"outlinewidth\": 0, \"ticks\": \"\"}}, \"type\": \"parcoords\"}], \"pie\": [{\"automargin\": true, \"type\": \"pie\"}], \"scatter\": [{\"marker\": {\"colorbar\": {\"outlinewidth\": 0, \"ticks\": \"\"}}, \"type\": \"scatter\"}], \"scatter3d\": [{\"line\": {\"colorbar\": {\"outlinewidth\": 0, \"ticks\": \"\"}}, \"marker\": {\"colorbar\": {\"outlinewidth\": 0, \"ticks\": \"\"}}, \"type\": \"scatter3d\"}], \"scattercarpet\": [{\"marker\": {\"colorbar\": {\"outlinewidth\": 0, \"ticks\": \"\"}}, \"type\": \"scattercarpet\"}], \"scattergeo\": [{\"marker\": {\"colorbar\": {\"outlinewidth\": 0, \"ticks\": \"\"}}, \"type\": \"scattergeo\"}], \"scattergl\": [{\"marker\": {\"colorbar\": {\"outlinewidth\": 0, \"ticks\": \"\"}}, \"type\": \"scattergl\"}], \"scattermapbox\": [{\"marker\": {\"colorbar\": {\"outlinewidth\": 0, \"ticks\": \"\"}}, \"type\": \"scattermapbox\"}], \"scatterpolar\": [{\"marker\": {\"colorbar\": {\"outlinewidth\": 0, \"ticks\": \"\"}}, \"type\": \"scatterpolar\"}], \"scatterpolargl\": [{\"marker\": {\"colorbar\": {\"outlinewidth\": 0, \"ticks\": \"\"}}, \"type\": \"scatterpolargl\"}], \"scatterternary\": [{\"marker\": {\"colorbar\": {\"outlinewidth\": 0, \"ticks\": \"\"}}, \"type\": \"scatterternary\"}], \"surface\": [{\"colorbar\": {\"outlinewidth\": 0, \"ticks\": \"\"}, \"colorscale\": [[0.0, \"#0d0887\"], [0.1111111111111111, \"#46039f\"], [0.2222222222222222, \"#7201a8\"], [0.3333333333333333, \"#9c179e\"], [0.4444444444444444, \"#bd3786\"], [0.5555555555555556, \"#d8576b\"], [0.6666666666666666, \"#ed7953\"], [0.7777777777777778, \"#fb9f3a\"], [0.8888888888888888, \"#fdca26\"], [1.0, \"#f0f921\"]], \"type\": \"surface\"}], \"table\": [{\"cells\": {\"fill\": {\"color\": \"#EBF0F8\"}, \"line\": {\"color\": \"white\"}}, \"header\": {\"fill\": {\"color\": \"#C8D4E3\"}, \"line\": {\"color\": \"white\"}}, \"type\": \"table\"}]}, \"layout\": {\"annotationdefaults\": {\"arrowcolor\": \"#2a3f5f\", \"arrowhead\": 0, \"arrowwidth\": 1}, \"coloraxis\": {\"colorbar\": {\"outlinewidth\": 0, \"ticks\": \"\"}}, \"colorscale\": {\"diverging\": [[0, \"#8e0152\"], [0.1, \"#c51b7d\"], [0.2, \"#de77ae\"], [0.3, \"#f1b6da\"], [0.4, \"#fde0ef\"], [0.5, \"#f7f7f7\"], [0.6, \"#e6f5d0\"], [0.7, \"#b8e186\"], [0.8, \"#7fbc41\"], [0.9, \"#4d9221\"], [1, \"#276419\"]], \"sequential\": [[0.0, \"#0d0887\"], [0.1111111111111111, \"#46039f\"], [0.2222222222222222, \"#7201a8\"], [0.3333333333333333, \"#9c179e\"], [0.4444444444444444, \"#bd3786\"], [0.5555555555555556, \"#d8576b\"], [0.6666666666666666, \"#ed7953\"], [0.7777777777777778, \"#fb9f3a\"], [0.8888888888888888, \"#fdca26\"], [1.0, \"#f0f921\"]], \"sequentialminus\": [[0.0, \"#0d0887\"], [0.1111111111111111, \"#46039f\"], [0.2222222222222222, \"#7201a8\"], [0.3333333333333333, \"#9c179e\"], [0.4444444444444444, \"#bd3786\"], [0.5555555555555556, \"#d8576b\"], [0.6666666666666666, \"#ed7953\"], [0.7777777777777778, \"#fb9f3a\"], [0.8888888888888888, \"#fdca26\"], [1.0, \"#f0f921\"]]}, \"colorway\": [\"#636efa\", \"#EF553B\", \"#00cc96\", \"#ab63fa\", \"#FFA15A\", \"#19d3f3\", \"#FF6692\", \"#B6E880\", \"#FF97FF\", \"#FECB52\"], \"font\": {\"color\": \"#2a3f5f\"}, \"geo\": {\"bgcolor\": \"white\", \"lakecolor\": \"white\", \"landcolor\": \"#E5ECF6\", \"showlakes\": true, \"showland\": true, \"subunitcolor\": \"white\"}, \"hoverlabel\": {\"align\": \"left\"}, \"hovermode\": \"closest\", \"mapbox\": {\"style\": \"light\"}, \"paper_bgcolor\": \"white\", \"plot_bgcolor\": \"#E5ECF6\", \"polar\": {\"angularaxis\": {\"gridcolor\": \"white\", \"linecolor\": \"white\", \"ticks\": \"\"}, \"bgcolor\": \"#E5ECF6\", \"radialaxis\": {\"gridcolor\": \"white\", \"linecolor\": \"white\", \"ticks\": \"\"}}, \"scene\": {\"xaxis\": {\"backgroundcolor\": \"#E5ECF6\", \"gridcolor\": \"white\", \"gridwidth\": 2, \"linecolor\": \"white\", \"showbackground\": true, \"ticks\": \"\", \"zerolinecolor\": \"white\"}, \"yaxis\": {\"backgroundcolor\": \"#E5ECF6\", \"gridcolor\": \"white\", \"gridwidth\": 2, \"linecolor\": \"white\", \"showbackground\": true, \"ticks\": \"\", \"zerolinecolor\": \"white\"}, \"zaxis\": {\"backgroundcolor\": \"#E5ECF6\", \"gridcolor\": \"white\", \"gridwidth\": 2, \"linecolor\": \"white\", \"showbackground\": true, \"ticks\": \"\", \"zerolinecolor\": \"white\"}}, \"shapedefaults\": {\"line\": {\"color\": \"#2a3f5f\"}}, \"ternary\": {\"aaxis\": {\"gridcolor\": \"white\", \"linecolor\": \"white\", \"ticks\": \"\"}, \"baxis\": {\"gridcolor\": \"white\", \"linecolor\": \"white\", \"ticks\": \"\"}, \"bgcolor\": \"#E5ECF6\", \"caxis\": {\"gridcolor\": \"white\", \"linecolor\": \"white\", \"ticks\": \"\"}}, \"title\": {\"x\": 0.05}, \"xaxis\": {\"automargin\": true, \"gridcolor\": \"white\", \"linecolor\": \"white\", \"ticks\": \"\", \"title\": {\"standoff\": 15}, \"zerolinecolor\": \"white\", \"zerolinewidth\": 2}, \"yaxis\": {\"automargin\": true, \"gridcolor\": \"white\", \"linecolor\": \"white\", \"ticks\": \"\", \"title\": {\"standoff\": 15}, \"zerolinecolor\": \"white\", \"zerolinewidth\": 2}}}, \"xaxis\": {\"anchor\": \"y\", \"domain\": [0.0, 1.0], \"title\": {\"text\": \"BHK\"}}, \"yaxis\": {\"anchor\": \"x\", \"domain\": [0.0, 1.0], \"title\": {\"text\": \"count\"}}},\n",
              "                        {\"responsive\": true}\n",
              "                    ).then(function(){\n",
              "                            \n",
              "var gd = document.getElementById('183c6c4c-1553-44d4-890d-e1b7c6f094b6');\n",
              "var x = new MutationObserver(function (mutations, observer) {{\n",
              "        var display = window.getComputedStyle(gd).display;\n",
              "        if (!display || display === 'none') {{\n",
              "            console.log([gd, 'removed!']);\n",
              "            Plotly.purge(gd);\n",
              "            observer.disconnect();\n",
              "        }}\n",
              "}});\n",
              "\n",
              "// Listen for the removal of the full notebook cells\n",
              "var notebookContainer = gd.closest('#notebook-container');\n",
              "if (notebookContainer) {{\n",
              "    x.observe(notebookContainer, {childList: true});\n",
              "}}\n",
              "\n",
              "// Listen for the clearing of the current output cell\n",
              "var outputEl = gd.closest('.output');\n",
              "if (outputEl) {{\n",
              "    x.observe(outputEl, {childList: true});\n",
              "}}\n",
              "\n",
              "                        })\n",
              "                };\n",
              "                \n",
              "            </script>\n",
              "        </div>\n",
              "</body>\n",
              "</html>"
            ]
          },
          "metadata": {
            "tags": []
          }
        }
      ]
    },
    {
      "cell_type": "code",
      "metadata": {
        "colab": {
          "base_uri": "https://localhost:8080/",
          "height": 542
        },
        "id": "kjj7VUCwiojt",
        "outputId": "37e3c85e-cfb7-4bea-9603-2a140cfc9734"
      },
      "source": [
        "px.histogram(df1,x='Area',barmode='relative')\n"
      ],
      "execution_count": 18,
      "outputs": [
        {
          "output_type": "display_data",
          "data": {
            "text/html": [
              "<html>\n",
              "<head><meta charset=\"utf-8\" /></head>\n",
              "<body>\n",
              "    <div>\n",
              "            <script src=\"https://cdnjs.cloudflare.com/ajax/libs/mathjax/2.7.5/MathJax.js?config=TeX-AMS-MML_SVG\"></script><script type=\"text/javascript\">if (window.MathJax) {MathJax.Hub.Config({SVG: {font: \"STIX-Web\"}});}</script>\n",
              "                <script type=\"text/javascript\">window.PlotlyConfig = {MathJaxConfig: 'local'};</script>\n",
              "        <script src=\"https://cdn.plot.ly/plotly-latest.min.js\"></script>    \n",
              "            <div id=\"eba66d6b-d860-4159-847f-2a3e65df3939\" class=\"plotly-graph-div\" style=\"height:525px; width:100%;\"></div>\n",
              "            <script type=\"text/javascript\">\n",
              "                \n",
              "                    window.PLOTLYENV=window.PLOTLYENV || {};\n",
              "                    \n",
              "                if (document.getElementById(\"eba66d6b-d860-4159-847f-2a3e65df3939\")) {\n",
              "                    Plotly.newPlot(\n",
              "                        'eba66d6b-d860-4159-847f-2a3e65df3939',\n",
              "                        [{\"alignmentgroup\": \"True\", \"bingroup\": \"x\", \"hoverlabel\": {\"namelength\": 0}, \"hovertemplate\": \"Area=%{x}<br>count=%{y}\", \"legendgroup\": \"\", \"marker\": {\"color\": \"#636efa\"}, \"name\": \"\", \"offsetgroup\": \"\", \"orientation\": \"v\", \"showlegend\": false, \"type\": \"histogram\", \"x\": [800.0, 750.0, 950.0, 600.0, 650.0, 1300.0, 1350.0, 650.0, 985.0, 1300.0, 1100.0, 870.0, 630.0, 660.0, 344.4448, 660.0, 550.0, 1100.0, 1150.0, 650.0, 850.0, 900.0, 430.556, 900.0, 914.9315, 1100.0, 800.0, 500.0, 28.0, 2160.0, 800.0, 900.0, 1080.0, 750.0, 1450.0, 900.0, 810.0, 1350.0, 1710.0, 1650.0, 1280.0, 1260.0, 1130.0, 600.0, 850.0, 1500.0, 900.0, 1000.0, 900.0, 2925.0, 900.0, 1600.0, 1143.0, 1150.0, 1500.0, 850.0, 8000.0, 890.0, 1100.0, 750.0, 850.0, 1350.0, 1387.0, 1050.0, 1500.0, 1200.0, 700.0, 1700.0, 1550.0, 1400.0, 1900.0, 2160.0, 1700.0, 1850.0, 1800.0, 1620.0, 1800.0, 1540.0, 1600.0, 1400.0, 2300.0, 1560.0, 1500.0, 1050.0, 1800.0, 400.0, 1150.0, 1525.0, 900.0, 1450.0, 1260.0, 2925.0, 1710.0, 1600.0, 1500.0, 2200.0, 1350.0, 1710.0, 1350.0, 1500.0, 2880.0, 2700.0, 1400.0, 1800.0, 1400.0, 1000.0, 8000.0, 1700.0, 1600.0, 1350.0, 1700.0, 1400.0, 1450.0, 1350.0, 1700.0, 1600.0, 800.0, 1350.0, 1500.0, 750.0, 850.0, 1575.0, 1675.0, 1350.0, 900.0, 1800.0, 900.0, 900.0, 900.0, 800.0, 1100.0, 810.0, 1500.0, 900.0, 825.0, 900.0, 875.0, 1350.0, 750.0, 900.0, 1350.0, 900.0, 1800.0, 900.0, 810.0, 450.0, 100.0, 900.0, 500.0, 450.0, 75.0, 270.0, 500.0, 444.0, 400.0, 729.0, 4050.0, 2400.0, 450.0, 405.0, 666.0, 1000.0, 1360.0, 1550.0, 850.0, 2170.0, 720.0, 850.0, 950.0, 2300.0, 1300.0, 1100.0, 1030.0, 350.0, 720.0, 800.0, 350.0, 980.0, 1600.0, 1450.0, 445.0, 380.0, 680.0, 1600.0, 630.0, 1500.0, 550.0, 2500.0, 2800.0, 300.0, 800.0, 1295.0, 700.0, 350.0, 450.0, 2200.0, 2300.0, 1150.0, 800.0, 850.0, 720.0, 4688.0, 3901.0, 950.0, 1000.0, 850.0, 2400.0, 540.0, 540.0, 976.0, 2700.0, 1500.0, 2900.0, 5025.0, 1000.0, 1135.0, 2306.0, 850.0, 1200.0, 1700.0, 1800.0, 1100.0, 22050.0, 1550.0, 1600.0, 700.0, 45.0, 3510.0, 4500.0, 1800.0, 6000.0, 4300.0, 1700.0, 2500.0, 4500.0, 2450.0, 10350.0, 4800.0, 1600.0, 3500.0, 2100.0, 4200.0, 1500.0, 8150.0, 2200.0, 3500.0, 2070.0, 3500.0, 2000.0, 2800.0, 2550.0, 4500.0, 1400.0, 2800.0, 2700.0, 4500.0, 7200.0, 2799.0, 2650.0, 2200.0, 3500.0, 2200.0, 2200.0, 3500.0, 1440.0, 3150.0, 900.0, 3690.0, 1200.0, 4500.0, 2799.0, 1350.0, 1200.0, 2177.0, 1500.0, 1600.0, 4500.0, 2150.0, 2107.0, 1150.0, 1240.0, 1000.0, 4500.0, 1150.0, 2000.0, 4500.0, 3000.0, 700.0, 750.0, 1350.0, 900.0, 970.0, 1000.0, 1425.0, 440.0, 1017.0, 650.0, 950.0, 810.0, 750.0, 990.0, 800.0, 675.0, 558.0, 445.0, 360.0, 1350.0, 850.0, 846.0, 1300.0, 900.0, 1050.0, 850.0, 1650.0, 1150.0, 495.1394, 1053.0, 810.0, 750.0, 540.0, 747.0, 720.0, 376.7365, 1125.0, 713.0, 360.0, 900.0, 713.0, 504.0, 70.0, 850.0, 2430.0, 2475.0, 2970.0, 2250.0, 1500.0, 1512.0, 400.0, 2160.0, 630.0, 324.0, 720.0, 675.0, 700.0, 675.0, 720.0, 850.0, 801.0, 450.0, 1000.0, 990.0, 420.0, 450.0, 1000.0, 900.0, 800.0, 720.0, 450.0, 675.0, 1700.0, 550.0, 387.0, 450.0, 900.0, 500.0, 441.0, 800.0, 450.0, 1000.0, 715.0, 600.0, 540.0, 312.0, 810.0, 270.0, 900.0, 1000.0, 540.0, 1000.0, 500.0, 540.0, 780.0, 450.0, 360.0, 900.0, 495.0, 1200.0, 1000.0, 620.0, 680.0, 805.0, 729.0, 540.0, 360.0, 550.0, 1001.0, 450.0, 550.0, 550.0, 675.0, 585.0, 810.0, 765.0, 70.0, 800.0, 900.0, 1680.0, 900.0, 2000.0, 2000.0, 1900.0, 1530.0, 100.0, 900.0, 270.0, 950.0, 1800.0, 1500.0, 1800.0, 1800.0, 850.0, 140.0, 900.0, 1800.0, 200.0, 1782.0, 900.0, 405.0, 1500.0, 66.0, 2000.0, 1200.0, 1100.0, 1400.0, 1600.0, 1600.0, 600.0, 1600.0, 2000.0, 650.0, 1100.0, 1075.0, 1450.0, 1200.0, 600.0, 1000.0, 1600.0, 1750.0, 1300.0, 550.0, 2200.0, 1100.0, 1700.0, 1100.0, 1000.0, 1350.0, 1184.0, 2000.0, 3500.0, 900.0, 1250.0, 504.0, 65.0, 450.0, 1800.0, 1800.0, 1530.0, 1750.0, 2210.0, 760.0, 400.0, 380.0, 904.1676, 900.0, 810.0, 100.0, 50.0, 58.0, 900.0, 1650.0, 1000.0, 852.0, 700.0, 1000.0, 1700.0, 1350.0, 2100.0, 2600.0, 3000.0, 1450.0, 2050.0, 3000.0, 1800.0, 900.0, 1500.0, 1500.0, 1800.0, 1674.0, 2025.0, 1300.0, 990.0, 2100.0, 2250.0, 1500.0, 2700.0, 1700.0, 1700.0, 2050.0, 1800.0, 1500.0, 2000.0, 1500.0, 24300.0, 2475.0, 1800.0, 1300.0, 1500.0, 2100.0, 1800.0, 1100.0, 2035.0, 1100.0, 1550.0, 700.0, 150.0, 540.0, 810.0, 3250.0, 1600.0, 4000.0, 5500.0, 900.0, 972.0, 4150.0, 2250.0, 1650.0, 2610.0, 600.0, 1700.0, 2250.0, 880.0, 4200.0, 1450.0, 2200.0, 1620.0, 1078.0, 1710.0, 1150.0, 450.0, 1818.0, 1800.0, 780.0, 405.0, 900.0, 807.2925, 2700.0, 1100.0, 585.0, 2152.78, 960.0, 1800.0, 1100.0, 900.0, 1620.0, 378.0, 800.0, 1350.0, 850.0, 1580.0, 820.0, 594.0, 14220.0, 800.0, 1500.0, 1600.0, 1650.0, 1600.0, 1900.0, 1400.0, 1550.0, 2000.0, 1500.0, 1550.0, 1600.0, 1600.0, 1800.0, 1470.0, 1500.0, 1750.0, 1650.0, 1850.0, 1480.0, 1214.0, 1380.0, 1600.0, 1585.0, 1700.0, 1200.0, 1800.0, 1000.0, 1500.0, 1700.0, 1750.0, 2700.0, 3050.0, 3405.0, 1500.0, 2105.0, 2500.0, 2090.0, 2525.0, 2500.0, 2100.0, 2022.0, 2650.0, 1850.0, 2100.0, 1700.0, 2105.0, 1250.0, 2552.0, 3112.0, 2125.0, 2065.0, 3405.0, 3050.0, 2300.0, 1455.0, 3400.0, 3100.0, 1400.0, 2126.0, 1815.0, 1700.0, 700.0, 980.0, 1350.0, 1800.0, 968.7510000000001, 1250.0, 1800.0, 1400.0, 1000.0, 1800.0, 1500.0, 1600.0, 1400.0, 1400.0, 2700.0, 1100.0, 1200.0, 1400.0, 1500.0, 1320.0, 1300.0, 1150.0, 1440.0, 1400.0, 450.0, 1300.0, 1200.0, 1300.0, 1400.0, 1400.0, 1600.0, 1200.0, 1600.0, 1250.0, 950.0, 1200.0, 1400.0, 950.0, 1350.0, 1550.0, 1300.0, 1000.0, 1500.0, 950.0, 1200.0, 1400.0, 1500.0, 1050.0, 1550.0, 950.0, 1150.0, 1150.0, 1150.0, 1500.0, 1800.0, 1300.0, 1150.0, 1500.0, 1150.0, 900.0, 1150.0, 1000.0, 450.0, 1350.0, 445.0, 1200.0, 50.0, 1100.0, 700.0, 500.0, 540.0, 450.0, 800.0, 700.0, 750.0, 750.0, 1600.0, 1000.0, 900.0, 1700.0, 1100.0, 1000.0, 1000.0, 1100.0, 765.0, 900.0, 600.0, 360.0, 950.0, 3600.0, 1305.0, 1800.0, 950.0, 800.0, 1800.0, 800.0, 675.0, 1175.0, 1500.0, 810.0, 630.0, 650.0, 1800.0, 725.0, 900.0, 750.0, 700.0, 950.0, 1600.0, 900.0, 1500.0, 500.0, 1035.0, 825.0, 1300.0, 765.0, 580.0, 1750.0, 650.0, 405.0, 675.0, 850.0, 800.0, 405.0, 1350.0, 1350.0, 450.0, 1300.0, 1050.0, 1675.0, 1250.0, 1080.0, 1170.0, 1250.0, 1500.0, 1350.0, 855.0, 540.0, 1044.0983, 405.0, 500.0, 450.0, 405.0, 405.0, 450.0, 173.0, 1100.0, 600.0, 800.0, 990.0, 1100.0, 1100.0, 527.0, 1000.0, 1000.0, 450.0, 600.0, 950.0, 855.0, 770.0, 810.0, 710.0, 950.0, 450.0, 500.0, 600.0, 420.0, 900.0, 945.0, 565.0, 450.0, 430.0, 550.0, 810.0, 720.0, 360.0, 820.0, 459.0, 378.0, 450.0, 900.0, 360.0, 559.7228, 350.0, 365.0, 390.0, 350.0, 210.0, 50.0, 500.0, 350.0, 379.0, 236.8058, 445.0, 452.0838, 350.0, 437.0, 61.0, 495.0, 900.0, 350.0, 585.0, 198.0, 4900.0, 2077.4327, 50.0, 990.0, 425.0, 750.0, 1400.0, 3600.0, 3000.0, 2750.0, 2050.0, 3000.0, 850.0, 750.0, 2600.0, 800.0, 550.0, 700.0, 2316.0, 900.0, 100.0, 900.0, 1500.0, 650.0, 2000.0, 500.0, 1125.0, 1300.0, 2500.0, 2200.0, 1290.0, 2250.0, 1350.0, 1400.0, 1700.0, 450.0, 750.0, 1500.0, 400.0, 650.0, 900.0, 400.0, 900.0, 1000.0, 405.0, 1700.0, 800.0, 1076.39, 750.0, 460.0, 370.0, 1800.0, 1080.0, 350.0, 500.0, 900.0, 800.0, 350.0, 430.556, 500.0, 1450.0, 800.0, 1000.0, 1000.0, 1600.0, 900.0, 1500.0, 1050.0, 1300.0, 1600.0, 900.0, 1350.0, 1000.0, 1400.0, 975.0, 900.0, 1100.0, 950.0, 1300.0, 1459.0, 1000.0, 1100.0, 1450.0, 1450.0, 1150.0, 780.0, 1300.0, 1350.0, 1200.0, 1460.0, 1460.0, 1100.0, 1500.0, 1050.0, 1350.0, 1500.0, 976.0, 540.0, 450.0, 900.0, 2500.0, 979.5149, 945.0, 976.0, 1531.0, 1000.0, 750.0, 900.0, 1512.0, 35.0, 1500.0, 2907.0, 2210.0, 750.0, 2518.7526, 588.0, 540.0, 1100.0, 550.0, 750.0, 1260.0, 675.0, 810.0, 3150.0, 2000.0, 1775.0, 1135.0, 1252.0, 2000.0, 530.0, 1332.0, 1017.0, 987.0, 1912.0, 5236.0, 2805.0, 1500.0, 1280.0, 675.0, 576.0, 1206.0, 1143.0, 345.0, 720.0, 468.0, 1600.0, 950.0, 535.0, 1200.0, 1501.0, 1135.0, 1200.0, 2200.0, 1240.0, 3002.0, 1350.0, 2300.0, 1429.0, 2430.0, 1450.0, 1250.0, 2800.0, 1646.0, 900.0, 1250.0, 900.0, 1590.0, 990.0, 2282.0, 1260.0, 1457.0, 1400.0, 2175.0, 1450.0, 2800.0, 861.112, 2282.0, 1753.0, 2659.0, 1550.0, 1470.0, 702.0, 1138.0, 1600.0, 1600.0, 1250.0, 810.0, 585.0, 1700.0, 1800.0, 600.0, 1250.0, 600.0, 1600.0, 1100.0, 450.0, 855.0, 1291.6680000000001, 1300.0, 1350.0, 900.0, 850.0, 1650.0, 650.0, 630.0, 1250.0, 1800.0, 1500.0, 1100.0, 1400.0, 1300.0, 1100.0, 1600.0, 2250.0, 2592.0, 1800.0, 1700.0, 1640.0, 2572.0, 2100.0, 1620.0, 2500.0, 2250.0, 2445.0, 2250.0, 800.0, 1450.0, 1440.0, 5220.0, 1800.0, 4455.0, 195.0, 807.2925, 3500.0, 1000.0, 900.0, 1800.0, 17010.0, 2340.0, 1350.0, 464.0, 954.0, 1155.0, 500.0, 700.0, 900.0, 1260.0, 950.0, 405.0, 1800.0, 1300.0, 1000.0, 900.0, 1800.0, 720.0, 1485.0, 1600.0, 1200.0, 900.0, 900.0, 800.0, 1150.0, 900.0, 1070.0, 1050.0, 1000.0, 1550.0, 1300.0, 810.0, 900.0, 1200.0, 1000.0, 720.0, 2520.0, 1700.0, 1800.0, 6000.0, 1800.0, 2000.0, 2066.0, 2050.0, 1100.0, 4500.0, 4500.0, 6500.0, 4350.0, 1750.0, 3600.0, 1200.0, 1500.0, 2250.0, 1800.0, 1600.0, 2800.0, 1700.0, 2400.0, 1980.0, 2100.0, 5400.0, 1250.0, 2300.0, 2700.0, 1450.0, 2097.0, 1250.0, 1600.0, 2600.0, 1700.0, 1116.0, 1070.0, 1200.0, 1200.0, 1200.0, 1450.0, 1000.0, 2430.0, 945.0, 1650.0, 1350.0, 2625.0, 1800.0, 125.0, 1440.0, 1900.0, 1800.0, 1200.0, 1800.0, 1200.0, 4118.0, 1050.0, 875.0, 990.0, 11050.0], \"xaxis\": \"x\", \"yaxis\": \"y\"}],\n",
              "                        {\"barmode\": \"relative\", \"legend\": {\"tracegroupgap\": 0}, \"margin\": {\"t\": 60}, \"template\": {\"data\": {\"bar\": [{\"error_x\": {\"color\": \"#2a3f5f\"}, \"error_y\": {\"color\": \"#2a3f5f\"}, \"marker\": {\"line\": {\"color\": \"#E5ECF6\", \"width\": 0.5}}, \"type\": \"bar\"}], \"barpolar\": [{\"marker\": {\"line\": {\"color\": \"#E5ECF6\", \"width\": 0.5}}, \"type\": \"barpolar\"}], \"carpet\": [{\"aaxis\": {\"endlinecolor\": \"#2a3f5f\", \"gridcolor\": \"white\", \"linecolor\": \"white\", \"minorgridcolor\": \"white\", \"startlinecolor\": \"#2a3f5f\"}, \"baxis\": {\"endlinecolor\": \"#2a3f5f\", \"gridcolor\": \"white\", \"linecolor\": \"white\", \"minorgridcolor\": \"white\", \"startlinecolor\": \"#2a3f5f\"}, \"type\": \"carpet\"}], \"choropleth\": [{\"colorbar\": {\"outlinewidth\": 0, \"ticks\": \"\"}, \"type\": \"choropleth\"}], \"contour\": [{\"colorbar\": {\"outlinewidth\": 0, \"ticks\": \"\"}, \"colorscale\": [[0.0, \"#0d0887\"], [0.1111111111111111, \"#46039f\"], [0.2222222222222222, \"#7201a8\"], [0.3333333333333333, \"#9c179e\"], [0.4444444444444444, \"#bd3786\"], [0.5555555555555556, \"#d8576b\"], [0.6666666666666666, \"#ed7953\"], [0.7777777777777778, \"#fb9f3a\"], [0.8888888888888888, \"#fdca26\"], [1.0, \"#f0f921\"]], \"type\": \"contour\"}], \"contourcarpet\": [{\"colorbar\": {\"outlinewidth\": 0, \"ticks\": \"\"}, \"type\": \"contourcarpet\"}], \"heatmap\": [{\"colorbar\": {\"outlinewidth\": 0, \"ticks\": \"\"}, \"colorscale\": [[0.0, \"#0d0887\"], [0.1111111111111111, \"#46039f\"], [0.2222222222222222, \"#7201a8\"], [0.3333333333333333, \"#9c179e\"], [0.4444444444444444, \"#bd3786\"], [0.5555555555555556, \"#d8576b\"], [0.6666666666666666, \"#ed7953\"], [0.7777777777777778, \"#fb9f3a\"], [0.8888888888888888, \"#fdca26\"], [1.0, \"#f0f921\"]], \"type\": \"heatmap\"}], \"heatmapgl\": [{\"colorbar\": {\"outlinewidth\": 0, \"ticks\": \"\"}, \"colorscale\": [[0.0, \"#0d0887\"], [0.1111111111111111, \"#46039f\"], [0.2222222222222222, \"#7201a8\"], [0.3333333333333333, \"#9c179e\"], [0.4444444444444444, \"#bd3786\"], [0.5555555555555556, \"#d8576b\"], [0.6666666666666666, \"#ed7953\"], [0.7777777777777778, \"#fb9f3a\"], [0.8888888888888888, \"#fdca26\"], [1.0, \"#f0f921\"]], \"type\": \"heatmapgl\"}], \"histogram\": [{\"marker\": {\"colorbar\": {\"outlinewidth\": 0, \"ticks\": \"\"}}, \"type\": \"histogram\"}], \"histogram2d\": [{\"colorbar\": {\"outlinewidth\": 0, \"ticks\": \"\"}, \"colorscale\": [[0.0, \"#0d0887\"], [0.1111111111111111, \"#46039f\"], [0.2222222222222222, \"#7201a8\"], [0.3333333333333333, \"#9c179e\"], [0.4444444444444444, \"#bd3786\"], [0.5555555555555556, \"#d8576b\"], [0.6666666666666666, \"#ed7953\"], [0.7777777777777778, \"#fb9f3a\"], [0.8888888888888888, \"#fdca26\"], [1.0, \"#f0f921\"]], \"type\": \"histogram2d\"}], \"histogram2dcontour\": [{\"colorbar\": {\"outlinewidth\": 0, \"ticks\": \"\"}, \"colorscale\": [[0.0, \"#0d0887\"], [0.1111111111111111, \"#46039f\"], [0.2222222222222222, \"#7201a8\"], [0.3333333333333333, \"#9c179e\"], [0.4444444444444444, \"#bd3786\"], [0.5555555555555556, \"#d8576b\"], [0.6666666666666666, \"#ed7953\"], [0.7777777777777778, \"#fb9f3a\"], [0.8888888888888888, \"#fdca26\"], [1.0, \"#f0f921\"]], \"type\": \"histogram2dcontour\"}], \"mesh3d\": [{\"colorbar\": {\"outlinewidth\": 0, \"ticks\": \"\"}, \"type\": \"mesh3d\"}], \"parcoords\": [{\"line\": {\"colorbar\": {\"outlinewidth\": 0, \"ticks\": \"\"}}, \"type\": \"parcoords\"}], \"pie\": [{\"automargin\": true, \"type\": \"pie\"}], \"scatter\": [{\"marker\": {\"colorbar\": {\"outlinewidth\": 0, \"ticks\": \"\"}}, \"type\": \"scatter\"}], \"scatter3d\": [{\"line\": {\"colorbar\": {\"outlinewidth\": 0, \"ticks\": \"\"}}, \"marker\": {\"colorbar\": {\"outlinewidth\": 0, \"ticks\": \"\"}}, \"type\": \"scatter3d\"}], \"scattercarpet\": [{\"marker\": {\"colorbar\": {\"outlinewidth\": 0, \"ticks\": \"\"}}, \"type\": \"scattercarpet\"}], \"scattergeo\": [{\"marker\": {\"colorbar\": {\"outlinewidth\": 0, \"ticks\": \"\"}}, \"type\": \"scattergeo\"}], \"scattergl\": [{\"marker\": {\"colorbar\": {\"outlinewidth\": 0, \"ticks\": \"\"}}, \"type\": \"scattergl\"}], \"scattermapbox\": [{\"marker\": {\"colorbar\": {\"outlinewidth\": 0, \"ticks\": \"\"}}, \"type\": \"scattermapbox\"}], \"scatterpolar\": [{\"marker\": {\"colorbar\": {\"outlinewidth\": 0, \"ticks\": \"\"}}, \"type\": \"scatterpolar\"}], \"scatterpolargl\": [{\"marker\": {\"colorbar\": {\"outlinewidth\": 0, \"ticks\": \"\"}}, \"type\": \"scatterpolargl\"}], \"scatterternary\": [{\"marker\": {\"colorbar\": {\"outlinewidth\": 0, \"ticks\": \"\"}}, \"type\": \"scatterternary\"}], \"surface\": [{\"colorbar\": {\"outlinewidth\": 0, \"ticks\": \"\"}, \"colorscale\": [[0.0, \"#0d0887\"], [0.1111111111111111, \"#46039f\"], [0.2222222222222222, \"#7201a8\"], [0.3333333333333333, \"#9c179e\"], [0.4444444444444444, \"#bd3786\"], [0.5555555555555556, \"#d8576b\"], [0.6666666666666666, \"#ed7953\"], [0.7777777777777778, \"#fb9f3a\"], [0.8888888888888888, \"#fdca26\"], [1.0, \"#f0f921\"]], \"type\": \"surface\"}], \"table\": [{\"cells\": {\"fill\": {\"color\": \"#EBF0F8\"}, \"line\": {\"color\": \"white\"}}, \"header\": {\"fill\": {\"color\": \"#C8D4E3\"}, \"line\": {\"color\": \"white\"}}, \"type\": \"table\"}]}, \"layout\": {\"annotationdefaults\": {\"arrowcolor\": \"#2a3f5f\", \"arrowhead\": 0, \"arrowwidth\": 1}, \"coloraxis\": {\"colorbar\": {\"outlinewidth\": 0, \"ticks\": \"\"}}, \"colorscale\": {\"diverging\": [[0, \"#8e0152\"], [0.1, \"#c51b7d\"], [0.2, \"#de77ae\"], [0.3, \"#f1b6da\"], [0.4, \"#fde0ef\"], [0.5, \"#f7f7f7\"], [0.6, \"#e6f5d0\"], [0.7, \"#b8e186\"], [0.8, \"#7fbc41\"], [0.9, \"#4d9221\"], [1, \"#276419\"]], \"sequential\": [[0.0, \"#0d0887\"], [0.1111111111111111, \"#46039f\"], [0.2222222222222222, \"#7201a8\"], [0.3333333333333333, \"#9c179e\"], [0.4444444444444444, \"#bd3786\"], [0.5555555555555556, \"#d8576b\"], [0.6666666666666666, \"#ed7953\"], [0.7777777777777778, \"#fb9f3a\"], [0.8888888888888888, \"#fdca26\"], [1.0, \"#f0f921\"]], \"sequentialminus\": [[0.0, \"#0d0887\"], [0.1111111111111111, \"#46039f\"], [0.2222222222222222, \"#7201a8\"], [0.3333333333333333, \"#9c179e\"], [0.4444444444444444, \"#bd3786\"], [0.5555555555555556, \"#d8576b\"], [0.6666666666666666, \"#ed7953\"], [0.7777777777777778, \"#fb9f3a\"], [0.8888888888888888, \"#fdca26\"], [1.0, \"#f0f921\"]]}, \"colorway\": [\"#636efa\", \"#EF553B\", \"#00cc96\", \"#ab63fa\", \"#FFA15A\", \"#19d3f3\", \"#FF6692\", \"#B6E880\", \"#FF97FF\", \"#FECB52\"], \"font\": {\"color\": \"#2a3f5f\"}, \"geo\": {\"bgcolor\": \"white\", \"lakecolor\": \"white\", \"landcolor\": \"#E5ECF6\", \"showlakes\": true, \"showland\": true, \"subunitcolor\": \"white\"}, \"hoverlabel\": {\"align\": \"left\"}, \"hovermode\": \"closest\", \"mapbox\": {\"style\": \"light\"}, \"paper_bgcolor\": \"white\", \"plot_bgcolor\": \"#E5ECF6\", \"polar\": {\"angularaxis\": {\"gridcolor\": \"white\", \"linecolor\": \"white\", \"ticks\": \"\"}, \"bgcolor\": \"#E5ECF6\", \"radialaxis\": {\"gridcolor\": \"white\", \"linecolor\": \"white\", \"ticks\": \"\"}}, \"scene\": {\"xaxis\": {\"backgroundcolor\": \"#E5ECF6\", \"gridcolor\": \"white\", \"gridwidth\": 2, \"linecolor\": \"white\", \"showbackground\": true, \"ticks\": \"\", \"zerolinecolor\": \"white\"}, \"yaxis\": {\"backgroundcolor\": \"#E5ECF6\", \"gridcolor\": \"white\", \"gridwidth\": 2, \"linecolor\": \"white\", \"showbackground\": true, \"ticks\": \"\", \"zerolinecolor\": \"white\"}, \"zaxis\": {\"backgroundcolor\": \"#E5ECF6\", \"gridcolor\": \"white\", \"gridwidth\": 2, \"linecolor\": \"white\", \"showbackground\": true, \"ticks\": \"\", \"zerolinecolor\": \"white\"}}, \"shapedefaults\": {\"line\": {\"color\": \"#2a3f5f\"}}, \"ternary\": {\"aaxis\": {\"gridcolor\": \"white\", \"linecolor\": \"white\", \"ticks\": \"\"}, \"baxis\": {\"gridcolor\": \"white\", \"linecolor\": \"white\", \"ticks\": \"\"}, \"bgcolor\": \"#E5ECF6\", \"caxis\": {\"gridcolor\": \"white\", \"linecolor\": \"white\", \"ticks\": \"\"}}, \"title\": {\"x\": 0.05}, \"xaxis\": {\"automargin\": true, \"gridcolor\": \"white\", \"linecolor\": \"white\", \"ticks\": \"\", \"title\": {\"standoff\": 15}, \"zerolinecolor\": \"white\", \"zerolinewidth\": 2}, \"yaxis\": {\"automargin\": true, \"gridcolor\": \"white\", \"linecolor\": \"white\", \"ticks\": \"\", \"title\": {\"standoff\": 15}, \"zerolinecolor\": \"white\", \"zerolinewidth\": 2}}}, \"xaxis\": {\"anchor\": \"y\", \"domain\": [0.0, 1.0], \"title\": {\"text\": \"Area\"}}, \"yaxis\": {\"anchor\": \"x\", \"domain\": [0.0, 1.0], \"title\": {\"text\": \"count\"}}},\n",
              "                        {\"responsive\": true}\n",
              "                    ).then(function(){\n",
              "                            \n",
              "var gd = document.getElementById('eba66d6b-d860-4159-847f-2a3e65df3939');\n",
              "var x = new MutationObserver(function (mutations, observer) {{\n",
              "        var display = window.getComputedStyle(gd).display;\n",
              "        if (!display || display === 'none') {{\n",
              "            console.log([gd, 'removed!']);\n",
              "            Plotly.purge(gd);\n",
              "            observer.disconnect();\n",
              "        }}\n",
              "}});\n",
              "\n",
              "// Listen for the removal of the full notebook cells\n",
              "var notebookContainer = gd.closest('#notebook-container');\n",
              "if (notebookContainer) {{\n",
              "    x.observe(notebookContainer, {childList: true});\n",
              "}}\n",
              "\n",
              "// Listen for the clearing of the current output cell\n",
              "var outputEl = gd.closest('.output');\n",
              "if (outputEl) {{\n",
              "    x.observe(outputEl, {childList: true});\n",
              "}}\n",
              "\n",
              "                        })\n",
              "                };\n",
              "                \n",
              "            </script>\n",
              "        </div>\n",
              "</body>\n",
              "</html>"
            ]
          },
          "metadata": {
            "tags": []
          }
        }
      ]
    },
    {
      "cell_type": "code",
      "metadata": {
        "colab": {
          "base_uri": "https://localhost:8080/",
          "height": 542
        },
        "id": "7BvhFHfcipWD",
        "outputId": "799067c4-f87b-4ccd-e13c-68e5153e311c"
      },
      "source": [
        "px.histogram(df1,x='Price')\n"
      ],
      "execution_count": 19,
      "outputs": [
        {
          "output_type": "display_data",
          "data": {
            "text/html": [
              "<html>\n",
              "<head><meta charset=\"utf-8\" /></head>\n",
              "<body>\n",
              "    <div>\n",
              "            <script src=\"https://cdnjs.cloudflare.com/ajax/libs/mathjax/2.7.5/MathJax.js?config=TeX-AMS-MML_SVG\"></script><script type=\"text/javascript\">if (window.MathJax) {MathJax.Hub.Config({SVG: {font: \"STIX-Web\"}});}</script>\n",
              "                <script type=\"text/javascript\">window.PlotlyConfig = {MathJaxConfig: 'local'};</script>\n",
              "        <script src=\"https://cdn.plot.ly/plotly-latest.min.js\"></script>    \n",
              "            <div id=\"2209635f-2402-4a52-b463-28381f44e668\" class=\"plotly-graph-div\" style=\"height:525px; width:100%;\"></div>\n",
              "            <script type=\"text/javascript\">\n",
              "                \n",
              "                    window.PLOTLYENV=window.PLOTLYENV || {};\n",
              "                    \n",
              "                if (document.getElementById(\"2209635f-2402-4a52-b463-28381f44e668\")) {\n",
              "                    Plotly.newPlot(\n",
              "                        '2209635f-2402-4a52-b463-28381f44e668',\n",
              "                        [{\"alignmentgroup\": \"True\", \"bingroup\": \"x\", \"hoverlabel\": {\"namelength\": 0}, \"hovertemplate\": \"Price=%{x}<br>count=%{y}\", \"legendgroup\": \"\", \"marker\": {\"color\": \"#636efa\"}, \"name\": \"\", \"offsetgroup\": \"\", \"orientation\": \"v\", \"showlegend\": false, \"type\": \"histogram\", \"x\": [6500000, 5000000, 15500000, 4200000, 6200000, 15500000, 10000000, 4000000, 6800000, 15000000, 6200000, 7700000, 5500000, 5000000, 3310000, 4700000, 4500000, 17000000, 25000000, 6000000, 11000000, 4500000, 5300000, 10500000, 12000000, 7000000, 7000000, 3400000, 5000000, 21000000, 15000000, 10500000, 22500000, 13600000, 30000000, 13500000, 8910000, 25000000, 26000000, 30000000, 12500000, 21000000, 7800000, 11500000, 11500000, 26000000, 13000000, 22000000, 15800000, 57500000, 10000000, 30000000, 22000000, 24000000, 31500000, 14600000, 240000000, 8300000, 22500000, 4600000, 1900000, 5130000, 5890000, 3700000, 17400000, 15500000, 2400000, 17200000, 14200000, 13500000, 30000000, 21000000, 20500000, 24000000, 16500000, 14900000, 19200000, 14500000, 15600000, 11400000, 31500000, 15800000, 16000000, 10500000, 14800000, 1850000, 6800000, 14200000, 8900000, 37500000, 21000000, 57500000, 30000000, 30000000, 31500000, 30000000, 41500000, 24800000, 35000000, 40000000, 46000000, 55000000, 24500000, 24500000, 32500000, 20000000, 240000000, 19000000, 26000000, 21000000, 27500000, 32500000, 45000000, 21000000, 28000000, 29500000, 14000000, 12500000, 26000000, 11500000, 14600000, 25500000, 31000000, 22000000, 13400000, 35000000, 11000000, 6300000, 12500000, 14500000, 22500000, 15500000, 26000000, 15800000, 15000000, 13000000, 15000000, 25000000, 16500000, 10300000, 26000000, 11000000, 28500000, 11000000, 4500000, 3600000, 4300000, 4000000, 1650000, 2000000, 3000000, 1400000, 2000000, 2000000, 2000000, 2600000, 5100000, 6000000, 4000000, 6200000, 3500000, 7600000, 13500000, 12500000, 6500000, 22000000, 6000000, 7300000, 7600000, 20000000, 15000000, 6200000, 6200000, 2300000, 4700000, 5500000, 2000000, 7300000, 13000000, 11500000, 2800000, 2200000, 4400000, 13500000, 4100000, 12000000, 3500000, 15000000, 17500000, 1900000, 5500000, 10000000, 4700000, 2400000, 3800000, 23000000, 24500000, 10000000, 5500000, 7000000, 6500000, 135000000, 93000000, 4370000, 4620000, 1900000, 70000000, 3000000, 3300000, 24900000, 60000000, 17400000, 51000000, 170000000, 5510000, 25000000, 57000000, 2940000, 15500000, 17200000, 55000000, 15000000, 51000000, 13000000, 30000000, 2400000, 5500000, 45000000, 60000000, 65000000, 220000000, 60000000, 38500000, 50000000, 75000000, 70000000, 160000000, 85000000, 40000000, 90000000, 56000000, 135500000, 60000000, 170000000, 50000000, 58000000, 37500000, 45000000, 70000000, 29500000, 60000000, 70000000, 50000000, 75000000, 52500000, 55000000, 120000000, 65000000, 75000000, 47500000, 70000000, 47500000, 40000000, 85000000, 26000000, 35000000, 20000000, 79000000, 17000000, 47500000, 43000000, 26000000, 25000000, 51000000, 40000000, 22500000, 70000000, 45000000, 51100000, 25500000, 26500000, 15000000, 55000000, 26000000, 38000000, 72500000, 65000000, 4600000, 9200000, 9500000, 4500000, 6500000, 5650000, 9300000, 2700000, 6500000, 5800000, 5500000, 6000000, 4500000, 4100000, 3800000, 3300000, 2900000, 2000000, 1550000, 11300000, 4500000, 3300000, 11500000, 6000000, 9000000, 4500000, 14000000, 7300000, 1900000, 7000000, 6000000, 6400000, 2700000, 6500000, 4000000, 3000000, 5000000, 6000000, 2500000, 6500000, 8000000, 2700000, 4500000, 5700000, 25000000, 70000000, 26500000, 18500000, 30000000, 22000000, 9000000, 65000000, 22500000, 8700000, 22000000, 18500000, 16000000, 16000000, 9000000, 4500000, 6000000, 2700000, 6500000, 4000000, 2600000, 3500000, 7500000, 7000000, 4500000, 5500000, 2700000, 2400000, 11500000, 3600000, 1700000, 2500000, 6600000, 3700000, 3500000, 5400000, 2550000, 12500000, 5600000, 7000000, 3500000, 35000000, 9000000, 2300000, 6000000, 6000000, 2650000, 5510000, 3200000, 2600000, 4000000, 1850000, 1700000, 2800000, 2150000, 6800000, 6200000, 3100000, 3400000, 4000000, 4800000, 2500000, 2000000, 1900000, 5800000, 2900000, 2000000, 2600000, 2900000, 3200000, 5400000, 3800000, 8200000, 8000000, 9500000, 20000000, 7400000, 37500000, 15000000, 55300000, 26500000, 16000000, 10400000, 1700000, 8000000, 27000000, 19500000, 50000000, 21100000, 5900000, 12000000, 12000000, 24000000, 7000000, 15000000, 1500000, 3950000, 12500000, 1600000, 36500000, 20000000, 15000000, 25000000, 18500000, 23500000, 8000000, 23000000, 31000000, 7400000, 15500000, 12000000, 23500000, 25000000, 7000000, 17500000, 25000000, 29000000, 21900000, 7500000, 23500000, 24000000, 31000000, 16500000, 5000000, 24000000, 17000000, 40000000, 22500000, 20000000, 7500000, 3600000, 35000000, 6000000, 17500000, 35000000, 10200000, 29000000, 41000000, 6000000, 2500000, 2200000, 21500000, 15000000, 28900000, 5500000, 1950000, 3800000, 6200000, 14000000, 7500000, 2670000, 2500000, 5000000, 29500000, 19000000, 25500000, 75000000, 75000000, 34000000, 47500000, 75000000, 23000000, 24000000, 21500000, 28500000, 12500000, 45000000, 30500000, 22500000, 28000000, 25000000, 33700000, 27000000, 43500000, 29000000, 30000000, 52100000, 32500000, 20500000, 25000000, 30000000, 51000000, 31000000, 37500000, 32500000, 37500000, 55000000, 87500000, 16300000, 65000000, 25000000, 38000000, 15000000, 2000000, 3000000, 8500000, 55000000, 22500000, 72500000, 160000000, 12500000, 17000000, 82500000, 55000000, 35000000, 42500000, 4700000, 52500000, 80000000, 11000000, 74000000, 37500000, 52500000, 26000000, 15500000, 22000000, 21000000, 5000000, 22000000, 26500000, 8770000, 4500000, 8500000, 8600000, 42500000, 13100000, 7000000, 30000000, 13000000, 23100000, 16000000, 12500000, 24500000, 3200000, 6300000, 15000000, 5700000, 21000000, 7500000, 6500000, 27500000, 12000000, 18000000, 15600000, 15500000, 15200000, 25000000, 15000000, 15800000, 31500000, 14000000, 13200000, 15800000, 16200000, 15500000, 14500000, 14900000, 17200000, 18000000, 15500000, 15800000, 12600000, 15000000, 19500000, 16600000, 17200000, 13000000, 16500000, 10700000, 16200000, 16500000, 14900000, 27500000, 62500000, 70000000, 35500000, 42100000, 42500000, 44000000, 43200000, 52500000, 34300000, 38000000, 52500000, 37500000, 37000000, 40000000, 36200000, 29000000, 42500000, 60000000, 36500000, 42500000, 71500000, 65000000, 58000000, 27500000, 70000000, 65000000, 28600000, 39000000, 32500000, 34000000, 16500000, 13800000, 21000000, 22500000, 15000000, 20000000, 20000000, 26000000, 19500000, 21500000, 26500000, 20000000, 18000000, 19000000, 36500000, 15000000, 17500000, 14000000, 21000000, 15600000, 19000000, 16500000, 19000000, 16500000, 3000000, 15000000, 14300000, 18500000, 19000000, 19000000, 15800000, 17000000, 15500000, 16000000, 12900000, 13500000, 17800000, 13200000, 14000000, 17500000, 17000000, 13000000, 17000000, 12700000, 13500000, 17400000, 17800000, 12700000, 16200000, 11100000, 13600000, 13100000, 12500000, 13600000, 12000000, 20000000, 13500000, 14000000, 10800000, 9000000, 6300000, 5500000, 2350000, 8500000, 1650000, 10000000, 1500000, 2800000, 2600000, 2350000, 2350000, 2000000, 5000000, 3500000, 4500000, 4000000, 10800000, 10000000, 9000000, 8500000, 6000000, 5500000, 7000000, 6000000, 3700000, 3100000, 4500000, 1500000, 7090000, 4500000, 5500000, 63000000, 6990000, 4400000, 12500000, 3000000, 2800000, 5000000, 6000000, 4500000, 2800000, 2500000, 8500000, 3000000, 4900000, 3500000, 3000000, 7020000, 60000000, 3500000, 7000000, 7000000, 4500000, 5990000, 4400000, 2500000, 1600000, 6500000, 2750000, 1500000, 2200000, 2800000, 4500000, 1800000, 8500000, 8500000, 1700000, 7000000, 5600000, 13500000, 8500000, 6000000, 7200000, 6500000, 8400000, 8500000, 4000000, 1700000, 6000000, 1600000, 2100000, 1700000, 1500000, 1200000, 1650000, 3500000, 8500000, 3200000, 4400000, 7200000, 7500000, 6500000, 3500000, 6500000, 6200000, 2500000, 3000000, 6000000, 4800000, 3790000, 4200000, 2900000, 5000000, 2100000, 3200000, 3000000, 2300000, 5900000, 5500000, 3500000, 1700000, 1850000, 2300000, 3800000, 4500000, 2200000, 5200000, 2200000, 1500000, 2200000, 3800000, 1800000, 2850000, 2500000, 3500000, 2000000, 3000000, 2000000, 3500000, 1800000, 1600000, 1600000, 2000000, 1500000, 3000000, 1490000, 3500000, 4000000, 1750000, 4600000, 1800000, 1900000, 1000000, 1000000, 1000000, 3500000, 5000000, 2200000, 13000000, 34000000, 60000000, 74500000, 75000000, 62500000, 67000000, 8500000, 11500000, 52500000, 12000000, 10700000, 9000000, 100000000, 6200000, 17000000, 12500000, 13000000, 4200000, 36000000, 2300000, 8100000, 10000000, 62500000, 65000000, 20000000, 57500000, 30000000, 30000000, 30000000, 3300000, 7350000, 12500000, 3500000, 6500000, 6900000, 3600000, 13500000, 9200000, 2500000, 17000000, 9030000, 9300000, 6500000, 3300000, 2400000, 15000000, 7000000, 4200000, 5800000, 4800000, 7500000, 3000000, 4300000, 2600000, 7000000, 6000000, 6700000, 9500000, 17000000, 8000000, 12000000, 9000000, 11500000, 20000000, 8550000, 10500000, 12000000, 11000000, 12000000, 9000000, 10000000, 8100000, 9200000, 14200000, 7500000, 9500000, 14000000, 11600000, 12000000, 7500000, 9800000, 12000000, 12500000, 16500000, 12000000, 7200000, 15000000, 10000000, 11000000, 24700000, 24900000, 3600000, 1700000, 11000000, 75000000, 24800000, 24900000, 24900000, 25900000, 11700000, 13500000, 5500000, 30000000, 4950000, 16000000, 30000000, 41000000, 3800000, 68900000, 1800000, 1500000, 12500000, 1600000, 2400000, 7000000, 3100000, 14500000, 61500000, 27500000, 25500000, 25000000, 18500000, 39700000, 6800000, 6540000, 22000000, 17000000, 27500000, 73700000, 52300000, 16000000, 15000000, 10000000, 5000000, 20000000, 16000000, 5500000, 7000000, 4100000, 24000000, 12500000, 3900000, 14500000, 20000000, 24500000, 20900000, 43100000, 18000000, 50000000, 18500000, 46500000, 17500000, 42500000, 15500000, 15000000, 40000000, 20000000, 6700000, 16000000, 8000000, 25000000, 25000000, 37500000, 25000000, 23000000, 17500000, 44000000, 15000000, 42500000, 5000000, 38000000, 19000000, 43500000, 19500000, 14200000, 14200000, 13500000, 21000000, 22500000, 19000000, 7500000, 4000000, 8000000, 19000000, 7000000, 5800000, 8000000, 18800000, 6000000, 2200000, 6500000, 23500000, 16000000, 20000000, 5500000, 13500000, 22500000, 3800000, 4600000, 17500000, 5500000, 22500000, 12500000, 19000000, 15500000, 13500000, 21000000, 50000000, 42500000, 45500000, 23000000, 12000000, 35000000, 25000000, 29000000, 80000000, 20500000, 52500000, 37500000, 7500000, 32500000, 24500000, 65000000, 27500000, 115000000, 28000000, 8000000, 75100000, 7800000, 15000000, 27500000, 25000000, 26000000, 23500000, 4200000, 10000000, 18500000, 3300000, 3800000, 7000000, 16500000, 8000000, 5600000, 21000000, 21000000, 8600000, 6600000, 14000000, 4700000, 30000000, 26000000, 18500000, 6500000, 15000000, 8000000, 16100000, 6800000, 6800000, 9000000, 18000000, 27500000, 13500000, 14000000, 9000000, 16000000, 11000000, 5500000, 47500000, 45000000, 43500000, 180000000, 80000000, 37500000, 60000000, 71000000, 18500000, 70000000, 85000000, 190000000, 135000000, 35000000, 65000000, 27500000, 45000000, 100000000, 47000000, 27500000, 70000000, 36500000, 65000000, 35000000, 56000000, 110000000, 24000000, 102500000, 100000000, 45000000, 29000000, 25500000, 33500000, 62500000, 47500000, 14700000, 18000000, 22500000, 22000000, 22200000, 22500000, 7500000, 30000000, 6500000, 35000000, 17500000, 60000000, 40000000, 11500000, 22500000, 28500000, 29000000, 15500000, 26000000, 16500000, 55000000, 12500000, 17500000, 11500000, 18500000], \"xaxis\": \"x\", \"yaxis\": \"y\"}],\n",
              "                        {\"barmode\": \"relative\", \"legend\": {\"tracegroupgap\": 0}, \"margin\": {\"t\": 60}, \"template\": {\"data\": {\"bar\": [{\"error_x\": {\"color\": \"#2a3f5f\"}, \"error_y\": {\"color\": \"#2a3f5f\"}, \"marker\": {\"line\": {\"color\": \"#E5ECF6\", \"width\": 0.5}}, \"type\": \"bar\"}], \"barpolar\": [{\"marker\": {\"line\": {\"color\": \"#E5ECF6\", \"width\": 0.5}}, \"type\": \"barpolar\"}], \"carpet\": [{\"aaxis\": {\"endlinecolor\": \"#2a3f5f\", \"gridcolor\": \"white\", \"linecolor\": \"white\", \"minorgridcolor\": \"white\", \"startlinecolor\": \"#2a3f5f\"}, \"baxis\": {\"endlinecolor\": \"#2a3f5f\", \"gridcolor\": \"white\", \"linecolor\": \"white\", \"minorgridcolor\": \"white\", \"startlinecolor\": \"#2a3f5f\"}, \"type\": \"carpet\"}], \"choropleth\": [{\"colorbar\": {\"outlinewidth\": 0, \"ticks\": \"\"}, \"type\": \"choropleth\"}], \"contour\": [{\"colorbar\": {\"outlinewidth\": 0, \"ticks\": \"\"}, \"colorscale\": [[0.0, \"#0d0887\"], [0.1111111111111111, \"#46039f\"], [0.2222222222222222, \"#7201a8\"], [0.3333333333333333, \"#9c179e\"], [0.4444444444444444, \"#bd3786\"], [0.5555555555555556, \"#d8576b\"], [0.6666666666666666, \"#ed7953\"], [0.7777777777777778, \"#fb9f3a\"], [0.8888888888888888, \"#fdca26\"], [1.0, \"#f0f921\"]], \"type\": \"contour\"}], \"contourcarpet\": [{\"colorbar\": {\"outlinewidth\": 0, \"ticks\": \"\"}, \"type\": \"contourcarpet\"}], \"heatmap\": [{\"colorbar\": {\"outlinewidth\": 0, \"ticks\": \"\"}, \"colorscale\": [[0.0, \"#0d0887\"], [0.1111111111111111, \"#46039f\"], [0.2222222222222222, \"#7201a8\"], [0.3333333333333333, \"#9c179e\"], [0.4444444444444444, \"#bd3786\"], [0.5555555555555556, \"#d8576b\"], [0.6666666666666666, \"#ed7953\"], [0.7777777777777778, \"#fb9f3a\"], [0.8888888888888888, \"#fdca26\"], [1.0, \"#f0f921\"]], \"type\": \"heatmap\"}], \"heatmapgl\": [{\"colorbar\": {\"outlinewidth\": 0, \"ticks\": \"\"}, \"colorscale\": [[0.0, \"#0d0887\"], [0.1111111111111111, \"#46039f\"], [0.2222222222222222, \"#7201a8\"], [0.3333333333333333, \"#9c179e\"], [0.4444444444444444, \"#bd3786\"], [0.5555555555555556, \"#d8576b\"], [0.6666666666666666, \"#ed7953\"], [0.7777777777777778, \"#fb9f3a\"], [0.8888888888888888, \"#fdca26\"], [1.0, \"#f0f921\"]], \"type\": \"heatmapgl\"}], \"histogram\": [{\"marker\": {\"colorbar\": {\"outlinewidth\": 0, \"ticks\": \"\"}}, \"type\": \"histogram\"}], \"histogram2d\": [{\"colorbar\": {\"outlinewidth\": 0, \"ticks\": \"\"}, \"colorscale\": [[0.0, \"#0d0887\"], [0.1111111111111111, \"#46039f\"], [0.2222222222222222, \"#7201a8\"], [0.3333333333333333, \"#9c179e\"], [0.4444444444444444, \"#bd3786\"], [0.5555555555555556, \"#d8576b\"], [0.6666666666666666, \"#ed7953\"], [0.7777777777777778, \"#fb9f3a\"], [0.8888888888888888, \"#fdca26\"], [1.0, \"#f0f921\"]], \"type\": \"histogram2d\"}], \"histogram2dcontour\": [{\"colorbar\": {\"outlinewidth\": 0, \"ticks\": \"\"}, \"colorscale\": [[0.0, \"#0d0887\"], [0.1111111111111111, \"#46039f\"], [0.2222222222222222, \"#7201a8\"], [0.3333333333333333, \"#9c179e\"], [0.4444444444444444, \"#bd3786\"], [0.5555555555555556, \"#d8576b\"], [0.6666666666666666, \"#ed7953\"], [0.7777777777777778, \"#fb9f3a\"], [0.8888888888888888, \"#fdca26\"], [1.0, \"#f0f921\"]], \"type\": \"histogram2dcontour\"}], \"mesh3d\": [{\"colorbar\": {\"outlinewidth\": 0, \"ticks\": \"\"}, \"type\": \"mesh3d\"}], \"parcoords\": [{\"line\": {\"colorbar\": {\"outlinewidth\": 0, \"ticks\": \"\"}}, \"type\": \"parcoords\"}], \"pie\": [{\"automargin\": true, \"type\": \"pie\"}], \"scatter\": [{\"marker\": {\"colorbar\": {\"outlinewidth\": 0, \"ticks\": \"\"}}, \"type\": \"scatter\"}], \"scatter3d\": [{\"line\": {\"colorbar\": {\"outlinewidth\": 0, \"ticks\": \"\"}}, \"marker\": {\"colorbar\": {\"outlinewidth\": 0, \"ticks\": \"\"}}, \"type\": \"scatter3d\"}], \"scattercarpet\": [{\"marker\": {\"colorbar\": {\"outlinewidth\": 0, \"ticks\": \"\"}}, \"type\": \"scattercarpet\"}], \"scattergeo\": [{\"marker\": {\"colorbar\": {\"outlinewidth\": 0, \"ticks\": \"\"}}, \"type\": \"scattergeo\"}], \"scattergl\": [{\"marker\": {\"colorbar\": {\"outlinewidth\": 0, \"ticks\": \"\"}}, \"type\": \"scattergl\"}], \"scattermapbox\": [{\"marker\": {\"colorbar\": {\"outlinewidth\": 0, \"ticks\": \"\"}}, \"type\": \"scattermapbox\"}], \"scatterpolar\": [{\"marker\": {\"colorbar\": {\"outlinewidth\": 0, \"ticks\": \"\"}}, \"type\": \"scatterpolar\"}], \"scatterpolargl\": [{\"marker\": {\"colorbar\": {\"outlinewidth\": 0, \"ticks\": \"\"}}, \"type\": \"scatterpolargl\"}], \"scatterternary\": [{\"marker\": {\"colorbar\": {\"outlinewidth\": 0, \"ticks\": \"\"}}, \"type\": \"scatterternary\"}], \"surface\": [{\"colorbar\": {\"outlinewidth\": 0, \"ticks\": \"\"}, \"colorscale\": [[0.0, \"#0d0887\"], [0.1111111111111111, \"#46039f\"], [0.2222222222222222, \"#7201a8\"], [0.3333333333333333, \"#9c179e\"], [0.4444444444444444, \"#bd3786\"], [0.5555555555555556, \"#d8576b\"], [0.6666666666666666, \"#ed7953\"], [0.7777777777777778, \"#fb9f3a\"], [0.8888888888888888, \"#fdca26\"], [1.0, \"#f0f921\"]], \"type\": \"surface\"}], \"table\": [{\"cells\": {\"fill\": {\"color\": \"#EBF0F8\"}, \"line\": {\"color\": \"white\"}}, \"header\": {\"fill\": {\"color\": \"#C8D4E3\"}, \"line\": {\"color\": \"white\"}}, \"type\": \"table\"}]}, \"layout\": {\"annotationdefaults\": {\"arrowcolor\": \"#2a3f5f\", \"arrowhead\": 0, \"arrowwidth\": 1}, \"coloraxis\": {\"colorbar\": {\"outlinewidth\": 0, \"ticks\": \"\"}}, \"colorscale\": {\"diverging\": [[0, \"#8e0152\"], [0.1, \"#c51b7d\"], [0.2, \"#de77ae\"], [0.3, \"#f1b6da\"], [0.4, \"#fde0ef\"], [0.5, \"#f7f7f7\"], [0.6, \"#e6f5d0\"], [0.7, \"#b8e186\"], [0.8, \"#7fbc41\"], [0.9, \"#4d9221\"], [1, \"#276419\"]], \"sequential\": [[0.0, \"#0d0887\"], [0.1111111111111111, \"#46039f\"], [0.2222222222222222, \"#7201a8\"], [0.3333333333333333, \"#9c179e\"], [0.4444444444444444, \"#bd3786\"], [0.5555555555555556, \"#d8576b\"], [0.6666666666666666, \"#ed7953\"], [0.7777777777777778, \"#fb9f3a\"], [0.8888888888888888, \"#fdca26\"], [1.0, \"#f0f921\"]], \"sequentialminus\": [[0.0, \"#0d0887\"], [0.1111111111111111, \"#46039f\"], [0.2222222222222222, \"#7201a8\"], [0.3333333333333333, \"#9c179e\"], [0.4444444444444444, \"#bd3786\"], [0.5555555555555556, \"#d8576b\"], [0.6666666666666666, \"#ed7953\"], [0.7777777777777778, \"#fb9f3a\"], [0.8888888888888888, \"#fdca26\"], [1.0, \"#f0f921\"]]}, \"colorway\": [\"#636efa\", \"#EF553B\", \"#00cc96\", \"#ab63fa\", \"#FFA15A\", \"#19d3f3\", \"#FF6692\", \"#B6E880\", \"#FF97FF\", \"#FECB52\"], \"font\": {\"color\": \"#2a3f5f\"}, \"geo\": {\"bgcolor\": \"white\", \"lakecolor\": \"white\", \"landcolor\": \"#E5ECF6\", \"showlakes\": true, \"showland\": true, \"subunitcolor\": \"white\"}, \"hoverlabel\": {\"align\": \"left\"}, \"hovermode\": \"closest\", \"mapbox\": {\"style\": \"light\"}, \"paper_bgcolor\": \"white\", \"plot_bgcolor\": \"#E5ECF6\", \"polar\": {\"angularaxis\": {\"gridcolor\": \"white\", \"linecolor\": \"white\", \"ticks\": \"\"}, \"bgcolor\": \"#E5ECF6\", \"radialaxis\": {\"gridcolor\": \"white\", \"linecolor\": \"white\", \"ticks\": \"\"}}, \"scene\": {\"xaxis\": {\"backgroundcolor\": \"#E5ECF6\", \"gridcolor\": \"white\", \"gridwidth\": 2, \"linecolor\": \"white\", \"showbackground\": true, \"ticks\": \"\", \"zerolinecolor\": \"white\"}, \"yaxis\": {\"backgroundcolor\": \"#E5ECF6\", \"gridcolor\": \"white\", \"gridwidth\": 2, \"linecolor\": \"white\", \"showbackground\": true, \"ticks\": \"\", \"zerolinecolor\": \"white\"}, \"zaxis\": {\"backgroundcolor\": \"#E5ECF6\", \"gridcolor\": \"white\", \"gridwidth\": 2, \"linecolor\": \"white\", \"showbackground\": true, \"ticks\": \"\", \"zerolinecolor\": \"white\"}}, \"shapedefaults\": {\"line\": {\"color\": \"#2a3f5f\"}}, \"ternary\": {\"aaxis\": {\"gridcolor\": \"white\", \"linecolor\": \"white\", \"ticks\": \"\"}, \"baxis\": {\"gridcolor\": \"white\", \"linecolor\": \"white\", \"ticks\": \"\"}, \"bgcolor\": \"#E5ECF6\", \"caxis\": {\"gridcolor\": \"white\", \"linecolor\": \"white\", \"ticks\": \"\"}}, \"title\": {\"x\": 0.05}, \"xaxis\": {\"automargin\": true, \"gridcolor\": \"white\", \"linecolor\": \"white\", \"ticks\": \"\", \"title\": {\"standoff\": 15}, \"zerolinecolor\": \"white\", \"zerolinewidth\": 2}, \"yaxis\": {\"automargin\": true, \"gridcolor\": \"white\", \"linecolor\": \"white\", \"ticks\": \"\", \"title\": {\"standoff\": 15}, \"zerolinecolor\": \"white\", \"zerolinewidth\": 2}}}, \"xaxis\": {\"anchor\": \"y\", \"domain\": [0.0, 1.0], \"title\": {\"text\": \"Price\"}}, \"yaxis\": {\"anchor\": \"x\", \"domain\": [0.0, 1.0], \"title\": {\"text\": \"count\"}}},\n",
              "                        {\"responsive\": true}\n",
              "                    ).then(function(){\n",
              "                            \n",
              "var gd = document.getElementById('2209635f-2402-4a52-b463-28381f44e668');\n",
              "var x = new MutationObserver(function (mutations, observer) {{\n",
              "        var display = window.getComputedStyle(gd).display;\n",
              "        if (!display || display === 'none') {{\n",
              "            console.log([gd, 'removed!']);\n",
              "            Plotly.purge(gd);\n",
              "            observer.disconnect();\n",
              "        }}\n",
              "}});\n",
              "\n",
              "// Listen for the removal of the full notebook cells\n",
              "var notebookContainer = gd.closest('#notebook-container');\n",
              "if (notebookContainer) {{\n",
              "    x.observe(notebookContainer, {childList: true});\n",
              "}}\n",
              "\n",
              "// Listen for the clearing of the current output cell\n",
              "var outputEl = gd.closest('.output');\n",
              "if (outputEl) {{\n",
              "    x.observe(outputEl, {childList: true});\n",
              "}}\n",
              "\n",
              "                        })\n",
              "                };\n",
              "                \n",
              "            </script>\n",
              "        </div>\n",
              "</body>\n",
              "</html>"
            ]
          },
          "metadata": {
            "tags": []
          }
        }
      ]
    },
    {
      "cell_type": "code",
      "metadata": {
        "colab": {
          "base_uri": "https://localhost:8080/",
          "height": 542
        },
        "id": "hEsxBzWVisHU",
        "outputId": "e92d1402-bd67-42ae-fcb4-cd17b9fa73da"
      },
      "source": [
        "px.histogram(df1,x='Parking')\n"
      ],
      "execution_count": 20,
      "outputs": [
        {
          "output_type": "display_data",
          "data": {
            "text/html": [
              "<html>\n",
              "<head><meta charset=\"utf-8\" /></head>\n",
              "<body>\n",
              "    <div>\n",
              "            <script src=\"https://cdnjs.cloudflare.com/ajax/libs/mathjax/2.7.5/MathJax.js?config=TeX-AMS-MML_SVG\"></script><script type=\"text/javascript\">if (window.MathJax) {MathJax.Hub.Config({SVG: {font: \"STIX-Web\"}});}</script>\n",
              "                <script type=\"text/javascript\">window.PlotlyConfig = {MathJaxConfig: 'local'};</script>\n",
              "        <script src=\"https://cdn.plot.ly/plotly-latest.min.js\"></script>    \n",
              "            <div id=\"d4264c62-7770-4139-90dc-363912fe38c3\" class=\"plotly-graph-div\" style=\"height:525px; width:100%;\"></div>\n",
              "            <script type=\"text/javascript\">\n",
              "                \n",
              "                    window.PLOTLYENV=window.PLOTLYENV || {};\n",
              "                    \n",
              "                if (document.getElementById(\"d4264c62-7770-4139-90dc-363912fe38c3\")) {\n",
              "                    Plotly.newPlot(\n",
              "                        'd4264c62-7770-4139-90dc-363912fe38c3',\n",
              "                        [{\"alignmentgroup\": \"True\", \"bingroup\": \"x\", \"hoverlabel\": {\"namelength\": 0}, \"hovertemplate\": \"Parking=%{x}<br>count=%{y}\", \"legendgroup\": \"\", \"marker\": {\"color\": \"#636efa\"}, \"name\": \"\", \"offsetgroup\": \"\", \"orientation\": \"v\", \"showlegend\": false, \"type\": \"histogram\", \"x\": [1.0, 1.0, 1.0, 1.0, 1.0, 1.0, 1.0, 1.0, 1.0, 1.0, 1.0, 1.0, 1.0, 1.0, 1.0, 1.0, 1.0, 1.0, 1.0, 1.0, 1.0, 5.0, 2.0, 1.0, 1.0, 1.0, 1.0, 1.0, 1.0, 1.0, 1.0, 1.0, 1.0, 1.0, 2.0, 1.0, 1.0, 1.0, 4.0, 1.0, 1.0, 1.0, 1.0, 1.0, 1.0, 2.0, 2.0, 1.0, 1.0, 2.0, 2.0, 2.0, 2.0, 2.0, 1.0, 1.0, 1.0, 1.0, 1.0, 2.0, 2.0, 1.0, 1.0, 1.0, 1.0, 1.0, 1.0, 1.0, 2.0, 1.0, 1.0, 1.0, 1.0, 1.0, 1.0, 1.0, 1.0, 1.0, 1.0, 1.0, 1.0, 2.0, 2.0, 1.0, 1.0, 1.0, 1.0, 1.0, 1.0, 2.0, 2.0, 2.0, 1.0, 1.0, 1.0, 1.0, 1.0, 1.0, 2.0, 1.0, 1.0, 2.0, 1.0, 1.0, 1.0, 1.0, 1.0, 2.0, 2.0, 1.0, 1.0, 2.0, 1.0, 1.0, 1.0, 2.0, 1.0, 4.0, 2.0, 2.0, 2.0, 1.0, 2.0, 2.0, 2.0, 2.0, 2.0, 2.0, 2.0, 1.0, 1.0, 1.0, 1.0, 1.0, 1.0, 1.0, 1.0, 1.0, 1.0, 1.0, 1.0, 1.0, 1.0, 1.0, 1.0, 1.0, 1.0, 1.0, 1.0, 1.0, 1.0, 1.0, 1.0, 1.0, 1.0, 1.0, 1.0, 1.0, 1.0, 1.0, 1.0, 1.0, 1.0, 1.0, 1.0, 2.0, 1.0, 1.0, 1.0, 1.0, 1.0, 1.0, 1.0, 1.0, 1.0, 1.0, 1.0, 1.0, 1.0, 1.0, 1.0, 1.0, 1.0, 1.0, 1.0, 1.0, 1.0, 1.0, 1.0, 1.0, 1.0, 1.0, 1.0, 1.0, 1.0, 1.0, 1.0, 1.0, 1.0, 1.0, 1.0, 1.0, 1.0, 1.0, 1.0, 1.0, 1.0, 1.0, 1.0, 1.0, 1.0, 1.0, 1.0, 4.0, 1.0, 2.0, 1.0, 1.0, 1.0, 1.0, 2.0, 1.0, 2.0, 1.0, 1.0, 1.0, 1.0, 2.0, 2.0, 2.0, 9.0, 2.0, 2.0, 2.0, 2.0, 2.0, 3.0, 1.0, 2.0, 2.0, 2.0, 2.0, 2.0, 4.0, 2.0, 2.0, 2.0, 1.0, 3.0, 2.0, 1.0, 2.0, 2.0, 2.0, 2.0, 2.0, 2.0, 1.0, 2.0, 2.0, 1.0, 2.0, 1.0, 3.0, 3.0, 3.0, 3.0, 3.0, 3.0, 2.0, 2.0, 1.0, 1.0, 2.0, 2.0, 1.0, 1.0, 2.0, 2.0, 1.0, 2.0, 1.0, 2.0, 2.0, 2.0, 2.0, 4.0, 1.0, 1.0, 2.0, 1.0, 1.0, 1.0, 1.0, 1.0, 1.0, 1.0, 1.0, 1.0, 1.0, 2.0, 2.0, 1.0, 1.0, 1.0, 1.0, 1.0, 1.0, 1.0, 1.0, 1.0, 1.0, 1.0, 1.0, 1.0, 1.0, 4.0, 1.0, 1.0, 1.0, 1.0, 1.0, 1.0, 1.0, 1.0, 1.0, 1.0, 1.0, 1.0, 1.0, 1.0, 1.0, 1.0, 1.0, 1.0, 1.0, 1.0, 1.0, 1.0, 1.0, 1.0, 1.0, 2.0, 2.0, 2.0, 2.0, 1.0, 1.0, 1.0, 1.0, 1.0, 1.0, 1.0, 1.0, 1.0, 1.0, 2.0, 2.0, 2.0, 2.0, 2.0, 2.0, 2.0, 1.0, 1.0, 1.0, 1.0, 1.0, 1.0, 1.0, 1.0, 1.0, 1.0, 1.0, 1.0, 1.0, 1.0, 1.0, 1.0, 1.0, 1.0, 1.0, 1.0, 1.0, 1.0, 1.0, 1.0, 1.0, 1.0, 1.0, 1.0, 1.0, 1.0, 1.0, 1.0, 1.0, 1.0, 1.0, 1.0, 1.0, 1.0, 1.0, 1.0, 1.0, 1.0, 1.0, 1.0, 3.0, 1.0, 3.0, 1.0, 2.0, 2.0, 2.0, 2.0, 2.0, 2.0, 2.0, 3.0, 3.0, 1.0, 1.0, 1.0, 1.0, 1.0, 1.0, 1.0, 1.0, 1.0, 1.0, 2.0, 1.0, 1.0, 2.0, 2.0, 2.0, 1.0, 1.0, 1.0, 1.0, 1.0, 2.0, 2.0, 2.0, 2.0, 1.0, 1.0, 1.0, 1.0, 1.0, 2.0, 2.0, 2.0, 3.0, 1.0, 1.0, 1.0, 1.0, 5.0, 2.0, 1.0, 1.0, 1.0, 1.0, 1.0, 1.0, 1.0, 1.0, 1.0, 1.0, 1.0, 1.0, 1.0, 1.0, 1.0, 1.0, 1.0, 1.0, 1.0, 1.0, 1.0, 1.0, 1.0, 1.0, 2.0, 1.0, 1.0, 3.0, 4.0, 1.0, 1.0, 3.0, 2.0, 1.0, 2.0, 1.0, 1.0, 1.0, 2.0, 3.0, 1.0, 2.0, 2.0, 1.0, 2.0, 2.0, 2.0, 2.0, 1.0, 1.0, 1.0, 2.0, 2.0, 1.0, 1.0, 1.0, 4.0, 3.0, 2.0, 1.0, 2.0, 1.0, 1.0, 1.0, 1.0, 1.0, 1.0, 1.0, 2.0, 1.0, 1.0, 1.0, 1.0, 3.0, 2.0, 1.0, 2.0, 1.0, 2.0, 3.0, 1.0, 3.0, 1.0, 3.0, 1.0, 1.0, 1.0, 1.0, 1.0, 1.0, 1.0, 1.0, 1.0, 1.0, 1.0, 1.0, 2.0, 2.0, 2.0, 2.0, 2.0, 1.0, 1.0, 1.0, 1.0, 1.0, 1.0, 1.0, 1.0, 1.0, 1.0, 1.0, 1.0, 2.0, 1.0, 1.0, 1.0, 1.0, 1.0, 1.0, 1.0, 1.0, 1.0, 1.0, 1.0, 1.0, 1.0, 1.0, 1.0, 1.0, 1.0, 1.0, 1.0, 1.0, 1.0, 1.0, 1.0, 1.0, 1.0, 1.0, 1.0, 1.0, 1.0, 1.0, 1.0, 3.0, 3.0, 3.0, 3.0, 2.0, 3.0, 2.0, 2.0, 2.0, 2.0, 2.0, 2.0, 2.0, 2.0, 1.0, 3.0, 3.0, 2.0, 2.0, 3.0, 3.0, 3.0, 2.0, 3.0, 3.0, 3.0, 2.0, 2.0, 2.0, 1.0, 2.0, 2.0, 2.0, 2.0, 2.0, 2.0, 2.0, 2.0, 1.0, 1.0, 2.0, 1.0, 1.0, 2.0, 2.0, 2.0, 2.0, 2.0, 2.0, 2.0, 1.0, 1.0, 1.0, 1.0, 1.0, 1.0, 1.0, 1.0, 1.0, 2.0, 2.0, 1.0, 2.0, 2.0, 2.0, 2.0, 2.0, 2.0, 2.0, 2.0, 2.0, 2.0, 2.0, 2.0, 2.0, 2.0, 2.0, 2.0, 2.0, 2.0, 2.0, 2.0, 2.0, 2.0, 1.0, 1.0, 1.0, 2.0, 1.0, 1.0, 1.0, 1.0, 1.0, 1.0, 1.0, 1.0, 1.0, 1.0, 1.0, 1.0, 1.0, 1.0, 1.0, 1.0, 1.0, 1.0, 1.0, 1.0, 1.0, 1.0, 1.0, 1.0, 1.0, 1.0, 1.0, 1.0, 1.0, 1.0, 1.0, 1.0, 2.0, 2.0, 1.0, 1.0, 1.0, 1.0, 4.0, 4.0, 4.0, 1.0, 1.0, 1.0, 1.0, 1.0, 1.0, 1.0, 1.0, 1.0, 1.0, 1.0, 2.0, 1.0, 1.0, 1.0, 4.0, 1.0, 1.0, 1.0, 1.0, 1.0, 1.0, 1.0, 1.0, 1.0, 1.0, 1.0, 2.0, 2.0, 2.0, 2.0, 5.0, 5.0, 1.0, 1.0, 1.0, 1.0, 1.0, 1.0, 1.0, 1.0, 1.0, 1.0, 1.0, 1.0, 1.0, 1.0, 1.0, 1.0, 1.0, 1.0, 1.0, 1.0, 1.0, 1.0, 1.0, 1.0, 1.0, 1.0, 1.0, 1.0, 1.0, 1.0, 1.0, 1.0, 1.0, 1.0, 1.0, 1.0, 1.0, 1.0, 1.0, 1.0, 1.0, 1.0, 1.0, 1.0, 1.0, 2.0, 2.0, 2.0, 1.0, 3.0, 3.0, 39.0, 39.0, 39.0, 39.0, 39.0, 39.0, 39.0, 1.0, 1.0, 1.0, 1.0, 1.0, 1.0, 1.0, 1.0, 1.0, 1.0, 1.0, 1.0, 1.0, 1.0, 1.0, 1.0, 1.0, 1.0, 2.0, 3.0, 4.0, 2.0, 2.0, 2.0, 2.0, 2.0, 3.0, 1.0, 2.0, 1.0, 1.0, 1.0, 1.0, 2.0, 3.0, 3.0, 2.0, 2.0, 2.0, 1.0, 1.0, 2.0, 2.0, 2.0, 2.0, 1.0, 2.0, 1.0, 1.0, 1.0, 1.0, 1.0, 2.0, 1.0, 2.0, 1.0, 1.0, 1.0, 1.0, 10.0, 2.0, 2.0, 2.0, 1.0, 1.0, 1.0, 1.0, 1.0, 1.0, 1.0, 1.0, 1.0, 1.0, 1.0, 1.0, 1.0, 1.0, 1.0, 1.0, 1.0, 2.0, 1.0, 1.0, 1.0, 2.0, 1.0, 1.0, 114.0, 114.0, 114.0, 1.0, 1.0, 1.0, 1.0, 1.0, 1.0, 1.0, 1.0, 2.0, 1.0, 1.0, 1.0, 1.0, 1.0, 2.0, 1.0, 1.0, 2.0, 2.0, 1.0, 1.0, 1.0, 2.0, 1.0, 1.0, 2.0, 2.0, 2.0, 2.0, 1.0, 1.0, 2.0, 1.0, 1.0, 1.0, 1.0, 2.0, 2.0, 2.0, 2.0, 2.0, 1.0, 1.0, 1.0, 1.0, 3.0, 1.0, 1.0, 2.0, 1.0, 1.0, 1.0, 1.0, 1.0, 1.0, 1.0, 3.0, 2.0, 2.0, 2.0, 1.0, 1.0, 1.0, 1.0, 1.0, 1.0, 1.0, 1.0, 1.0, 1.0, 1.0, 1.0, 2.0, 1.0, 1.0, 1.0, 2.0, 1.0, 3.0, 2.0, 2.0, 2.0, 2.0, 2.0, 1.0, 1.0, 1.0, 1.0, 2.0, 2.0, 2.0, 1.0, 1.0, 2.0, 1.0, 2.0, 2.0, 2.0, 2.0, 1.0, 3.0, 3.0, 2.0, 2.0, 2.0, 2.0, 1.0, 1.0, 1.0, 1.0, 2.0, 2.0, 2.0, 1.0, 1.0, 1.0, 1.0, 1.0, 1.0, 1.0, 2.0, 2.0, 2.0, 1.0, 1.0, 1.0, 1.0, 2.0, 2.0, 2.0, 1.0, 2.0, 2.0, 2.0, 2.0, 2.0, 2.0, 2.0, 2.0, 1.0, 4.0, 1.0, 1.0, 2.0, 2.0, 1.0, 2.0, 2.0, 2.0, 2.0, 2.0, 2.0, 1.0, 1.0, 1.0, 3.0, 1.0, 1.0, 1.0, 2.0, 1.0, 1.0, 1.0, 1.0, 1.0, 1.0, 1.0, 1.0, 2.0, 1.0, 1.0, 1.0, 2.0, 2.0, 2.0, 2.0, 2.0, 1.0, 2.0, 2.0, 2.0, 2.0, 1.0, 2.0, 1.0, 1.0, 1.0, 1.0, 2.0, 1.0, 1.0, 1.0, 1.0, 1.0, 1.0, 1.0, 2.0, 2.0, 3.0, 2.0, 2.0, 2.0, 2.0, 2.0, 2.0, 2.0, 3.0, 2.0, 2.0, 2.0, 1.0, 2.0, 3.0, 2.0, 2.0, 3.0, 1.0, 1.0, 1.0, 1.0, 2.0, 1.0, 1.0, 2.0, 1.0, 1.0, 1.0, 2.0, 3.0, 2.0, 1.0, 1.0, 1.0, 1.0, 1.0, 1.0, 1.0, 5.0, 5.0, 5.0, 1.0, 2.0, 2.0, 2.0, 2.0, 2.0, 2.0, 1.0, 1.0, 1.0, 3.0, 3.0, 3.0, 1.0, 1.0], \"xaxis\": \"x\", \"yaxis\": \"y\"}],\n",
              "                        {\"barmode\": \"relative\", \"legend\": {\"tracegroupgap\": 0}, \"margin\": {\"t\": 60}, \"template\": {\"data\": {\"bar\": [{\"error_x\": {\"color\": \"#2a3f5f\"}, \"error_y\": {\"color\": \"#2a3f5f\"}, \"marker\": {\"line\": {\"color\": \"#E5ECF6\", \"width\": 0.5}}, \"type\": \"bar\"}], \"barpolar\": [{\"marker\": {\"line\": {\"color\": \"#E5ECF6\", \"width\": 0.5}}, \"type\": \"barpolar\"}], \"carpet\": [{\"aaxis\": {\"endlinecolor\": \"#2a3f5f\", \"gridcolor\": \"white\", \"linecolor\": \"white\", \"minorgridcolor\": \"white\", \"startlinecolor\": \"#2a3f5f\"}, \"baxis\": {\"endlinecolor\": \"#2a3f5f\", \"gridcolor\": \"white\", \"linecolor\": \"white\", \"minorgridcolor\": \"white\", \"startlinecolor\": \"#2a3f5f\"}, \"type\": \"carpet\"}], \"choropleth\": [{\"colorbar\": {\"outlinewidth\": 0, \"ticks\": \"\"}, \"type\": \"choropleth\"}], \"contour\": [{\"colorbar\": {\"outlinewidth\": 0, \"ticks\": \"\"}, \"colorscale\": [[0.0, \"#0d0887\"], [0.1111111111111111, \"#46039f\"], [0.2222222222222222, \"#7201a8\"], [0.3333333333333333, \"#9c179e\"], [0.4444444444444444, \"#bd3786\"], [0.5555555555555556, \"#d8576b\"], [0.6666666666666666, \"#ed7953\"], [0.7777777777777778, \"#fb9f3a\"], [0.8888888888888888, \"#fdca26\"], [1.0, \"#f0f921\"]], \"type\": \"contour\"}], \"contourcarpet\": [{\"colorbar\": {\"outlinewidth\": 0, \"ticks\": \"\"}, \"type\": \"contourcarpet\"}], \"heatmap\": [{\"colorbar\": {\"outlinewidth\": 0, \"ticks\": \"\"}, \"colorscale\": [[0.0, \"#0d0887\"], [0.1111111111111111, \"#46039f\"], [0.2222222222222222, \"#7201a8\"], [0.3333333333333333, \"#9c179e\"], [0.4444444444444444, \"#bd3786\"], [0.5555555555555556, \"#d8576b\"], [0.6666666666666666, \"#ed7953\"], [0.7777777777777778, \"#fb9f3a\"], [0.8888888888888888, \"#fdca26\"], [1.0, \"#f0f921\"]], \"type\": \"heatmap\"}], \"heatmapgl\": [{\"colorbar\": {\"outlinewidth\": 0, \"ticks\": \"\"}, \"colorscale\": [[0.0, \"#0d0887\"], [0.1111111111111111, \"#46039f\"], [0.2222222222222222, \"#7201a8\"], [0.3333333333333333, \"#9c179e\"], [0.4444444444444444, \"#bd3786\"], [0.5555555555555556, \"#d8576b\"], [0.6666666666666666, \"#ed7953\"], [0.7777777777777778, \"#fb9f3a\"], [0.8888888888888888, \"#fdca26\"], [1.0, \"#f0f921\"]], \"type\": \"heatmapgl\"}], \"histogram\": [{\"marker\": {\"colorbar\": {\"outlinewidth\": 0, \"ticks\": \"\"}}, \"type\": \"histogram\"}], \"histogram2d\": [{\"colorbar\": {\"outlinewidth\": 0, \"ticks\": \"\"}, \"colorscale\": [[0.0, \"#0d0887\"], [0.1111111111111111, \"#46039f\"], [0.2222222222222222, \"#7201a8\"], [0.3333333333333333, \"#9c179e\"], [0.4444444444444444, \"#bd3786\"], [0.5555555555555556, \"#d8576b\"], [0.6666666666666666, \"#ed7953\"], [0.7777777777777778, \"#fb9f3a\"], [0.8888888888888888, \"#fdca26\"], [1.0, \"#f0f921\"]], \"type\": \"histogram2d\"}], \"histogram2dcontour\": [{\"colorbar\": {\"outlinewidth\": 0, \"ticks\": \"\"}, \"colorscale\": [[0.0, \"#0d0887\"], [0.1111111111111111, \"#46039f\"], [0.2222222222222222, \"#7201a8\"], [0.3333333333333333, \"#9c179e\"], [0.4444444444444444, \"#bd3786\"], [0.5555555555555556, \"#d8576b\"], [0.6666666666666666, \"#ed7953\"], [0.7777777777777778, \"#fb9f3a\"], [0.8888888888888888, \"#fdca26\"], [1.0, \"#f0f921\"]], \"type\": \"histogram2dcontour\"}], \"mesh3d\": [{\"colorbar\": {\"outlinewidth\": 0, \"ticks\": \"\"}, \"type\": \"mesh3d\"}], \"parcoords\": [{\"line\": {\"colorbar\": {\"outlinewidth\": 0, \"ticks\": \"\"}}, \"type\": \"parcoords\"}], \"pie\": [{\"automargin\": true, \"type\": \"pie\"}], \"scatter\": [{\"marker\": {\"colorbar\": {\"outlinewidth\": 0, \"ticks\": \"\"}}, \"type\": \"scatter\"}], \"scatter3d\": [{\"line\": {\"colorbar\": {\"outlinewidth\": 0, \"ticks\": \"\"}}, \"marker\": {\"colorbar\": {\"outlinewidth\": 0, \"ticks\": \"\"}}, \"type\": \"scatter3d\"}], \"scattercarpet\": [{\"marker\": {\"colorbar\": {\"outlinewidth\": 0, \"ticks\": \"\"}}, \"type\": \"scattercarpet\"}], \"scattergeo\": [{\"marker\": {\"colorbar\": {\"outlinewidth\": 0, \"ticks\": \"\"}}, \"type\": \"scattergeo\"}], \"scattergl\": [{\"marker\": {\"colorbar\": {\"outlinewidth\": 0, \"ticks\": \"\"}}, \"type\": \"scattergl\"}], \"scattermapbox\": [{\"marker\": {\"colorbar\": {\"outlinewidth\": 0, \"ticks\": \"\"}}, \"type\": \"scattermapbox\"}], \"scatterpolar\": [{\"marker\": {\"colorbar\": {\"outlinewidth\": 0, \"ticks\": \"\"}}, \"type\": \"scatterpolar\"}], \"scatterpolargl\": [{\"marker\": {\"colorbar\": {\"outlinewidth\": 0, \"ticks\": \"\"}}, \"type\": \"scatterpolargl\"}], \"scatterternary\": [{\"marker\": {\"colorbar\": {\"outlinewidth\": 0, \"ticks\": \"\"}}, \"type\": \"scatterternary\"}], \"surface\": [{\"colorbar\": {\"outlinewidth\": 0, \"ticks\": \"\"}, \"colorscale\": [[0.0, \"#0d0887\"], [0.1111111111111111, \"#46039f\"], [0.2222222222222222, \"#7201a8\"], [0.3333333333333333, \"#9c179e\"], [0.4444444444444444, \"#bd3786\"], [0.5555555555555556, \"#d8576b\"], [0.6666666666666666, \"#ed7953\"], [0.7777777777777778, \"#fb9f3a\"], [0.8888888888888888, \"#fdca26\"], [1.0, \"#f0f921\"]], \"type\": \"surface\"}], \"table\": [{\"cells\": {\"fill\": {\"color\": \"#EBF0F8\"}, \"line\": {\"color\": \"white\"}}, \"header\": {\"fill\": {\"color\": \"#C8D4E3\"}, \"line\": {\"color\": \"white\"}}, \"type\": \"table\"}]}, \"layout\": {\"annotationdefaults\": {\"arrowcolor\": \"#2a3f5f\", \"arrowhead\": 0, \"arrowwidth\": 1}, \"coloraxis\": {\"colorbar\": {\"outlinewidth\": 0, \"ticks\": \"\"}}, \"colorscale\": {\"diverging\": [[0, \"#8e0152\"], [0.1, \"#c51b7d\"], [0.2, \"#de77ae\"], [0.3, \"#f1b6da\"], [0.4, \"#fde0ef\"], [0.5, \"#f7f7f7\"], [0.6, \"#e6f5d0\"], [0.7, \"#b8e186\"], [0.8, \"#7fbc41\"], [0.9, \"#4d9221\"], [1, \"#276419\"]], \"sequential\": [[0.0, \"#0d0887\"], [0.1111111111111111, \"#46039f\"], [0.2222222222222222, \"#7201a8\"], [0.3333333333333333, \"#9c179e\"], [0.4444444444444444, \"#bd3786\"], [0.5555555555555556, \"#d8576b\"], [0.6666666666666666, \"#ed7953\"], [0.7777777777777778, \"#fb9f3a\"], [0.8888888888888888, \"#fdca26\"], [1.0, \"#f0f921\"]], \"sequentialminus\": [[0.0, \"#0d0887\"], [0.1111111111111111, \"#46039f\"], [0.2222222222222222, \"#7201a8\"], [0.3333333333333333, \"#9c179e\"], [0.4444444444444444, \"#bd3786\"], [0.5555555555555556, \"#d8576b\"], [0.6666666666666666, \"#ed7953\"], [0.7777777777777778, \"#fb9f3a\"], [0.8888888888888888, \"#fdca26\"], [1.0, \"#f0f921\"]]}, \"colorway\": [\"#636efa\", \"#EF553B\", \"#00cc96\", \"#ab63fa\", \"#FFA15A\", \"#19d3f3\", \"#FF6692\", \"#B6E880\", \"#FF97FF\", \"#FECB52\"], \"font\": {\"color\": \"#2a3f5f\"}, \"geo\": {\"bgcolor\": \"white\", \"lakecolor\": \"white\", \"landcolor\": \"#E5ECF6\", \"showlakes\": true, \"showland\": true, \"subunitcolor\": \"white\"}, \"hoverlabel\": {\"align\": \"left\"}, \"hovermode\": \"closest\", \"mapbox\": {\"style\": \"light\"}, \"paper_bgcolor\": \"white\", \"plot_bgcolor\": \"#E5ECF6\", \"polar\": {\"angularaxis\": {\"gridcolor\": \"white\", \"linecolor\": \"white\", \"ticks\": \"\"}, \"bgcolor\": \"#E5ECF6\", \"radialaxis\": {\"gridcolor\": \"white\", \"linecolor\": \"white\", \"ticks\": \"\"}}, \"scene\": {\"xaxis\": {\"backgroundcolor\": \"#E5ECF6\", \"gridcolor\": \"white\", \"gridwidth\": 2, \"linecolor\": \"white\", \"showbackground\": true, \"ticks\": \"\", \"zerolinecolor\": \"white\"}, \"yaxis\": {\"backgroundcolor\": \"#E5ECF6\", \"gridcolor\": \"white\", \"gridwidth\": 2, \"linecolor\": \"white\", \"showbackground\": true, \"ticks\": \"\", \"zerolinecolor\": \"white\"}, \"zaxis\": {\"backgroundcolor\": \"#E5ECF6\", \"gridcolor\": \"white\", \"gridwidth\": 2, \"linecolor\": \"white\", \"showbackground\": true, \"ticks\": \"\", \"zerolinecolor\": \"white\"}}, \"shapedefaults\": {\"line\": {\"color\": \"#2a3f5f\"}}, \"ternary\": {\"aaxis\": {\"gridcolor\": \"white\", \"linecolor\": \"white\", \"ticks\": \"\"}, \"baxis\": {\"gridcolor\": \"white\", \"linecolor\": \"white\", \"ticks\": \"\"}, \"bgcolor\": \"#E5ECF6\", \"caxis\": {\"gridcolor\": \"white\", \"linecolor\": \"white\", \"ticks\": \"\"}}, \"title\": {\"x\": 0.05}, \"xaxis\": {\"automargin\": true, \"gridcolor\": \"white\", \"linecolor\": \"white\", \"ticks\": \"\", \"title\": {\"standoff\": 15}, \"zerolinecolor\": \"white\", \"zerolinewidth\": 2}, \"yaxis\": {\"automargin\": true, \"gridcolor\": \"white\", \"linecolor\": \"white\", \"ticks\": \"\", \"title\": {\"standoff\": 15}, \"zerolinecolor\": \"white\", \"zerolinewidth\": 2}}}, \"xaxis\": {\"anchor\": \"y\", \"domain\": [0.0, 1.0], \"title\": {\"text\": \"Parking\"}}, \"yaxis\": {\"anchor\": \"x\", \"domain\": [0.0, 1.0], \"title\": {\"text\": \"count\"}}},\n",
              "                        {\"responsive\": true}\n",
              "                    ).then(function(){\n",
              "                            \n",
              "var gd = document.getElementById('d4264c62-7770-4139-90dc-363912fe38c3');\n",
              "var x = new MutationObserver(function (mutations, observer) {{\n",
              "        var display = window.getComputedStyle(gd).display;\n",
              "        if (!display || display === 'none') {{\n",
              "            console.log([gd, 'removed!']);\n",
              "            Plotly.purge(gd);\n",
              "            observer.disconnect();\n",
              "        }}\n",
              "}});\n",
              "\n",
              "// Listen for the removal of the full notebook cells\n",
              "var notebookContainer = gd.closest('#notebook-container');\n",
              "if (notebookContainer) {{\n",
              "    x.observe(notebookContainer, {childList: true});\n",
              "}}\n",
              "\n",
              "// Listen for the clearing of the current output cell\n",
              "var outputEl = gd.closest('.output');\n",
              "if (outputEl) {{\n",
              "    x.observe(outputEl, {childList: true});\n",
              "}}\n",
              "\n",
              "                        })\n",
              "                };\n",
              "                \n",
              "            </script>\n",
              "        </div>\n",
              "</body>\n",
              "</html>"
            ]
          },
          "metadata": {
            "tags": []
          }
        }
      ]
    },
    {
      "cell_type": "code",
      "metadata": {
        "colab": {
          "base_uri": "https://localhost:8080/",
          "height": 542
        },
        "id": "6nEG5DSjixeH",
        "outputId": "496d999a-1e54-4b68-ffb1-fe9b40c91b3a"
      },
      "source": [
        "px.histogram(df1,x='Bathroom')\n"
      ],
      "execution_count": 21,
      "outputs": [
        {
          "output_type": "display_data",
          "data": {
            "text/html": [
              "<html>\n",
              "<head><meta charset=\"utf-8\" /></head>\n",
              "<body>\n",
              "    <div>\n",
              "            <script src=\"https://cdnjs.cloudflare.com/ajax/libs/mathjax/2.7.5/MathJax.js?config=TeX-AMS-MML_SVG\"></script><script type=\"text/javascript\">if (window.MathJax) {MathJax.Hub.Config({SVG: {font: \"STIX-Web\"}});}</script>\n",
              "                <script type=\"text/javascript\">window.PlotlyConfig = {MathJaxConfig: 'local'};</script>\n",
              "        <script src=\"https://cdn.plot.ly/plotly-latest.min.js\"></script>    \n",
              "            <div id=\"7d69183b-25bb-414d-b1ee-ca99828b8511\" class=\"plotly-graph-div\" style=\"height:525px; width:100%;\"></div>\n",
              "            <script type=\"text/javascript\">\n",
              "                \n",
              "                    window.PLOTLYENV=window.PLOTLYENV || {};\n",
              "                    \n",
              "                if (document.getElementById(\"7d69183b-25bb-414d-b1ee-ca99828b8511\")) {\n",
              "                    Plotly.newPlot(\n",
              "                        '7d69183b-25bb-414d-b1ee-ca99828b8511',\n",
              "                        [{\"alignmentgroup\": \"True\", \"bingroup\": \"x\", \"hoverlabel\": {\"namelength\": 0}, \"hovertemplate\": \"Bathroom=%{x}<br>count=%{y}\", \"legendgroup\": \"\", \"marker\": {\"color\": \"#636efa\"}, \"name\": \"\", \"offsetgroup\": \"\", \"orientation\": \"v\", \"showlegend\": false, \"type\": \"histogram\", \"x\": [2.0, 2.0, 2.0, 2.0, 2.0, 3.0, 3.0, 2.0, 3.0, 4.0, 2.0, 2.0, 2.0, 2.0, 2.0, 2.0, 2.0, 3.0, 3.0, 2.0, 2.0, 2.0, 1.0, 2.0, 2.0, 3.0, 2.0, 1.0, 2.0, 4.0, 2.0, 2.0, 2.0, 2.0, 3.0, 2.0, 2.0, 4.0, 3.0, 3.0, 2.0, 3.0, 2.0, 2.0, 2.0, 3.0, 2.0, 3.0, 2.0, 4.0, 2.0, 3.0, 3.0, 3.0, 3.0, 2.0, 5.0, 2.0, 3.0, 1.0, 1.0, 2.0, 4.0, 2.0, 2.0, 3.0, 1.0, 2.0, 2.0, 3.0, 4.0, 3.0, 3.0, 4.0, 2.0, 2.0, 3.0, 3.0, 3.0, 2.0, 4.0, 2.0, 3.0, 2.0, 2.0, 1.0, 2.0, 3.0, 1.0, 3.0, 3.0, 4.0, 3.0, 3.0, 3.0, 3.0, 3.0, 3.0, 3.0, 3.0, 5.0, 4.0, 3.0, 3.0, 3.0, 2.0, 5.0, 3.0, 3.0, 3.0, 3.0, 3.0, 3.0, 3.0, 3.0, 3.0, 2.0, 2.0, 3.0, 2.0, 2.0, 3.0, 3.0, 3.0, 2.0, 3.0, 2.0, 2.0, 2.0, 2.0, 3.0, 2.0, 3.0, 2.0, 2.0, 2.0, 2.0, 3.0, 2.0, 2.0, 3.0, 2.0, 3.0, 1.0, 2.0, 1.0, 2.0, 2.0, 2.0, 1.0, 2.0, 1.0, 1.0, 2.0, 1.0, 4.0, 3.0, 4.0, 2.0, 3.0, 2.0, 2.0, 3.0, 3.0, 2.0, 4.0, 2.0, 2.0, 2.0, 4.0, 4.0, 2.0, 2.0, 1.0, 2.0, 2.0, 1.0, 2.0, 3.0, 3.0, 2.0, 1.0, 2.0, 3.0, 2.0, 2.0, 2.0, 3.0, 4.0, 1.0, 2.0, 2.0, 2.0, 1.0, 2.0, 4.0, 4.0, 2.0, 2.0, 2.0, 2.0, 4.0, 4.0, 2.0, 2.0, 1.0, 4.0, 2.0, 2.0, 2.0, 3.0, 2.0, 5.0, 6.0, 2.0, 3.0, 3.0, 2.0, 3.0, 2.0, 3.0, 2.0, 4.0, 3.0, 3.0, 2.0, 3.0, 4.0, 4.0, 4.0, 5.0, 4.0, 3.0, 3.0, 4.0, 4.0, 7.0, 4.0, 3.0, 4.0, 5.0, 5.0, 3.0, 5.0, 4.0, 5.0, 3.0, 3.0, 4.0, 4.0, 4.0, 4.0, 3.0, 5.0, 4.0, 4.0, 4.0, 4.0, 4.0, 4.0, 5.0, 4.0, 4.0, 4.0, 3.0, 4.0, 2.0, 5.0, 2.0, 4.0, 4.0, 3.0, 3.0, 5.0, 3.0, 3.0, 4.0, 4.0, 4.0, 3.0, 3.0, 2.0, 4.0, 3.0, 4.0, 5.0, 5.0, 2.0, 2.0, 3.0, 2.0, 2.0, 2.0, 3.0, 2.0, 2.0, 2.0, 2.0, 2.0, 2.0, 2.0, 2.0, 1.0, 1.0, 1.0, 1.0, 3.0, 2.0, 1.0, 3.0, 2.0, 2.0, 2.0, 3.0, 2.0, 1.0, 2.0, 2.0, 2.0, 1.0, 2.0, 1.0, 1.0, 2.0, 2.0, 1.0, 2.0, 1.0, 1.0, 2.0, 2.0, 3.0, 3.0, 4.0, 2.0, 3.0, 2.0, 2.0, 3.0, 2.0, 3.0, 5.0, 2.0, 1.0, 3.0, 2.0, 2.0, 2.0, 2.0, 2.0, 2.0, 1.0, 1.0, 2.0, 2.0, 2.0, 3.0, 1.0, 2.0, 3.0, 2.0, 2.0, 1.0, 2.0, 1.0, 1.0, 2.0, 2.0, 3.0, 2.0, 2.0, 1.0, 4.0, 2.0, 1.0, 2.0, 2.0, 2.0, 2.0, 2.0, 2.0, 2.0, 1.0, 1.0, 2.0, 2.0, 3.0, 2.0, 2.0, 2.0, 2.0, 2.0, 2.0, 1.0, 2.0, 2.0, 2.0, 1.0, 2.0, 1.0, 2.0, 2.0, 2.0, 3.0, 2.0, 2.0, 5.0, 2.0, 3.0, 4.0, 3.0, 3.0, 2.0, 2.0, 1.0, 2.0, 3.0, 3.0, 3.0, 3.0, 3.0, 2.0, 2.0, 3.0, 1.0, 3.0, 2.0, 1.0, 3.0, 1.0, 4.0, 2.0, 2.0, 2.0, 2.0, 3.0, 1.0, 2.0, 3.0, 2.0, 2.0, 2.0, 2.0, 2.0, 2.0, 2.0, 2.0, 4.0, 3.0, 2.0, 3.0, 2.0, 2.0, 2.0, 2.0, 2.0, 2.0, 2.0, 4.0, 3.0, 1.0, 1.0, 2.0, 1.0, 2.0, 3.0, 2.0, 4.0, 3.0, 2.0, 1.0, 1.0, 2.0, 1.0, 6.0, 2.0, 1.0, 1.0, 1.0, 3.0, 2.0, 2.0, 2.0, 2.0, 3.0, 2.0, 3.0, 4.0, 5.0, 3.0, 4.0, 5.0, 3.0, 2.0, 2.0, 2.0, 4.0, 3.0, 3.0, 3.0, 3.0, 4.0, 4.0, 3.0, 4.0, 3.0, 3.0, 4.0, 3.0, 2.0, 3.0, 3.0, 5.0, 4.0, 3.0, 3.0, 3.0, 4.0, 4.0, 2.0, 4.0, 3.0, 3.0, 2.0, 1.0, 1.0, 2.0, 4.0, 3.0, 4.0, 7.0, 3.0, 2.0, 4.0, 5.0, 3.0, 4.0, 2.0, 5.0, 4.0, 2.0, 5.0, 3.0, 4.0, 3.0, 2.0, 3.0, 3.0, 2.0, 3.0, 2.0, 2.0, 1.0, 3.0, 2.0, 3.0, 2.0, 2.0, 3.0, 2.0, 3.0, 2.0, 2.0, 3.0, 1.0, 2.0, 3.0, 3.0, 2.0, 3.0, 1.0, 3.0, 2.0, 2.0, 3.0, 3.0, 3.0, 3.0, 2.0, 2.0, 3.0, 3.0, 2.0, 2.0, 3.0, 2.0, 2.0, 2.0, 3.0, 3.0, 2.0, 2.0, 2.0, 2.0, 2.0, 3.0, 3.0, 2.0, 3.0, 2.0, 2.0, 2.0, 2.0, 3.0, 6.0, 5.0, 3.0, 3.0, 5.0, 4.0, 5.0, 4.0, 4.0, 3.0, 5.0, 3.0, 3.0, 4.0, 3.0, 3.0, 5.0, 6.0, 3.0, 4.0, 4.0, 5.0, 6.0, 2.0, 5.0, 5.0, 3.0, 3.0, 3.0, 3.0, 2.0, 2.0, 3.0, 3.0, 2.0, 3.0, 3.0, 2.0, 3.0, 2.0, 3.0, 3.0, 3.0, 2.0, 4.0, 2.0, 2.0, 2.0, 3.0, 2.0, 3.0, 2.0, 3.0, 2.0, 1.0, 2.0, 2.0, 2.0, 3.0, 3.0, 2.0, 4.0, 2.0, 2.0, 2.0, 3.0, 2.0, 2.0, 3.0, 2.0, 2.0, 2.0, 3.0, 2.0, 2.0, 2.0, 2.0, 2.0, 2.0, 2.0, 2.0, 2.0, 2.0, 2.0, 4.0, 3.0, 2.0, 2.0, 2.0, 2.0, 2.0, 3.0, 1.0, 3.0, 2.0, 2.0, 1.0, 2.0, 2.0, 1.0, 1.0, 1.0, 2.0, 2.0, 2.0, 2.0, 3.0, 2.0, 2.0, 3.0, 2.0, 3.0, 2.0, 2.0, 2.0, 2.0, 2.0, 1.0, 2.0, 2.0, 3.0, 4.0, 2.0, 2.0, 4.0, 2.0, 2.0, 3.0, 3.0, 2.0, 2.0, 2.0, 4.0, 2.0, 2.0, 2.0, 2.0, 2.0, 4.0, 2.0, 3.0, 1.0, 3.0, 2.0, 3.0, 2.0, 1.0, 3.0, 2.0, 1.0, 1.0, 2.0, 3.0, 1.0, 3.0, 3.0, 1.0, 3.0, 2.0, 3.0, 3.0, 3.0, 3.0, 2.0, 3.0, 3.0, 2.0, 1.0, 2.0, 1.0, 2.0, 1.0, 1.0, 1.0, 1.0, 2.0, 2.0, 2.0, 2.0, 3.0, 2.0, 2.0, 2.0, 2.0, 2.0, 1.0, 2.0, 2.0, 2.0, 2.0, 2.0, 2.0, 2.0, 1.0, 2.0, 1.0, 1.0, 2.0, 2.0, 2.0, 1.0, 1.0, 2.0, 2.0, 2.0, 1.0, 2.0, 2.0, 2.0, 1.0, 2.0, 1.0, 2.0, 1.0, 1.0, 1.0, 1.0, 1.0, 1.0, 1.0, 1.0, 1.0, 1.0, 1.0, 1.0, 1.0, 1.0, 3.0, 2.0, 2.0, 1.0, 2.0, 1.0, 1.0, 1.0, 1.0, 2.0, 1.0, 2.0, 3.0, 4.0, 5.0, 5.0, 4.0, 4.0, 2.0, 2.0, 5.0, 2.0, 2.0, 2.0, 4.0, 2.0, 2.0, 3.0, 2.0, 2.0, 4.0, 1.0, 2.0, 3.0, 5.0, 5.0, 2.0, 4.0, 3.0, 3.0, 3.0, 1.0, 1.0, 1.0, 1.0, 2.0, 2.0, 1.0, 2.0, 2.0, 1.0, 2.0, 2.0, 2.0, 1.0, 1.0, 1.0, 3.0, 1.0, 1.0, 1.0, 2.0, 2.0, 1.0, 1.0, 1.0, 2.0, 2.0, 2.0, 3.0, 2.0, 2.0, 3.0, 2.0, 2.0, 3.0, 2.0, 4.0, 2.0, 2.0, 2.0, 2.0, 2.0, 2.0, 3.0, 3.0, 2.0, 2.0, 2.0, 3.0, 3.0, 2.0, 2.0, 3.0, 2.0, 3.0, 3.0, 2.0, 3.0, 2.0, 3.0, 2.0, 2.0, 1.0, 1.0, 2.0, 4.0, 2.0, 2.0, 2.0, 2.0, 2.0, 2.0, 2.0, 2.0, 2.0, 2.0, 4.0, 3.0, 2.0, 5.0, 2.0, 1.0, 3.0, 1.0, 2.0, 2.0, 2.0, 2.0, 5.0, 4.0, 3.0, 3.0, 2.0, 4.0, 1.0, 2.0, 3.0, 2.0, 3.0, 7.0, 4.0, 3.0, 3.0, 2.0, 2.0, 3.0, 2.0, 1.0, 1.0, 2.0, 3.0, 2.0, 1.0, 2.0, 2.0, 3.0, 2.0, 3.0, 3.0, 5.0, 2.0, 5.0, 3.0, 5.0, 3.0, 2.0, 4.0, 3.0, 2.0, 2.0, 2.0, 2.0, 2.0, 5.0, 3.0, 3.0, 2.0, 4.0, 3.0, 5.0, 2.0, 5.0, 3.0, 5.0, 2.0, 2.0, 2.0, 2.0, 3.0, 3.0, 4.0, 2.0, 2.0, 3.0, 4.0, 1.0, 3.0, 2.0, 4.0, 2.0, 1.0, 2.0, 2.0, 2.0, 3.0, 2.0, 2.0, 3.0, 2.0, 2.0, 1.0, 3.0, 3.0, 2.0, 2.0, 2.0, 2.0, 3.0, 4.0, 3.0, 4.0, 3.0, 3.0, 3.0, 3.0, 3.0, 4.0, 3.0, 4.0, 4.0, 2.0, 3.0, 3.0, 5.0, 3.0, 5.0, 3.0, 1.0, 4.0, 2.0, 2.0, 3.0, 3.0, 4.0, 3.0, 1.0, 2.0, 2.0, 2.0, 2.0, 3.0, 3.0, 2.0, 1.0, 2.0, 3.0, 3.0, 2.0, 3.0, 2.0, 3.0, 3.0, 2.0, 2.0, 2.0, 2.0, 3.0, 3.0, 2.0, 2.0, 2.0, 3.0, 2.0, 2.0, 2.0, 2.0, 3.0, 2.0, 3.0, 4.0, 3.0, 5.0, 4.0, 3.0, 4.0, 3.0, 3.0, 4.0, 5.0, 5.0, 6.0, 3.0, 4.0, 2.0, 4.0, 4.0, 4.0, 4.0, 5.0, 3.0, 5.0, 4.0, 5.0, 4.0, 3.0, 4.0, 4.0, 3.0, 3.0, 3.0, 3.0, 5.0, 3.0, 3.0, 3.0, 3.0, 3.0, 3.0, 3.0, 2.0, 4.0, 1.0, 3.0, 2.0, 5.0, 4.0, 3.0, 3.0, 4.0, 3.0, 2.0, 3.0, 3.0, 5.0, 2.0, 3.0, 2.0, 3.0], \"xaxis\": \"x\", \"yaxis\": \"y\"}],\n",
              "                        {\"barmode\": \"relative\", \"legend\": {\"tracegroupgap\": 0}, \"margin\": {\"t\": 60}, \"template\": {\"data\": {\"bar\": [{\"error_x\": {\"color\": \"#2a3f5f\"}, \"error_y\": {\"color\": \"#2a3f5f\"}, \"marker\": {\"line\": {\"color\": \"#E5ECF6\", \"width\": 0.5}}, \"type\": \"bar\"}], \"barpolar\": [{\"marker\": {\"line\": {\"color\": \"#E5ECF6\", \"width\": 0.5}}, \"type\": \"barpolar\"}], \"carpet\": [{\"aaxis\": {\"endlinecolor\": \"#2a3f5f\", \"gridcolor\": \"white\", \"linecolor\": \"white\", \"minorgridcolor\": \"white\", \"startlinecolor\": \"#2a3f5f\"}, \"baxis\": {\"endlinecolor\": \"#2a3f5f\", \"gridcolor\": \"white\", \"linecolor\": \"white\", \"minorgridcolor\": \"white\", \"startlinecolor\": \"#2a3f5f\"}, \"type\": \"carpet\"}], \"choropleth\": [{\"colorbar\": {\"outlinewidth\": 0, \"ticks\": \"\"}, \"type\": \"choropleth\"}], \"contour\": [{\"colorbar\": {\"outlinewidth\": 0, \"ticks\": \"\"}, \"colorscale\": [[0.0, \"#0d0887\"], [0.1111111111111111, \"#46039f\"], [0.2222222222222222, \"#7201a8\"], [0.3333333333333333, \"#9c179e\"], [0.4444444444444444, \"#bd3786\"], [0.5555555555555556, \"#d8576b\"], [0.6666666666666666, \"#ed7953\"], [0.7777777777777778, \"#fb9f3a\"], [0.8888888888888888, \"#fdca26\"], [1.0, \"#f0f921\"]], \"type\": \"contour\"}], \"contourcarpet\": [{\"colorbar\": {\"outlinewidth\": 0, \"ticks\": \"\"}, \"type\": \"contourcarpet\"}], \"heatmap\": [{\"colorbar\": {\"outlinewidth\": 0, \"ticks\": \"\"}, \"colorscale\": [[0.0, \"#0d0887\"], [0.1111111111111111, \"#46039f\"], [0.2222222222222222, \"#7201a8\"], [0.3333333333333333, \"#9c179e\"], [0.4444444444444444, \"#bd3786\"], [0.5555555555555556, \"#d8576b\"], [0.6666666666666666, \"#ed7953\"], [0.7777777777777778, \"#fb9f3a\"], [0.8888888888888888, \"#fdca26\"], [1.0, \"#f0f921\"]], \"type\": \"heatmap\"}], \"heatmapgl\": [{\"colorbar\": {\"outlinewidth\": 0, \"ticks\": \"\"}, \"colorscale\": [[0.0, \"#0d0887\"], [0.1111111111111111, \"#46039f\"], [0.2222222222222222, \"#7201a8\"], [0.3333333333333333, \"#9c179e\"], [0.4444444444444444, \"#bd3786\"], [0.5555555555555556, \"#d8576b\"], [0.6666666666666666, \"#ed7953\"], [0.7777777777777778, \"#fb9f3a\"], [0.8888888888888888, \"#fdca26\"], [1.0, \"#f0f921\"]], \"type\": \"heatmapgl\"}], \"histogram\": [{\"marker\": {\"colorbar\": {\"outlinewidth\": 0, \"ticks\": \"\"}}, \"type\": \"histogram\"}], \"histogram2d\": [{\"colorbar\": {\"outlinewidth\": 0, \"ticks\": \"\"}, \"colorscale\": [[0.0, \"#0d0887\"], [0.1111111111111111, \"#46039f\"], [0.2222222222222222, \"#7201a8\"], [0.3333333333333333, \"#9c179e\"], [0.4444444444444444, \"#bd3786\"], [0.5555555555555556, \"#d8576b\"], [0.6666666666666666, \"#ed7953\"], [0.7777777777777778, \"#fb9f3a\"], [0.8888888888888888, \"#fdca26\"], [1.0, \"#f0f921\"]], \"type\": \"histogram2d\"}], \"histogram2dcontour\": [{\"colorbar\": {\"outlinewidth\": 0, \"ticks\": \"\"}, \"colorscale\": [[0.0, \"#0d0887\"], [0.1111111111111111, \"#46039f\"], [0.2222222222222222, \"#7201a8\"], [0.3333333333333333, \"#9c179e\"], [0.4444444444444444, \"#bd3786\"], [0.5555555555555556, \"#d8576b\"], [0.6666666666666666, \"#ed7953\"], [0.7777777777777778, \"#fb9f3a\"], [0.8888888888888888, \"#fdca26\"], [1.0, \"#f0f921\"]], \"type\": \"histogram2dcontour\"}], \"mesh3d\": [{\"colorbar\": {\"outlinewidth\": 0, \"ticks\": \"\"}, \"type\": \"mesh3d\"}], \"parcoords\": [{\"line\": {\"colorbar\": {\"outlinewidth\": 0, \"ticks\": \"\"}}, \"type\": \"parcoords\"}], \"pie\": [{\"automargin\": true, \"type\": \"pie\"}], \"scatter\": [{\"marker\": {\"colorbar\": {\"outlinewidth\": 0, \"ticks\": \"\"}}, \"type\": \"scatter\"}], \"scatter3d\": [{\"line\": {\"colorbar\": {\"outlinewidth\": 0, \"ticks\": \"\"}}, \"marker\": {\"colorbar\": {\"outlinewidth\": 0, \"ticks\": \"\"}}, \"type\": \"scatter3d\"}], \"scattercarpet\": [{\"marker\": {\"colorbar\": {\"outlinewidth\": 0, \"ticks\": \"\"}}, \"type\": \"scattercarpet\"}], \"scattergeo\": [{\"marker\": {\"colorbar\": {\"outlinewidth\": 0, \"ticks\": \"\"}}, \"type\": \"scattergeo\"}], \"scattergl\": [{\"marker\": {\"colorbar\": {\"outlinewidth\": 0, \"ticks\": \"\"}}, \"type\": \"scattergl\"}], \"scattermapbox\": [{\"marker\": {\"colorbar\": {\"outlinewidth\": 0, \"ticks\": \"\"}}, \"type\": \"scattermapbox\"}], \"scatterpolar\": [{\"marker\": {\"colorbar\": {\"outlinewidth\": 0, \"ticks\": \"\"}}, \"type\": \"scatterpolar\"}], \"scatterpolargl\": [{\"marker\": {\"colorbar\": {\"outlinewidth\": 0, \"ticks\": \"\"}}, \"type\": \"scatterpolargl\"}], \"scatterternary\": [{\"marker\": {\"colorbar\": {\"outlinewidth\": 0, \"ticks\": \"\"}}, \"type\": \"scatterternary\"}], \"surface\": [{\"colorbar\": {\"outlinewidth\": 0, \"ticks\": \"\"}, \"colorscale\": [[0.0, \"#0d0887\"], [0.1111111111111111, \"#46039f\"], [0.2222222222222222, \"#7201a8\"], [0.3333333333333333, \"#9c179e\"], [0.4444444444444444, \"#bd3786\"], [0.5555555555555556, \"#d8576b\"], [0.6666666666666666, \"#ed7953\"], [0.7777777777777778, \"#fb9f3a\"], [0.8888888888888888, \"#fdca26\"], [1.0, \"#f0f921\"]], \"type\": \"surface\"}], \"table\": [{\"cells\": {\"fill\": {\"color\": \"#EBF0F8\"}, \"line\": {\"color\": \"white\"}}, \"header\": {\"fill\": {\"color\": \"#C8D4E3\"}, \"line\": {\"color\": \"white\"}}, \"type\": \"table\"}]}, \"layout\": {\"annotationdefaults\": {\"arrowcolor\": \"#2a3f5f\", \"arrowhead\": 0, \"arrowwidth\": 1}, \"coloraxis\": {\"colorbar\": {\"outlinewidth\": 0, \"ticks\": \"\"}}, \"colorscale\": {\"diverging\": [[0, \"#8e0152\"], [0.1, \"#c51b7d\"], [0.2, \"#de77ae\"], [0.3, \"#f1b6da\"], [0.4, \"#fde0ef\"], [0.5, \"#f7f7f7\"], [0.6, \"#e6f5d0\"], [0.7, \"#b8e186\"], [0.8, \"#7fbc41\"], [0.9, \"#4d9221\"], [1, \"#276419\"]], \"sequential\": [[0.0, \"#0d0887\"], [0.1111111111111111, \"#46039f\"], [0.2222222222222222, \"#7201a8\"], [0.3333333333333333, \"#9c179e\"], [0.4444444444444444, \"#bd3786\"], [0.5555555555555556, \"#d8576b\"], [0.6666666666666666, \"#ed7953\"], [0.7777777777777778, \"#fb9f3a\"], [0.8888888888888888, \"#fdca26\"], [1.0, \"#f0f921\"]], \"sequentialminus\": [[0.0, \"#0d0887\"], [0.1111111111111111, \"#46039f\"], [0.2222222222222222, \"#7201a8\"], [0.3333333333333333, \"#9c179e\"], [0.4444444444444444, \"#bd3786\"], [0.5555555555555556, \"#d8576b\"], [0.6666666666666666, \"#ed7953\"], [0.7777777777777778, \"#fb9f3a\"], [0.8888888888888888, \"#fdca26\"], [1.0, \"#f0f921\"]]}, \"colorway\": [\"#636efa\", \"#EF553B\", \"#00cc96\", \"#ab63fa\", \"#FFA15A\", \"#19d3f3\", \"#FF6692\", \"#B6E880\", \"#FF97FF\", \"#FECB52\"], \"font\": {\"color\": \"#2a3f5f\"}, \"geo\": {\"bgcolor\": \"white\", \"lakecolor\": \"white\", \"landcolor\": \"#E5ECF6\", \"showlakes\": true, \"showland\": true, \"subunitcolor\": \"white\"}, \"hoverlabel\": {\"align\": \"left\"}, \"hovermode\": \"closest\", \"mapbox\": {\"style\": \"light\"}, \"paper_bgcolor\": \"white\", \"plot_bgcolor\": \"#E5ECF6\", \"polar\": {\"angularaxis\": {\"gridcolor\": \"white\", \"linecolor\": \"white\", \"ticks\": \"\"}, \"bgcolor\": \"#E5ECF6\", \"radialaxis\": {\"gridcolor\": \"white\", \"linecolor\": \"white\", \"ticks\": \"\"}}, \"scene\": {\"xaxis\": {\"backgroundcolor\": \"#E5ECF6\", \"gridcolor\": \"white\", \"gridwidth\": 2, \"linecolor\": \"white\", \"showbackground\": true, \"ticks\": \"\", \"zerolinecolor\": \"white\"}, \"yaxis\": {\"backgroundcolor\": \"#E5ECF6\", \"gridcolor\": \"white\", \"gridwidth\": 2, \"linecolor\": \"white\", \"showbackground\": true, \"ticks\": \"\", \"zerolinecolor\": \"white\"}, \"zaxis\": {\"backgroundcolor\": \"#E5ECF6\", \"gridcolor\": \"white\", \"gridwidth\": 2, \"linecolor\": \"white\", \"showbackground\": true, \"ticks\": \"\", \"zerolinecolor\": \"white\"}}, \"shapedefaults\": {\"line\": {\"color\": \"#2a3f5f\"}}, \"ternary\": {\"aaxis\": {\"gridcolor\": \"white\", \"linecolor\": \"white\", \"ticks\": \"\"}, \"baxis\": {\"gridcolor\": \"white\", \"linecolor\": \"white\", \"ticks\": \"\"}, \"bgcolor\": \"#E5ECF6\", \"caxis\": {\"gridcolor\": \"white\", \"linecolor\": \"white\", \"ticks\": \"\"}}, \"title\": {\"x\": 0.05}, \"xaxis\": {\"automargin\": true, \"gridcolor\": \"white\", \"linecolor\": \"white\", \"ticks\": \"\", \"title\": {\"standoff\": 15}, \"zerolinecolor\": \"white\", \"zerolinewidth\": 2}, \"yaxis\": {\"automargin\": true, \"gridcolor\": \"white\", \"linecolor\": \"white\", \"ticks\": \"\", \"title\": {\"standoff\": 15}, \"zerolinecolor\": \"white\", \"zerolinewidth\": 2}}}, \"xaxis\": {\"anchor\": \"y\", \"domain\": [0.0, 1.0], \"title\": {\"text\": \"Bathroom\"}}, \"yaxis\": {\"anchor\": \"x\", \"domain\": [0.0, 1.0], \"title\": {\"text\": \"count\"}}},\n",
              "                        {\"responsive\": true}\n",
              "                    ).then(function(){\n",
              "                            \n",
              "var gd = document.getElementById('7d69183b-25bb-414d-b1ee-ca99828b8511');\n",
              "var x = new MutationObserver(function (mutations, observer) {{\n",
              "        var display = window.getComputedStyle(gd).display;\n",
              "        if (!display || display === 'none') {{\n",
              "            console.log([gd, 'removed!']);\n",
              "            Plotly.purge(gd);\n",
              "            observer.disconnect();\n",
              "        }}\n",
              "}});\n",
              "\n",
              "// Listen for the removal of the full notebook cells\n",
              "var notebookContainer = gd.closest('#notebook-container');\n",
              "if (notebookContainer) {{\n",
              "    x.observe(notebookContainer, {childList: true});\n",
              "}}\n",
              "\n",
              "// Listen for the clearing of the current output cell\n",
              "var outputEl = gd.closest('.output');\n",
              "if (outputEl) {{\n",
              "    x.observe(outputEl, {childList: true});\n",
              "}}\n",
              "\n",
              "                        })\n",
              "                };\n",
              "                \n",
              "            </script>\n",
              "        </div>\n",
              "</body>\n",
              "</html>"
            ]
          },
          "metadata": {
            "tags": []
          }
        }
      ]
    },
    {
      "cell_type": "code",
      "metadata": {
        "colab": {
          "base_uri": "https://localhost:8080/",
          "height": 542
        },
        "id": "DXF1MbHHi0S1",
        "outputId": "df6a7579-2a42-4c0c-f4b3-ffee4bb69601"
      },
      "source": [
        "px.histogram(df1,x='Furnishing')\n"
      ],
      "execution_count": 22,
      "outputs": [
        {
          "output_type": "display_data",
          "data": {
            "text/html": [
              "<html>\n",
              "<head><meta charset=\"utf-8\" /></head>\n",
              "<body>\n",
              "    <div>\n",
              "            <script src=\"https://cdnjs.cloudflare.com/ajax/libs/mathjax/2.7.5/MathJax.js?config=TeX-AMS-MML_SVG\"></script><script type=\"text/javascript\">if (window.MathJax) {MathJax.Hub.Config({SVG: {font: \"STIX-Web\"}});}</script>\n",
              "                <script type=\"text/javascript\">window.PlotlyConfig = {MathJaxConfig: 'local'};</script>\n",
              "        <script src=\"https://cdn.plot.ly/plotly-latest.min.js\"></script>    \n",
              "            <div id=\"ddc5daa5-2ee6-4399-92e0-dd5e2805bf81\" class=\"plotly-graph-div\" style=\"height:525px; width:100%;\"></div>\n",
              "            <script type=\"text/javascript\">\n",
              "                \n",
              "                    window.PLOTLYENV=window.PLOTLYENV || {};\n",
              "                    \n",
              "                if (document.getElementById(\"ddc5daa5-2ee6-4399-92e0-dd5e2805bf81\")) {\n",
              "                    Plotly.newPlot(\n",
              "                        'ddc5daa5-2ee6-4399-92e0-dd5e2805bf81',\n",
              "                        [{\"alignmentgroup\": \"True\", \"bingroup\": \"x\", \"hoverlabel\": {\"namelength\": 0}, \"hovertemplate\": \"Furnishing=%{x}<br>count=%{y}\", \"legendgroup\": \"\", \"marker\": {\"color\": \"#636efa\"}, \"name\": \"\", \"offsetgroup\": \"\", \"orientation\": \"v\", \"showlegend\": false, \"type\": \"histogram\", \"x\": [\"Semi-Furnished\", \"Semi-Furnished\", \"Furnished\", \"Semi-Furnished\", \"Semi-Furnished\", \"Semi-Furnished\", \"Semi-Furnished\", \"Semi-Furnished\", \"Unfurnished\", \"Semi-Furnished\", \"Semi-Furnished\", \"Semi-Furnished\", \"Semi-Furnished\", \"Semi-Furnished\", \"Semi-Furnished\", \"Semi-Furnished\", \"Semi-Furnished\", \"Semi-Furnished\", \"Semi-Furnished\", \"Semi-Furnished\", \"Semi-Furnished\", \"Semi-Furnished\", \"Furnished\", \"Semi-Furnished\", \"Semi-Furnished\", \"Furnished\", \"Semi-Furnished\", \"Semi-Furnished\", \"Furnished\", \"Furnished\", \"Unfurnished\", \"Unfurnished\", \"Semi-Furnished\", \"Unfurnished\", \"Semi-Furnished\", \"Semi-Furnished\", \"Semi-Furnished\", \"Unfurnished\", \"Semi-Furnished\", \"Semi-Furnished\", \"Furnished\", \"Semi-Furnished\", \"Unfurnished\", \"Semi-Furnished\", \"Semi-Furnished\", \"Semi-Furnished\", \"Semi-Furnished\", \"Semi-Furnished\", \"Semi-Furnished\", \"Unfurnished\", \"Unfurnished\", \"Unfurnished\", \"Unfurnished\", \"Semi-Furnished\", \"Semi-Furnished\", \"Semi-Furnished\", \"Semi-Furnished\", \"Semi-Furnished\", \"Unfurnished\", \"Furnished\", \"Semi-Furnished\", \"Unfurnished\", \"Unfurnished\", \"Unfurnished\", \"Unfurnished\", \"Semi-Furnished\", \"Semi-Furnished\", \"Semi-Furnished\", \"Furnished\", \"Semi-Furnished\", \"Semi-Furnished\", \"Unfurnished\", \"Unfurnished\", \"Semi-Furnished\", \"Semi-Furnished\", \"Semi-Furnished\", \"Furnished\", \"Semi-Furnished\", \"Semi-Furnished\", \"Unfurnished\", \"Furnished\", \"Furnished\", \"Semi-Furnished\", \"Unfurnished\", \"Semi-Furnished\", \"Semi-Furnished\", \"Semi-Furnished\", \"Semi-Furnished\", \"Semi-Furnished\", \"Semi-Furnished\", \"Semi-Furnished\", \"Unfurnished\", \"Semi-Furnished\", \"Unfurnished\", \"Semi-Furnished\", \"Unfurnished\", \"Unfurnished\", \"Semi-Furnished\", \"Semi-Furnished\", \"Semi-Furnished\", \"Unfurnished\", \"Semi-Furnished\", \"Unfurnished\", \"Unfurnished\", \"Semi-Furnished\", \"Furnished\", \"Semi-Furnished\", \"Furnished\", \"Unfurnished\", \"Unfurnished\", \"Semi-Furnished\", \"Semi-Furnished\", \"Semi-Furnished\", \"Semi-Furnished\", \"Unfurnished\", \"Unfurnished\", \"Unfurnished\", \"Furnished\", \"Semi-Furnished\", \"Semi-Furnished\", \"Semi-Furnished\", \"Semi-Furnished\", \"Semi-Furnished\", \"Semi-Furnished\", \"Semi-Furnished\", \"Semi-Furnished\", \"Furnished\", \"Unfurnished\", \"Furnished\", \"Unfurnished\", \"Semi-Furnished\", \"Semi-Furnished\", \"Semi-Furnished\", \"Semi-Furnished\", \"Unfurnished\", \"Unfurnished\", \"Unfurnished\", \"Semi-Furnished\", \"Semi-Furnished\", \"Unfurnished\", \"Semi-Furnished\", \"Unfurnished\", \"Unfurnished\", \"Furnished\", \"Semi-Furnished\", \"Unfurnished\", \"Furnished\", \"Semi-Furnished\", \"Semi-Furnished\", \"Furnished\", \"Semi-Furnished\", \"Semi-Furnished\", \"Semi-Furnished\", \"Unfurnished\", \"Furnished\", \"Furnished\", \"Furnished\", \"Furnished\", \"Furnished\", \"Furnished\", \"Furnished\", \"Semi-Furnished\", \"Semi-Furnished\", \"Semi-Furnished\", \"Semi-Furnished\", \"Unfurnished\", \"Semi-Furnished\", \"Semi-Furnished\", \"Semi-Furnished\", \"Semi-Furnished\", \"Semi-Furnished\", \"Semi-Furnished\", \"Furnished\", \"Semi-Furnished\", \"Semi-Furnished\", \"Semi-Furnished\", \"Semi-Furnished\", \"Semi-Furnished\", \"Semi-Furnished\", \"Semi-Furnished\", \"Semi-Furnished\", \"Semi-Furnished\", \"Semi-Furnished\", \"Semi-Furnished\", \"Semi-Furnished\", \"Semi-Furnished\", \"Semi-Furnished\", \"Semi-Furnished\", \"Semi-Furnished\", \"Semi-Furnished\", \"Semi-Furnished\", \"Semi-Furnished\", \"Semi-Furnished\", \"Semi-Furnished\", \"Semi-Furnished\", \"Semi-Furnished\", \"Semi-Furnished\", \"Semi-Furnished\", \"Semi-Furnished\", \"Semi-Furnished\", \"Semi-Furnished\", \"Unfurnished\", \"Unfurnished\", \"Furnished\", \"Unfurnished\", \"Semi-Furnished\", \"Semi-Furnished\", \"Semi-Furnished\", \"Semi-Furnished\", \"Furnished\", \"Semi-Furnished\", \"Unfurnished\", \"Furnished\", \"Unfurnished\", \"Semi-Furnished\", \"Furnished\", \"Unfurnished\", \"Semi-Furnished\", \"Semi-Furnished\", \"Semi-Furnished\", \"Semi-Furnished\", \"Semi-Furnished\", \"Semi-Furnished\", \"Semi-Furnished\", \"Semi-Furnished\", \"Semi-Furnished\", \"Unfurnished\", \"Semi-Furnished\", \"Semi-Furnished\", \"Semi-Furnished\", \"Semi-Furnished\", \"Unfurnished\", \"Semi-Furnished\", \"Semi-Furnished\", \"Semi-Furnished\", \"Furnished\", \"Semi-Furnished\", \"Semi-Furnished\", \"Semi-Furnished\", \"Unfurnished\", \"Semi-Furnished\", \"Semi-Furnished\", \"Semi-Furnished\", \"Unfurnished\", \"Semi-Furnished\", \"Semi-Furnished\", \"Semi-Furnished\", \"Unfurnished\", \"Semi-Furnished\", \"Semi-Furnished\", \"Unfurnished\", \"Semi-Furnished\", \"Semi-Furnished\", \"Semi-Furnished\", \"Semi-Furnished\", \"Semi-Furnished\", \"Semi-Furnished\", \"Semi-Furnished\", \"Unfurnished\", \"Semi-Furnished\", \"Semi-Furnished\", \"Semi-Furnished\", \"Semi-Furnished\", \"Semi-Furnished\", \"Semi-Furnished\", \"Semi-Furnished\", \"Semi-Furnished\", \"Semi-Furnished\", \"Semi-Furnished\", \"Semi-Furnished\", \"Semi-Furnished\", \"Unfurnished\", \"Unfurnished\", \"Semi-Furnished\", \"Semi-Furnished\", \"Unfurnished\", \"Semi-Furnished\", \"Unfurnished\", \"Semi-Furnished\", \"Semi-Furnished\", \"Unfurnished\", \"Unfurnished\", \"Semi-Furnished\", \"Semi-Furnished\", \"Semi-Furnished\", \"Semi-Furnished\", \"Semi-Furnished\", \"Unfurnished\", \"Semi-Furnished\", \"Unfurnished\", \"Semi-Furnished\", \"Semi-Furnished\", \"Furnished\", \"Semi-Furnished\", \"Unfurnished\", \"Furnished\", \"Semi-Furnished\", \"Semi-Furnished\", \"Semi-Furnished\", \"Unfurnished\", \"Semi-Furnished\", \"Semi-Furnished\", \"Unfurnished\", \"Unfurnished\", \"Unfurnished\", \"Unfurnished\", \"Semi-Furnished\", \"Semi-Furnished\", \"Unfurnished\", \"Furnished\", \"Semi-Furnished\", \"Semi-Furnished\", \"Furnished\", \"Furnished\", \"Semi-Furnished\", \"Furnished\", \"Furnished\", \"Semi-Furnished\", \"Semi-Furnished\", \"Furnished\", \"Furnished\", \"Unfurnished\", \"Semi-Furnished\", \"Unfurnished\", \"Semi-Furnished\", \"Unfurnished\", \"Semi-Furnished\", \"Unfurnished\", \"Furnished\", \"Unfurnished\", \"Furnished\", \"Furnished\", \"Furnished\", \"Furnished\", \"Furnished\", \"Furnished\", \"Furnished\", \"Furnished\", \"Furnished\", \"Furnished\", \"Furnished\", \"Furnished\", \"Furnished\", \"Furnished\", \"Furnished\", \"Furnished\", \"Furnished\", \"Semi-Furnished\", \"Unfurnished\", \"Unfurnished\", \"Unfurnished\", \"Semi-Furnished\", \"Semi-Furnished\", \"Unfurnished\", \"Semi-Furnished\", \"Semi-Furnished\", \"Semi-Furnished\", \"Semi-Furnished\", \"Furnished\", \"Unfurnished\", \"Unfurnished\", \"Unfurnished\", \"Unfurnished\", \"Furnished\", \"Semi-Furnished\", \"Unfurnished\", \"Semi-Furnished\", \"Semi-Furnished\", \"Furnished\", \"Unfurnished\", \"Unfurnished\", \"Unfurnished\", \"Furnished\", \"Semi-Furnished\", \"Semi-Furnished\", \"Semi-Furnished\", \"Unfurnished\", \"Semi-Furnished\", \"Semi-Furnished\", \"Semi-Furnished\", \"Semi-Furnished\", \"Semi-Furnished\", \"Semi-Furnished\", \"Semi-Furnished\", \"Semi-Furnished\", \"Semi-Furnished\", \"Semi-Furnished\", \"Semi-Furnished\", \"Semi-Furnished\", \"Semi-Furnished\", \"Unfurnished\", \"Semi-Furnished\", \"Semi-Furnished\", \"Semi-Furnished\", \"Semi-Furnished\", \"Furnished\", \"Unfurnished\", \"Semi-Furnished\", \"Semi-Furnished\", \"Unfurnished\", \"Unfurnished\", \"Semi-Furnished\", \"Semi-Furnished\", \"Furnished\", \"Unfurnished\", \"Semi-Furnished\", \"Semi-Furnished\", \"Furnished\", \"Semi-Furnished\", \"Semi-Furnished\", \"Semi-Furnished\", \"Semi-Furnished\", \"Semi-Furnished\", \"Furnished\", \"Unfurnished\", \"Semi-Furnished\", \"Semi-Furnished\", \"Semi-Furnished\", \"Furnished\", \"Unfurnished\", \"Semi-Furnished\", \"Unfurnished\", \"Unfurnished\", \"Unfurnished\", \"Semi-Furnished\", \"Semi-Furnished\", \"Furnished\", \"Semi-Furnished\", \"Unfurnished\", \"Unfurnished\", \"Unfurnished\", \"Semi-Furnished\", \"Semi-Furnished\", \"Semi-Furnished\", \"Semi-Furnished\", \"Unfurnished\", \"Semi-Furnished\", \"Unfurnished\", \"Unfurnished\", \"Semi-Furnished\", \"Unfurnished\", \"Semi-Furnished\", \"Semi-Furnished\", \"Semi-Furnished\", \"Unfurnished\", \"Unfurnished\", \"Semi-Furnished\", \"Unfurnished\", \"Semi-Furnished\", \"Furnished\", \"Semi-Furnished\", \"Semi-Furnished\", \"Semi-Furnished\", \"Semi-Furnished\", \"Furnished\", \"Furnished\", \"Semi-Furnished\", \"Furnished\", \"Semi-Furnished\", \"Furnished\", \"Semi-Furnished\", \"Semi-Furnished\", \"Semi-Furnished\", \"Unfurnished\", \"Furnished\", \"Furnished\", \"Furnished\", \"Unfurnished\", \"Semi-Furnished\", \"Furnished\", \"Furnished\", \"Unfurnished\", \"Furnished\", \"Furnished\", \"Furnished\", \"Unfurnished\", \"Semi-Furnished\", \"Unfurnished\", \"Semi-Furnished\", \"Furnished\", \"Unfurnished\", \"Unfurnished\", \"Semi-Furnished\", \"Unfurnished\", \"Semi-Furnished\", \"Unfurnished\", \"Furnished\", \"Semi-Furnished\", \"Semi-Furnished\", \"Semi-Furnished\", \"Semi-Furnished\", \"Semi-Furnished\", \"Semi-Furnished\", \"Semi-Furnished\", \"Semi-Furnished\", \"Semi-Furnished\", \"Semi-Furnished\", \"Unfurnished\", \"Furnished\", \"Semi-Furnished\", \"Furnished\", \"Semi-Furnished\", \"Semi-Furnished\", \"Semi-Furnished\", \"Semi-Furnished\", \"Semi-Furnished\", \"Semi-Furnished\", \"Semi-Furnished\", \"Unfurnished\", \"Semi-Furnished\", \"Semi-Furnished\", \"Semi-Furnished\", \"Semi-Furnished\", \"Semi-Furnished\", \"Semi-Furnished\", \"Semi-Furnished\", \"Semi-Furnished\", \"Semi-Furnished\", \"Semi-Furnished\", \"Unfurnished\", \"Unfurnished\", \"Unfurnished\", \"Semi-Furnished\", \"Unfurnished\", \"Semi-Furnished\", \"Unfurnished\", \"Semi-Furnished\", \"Semi-Furnished\", \"Semi-Furnished\", \"Semi-Furnished\", \"Furnished\", \"Semi-Furnished\", \"Semi-Furnished\", \"Unfurnished\", \"Semi-Furnished\", \"Semi-Furnished\", \"Semi-Furnished\", \"Semi-Furnished\", \"Unfurnished\", \"Semi-Furnished\", \"Unfurnished\", \"Semi-Furnished\", \"Semi-Furnished\", \"Semi-Furnished\", \"Semi-Furnished\", \"Unfurnished\", \"Unfurnished\", \"Semi-Furnished\", \"Semi-Furnished\", \"Unfurnished\", \"Unfurnished\", \"Unfurnished\", \"Semi-Furnished\", \"Semi-Furnished\", \"Unfurnished\", \"Semi-Furnished\", \"Semi-Furnished\", \"Unfurnished\", \"Furnished\", \"Semi-Furnished\", \"Unfurnished\", \"Semi-Furnished\", \"Unfurnished\", \"Furnished\", \"Unfurnished\", \"Unfurnished\", \"Semi-Furnished\", \"Unfurnished\", \"Furnished\", \"Unfurnished\", \"Semi-Furnished\", \"Semi-Furnished\", \"Unfurnished\", \"Semi-Furnished\", \"Semi-Furnished\", \"Semi-Furnished\", \"Semi-Furnished\", \"Furnished\", \"Furnished\", \"Semi-Furnished\", \"Furnished\", \"Semi-Furnished\", \"Semi-Furnished\", \"Semi-Furnished\", \"Unfurnished\", \"Semi-Furnished\", \"Semi-Furnished\", \"Semi-Furnished\", \"Furnished\", \"Furnished\", \"Semi-Furnished\", \"Furnished\", \"Furnished\", \"Semi-Furnished\", \"Furnished\", \"Semi-Furnished\", \"Semi-Furnished\", \"Semi-Furnished\", \"Semi-Furnished\", \"Semi-Furnished\", \"Furnished\", \"Furnished\", \"Furnished\", \"Furnished\", \"Semi-Furnished\", \"Semi-Furnished\", \"Semi-Furnished\", \"Unfurnished\", \"Semi-Furnished\", \"Semi-Furnished\", \"Semi-Furnished\", \"Semi-Furnished\", \"Furnished\", \"Semi-Furnished\", \"Furnished\", \"Unfurnished\", \"Semi-Furnished\", \"Semi-Furnished\", \"Semi-Furnished\", \"Semi-Furnished\", \"Furnished\", \"Semi-Furnished\", \"Semi-Furnished\", \"Semi-Furnished\", \"Semi-Furnished\", \"Semi-Furnished\", \"Semi-Furnished\", \"Semi-Furnished\", \"Semi-Furnished\", \"Semi-Furnished\", \"Unfurnished\", \"Semi-Furnished\", \"Semi-Furnished\", \"Unfurnished\", \"Unfurnished\", \"Semi-Furnished\", \"Semi-Furnished\", \"Semi-Furnished\", \"Semi-Furnished\", \"Semi-Furnished\", \"Furnished\", \"Semi-Furnished\", \"Semi-Furnished\", \"Semi-Furnished\", \"Unfurnished\", \"Semi-Furnished\", \"Furnished\", \"Unfurnished\", \"Unfurnished\", \"Unfurnished\", \"Semi-Furnished\", \"Semi-Furnished\", \"Semi-Furnished\", \"Unfurnished\", \"Unfurnished\", \"Unfurnished\", \"Unfurnished\", \"Unfurnished\", \"Semi-Furnished\", \"Semi-Furnished\", \"Unfurnished\", \"Unfurnished\", \"Furnished\", \"Semi-Furnished\", \"Semi-Furnished\", \"Semi-Furnished\", \"Semi-Furnished\", \"Semi-Furnished\", \"Furnished\", \"Furnished\", \"Furnished\", \"Furnished\", \"Semi-Furnished\", \"Furnished\", \"Semi-Furnished\", \"Furnished\", \"Furnished\", \"Furnished\", \"Furnished\", \"Furnished\", \"Furnished\", \"Furnished\", \"Furnished\", \"Furnished\", \"Furnished\", \"Furnished\", \"Furnished\", \"Furnished\", \"Furnished\", \"Furnished\", \"Unfurnished\", \"Unfurnished\", \"Semi-Furnished\", \"Semi-Furnished\", \"Semi-Furnished\", \"Semi-Furnished\", \"Semi-Furnished\", \"Semi-Furnished\", \"Semi-Furnished\", \"Semi-Furnished\", \"Unfurnished\", \"Semi-Furnished\", \"Semi-Furnished\", \"Furnished\", \"Unfurnished\", \"Unfurnished\", \"Semi-Furnished\", \"Semi-Furnished\", \"Semi-Furnished\", \"Unfurnished\", \"Unfurnished\", \"Unfurnished\", \"Semi-Furnished\", \"Semi-Furnished\", \"Semi-Furnished\", \"Semi-Furnished\", \"Semi-Furnished\", \"Furnished\", \"Unfurnished\", \"Semi-Furnished\", \"Unfurnished\", \"Semi-Furnished\", \"Semi-Furnished\", \"Semi-Furnished\", \"Unfurnished\", \"Semi-Furnished\", \"Semi-Furnished\", \"Semi-Furnished\", \"Semi-Furnished\", \"Semi-Furnished\", \"Semi-Furnished\", \"Unfurnished\", \"Unfurnished\", \"Unfurnished\", \"Unfurnished\", \"Semi-Furnished\", \"Semi-Furnished\", \"Furnished\", \"Semi-Furnished\", \"Unfurnished\", \"Semi-Furnished\", \"Semi-Furnished\", \"Unfurnished\", \"Semi-Furnished\", \"Semi-Furnished\", \"Semi-Furnished\", \"Semi-Furnished\", \"Semi-Furnished\", \"Semi-Furnished\", \"Unfurnished\", \"Semi-Furnished\", \"Semi-Furnished\", \"Semi-Furnished\", \"Semi-Furnished\", \"Unfurnished\", \"Semi-Furnished\", \"Semi-Furnished\", \"Furnished\", \"Unfurnished\", \"Unfurnished\", \"Unfurnished\", \"Semi-Furnished\", \"Unfurnished\", \"Furnished\", \"Unfurnished\", \"Unfurnished\", \"Unfurnished\", \"Semi-Furnished\", \"Semi-Furnished\", \"Unfurnished\", \"Semi-Furnished\", \"Unfurnished\", \"Unfurnished\", \"Semi-Furnished\", \"Semi-Furnished\", \"Furnished\", \"Unfurnished\", \"Unfurnished\", \"Unfurnished\", \"Unfurnished\", \"Unfurnished\", \"Unfurnished\", \"Semi-Furnished\", \"Unfurnished\", \"Semi-Furnished\", \"Unfurnished\", \"Semi-Furnished\", \"Semi-Furnished\", \"Semi-Furnished\", \"Semi-Furnished\", \"Semi-Furnished\", \"Furnished\", \"Unfurnished\", \"Semi-Furnished\", \"Semi-Furnished\", \"Unfurnished\", \"Unfurnished\", \"Semi-Furnished\", \"Semi-Furnished\", \"Semi-Furnished\", \"Unfurnished\", \"Semi-Furnished\", \"Semi-Furnished\", \"Unfurnished\", \"Semi-Furnished\", \"Unfurnished\", \"Unfurnished\", \"Furnished\", \"Semi-Furnished\", \"Semi-Furnished\", \"Semi-Furnished\", \"Semi-Furnished\", \"Unfurnished\", \"Furnished\", \"Semi-Furnished\", \"Unfurnished\", \"Furnished\", \"Unfurnished\", \"Unfurnished\", \"Unfurnished\", \"Unfurnished\", \"Semi-Furnished\", \"Unfurnished\", \"Unfurnished\", \"Unfurnished\", \"Unfurnished\", \"Unfurnished\", \"Unfurnished\", \"Furnished\", \"Unfurnished\", \"Furnished\", \"Unfurnished\", \"Unfurnished\", \"Unfurnished\", \"Semi-Furnished\", \"Unfurnished\", \"Furnished\", \"Unfurnished\", \"Unfurnished\", \"Semi-Furnished\", \"Furnished\", \"Unfurnished\", \"Unfurnished\", \"Semi-Furnished\", \"Semi-Furnished\", \"Semi-Furnished\", \"Unfurnished\", \"Semi-Furnished\", \"Unfurnished\", \"Unfurnished\", \"Unfurnished\", \"Semi-Furnished\", \"Semi-Furnished\", \"Semi-Furnished\", \"Semi-Furnished\", \"Furnished\", \"Semi-Furnished\", \"Semi-Furnished\", \"Semi-Furnished\", \"Semi-Furnished\", \"Unfurnished\", \"Semi-Furnished\", \"Unfurnished\", \"Unfurnished\", \"Semi-Furnished\", \"Unfurnished\", \"Semi-Furnished\", \"Semi-Furnished\", \"Semi-Furnished\", \"Semi-Furnished\", \"Semi-Furnished\", \"Unfurnished\", \"Unfurnished\", \"Unfurnished\", \"Unfurnished\", \"Semi-Furnished\", \"Unfurnished\", \"Furnished\", \"Unfurnished\", \"Semi-Furnished\", \"Furnished\", \"Unfurnished\", \"Furnished\", \"Semi-Furnished\", \"Unfurnished\", \"Semi-Furnished\", \"Unfurnished\", \"Unfurnished\", \"Semi-Furnished\", \"Unfurnished\", \"Unfurnished\", \"Furnished\", \"Semi-Furnished\", \"Semi-Furnished\", \"Unfurnished\", \"Unfurnished\", \"Semi-Furnished\", \"Unfurnished\", \"Unfurnished\", \"Semi-Furnished\", \"Furnished\", \"Semi-Furnished\", \"Semi-Furnished\", \"Semi-Furnished\", \"Semi-Furnished\", \"Semi-Furnished\", \"Furnished\", \"Semi-Furnished\", \"Semi-Furnished\", \"Furnished\", \"Unfurnished\", \"Semi-Furnished\", \"Unfurnished\", \"Semi-Furnished\", \"Unfurnished\", \"Furnished\", \"Semi-Furnished\", \"Semi-Furnished\", \"Semi-Furnished\", \"Furnished\", \"Semi-Furnished\", \"Semi-Furnished\", \"Semi-Furnished\", \"Semi-Furnished\", \"Semi-Furnished\", \"Semi-Furnished\", \"Semi-Furnished\", \"Unfurnished\", \"Unfurnished\", \"Furnished\", \"Semi-Furnished\", \"Semi-Furnished\", \"Furnished\", \"Furnished\", \"Semi-Furnished\", \"Semi-Furnished\", \"Unfurnished\", \"Semi-Furnished\", \"Unfurnished\", \"Semi-Furnished\", \"Unfurnished\", \"Unfurnished\", \"Unfurnished\", \"Furnished\", \"Furnished\", \"Unfurnished\", \"Semi-Furnished\", \"Semi-Furnished\", \"Semi-Furnished\", \"Semi-Furnished\", \"Semi-Furnished\", \"Unfurnished\", \"Unfurnished\", \"Unfurnished\", \"Semi-Furnished\", \"Semi-Furnished\", \"Semi-Furnished\", \"Semi-Furnished\", \"Unfurnished\", \"Semi-Furnished\", \"Semi-Furnished\", \"Semi-Furnished\", \"Semi-Furnished\", \"Furnished\", \"Semi-Furnished\", \"Semi-Furnished\", \"Semi-Furnished\", \"Semi-Furnished\", \"Semi-Furnished\", \"Semi-Furnished\", \"Semi-Furnished\", \"Unfurnished\", \"Unfurnished\", \"Unfurnished\", \"Furnished\", \"Semi-Furnished\", \"Unfurnished\", \"Semi-Furnished\", \"Unfurnished\", \"Semi-Furnished\", \"Semi-Furnished\", \"Unfurnished\", \"Semi-Furnished\", \"Furnished\", \"Furnished\", \"Semi-Furnished\", \"Semi-Furnished\", \"Furnished\", \"Semi-Furnished\", \"Semi-Furnished\", \"Unfurnished\", \"Semi-Furnished\", \"Unfurnished\", \"Semi-Furnished\", \"Unfurnished\", \"Semi-Furnished\", \"Semi-Furnished\", \"Furnished\", \"Unfurnished\", \"Unfurnished\", \"Semi-Furnished\", \"Semi-Furnished\", \"Unfurnished\", \"Unfurnished\", \"Unfurnished\", \"Unfurnished\", \"Semi-Furnished\", \"Unfurnished\", \"Semi-Furnished\", \"Unfurnished\", \"Semi-Furnished\", \"Semi-Furnished\", \"Furnished\", \"Unfurnished\", \"Unfurnished\", \"Unfurnished\", \"Unfurnished\", \"Semi-Furnished\", \"Semi-Furnished\", \"Semi-Furnished\", \"Semi-Furnished\", \"Semi-Furnished\", \"Semi-Furnished\", \"Semi-Furnished\", \"Semi-Furnished\", \"Unfurnished\", \"Semi-Furnished\", \"Unfurnished\", \"Unfurnished\", \"Semi-Furnished\", \"Unfurnished\", \"Semi-Furnished\", \"Unfurnished\", \"Semi-Furnished\", \"Unfurnished\", \"Semi-Furnished\", \"Unfurnished\", \"Unfurnished\", \"Semi-Furnished\", \"Semi-Furnished\", \"Unfurnished\", \"Semi-Furnished\", \"Semi-Furnished\", \"Furnished\", \"Semi-Furnished\", \"Semi-Furnished\", \"Semi-Furnished\", \"Semi-Furnished\", \"Semi-Furnished\", \"Semi-Furnished\", \"Semi-Furnished\", \"Unfurnished\", \"Unfurnished\", \"Semi-Furnished\", \"Unfurnished\", \"Furnished\", \"Semi-Furnished\", \"Semi-Furnished\", \"Semi-Furnished\", \"Semi-Furnished\", \"Semi-Furnished\", \"Unfurnished\", \"Semi-Furnished\", \"Semi-Furnished\", \"Unfurnished\", \"Unfurnished\", \"Semi-Furnished\", \"Semi-Furnished\", \"Semi-Furnished\", \"Semi-Furnished\", \"Furnished\", \"Semi-Furnished\", \"Semi-Furnished\", \"Furnished\", \"Semi-Furnished\", \"Semi-Furnished\", \"Unfurnished\", \"Unfurnished\", \"Unfurnished\", \"Semi-Furnished\", \"Semi-Furnished\", \"Semi-Furnished\", \"Semi-Furnished\", \"Semi-Furnished\", \"Semi-Furnished\", \"Unfurnished\", \"Furnished\", \"Semi-Furnished\", \"Semi-Furnished\", \"Semi-Furnished\", \"Semi-Furnished\", \"Unfurnished\", \"Unfurnished\", \"Semi-Furnished\", \"Furnished\", \"Semi-Furnished\", \"Unfurnished\", \"Semi-Furnished\", \"Semi-Furnished\", \"Semi-Furnished\", \"Furnished\", \"Unfurnished\", \"Semi-Furnished\", \"Unfurnished\", \"Unfurnished\", \"Semi-Furnished\", \"Furnished\", \"Unfurnished\", \"Semi-Furnished\", \"Unfurnished\", \"Unfurnished\", \"Unfurnished\", \"Semi-Furnished\", \"Semi-Furnished\", \"Semi-Furnished\", \"Unfurnished\", \"Unfurnished\", \"Semi-Furnished\", \"Unfurnished\", \"Semi-Furnished\", \"Semi-Furnished\", \"Unfurnished\", \"Semi-Furnished\", \"Unfurnished\", \"Semi-Furnished\", \"Furnished\", \"Unfurnished\", \"Unfurnished\", \"Semi-Furnished\", \"Semi-Furnished\", \"Semi-Furnished\", \"Semi-Furnished\", \"Unfurnished\", \"Unfurnished\", \"Semi-Furnished\", \"Unfurnished\", \"Semi-Furnished\", \"Semi-Furnished\", \"Semi-Furnished\", \"Semi-Furnished\", \"Unfurnished\", \"Semi-Furnished\", \"Semi-Furnished\", \"Semi-Furnished\", \"Semi-Furnished\", \"Semi-Furnished\", \"Semi-Furnished\", \"Semi-Furnished\", \"Unfurnished\", \"Semi-Furnished\", \"Semi-Furnished\", \"Semi-Furnished\", \"Furnished\", \"Unfurnished\", \"Unfurnished\", \"Semi-Furnished\", \"Semi-Furnished\", \"Semi-Furnished\", \"Semi-Furnished\", \"Semi-Furnished\", \"Semi-Furnished\", \"Semi-Furnished\", \"Semi-Furnished\", \"Semi-Furnished\", \"Semi-Furnished\", \"Unfurnished\", \"Semi-Furnished\", \"Semi-Furnished\", \"Unfurnished\", \"Unfurnished\"], \"xaxis\": \"x\", \"yaxis\": \"y\"}],\n",
              "                        {\"barmode\": \"relative\", \"legend\": {\"tracegroupgap\": 0}, \"margin\": {\"t\": 60}, \"template\": {\"data\": {\"bar\": [{\"error_x\": {\"color\": \"#2a3f5f\"}, \"error_y\": {\"color\": \"#2a3f5f\"}, \"marker\": {\"line\": {\"color\": \"#E5ECF6\", \"width\": 0.5}}, \"type\": \"bar\"}], \"barpolar\": [{\"marker\": {\"line\": {\"color\": \"#E5ECF6\", \"width\": 0.5}}, \"type\": \"barpolar\"}], \"carpet\": [{\"aaxis\": {\"endlinecolor\": \"#2a3f5f\", \"gridcolor\": \"white\", \"linecolor\": \"white\", \"minorgridcolor\": \"white\", \"startlinecolor\": \"#2a3f5f\"}, \"baxis\": {\"endlinecolor\": \"#2a3f5f\", \"gridcolor\": \"white\", \"linecolor\": \"white\", \"minorgridcolor\": \"white\", \"startlinecolor\": \"#2a3f5f\"}, \"type\": \"carpet\"}], \"choropleth\": [{\"colorbar\": {\"outlinewidth\": 0, \"ticks\": \"\"}, \"type\": \"choropleth\"}], \"contour\": [{\"colorbar\": {\"outlinewidth\": 0, \"ticks\": \"\"}, \"colorscale\": [[0.0, \"#0d0887\"], [0.1111111111111111, \"#46039f\"], [0.2222222222222222, \"#7201a8\"], [0.3333333333333333, \"#9c179e\"], [0.4444444444444444, \"#bd3786\"], [0.5555555555555556, \"#d8576b\"], [0.6666666666666666, \"#ed7953\"], [0.7777777777777778, \"#fb9f3a\"], [0.8888888888888888, \"#fdca26\"], [1.0, \"#f0f921\"]], \"type\": \"contour\"}], \"contourcarpet\": [{\"colorbar\": {\"outlinewidth\": 0, \"ticks\": \"\"}, \"type\": \"contourcarpet\"}], \"heatmap\": [{\"colorbar\": {\"outlinewidth\": 0, \"ticks\": \"\"}, \"colorscale\": [[0.0, \"#0d0887\"], [0.1111111111111111, \"#46039f\"], [0.2222222222222222, \"#7201a8\"], [0.3333333333333333, \"#9c179e\"], [0.4444444444444444, \"#bd3786\"], [0.5555555555555556, \"#d8576b\"], [0.6666666666666666, \"#ed7953\"], [0.7777777777777778, \"#fb9f3a\"], [0.8888888888888888, \"#fdca26\"], [1.0, \"#f0f921\"]], \"type\": \"heatmap\"}], \"heatmapgl\": [{\"colorbar\": {\"outlinewidth\": 0, \"ticks\": \"\"}, \"colorscale\": [[0.0, \"#0d0887\"], [0.1111111111111111, \"#46039f\"], [0.2222222222222222, \"#7201a8\"], [0.3333333333333333, \"#9c179e\"], [0.4444444444444444, \"#bd3786\"], [0.5555555555555556, \"#d8576b\"], [0.6666666666666666, \"#ed7953\"], [0.7777777777777778, \"#fb9f3a\"], [0.8888888888888888, \"#fdca26\"], [1.0, \"#f0f921\"]], \"type\": \"heatmapgl\"}], \"histogram\": [{\"marker\": {\"colorbar\": {\"outlinewidth\": 0, \"ticks\": \"\"}}, \"type\": \"histogram\"}], \"histogram2d\": [{\"colorbar\": {\"outlinewidth\": 0, \"ticks\": \"\"}, \"colorscale\": [[0.0, \"#0d0887\"], [0.1111111111111111, \"#46039f\"], [0.2222222222222222, \"#7201a8\"], [0.3333333333333333, \"#9c179e\"], [0.4444444444444444, \"#bd3786\"], [0.5555555555555556, \"#d8576b\"], [0.6666666666666666, \"#ed7953\"], [0.7777777777777778, \"#fb9f3a\"], [0.8888888888888888, \"#fdca26\"], [1.0, \"#f0f921\"]], \"type\": \"histogram2d\"}], \"histogram2dcontour\": [{\"colorbar\": {\"outlinewidth\": 0, \"ticks\": \"\"}, \"colorscale\": [[0.0, \"#0d0887\"], [0.1111111111111111, \"#46039f\"], [0.2222222222222222, \"#7201a8\"], [0.3333333333333333, \"#9c179e\"], [0.4444444444444444, \"#bd3786\"], [0.5555555555555556, \"#d8576b\"], [0.6666666666666666, \"#ed7953\"], [0.7777777777777778, \"#fb9f3a\"], [0.8888888888888888, \"#fdca26\"], [1.0, \"#f0f921\"]], \"type\": \"histogram2dcontour\"}], \"mesh3d\": [{\"colorbar\": {\"outlinewidth\": 0, \"ticks\": \"\"}, \"type\": \"mesh3d\"}], \"parcoords\": [{\"line\": {\"colorbar\": {\"outlinewidth\": 0, \"ticks\": \"\"}}, \"type\": \"parcoords\"}], \"pie\": [{\"automargin\": true, \"type\": \"pie\"}], \"scatter\": [{\"marker\": {\"colorbar\": {\"outlinewidth\": 0, \"ticks\": \"\"}}, \"type\": \"scatter\"}], \"scatter3d\": [{\"line\": {\"colorbar\": {\"outlinewidth\": 0, \"ticks\": \"\"}}, \"marker\": {\"colorbar\": {\"outlinewidth\": 0, \"ticks\": \"\"}}, \"type\": \"scatter3d\"}], \"scattercarpet\": [{\"marker\": {\"colorbar\": {\"outlinewidth\": 0, \"ticks\": \"\"}}, \"type\": \"scattercarpet\"}], \"scattergeo\": [{\"marker\": {\"colorbar\": {\"outlinewidth\": 0, \"ticks\": \"\"}}, \"type\": \"scattergeo\"}], \"scattergl\": [{\"marker\": {\"colorbar\": {\"outlinewidth\": 0, \"ticks\": \"\"}}, \"type\": \"scattergl\"}], \"scattermapbox\": [{\"marker\": {\"colorbar\": {\"outlinewidth\": 0, \"ticks\": \"\"}}, \"type\": \"scattermapbox\"}], \"scatterpolar\": [{\"marker\": {\"colorbar\": {\"outlinewidth\": 0, \"ticks\": \"\"}}, \"type\": \"scatterpolar\"}], \"scatterpolargl\": [{\"marker\": {\"colorbar\": {\"outlinewidth\": 0, \"ticks\": \"\"}}, \"type\": \"scatterpolargl\"}], \"scatterternary\": [{\"marker\": {\"colorbar\": {\"outlinewidth\": 0, \"ticks\": \"\"}}, \"type\": \"scatterternary\"}], \"surface\": [{\"colorbar\": {\"outlinewidth\": 0, \"ticks\": \"\"}, \"colorscale\": [[0.0, \"#0d0887\"], [0.1111111111111111, \"#46039f\"], [0.2222222222222222, \"#7201a8\"], [0.3333333333333333, \"#9c179e\"], [0.4444444444444444, \"#bd3786\"], [0.5555555555555556, \"#d8576b\"], [0.6666666666666666, \"#ed7953\"], [0.7777777777777778, \"#fb9f3a\"], [0.8888888888888888, \"#fdca26\"], [1.0, \"#f0f921\"]], \"type\": \"surface\"}], \"table\": [{\"cells\": {\"fill\": {\"color\": \"#EBF0F8\"}, \"line\": {\"color\": \"white\"}}, \"header\": {\"fill\": {\"color\": \"#C8D4E3\"}, \"line\": {\"color\": \"white\"}}, \"type\": \"table\"}]}, \"layout\": {\"annotationdefaults\": {\"arrowcolor\": \"#2a3f5f\", \"arrowhead\": 0, \"arrowwidth\": 1}, \"coloraxis\": {\"colorbar\": {\"outlinewidth\": 0, \"ticks\": \"\"}}, \"colorscale\": {\"diverging\": [[0, \"#8e0152\"], [0.1, \"#c51b7d\"], [0.2, \"#de77ae\"], [0.3, \"#f1b6da\"], [0.4, \"#fde0ef\"], [0.5, \"#f7f7f7\"], [0.6, \"#e6f5d0\"], [0.7, \"#b8e186\"], [0.8, \"#7fbc41\"], [0.9, \"#4d9221\"], [1, \"#276419\"]], \"sequential\": [[0.0, \"#0d0887\"], [0.1111111111111111, \"#46039f\"], [0.2222222222222222, \"#7201a8\"], [0.3333333333333333, \"#9c179e\"], [0.4444444444444444, \"#bd3786\"], [0.5555555555555556, \"#d8576b\"], [0.6666666666666666, \"#ed7953\"], [0.7777777777777778, \"#fb9f3a\"], [0.8888888888888888, \"#fdca26\"], [1.0, \"#f0f921\"]], \"sequentialminus\": [[0.0, \"#0d0887\"], [0.1111111111111111, \"#46039f\"], [0.2222222222222222, \"#7201a8\"], [0.3333333333333333, \"#9c179e\"], [0.4444444444444444, \"#bd3786\"], [0.5555555555555556, \"#d8576b\"], [0.6666666666666666, \"#ed7953\"], [0.7777777777777778, \"#fb9f3a\"], [0.8888888888888888, \"#fdca26\"], [1.0, \"#f0f921\"]]}, \"colorway\": [\"#636efa\", \"#EF553B\", \"#00cc96\", \"#ab63fa\", \"#FFA15A\", \"#19d3f3\", \"#FF6692\", \"#B6E880\", \"#FF97FF\", \"#FECB52\"], \"font\": {\"color\": \"#2a3f5f\"}, \"geo\": {\"bgcolor\": \"white\", \"lakecolor\": \"white\", \"landcolor\": \"#E5ECF6\", \"showlakes\": true, \"showland\": true, \"subunitcolor\": \"white\"}, \"hoverlabel\": {\"align\": \"left\"}, \"hovermode\": \"closest\", \"mapbox\": {\"style\": \"light\"}, \"paper_bgcolor\": \"white\", \"plot_bgcolor\": \"#E5ECF6\", \"polar\": {\"angularaxis\": {\"gridcolor\": \"white\", \"linecolor\": \"white\", \"ticks\": \"\"}, \"bgcolor\": \"#E5ECF6\", \"radialaxis\": {\"gridcolor\": \"white\", \"linecolor\": \"white\", \"ticks\": \"\"}}, \"scene\": {\"xaxis\": {\"backgroundcolor\": \"#E5ECF6\", \"gridcolor\": \"white\", \"gridwidth\": 2, \"linecolor\": \"white\", \"showbackground\": true, \"ticks\": \"\", \"zerolinecolor\": \"white\"}, \"yaxis\": {\"backgroundcolor\": \"#E5ECF6\", \"gridcolor\": \"white\", \"gridwidth\": 2, \"linecolor\": \"white\", \"showbackground\": true, \"ticks\": \"\", \"zerolinecolor\": \"white\"}, \"zaxis\": {\"backgroundcolor\": \"#E5ECF6\", \"gridcolor\": \"white\", \"gridwidth\": 2, \"linecolor\": \"white\", \"showbackground\": true, \"ticks\": \"\", \"zerolinecolor\": \"white\"}}, \"shapedefaults\": {\"line\": {\"color\": \"#2a3f5f\"}}, \"ternary\": {\"aaxis\": {\"gridcolor\": \"white\", \"linecolor\": \"white\", \"ticks\": \"\"}, \"baxis\": {\"gridcolor\": \"white\", \"linecolor\": \"white\", \"ticks\": \"\"}, \"bgcolor\": \"#E5ECF6\", \"caxis\": {\"gridcolor\": \"white\", \"linecolor\": \"white\", \"ticks\": \"\"}}, \"title\": {\"x\": 0.05}, \"xaxis\": {\"automargin\": true, \"gridcolor\": \"white\", \"linecolor\": \"white\", \"ticks\": \"\", \"title\": {\"standoff\": 15}, \"zerolinecolor\": \"white\", \"zerolinewidth\": 2}, \"yaxis\": {\"automargin\": true, \"gridcolor\": \"white\", \"linecolor\": \"white\", \"ticks\": \"\", \"title\": {\"standoff\": 15}, \"zerolinecolor\": \"white\", \"zerolinewidth\": 2}}}, \"xaxis\": {\"anchor\": \"y\", \"domain\": [0.0, 1.0], \"title\": {\"text\": \"Furnishing\"}}, \"yaxis\": {\"anchor\": \"x\", \"domain\": [0.0, 1.0], \"title\": {\"text\": \"count\"}}},\n",
              "                        {\"responsive\": true}\n",
              "                    ).then(function(){\n",
              "                            \n",
              "var gd = document.getElementById('ddc5daa5-2ee6-4399-92e0-dd5e2805bf81');\n",
              "var x = new MutationObserver(function (mutations, observer) {{\n",
              "        var display = window.getComputedStyle(gd).display;\n",
              "        if (!display || display === 'none') {{\n",
              "            console.log([gd, 'removed!']);\n",
              "            Plotly.purge(gd);\n",
              "            observer.disconnect();\n",
              "        }}\n",
              "}});\n",
              "\n",
              "// Listen for the removal of the full notebook cells\n",
              "var notebookContainer = gd.closest('#notebook-container');\n",
              "if (notebookContainer) {{\n",
              "    x.observe(notebookContainer, {childList: true});\n",
              "}}\n",
              "\n",
              "// Listen for the clearing of the current output cell\n",
              "var outputEl = gd.closest('.output');\n",
              "if (outputEl) {{\n",
              "    x.observe(outputEl, {childList: true});\n",
              "}}\n",
              "\n",
              "                        })\n",
              "                };\n",
              "                \n",
              "            </script>\n",
              "        </div>\n",
              "</body>\n",
              "</html>"
            ]
          },
          "metadata": {
            "tags": []
          }
        }
      ]
    },
    {
      "cell_type": "code",
      "metadata": {
        "colab": {
          "base_uri": "https://localhost:8080/",
          "height": 542
        },
        "id": "ScTbXW4ui2_r",
        "outputId": "cf6c02e0-cfb9-438e-863a-bc776fb5003c"
      },
      "source": [
        "px.histogram(df1,x='Status')\n"
      ],
      "execution_count": 23,
      "outputs": [
        {
          "output_type": "display_data",
          "data": {
            "text/html": [
              "<html>\n",
              "<head><meta charset=\"utf-8\" /></head>\n",
              "<body>\n",
              "    <div>\n",
              "            <script src=\"https://cdnjs.cloudflare.com/ajax/libs/mathjax/2.7.5/MathJax.js?config=TeX-AMS-MML_SVG\"></script><script type=\"text/javascript\">if (window.MathJax) {MathJax.Hub.Config({SVG: {font: \"STIX-Web\"}});}</script>\n",
              "                <script type=\"text/javascript\">window.PlotlyConfig = {MathJaxConfig: 'local'};</script>\n",
              "        <script src=\"https://cdn.plot.ly/plotly-latest.min.js\"></script>    \n",
              "            <div id=\"2995c55e-4963-4eba-a482-7c532ed77c86\" class=\"plotly-graph-div\" style=\"height:525px; width:100%;\"></div>\n",
              "            <script type=\"text/javascript\">\n",
              "                \n",
              "                    window.PLOTLYENV=window.PLOTLYENV || {};\n",
              "                    \n",
              "                if (document.getElementById(\"2995c55e-4963-4eba-a482-7c532ed77c86\")) {\n",
              "                    Plotly.newPlot(\n",
              "                        '2995c55e-4963-4eba-a482-7c532ed77c86',\n",
              "                        [{\"alignmentgroup\": \"True\", \"bingroup\": \"x\", \"hoverlabel\": {\"namelength\": 0}, \"hovertemplate\": \"Status=%{x}<br>count=%{y}\", \"legendgroup\": \"\", \"marker\": {\"color\": \"#636efa\"}, \"name\": \"\", \"offsetgroup\": \"\", \"orientation\": \"v\", \"showlegend\": false, \"type\": \"histogram\", \"x\": [\"Ready_to_move\", \"Ready_to_move\", \"Ready_to_move\", \"Ready_to_move\", \"Ready_to_move\", \"Ready_to_move\", \"Ready_to_move\", \"Ready_to_move\", \"Almost_ready\", \"Ready_to_move\", \"Ready_to_move\", \"Ready_to_move\", \"Ready_to_move\", \"Ready_to_move\", \"Ready_to_move\", \"Ready_to_move\", \"Ready_to_move\", \"Ready_to_move\", \"Ready_to_move\", \"Ready_to_move\", \"Ready_to_move\", \"Ready_to_move\", \"Ready_to_move\", \"Ready_to_move\", \"Ready_to_move\", \"Ready_to_move\", \"Ready_to_move\", \"Ready_to_move\", \"Ready_to_move\", \"Ready_to_move\", \"Ready_to_move\", \"Ready_to_move\", \"Ready_to_move\", \"Ready_to_move\", \"Ready_to_move\", \"Ready_to_move\", \"Ready_to_move\", \"Ready_to_move\", \"Ready_to_move\", \"Ready_to_move\", \"Ready_to_move\", \"Ready_to_move\", \"Ready_to_move\", \"Ready_to_move\", \"Ready_to_move\", \"Ready_to_move\", \"Ready_to_move\", \"Ready_to_move\", \"Ready_to_move\", \"Ready_to_move\", \"Ready_to_move\", \"Ready_to_move\", \"Ready_to_move\", \"Ready_to_move\", \"Ready_to_move\", \"Ready_to_move\", \"Ready_to_move\", \"Ready_to_move\", \"Ready_to_move\", \"Ready_to_move\", \"Ready_to_move\", \"Ready_to_move\", \"Ready_to_move\", \"Ready_to_move\", \"Ready_to_move\", \"Ready_to_move\", \"Almost_ready\", \"Ready_to_move\", \"Ready_to_move\", \"Ready_to_move\", \"Ready_to_move\", \"Ready_to_move\", \"Ready_to_move\", \"Ready_to_move\", \"Ready_to_move\", \"Ready_to_move\", \"Ready_to_move\", \"Ready_to_move\", \"Ready_to_move\", \"Ready_to_move\", \"Ready_to_move\", \"Ready_to_move\", \"Ready_to_move\", \"Ready_to_move\", \"Ready_to_move\", \"Ready_to_move\", \"Ready_to_move\", \"Ready_to_move\", \"Ready_to_move\", \"Ready_to_move\", \"Ready_to_move\", \"Ready_to_move\", \"Ready_to_move\", \"Ready_to_move\", \"Ready_to_move\", \"Ready_to_move\", \"Ready_to_move\", \"Ready_to_move\", \"Ready_to_move\", \"Ready_to_move\", \"Ready_to_move\", \"Ready_to_move\", \"Ready_to_move\", \"Ready_to_move\", \"Ready_to_move\", \"Ready_to_move\", \"Ready_to_move\", \"Ready_to_move\", \"Ready_to_move\", \"Ready_to_move\", \"Ready_to_move\", \"Ready_to_move\", \"Ready_to_move\", \"Ready_to_move\", \"Ready_to_move\", \"Ready_to_move\", \"Ready_to_move\", \"Ready_to_move\", \"Ready_to_move\", \"Ready_to_move\", \"Ready_to_move\", \"Ready_to_move\", \"Ready_to_move\", \"Ready_to_move\", \"Ready_to_move\", \"Almost_ready\", \"Ready_to_move\", \"Ready_to_move\", \"Ready_to_move\", \"Ready_to_move\", \"Ready_to_move\", \"Ready_to_move\", \"Ready_to_move\", \"Ready_to_move\", \"Ready_to_move\", \"Ready_to_move\", \"Ready_to_move\", \"Ready_to_move\", \"Ready_to_move\", \"Ready_to_move\", \"Ready_to_move\", \"Ready_to_move\", \"Ready_to_move\", \"Ready_to_move\", \"Ready_to_move\", \"Ready_to_move\", \"Ready_to_move\", \"Ready_to_move\", \"Ready_to_move\", \"Ready_to_move\", \"Ready_to_move\", \"Ready_to_move\", \"Ready_to_move\", \"Ready_to_move\", \"Ready_to_move\", \"Ready_to_move\", \"Ready_to_move\", \"Ready_to_move\", \"Ready_to_move\", \"Ready_to_move\", \"Ready_to_move\", \"Ready_to_move\", \"Ready_to_move\", \"Ready_to_move\", \"Ready_to_move\", \"Ready_to_move\", \"Ready_to_move\", \"Ready_to_move\", \"Ready_to_move\", \"Ready_to_move\", \"Ready_to_move\", \"Ready_to_move\", \"Ready_to_move\", \"Ready_to_move\", \"Ready_to_move\", \"Ready_to_move\", \"Ready_to_move\", \"Ready_to_move\", \"Ready_to_move\", \"Ready_to_move\", \"Ready_to_move\", \"Ready_to_move\", \"Ready_to_move\", \"Ready_to_move\", \"Ready_to_move\", \"Ready_to_move\", \"Ready_to_move\", \"Ready_to_move\", \"Ready_to_move\", \"Ready_to_move\", \"Ready_to_move\", \"Ready_to_move\", \"Ready_to_move\", \"Ready_to_move\", \"Ready_to_move\", \"Ready_to_move\", \"Ready_to_move\", \"Ready_to_move\", \"Ready_to_move\", \"Ready_to_move\", \"Ready_to_move\", \"Almost_ready\", \"Almost_ready\", \"Ready_to_move\", \"Ready_to_move\", \"Ready_to_move\", \"Ready_to_move\", \"Ready_to_move\", \"Ready_to_move\", \"Ready_to_move\", \"Ready_to_move\", \"Ready_to_move\", \"Almost_ready\", \"Almost_ready\", \"Almost_ready\", \"Almost_ready\", \"Almost_ready\", \"Almost_ready\", \"Ready_to_move\", \"Ready_to_move\", \"Ready_to_move\", \"Ready_to_move\", \"Almost_ready\", \"Ready_to_move\", \"Ready_to_move\", \"Ready_to_move\", \"Ready_to_move\", \"Ready_to_move\", \"Ready_to_move\", \"Ready_to_move\", \"Ready_to_move\", \"Ready_to_move\", \"Ready_to_move\", \"Ready_to_move\", \"Ready_to_move\", \"Ready_to_move\", \"Ready_to_move\", \"Ready_to_move\", \"Ready_to_move\", \"Ready_to_move\", \"Ready_to_move\", \"Ready_to_move\", \"Ready_to_move\", \"Ready_to_move\", \"Ready_to_move\", \"Ready_to_move\", \"Ready_to_move\", \"Ready_to_move\", \"Ready_to_move\", \"Ready_to_move\", \"Ready_to_move\", \"Ready_to_move\", \"Ready_to_move\", \"Ready_to_move\", \"Ready_to_move\", \"Ready_to_move\", \"Ready_to_move\", \"Ready_to_move\", \"Ready_to_move\", \"Ready_to_move\", \"Ready_to_move\", \"Ready_to_move\", \"Ready_to_move\", \"Ready_to_move\", \"Ready_to_move\", \"Ready_to_move\", \"Ready_to_move\", \"Almost_ready\", \"Ready_to_move\", \"Ready_to_move\", \"Ready_to_move\", \"Ready_to_move\", \"Ready_to_move\", \"Ready_to_move\", \"Ready_to_move\", \"Ready_to_move\", \"Ready_to_move\", \"Ready_to_move\", \"Ready_to_move\", \"Ready_to_move\", \"Ready_to_move\", \"Ready_to_move\", \"Ready_to_move\", \"Ready_to_move\", \"Ready_to_move\", \"Ready_to_move\", \"Ready_to_move\", \"Ready_to_move\", \"Ready_to_move\", \"Ready_to_move\", \"Ready_to_move\", \"Ready_to_move\", \"Ready_to_move\", \"Ready_to_move\", \"Ready_to_move\", \"Ready_to_move\", \"Ready_to_move\", \"Ready_to_move\", \"Ready_to_move\", \"Ready_to_move\", \"Ready_to_move\", \"Ready_to_move\", \"Ready_to_move\", \"Ready_to_move\", \"Ready_to_move\", \"Ready_to_move\", \"Ready_to_move\", \"Ready_to_move\", \"Ready_to_move\", \"Ready_to_move\", \"Almost_ready\", \"Ready_to_move\", \"Ready_to_move\", \"Almost_ready\", \"Ready_to_move\", \"Ready_to_move\", \"Ready_to_move\", \"Ready_to_move\", \"Ready_to_move\", \"Ready_to_move\", \"Ready_to_move\", \"Ready_to_move\", \"Ready_to_move\", \"Ready_to_move\", \"Ready_to_move\", \"Ready_to_move\", \"Ready_to_move\", \"Ready_to_move\", \"Ready_to_move\", \"Ready_to_move\", \"Ready_to_move\", \"Ready_to_move\", \"Ready_to_move\", \"Ready_to_move\", \"Ready_to_move\", \"Ready_to_move\", \"Ready_to_move\", \"Ready_to_move\", \"Ready_to_move\", \"Ready_to_move\", \"Ready_to_move\", \"Ready_to_move\", \"Ready_to_move\", \"Ready_to_move\", \"Ready_to_move\", \"Ready_to_move\", \"Ready_to_move\", \"Ready_to_move\", \"Ready_to_move\", \"Ready_to_move\", \"Ready_to_move\", \"Ready_to_move\", \"Ready_to_move\", \"Ready_to_move\", \"Ready_to_move\", \"Ready_to_move\", \"Ready_to_move\", \"Ready_to_move\", \"Ready_to_move\", \"Ready_to_move\", \"Ready_to_move\", \"Ready_to_move\", \"Ready_to_move\", \"Ready_to_move\", \"Ready_to_move\", \"Ready_to_move\", \"Ready_to_move\", \"Ready_to_move\", \"Ready_to_move\", \"Ready_to_move\", \"Ready_to_move\", \"Ready_to_move\", \"Ready_to_move\", \"Ready_to_move\", \"Ready_to_move\", \"Ready_to_move\", \"Ready_to_move\", \"Ready_to_move\", \"Almost_ready\", \"Ready_to_move\", \"Ready_to_move\", \"Ready_to_move\", \"Ready_to_move\", \"Ready_to_move\", \"Ready_to_move\", \"Ready_to_move\", \"Ready_to_move\", \"Ready_to_move\", \"Ready_to_move\", \"Ready_to_move\", \"Ready_to_move\", \"Ready_to_move\", \"Ready_to_move\", \"Ready_to_move\", \"Ready_to_move\", \"Ready_to_move\", \"Ready_to_move\", \"Ready_to_move\", \"Ready_to_move\", \"Ready_to_move\", \"Ready_to_move\", \"Ready_to_move\", \"Ready_to_move\", \"Ready_to_move\", \"Ready_to_move\", \"Ready_to_move\", \"Ready_to_move\", \"Ready_to_move\", \"Ready_to_move\", \"Ready_to_move\", \"Almost_ready\", \"Ready_to_move\", \"Ready_to_move\", \"Ready_to_move\", \"Ready_to_move\", \"Ready_to_move\", \"Ready_to_move\", \"Ready_to_move\", \"Ready_to_move\", \"Ready_to_move\", \"Ready_to_move\", \"Ready_to_move\", \"Ready_to_move\", \"Ready_to_move\", \"Ready_to_move\", \"Ready_to_move\", \"Ready_to_move\", \"Ready_to_move\", \"Ready_to_move\", \"Ready_to_move\", \"Ready_to_move\", \"Ready_to_move\", \"Ready_to_move\", \"Ready_to_move\", \"Ready_to_move\", \"Ready_to_move\", \"Ready_to_move\", \"Ready_to_move\", \"Ready_to_move\", \"Ready_to_move\", \"Ready_to_move\", \"Ready_to_move\", \"Ready_to_move\", \"Ready_to_move\", \"Ready_to_move\", \"Ready_to_move\", \"Ready_to_move\", \"Ready_to_move\", \"Ready_to_move\", \"Ready_to_move\", \"Ready_to_move\", \"Ready_to_move\", \"Ready_to_move\", \"Ready_to_move\", \"Ready_to_move\", \"Ready_to_move\", \"Ready_to_move\", \"Ready_to_move\", \"Ready_to_move\", \"Ready_to_move\", \"Ready_to_move\", \"Ready_to_move\", \"Ready_to_move\", \"Ready_to_move\", \"Ready_to_move\", \"Ready_to_move\", \"Ready_to_move\", \"Ready_to_move\", \"Ready_to_move\", \"Ready_to_move\", \"Ready_to_move\", \"Ready_to_move\", \"Ready_to_move\", \"Ready_to_move\", \"Ready_to_move\", \"Ready_to_move\", \"Ready_to_move\", \"Ready_to_move\", \"Ready_to_move\", \"Almost_ready\", \"Ready_to_move\", \"Ready_to_move\", \"Ready_to_move\", \"Ready_to_move\", \"Ready_to_move\", \"Ready_to_move\", \"Ready_to_move\", \"Ready_to_move\", \"Ready_to_move\", \"Almost_ready\", \"Ready_to_move\", \"Ready_to_move\", \"Ready_to_move\", \"Ready_to_move\", \"Ready_to_move\", \"Ready_to_move\", \"Ready_to_move\", \"Ready_to_move\", \"Ready_to_move\", \"Ready_to_move\", \"Ready_to_move\", \"Ready_to_move\", \"Ready_to_move\", \"Ready_to_move\", \"Ready_to_move\", \"Ready_to_move\", \"Ready_to_move\", \"Ready_to_move\", \"Ready_to_move\", \"Ready_to_move\", \"Ready_to_move\", \"Ready_to_move\", \"Ready_to_move\", \"Ready_to_move\", \"Ready_to_move\", \"Ready_to_move\", \"Ready_to_move\", \"Ready_to_move\", \"Ready_to_move\", \"Ready_to_move\", \"Ready_to_move\", \"Ready_to_move\", \"Ready_to_move\", \"Ready_to_move\", \"Ready_to_move\", \"Ready_to_move\", \"Ready_to_move\", \"Ready_to_move\", \"Ready_to_move\", \"Ready_to_move\", \"Ready_to_move\", \"Ready_to_move\", \"Ready_to_move\", \"Ready_to_move\", \"Ready_to_move\", \"Ready_to_move\", \"Ready_to_move\", \"Ready_to_move\", \"Ready_to_move\", \"Ready_to_move\", \"Ready_to_move\", \"Ready_to_move\", \"Ready_to_move\", \"Ready_to_move\", \"Ready_to_move\", \"Ready_to_move\", \"Ready_to_move\", \"Ready_to_move\", \"Ready_to_move\", \"Ready_to_move\", \"Ready_to_move\", \"Ready_to_move\", \"Ready_to_move\", \"Ready_to_move\", \"Ready_to_move\", \"Ready_to_move\", \"Ready_to_move\", \"Ready_to_move\", \"Ready_to_move\", \"Ready_to_move\", \"Ready_to_move\", \"Ready_to_move\", \"Ready_to_move\", \"Ready_to_move\", \"Ready_to_move\", \"Ready_to_move\", \"Ready_to_move\", \"Ready_to_move\", \"Ready_to_move\", \"Ready_to_move\", \"Ready_to_move\", \"Ready_to_move\", \"Ready_to_move\", \"Ready_to_move\", \"Ready_to_move\", \"Ready_to_move\", \"Ready_to_move\", \"Ready_to_move\", \"Ready_to_move\", \"Ready_to_move\", \"Ready_to_move\", \"Ready_to_move\", \"Ready_to_move\", \"Ready_to_move\", \"Ready_to_move\", \"Ready_to_move\", \"Ready_to_move\", \"Ready_to_move\", \"Ready_to_move\", \"Ready_to_move\", \"Ready_to_move\", \"Ready_to_move\", \"Ready_to_move\", \"Ready_to_move\", \"Ready_to_move\", \"Ready_to_move\", \"Ready_to_move\", \"Ready_to_move\", \"Ready_to_move\", \"Ready_to_move\", \"Ready_to_move\", \"Ready_to_move\", \"Ready_to_move\", \"Ready_to_move\", \"Ready_to_move\", \"Ready_to_move\", \"Ready_to_move\", \"Ready_to_move\", \"Ready_to_move\", \"Ready_to_move\", \"Ready_to_move\", \"Ready_to_move\", \"Ready_to_move\", \"Ready_to_move\", \"Ready_to_move\", \"Ready_to_move\", \"Ready_to_move\", \"Ready_to_move\", \"Ready_to_move\", \"Ready_to_move\", \"Ready_to_move\", \"Ready_to_move\", \"Ready_to_move\", \"Ready_to_move\", \"Ready_to_move\", \"Ready_to_move\", \"Ready_to_move\", \"Ready_to_move\", \"Ready_to_move\", \"Ready_to_move\", \"Ready_to_move\", \"Ready_to_move\", \"Ready_to_move\", \"Ready_to_move\", \"Ready_to_move\", \"Ready_to_move\", \"Ready_to_move\", \"Ready_to_move\", \"Ready_to_move\", \"Ready_to_move\", \"Ready_to_move\", \"Ready_to_move\", \"Ready_to_move\", \"Ready_to_move\", \"Ready_to_move\", \"Ready_to_move\", \"Ready_to_move\", \"Ready_to_move\", \"Ready_to_move\", \"Ready_to_move\", \"Ready_to_move\", \"Ready_to_move\", \"Ready_to_move\", \"Ready_to_move\", \"Ready_to_move\", \"Ready_to_move\", \"Ready_to_move\", \"Ready_to_move\", \"Ready_to_move\", \"Ready_to_move\", \"Ready_to_move\", \"Ready_to_move\", \"Ready_to_move\", \"Ready_to_move\", \"Ready_to_move\", \"Ready_to_move\", \"Ready_to_move\", \"Ready_to_move\", \"Ready_to_move\", \"Ready_to_move\", \"Ready_to_move\", \"Ready_to_move\", \"Ready_to_move\", \"Ready_to_move\", \"Ready_to_move\", \"Ready_to_move\", \"Ready_to_move\", \"Ready_to_move\", \"Ready_to_move\", \"Ready_to_move\", \"Ready_to_move\", \"Ready_to_move\", \"Ready_to_move\", \"Ready_to_move\", \"Ready_to_move\", \"Ready_to_move\", \"Ready_to_move\", \"Ready_to_move\", \"Ready_to_move\", \"Ready_to_move\", \"Ready_to_move\", \"Ready_to_move\", \"Ready_to_move\", \"Ready_to_move\", \"Ready_to_move\", \"Ready_to_move\", \"Ready_to_move\", \"Ready_to_move\", \"Ready_to_move\", \"Ready_to_move\", \"Ready_to_move\", \"Ready_to_move\", \"Ready_to_move\", \"Ready_to_move\", \"Ready_to_move\", \"Ready_to_move\", \"Almost_ready\", \"Ready_to_move\", \"Almost_ready\", \"Ready_to_move\", \"Ready_to_move\", \"Ready_to_move\", \"Ready_to_move\", \"Ready_to_move\", \"Ready_to_move\", \"Ready_to_move\", \"Ready_to_move\", \"Ready_to_move\", \"Ready_to_move\", \"Ready_to_move\", \"Ready_to_move\", \"Ready_to_move\", \"Almost_ready\", \"Ready_to_move\", \"Almost_ready\", \"Almost_ready\", \"Almost_ready\", \"Ready_to_move\", \"Ready_to_move\", \"Ready_to_move\", \"Ready_to_move\", \"Almost_ready\", \"Ready_to_move\", \"Ready_to_move\", \"Ready_to_move\", \"Ready_to_move\", \"Ready_to_move\", \"Ready_to_move\", \"Ready_to_move\", \"Ready_to_move\", \"Ready_to_move\", \"Almost_ready\", \"Almost_ready\", \"Ready_to_move\", \"Ready_to_move\", \"Ready_to_move\", \"Ready_to_move\", \"Ready_to_move\", \"Ready_to_move\", \"Ready_to_move\", \"Ready_to_move\", \"Ready_to_move\", \"Ready_to_move\", \"Ready_to_move\", \"Ready_to_move\", \"Ready_to_move\", \"Ready_to_move\", \"Ready_to_move\", \"Ready_to_move\", \"Ready_to_move\", \"Ready_to_move\", \"Ready_to_move\", \"Ready_to_move\", \"Ready_to_move\", \"Almost_ready\", \"Ready_to_move\", \"Almost_ready\", \"Ready_to_move\", \"Ready_to_move\", \"Ready_to_move\", \"Ready_to_move\", \"Ready_to_move\", \"Ready_to_move\", \"Ready_to_move\", \"Ready_to_move\", \"Ready_to_move\", \"Ready_to_move\", \"Ready_to_move\", \"Ready_to_move\", \"Ready_to_move\", \"Ready_to_move\", \"Ready_to_move\", \"Ready_to_move\", \"Almost_ready\", \"Ready_to_move\", \"Ready_to_move\", \"Ready_to_move\", \"Ready_to_move\", \"Ready_to_move\", \"Ready_to_move\", \"Ready_to_move\", \"Ready_to_move\", \"Ready_to_move\", \"Ready_to_move\", \"Ready_to_move\", \"Ready_to_move\", \"Ready_to_move\", \"Ready_to_move\", \"Ready_to_move\", \"Ready_to_move\", \"Ready_to_move\", \"Almost_ready\", \"Ready_to_move\", \"Ready_to_move\", \"Ready_to_move\", \"Ready_to_move\", \"Ready_to_move\", \"Ready_to_move\", \"Ready_to_move\", \"Ready_to_move\", \"Ready_to_move\", \"Ready_to_move\", \"Ready_to_move\", \"Ready_to_move\", \"Ready_to_move\", \"Ready_to_move\", \"Ready_to_move\", \"Ready_to_move\", \"Ready_to_move\", \"Ready_to_move\", \"Ready_to_move\", \"Ready_to_move\", \"Ready_to_move\", \"Ready_to_move\", \"Ready_to_move\", \"Ready_to_move\", \"Ready_to_move\", \"Ready_to_move\", \"Ready_to_move\", \"Ready_to_move\", \"Ready_to_move\", \"Ready_to_move\", \"Ready_to_move\", \"Ready_to_move\", \"Ready_to_move\", \"Ready_to_move\", \"Ready_to_move\", \"Ready_to_move\", \"Ready_to_move\", \"Ready_to_move\", \"Ready_to_move\", \"Ready_to_move\", \"Almost_ready\", \"Ready_to_move\", \"Ready_to_move\", \"Ready_to_move\", \"Almost_ready\", \"Ready_to_move\", \"Ready_to_move\", \"Ready_to_move\", \"Almost_ready\", \"Ready_to_move\", \"Ready_to_move\", \"Ready_to_move\", \"Ready_to_move\", \"Ready_to_move\", \"Ready_to_move\", \"Ready_to_move\", \"Ready_to_move\", \"Ready_to_move\", \"Ready_to_move\", \"Ready_to_move\", \"Ready_to_move\", \"Ready_to_move\", \"Ready_to_move\", \"Ready_to_move\", \"Ready_to_move\", \"Ready_to_move\", \"Ready_to_move\", \"Ready_to_move\", \"Ready_to_move\", \"Ready_to_move\", \"Ready_to_move\", \"Ready_to_move\", \"Ready_to_move\", \"Ready_to_move\", \"Ready_to_move\", \"Ready_to_move\", \"Ready_to_move\", \"Ready_to_move\", \"Ready_to_move\", \"Ready_to_move\", \"Ready_to_move\", \"Ready_to_move\", \"Ready_to_move\", \"Ready_to_move\", \"Ready_to_move\", \"Ready_to_move\", \"Ready_to_move\", \"Ready_to_move\", \"Ready_to_move\", \"Ready_to_move\", \"Ready_to_move\", \"Ready_to_move\", \"Ready_to_move\", \"Ready_to_move\", \"Ready_to_move\", \"Ready_to_move\", \"Ready_to_move\", \"Ready_to_move\", \"Ready_to_move\", \"Ready_to_move\", \"Ready_to_move\", \"Ready_to_move\", \"Ready_to_move\", \"Ready_to_move\", \"Ready_to_move\", \"Ready_to_move\", \"Ready_to_move\", \"Ready_to_move\", \"Ready_to_move\", \"Ready_to_move\", \"Ready_to_move\", \"Ready_to_move\", \"Ready_to_move\", \"Ready_to_move\", \"Ready_to_move\", \"Ready_to_move\", \"Ready_to_move\", \"Ready_to_move\", \"Ready_to_move\", \"Ready_to_move\", \"Ready_to_move\", \"Ready_to_move\", \"Ready_to_move\", \"Ready_to_move\", \"Ready_to_move\", \"Ready_to_move\", \"Ready_to_move\", \"Ready_to_move\", \"Ready_to_move\", \"Ready_to_move\", \"Almost_ready\", \"Almost_ready\", \"Ready_to_move\", \"Ready_to_move\", \"Ready_to_move\", \"Ready_to_move\", \"Almost_ready\", \"Almost_ready\", \"Almost_ready\", \"Almost_ready\", \"Ready_to_move\", \"Ready_to_move\", \"Ready_to_move\", \"Almost_ready\", \"Ready_to_move\", \"Ready_to_move\", \"Ready_to_move\", \"Ready_to_move\", \"Ready_to_move\", \"Almost_ready\", \"Ready_to_move\", \"Ready_to_move\", \"Ready_to_move\", \"Ready_to_move\", \"Ready_to_move\", \"Ready_to_move\", \"Ready_to_move\", \"Ready_to_move\", \"Ready_to_move\", \"Ready_to_move\", \"Almost_ready\", \"Almost_ready\", \"Almost_ready\", \"Almost_ready\", \"Ready_to_move\", \"Ready_to_move\", \"Ready_to_move\", \"Ready_to_move\", \"Almost_ready\", \"Almost_ready\", \"Almost_ready\", \"Ready_to_move\", \"Ready_to_move\", \"Ready_to_move\", \"Ready_to_move\", \"Ready_to_move\", \"Ready_to_move\", \"Ready_to_move\", \"Ready_to_move\", \"Ready_to_move\", \"Ready_to_move\", \"Ready_to_move\", \"Ready_to_move\", \"Ready_to_move\", \"Almost_ready\", \"Almost_ready\", \"Almost_ready\", \"Ready_to_move\", \"Ready_to_move\", \"Ready_to_move\", \"Ready_to_move\", \"Ready_to_move\", \"Ready_to_move\", \"Ready_to_move\", \"Ready_to_move\", \"Ready_to_move\", \"Ready_to_move\", \"Ready_to_move\", \"Ready_to_move\", \"Ready_to_move\", \"Ready_to_move\", \"Ready_to_move\", \"Ready_to_move\", \"Ready_to_move\", \"Ready_to_move\", \"Ready_to_move\", \"Ready_to_move\", \"Ready_to_move\", \"Ready_to_move\", \"Ready_to_move\", \"Ready_to_move\", \"Ready_to_move\", \"Ready_to_move\", \"Ready_to_move\", \"Ready_to_move\", \"Ready_to_move\", \"Ready_to_move\", \"Ready_to_move\", \"Ready_to_move\", \"Ready_to_move\", \"Ready_to_move\", \"Ready_to_move\", \"Ready_to_move\", \"Ready_to_move\", \"Ready_to_move\", \"Ready_to_move\", \"Ready_to_move\", \"Ready_to_move\", \"Ready_to_move\", \"Ready_to_move\", \"Ready_to_move\", \"Ready_to_move\", \"Ready_to_move\", \"Ready_to_move\", \"Ready_to_move\", \"Ready_to_move\", \"Ready_to_move\", \"Ready_to_move\", \"Ready_to_move\", \"Ready_to_move\", \"Ready_to_move\", \"Ready_to_move\", \"Ready_to_move\", \"Ready_to_move\", \"Ready_to_move\", \"Ready_to_move\", \"Ready_to_move\", \"Ready_to_move\", \"Ready_to_move\", \"Ready_to_move\", \"Almost_ready\", \"Ready_to_move\", \"Ready_to_move\", \"Ready_to_move\", \"Ready_to_move\", \"Ready_to_move\", \"Ready_to_move\", \"Ready_to_move\", \"Ready_to_move\", \"Ready_to_move\", \"Ready_to_move\", \"Ready_to_move\", \"Ready_to_move\", \"Ready_to_move\", \"Ready_to_move\", \"Almost_ready\", \"Almost_ready\", \"Ready_to_move\", \"Ready_to_move\", \"Ready_to_move\", \"Ready_to_move\", \"Ready_to_move\", \"Ready_to_move\", \"Ready_to_move\", \"Ready_to_move\", \"Ready_to_move\", \"Ready_to_move\", \"Ready_to_move\", \"Ready_to_move\", \"Ready_to_move\", \"Ready_to_move\", \"Ready_to_move\", \"Ready_to_move\", \"Ready_to_move\", \"Ready_to_move\", \"Ready_to_move\", \"Ready_to_move\", \"Ready_to_move\", \"Ready_to_move\", \"Ready_to_move\", \"Ready_to_move\", \"Ready_to_move\", \"Ready_to_move\", \"Ready_to_move\", \"Ready_to_move\", \"Ready_to_move\", \"Ready_to_move\", \"Ready_to_move\", \"Ready_to_move\", \"Ready_to_move\", \"Ready_to_move\", \"Ready_to_move\", \"Ready_to_move\", \"Ready_to_move\", \"Ready_to_move\", \"Ready_to_move\", \"Ready_to_move\", \"Almost_ready\", \"Ready_to_move\", \"Ready_to_move\", \"Ready_to_move\", \"Ready_to_move\", \"Ready_to_move\", \"Ready_to_move\", \"Almost_ready\", \"Ready_to_move\", \"Ready_to_move\", \"Ready_to_move\", \"Ready_to_move\", \"Ready_to_move\", \"Ready_to_move\", \"Ready_to_move\", \"Almost_ready\", \"Ready_to_move\", \"Ready_to_move\", \"Ready_to_move\", \"Ready_to_move\", \"Ready_to_move\", \"Ready_to_move\", \"Ready_to_move\", \"Ready_to_move\", \"Almost_ready\", \"Ready_to_move\", \"Ready_to_move\", \"Ready_to_move\", \"Ready_to_move\", \"Ready_to_move\", \"Ready_to_move\", \"Ready_to_move\", \"Almost_ready\", \"Ready_to_move\", \"Ready_to_move\", \"Ready_to_move\", \"Ready_to_move\", \"Ready_to_move\", \"Ready_to_move\", \"Ready_to_move\", \"Ready_to_move\", \"Ready_to_move\", \"Ready_to_move\", \"Ready_to_move\", \"Ready_to_move\", \"Ready_to_move\", \"Ready_to_move\", \"Ready_to_move\", \"Ready_to_move\", \"Ready_to_move\", \"Ready_to_move\", \"Ready_to_move\", \"Ready_to_move\", \"Ready_to_move\", \"Ready_to_move\", \"Ready_to_move\", \"Ready_to_move\", \"Ready_to_move\", \"Ready_to_move\", \"Ready_to_move\", \"Ready_to_move\"], \"xaxis\": \"x\", \"yaxis\": \"y\"}],\n",
              "                        {\"barmode\": \"relative\", \"legend\": {\"tracegroupgap\": 0}, \"margin\": {\"t\": 60}, \"template\": {\"data\": {\"bar\": [{\"error_x\": {\"color\": \"#2a3f5f\"}, \"error_y\": {\"color\": \"#2a3f5f\"}, \"marker\": {\"line\": {\"color\": \"#E5ECF6\", \"width\": 0.5}}, \"type\": \"bar\"}], \"barpolar\": [{\"marker\": {\"line\": {\"color\": \"#E5ECF6\", \"width\": 0.5}}, \"type\": \"barpolar\"}], \"carpet\": [{\"aaxis\": {\"endlinecolor\": \"#2a3f5f\", \"gridcolor\": \"white\", \"linecolor\": \"white\", \"minorgridcolor\": \"white\", \"startlinecolor\": \"#2a3f5f\"}, \"baxis\": {\"endlinecolor\": \"#2a3f5f\", \"gridcolor\": \"white\", \"linecolor\": \"white\", \"minorgridcolor\": \"white\", \"startlinecolor\": \"#2a3f5f\"}, \"type\": \"carpet\"}], \"choropleth\": [{\"colorbar\": {\"outlinewidth\": 0, \"ticks\": \"\"}, \"type\": \"choropleth\"}], \"contour\": [{\"colorbar\": {\"outlinewidth\": 0, \"ticks\": \"\"}, \"colorscale\": [[0.0, \"#0d0887\"], [0.1111111111111111, \"#46039f\"], [0.2222222222222222, \"#7201a8\"], [0.3333333333333333, \"#9c179e\"], [0.4444444444444444, \"#bd3786\"], [0.5555555555555556, \"#d8576b\"], [0.6666666666666666, \"#ed7953\"], [0.7777777777777778, \"#fb9f3a\"], [0.8888888888888888, \"#fdca26\"], [1.0, \"#f0f921\"]], \"type\": \"contour\"}], \"contourcarpet\": [{\"colorbar\": {\"outlinewidth\": 0, \"ticks\": \"\"}, \"type\": \"contourcarpet\"}], \"heatmap\": [{\"colorbar\": {\"outlinewidth\": 0, \"ticks\": \"\"}, \"colorscale\": [[0.0, \"#0d0887\"], [0.1111111111111111, \"#46039f\"], [0.2222222222222222, \"#7201a8\"], [0.3333333333333333, \"#9c179e\"], [0.4444444444444444, \"#bd3786\"], [0.5555555555555556, \"#d8576b\"], [0.6666666666666666, \"#ed7953\"], [0.7777777777777778, \"#fb9f3a\"], [0.8888888888888888, \"#fdca26\"], [1.0, \"#f0f921\"]], \"type\": \"heatmap\"}], \"heatmapgl\": [{\"colorbar\": {\"outlinewidth\": 0, \"ticks\": \"\"}, \"colorscale\": [[0.0, \"#0d0887\"], [0.1111111111111111, \"#46039f\"], [0.2222222222222222, \"#7201a8\"], [0.3333333333333333, \"#9c179e\"], [0.4444444444444444, \"#bd3786\"], [0.5555555555555556, \"#d8576b\"], [0.6666666666666666, \"#ed7953\"], [0.7777777777777778, \"#fb9f3a\"], [0.8888888888888888, \"#fdca26\"], [1.0, \"#f0f921\"]], \"type\": \"heatmapgl\"}], \"histogram\": [{\"marker\": {\"colorbar\": {\"outlinewidth\": 0, \"ticks\": \"\"}}, \"type\": \"histogram\"}], \"histogram2d\": [{\"colorbar\": {\"outlinewidth\": 0, \"ticks\": \"\"}, \"colorscale\": [[0.0, \"#0d0887\"], [0.1111111111111111, \"#46039f\"], [0.2222222222222222, \"#7201a8\"], [0.3333333333333333, \"#9c179e\"], [0.4444444444444444, \"#bd3786\"], [0.5555555555555556, \"#d8576b\"], [0.6666666666666666, \"#ed7953\"], [0.7777777777777778, \"#fb9f3a\"], [0.8888888888888888, \"#fdca26\"], [1.0, \"#f0f921\"]], \"type\": \"histogram2d\"}], \"histogram2dcontour\": [{\"colorbar\": {\"outlinewidth\": 0, \"ticks\": \"\"}, \"colorscale\": [[0.0, \"#0d0887\"], [0.1111111111111111, \"#46039f\"], [0.2222222222222222, \"#7201a8\"], [0.3333333333333333, \"#9c179e\"], [0.4444444444444444, \"#bd3786\"], [0.5555555555555556, \"#d8576b\"], [0.6666666666666666, \"#ed7953\"], [0.7777777777777778, \"#fb9f3a\"], [0.8888888888888888, \"#fdca26\"], [1.0, \"#f0f921\"]], \"type\": \"histogram2dcontour\"}], \"mesh3d\": [{\"colorbar\": {\"outlinewidth\": 0, \"ticks\": \"\"}, \"type\": \"mesh3d\"}], \"parcoords\": [{\"line\": {\"colorbar\": {\"outlinewidth\": 0, \"ticks\": \"\"}}, \"type\": \"parcoords\"}], \"pie\": [{\"automargin\": true, \"type\": \"pie\"}], \"scatter\": [{\"marker\": {\"colorbar\": {\"outlinewidth\": 0, \"ticks\": \"\"}}, \"type\": \"scatter\"}], \"scatter3d\": [{\"line\": {\"colorbar\": {\"outlinewidth\": 0, \"ticks\": \"\"}}, \"marker\": {\"colorbar\": {\"outlinewidth\": 0, \"ticks\": \"\"}}, \"type\": \"scatter3d\"}], \"scattercarpet\": [{\"marker\": {\"colorbar\": {\"outlinewidth\": 0, \"ticks\": \"\"}}, \"type\": \"scattercarpet\"}], \"scattergeo\": [{\"marker\": {\"colorbar\": {\"outlinewidth\": 0, \"ticks\": \"\"}}, \"type\": \"scattergeo\"}], \"scattergl\": [{\"marker\": {\"colorbar\": {\"outlinewidth\": 0, \"ticks\": \"\"}}, \"type\": \"scattergl\"}], \"scattermapbox\": [{\"marker\": {\"colorbar\": {\"outlinewidth\": 0, \"ticks\": \"\"}}, \"type\": \"scattermapbox\"}], \"scatterpolar\": [{\"marker\": {\"colorbar\": {\"outlinewidth\": 0, \"ticks\": \"\"}}, \"type\": \"scatterpolar\"}], \"scatterpolargl\": [{\"marker\": {\"colorbar\": {\"outlinewidth\": 0, \"ticks\": \"\"}}, \"type\": \"scatterpolargl\"}], \"scatterternary\": [{\"marker\": {\"colorbar\": {\"outlinewidth\": 0, \"ticks\": \"\"}}, \"type\": \"scatterternary\"}], \"surface\": [{\"colorbar\": {\"outlinewidth\": 0, \"ticks\": \"\"}, \"colorscale\": [[0.0, \"#0d0887\"], [0.1111111111111111, \"#46039f\"], [0.2222222222222222, \"#7201a8\"], [0.3333333333333333, \"#9c179e\"], [0.4444444444444444, \"#bd3786\"], [0.5555555555555556, \"#d8576b\"], [0.6666666666666666, \"#ed7953\"], [0.7777777777777778, \"#fb9f3a\"], [0.8888888888888888, \"#fdca26\"], [1.0, \"#f0f921\"]], \"type\": \"surface\"}], \"table\": [{\"cells\": {\"fill\": {\"color\": \"#EBF0F8\"}, \"line\": {\"color\": \"white\"}}, \"header\": {\"fill\": {\"color\": \"#C8D4E3\"}, \"line\": {\"color\": \"white\"}}, \"type\": \"table\"}]}, \"layout\": {\"annotationdefaults\": {\"arrowcolor\": \"#2a3f5f\", \"arrowhead\": 0, \"arrowwidth\": 1}, \"coloraxis\": {\"colorbar\": {\"outlinewidth\": 0, \"ticks\": \"\"}}, \"colorscale\": {\"diverging\": [[0, \"#8e0152\"], [0.1, \"#c51b7d\"], [0.2, \"#de77ae\"], [0.3, \"#f1b6da\"], [0.4, \"#fde0ef\"], [0.5, \"#f7f7f7\"], [0.6, \"#e6f5d0\"], [0.7, \"#b8e186\"], [0.8, \"#7fbc41\"], [0.9, \"#4d9221\"], [1, \"#276419\"]], \"sequential\": [[0.0, \"#0d0887\"], [0.1111111111111111, \"#46039f\"], [0.2222222222222222, \"#7201a8\"], [0.3333333333333333, \"#9c179e\"], [0.4444444444444444, \"#bd3786\"], [0.5555555555555556, \"#d8576b\"], [0.6666666666666666, \"#ed7953\"], [0.7777777777777778, \"#fb9f3a\"], [0.8888888888888888, \"#fdca26\"], [1.0, \"#f0f921\"]], \"sequentialminus\": [[0.0, \"#0d0887\"], [0.1111111111111111, \"#46039f\"], [0.2222222222222222, \"#7201a8\"], [0.3333333333333333, \"#9c179e\"], [0.4444444444444444, \"#bd3786\"], [0.5555555555555556, \"#d8576b\"], [0.6666666666666666, \"#ed7953\"], [0.7777777777777778, \"#fb9f3a\"], [0.8888888888888888, \"#fdca26\"], [1.0, \"#f0f921\"]]}, \"colorway\": [\"#636efa\", \"#EF553B\", \"#00cc96\", \"#ab63fa\", \"#FFA15A\", \"#19d3f3\", \"#FF6692\", \"#B6E880\", \"#FF97FF\", \"#FECB52\"], \"font\": {\"color\": \"#2a3f5f\"}, \"geo\": {\"bgcolor\": \"white\", \"lakecolor\": \"white\", \"landcolor\": \"#E5ECF6\", \"showlakes\": true, \"showland\": true, \"subunitcolor\": \"white\"}, \"hoverlabel\": {\"align\": \"left\"}, \"hovermode\": \"closest\", \"mapbox\": {\"style\": \"light\"}, \"paper_bgcolor\": \"white\", \"plot_bgcolor\": \"#E5ECF6\", \"polar\": {\"angularaxis\": {\"gridcolor\": \"white\", \"linecolor\": \"white\", \"ticks\": \"\"}, \"bgcolor\": \"#E5ECF6\", \"radialaxis\": {\"gridcolor\": \"white\", \"linecolor\": \"white\", \"ticks\": \"\"}}, \"scene\": {\"xaxis\": {\"backgroundcolor\": \"#E5ECF6\", \"gridcolor\": \"white\", \"gridwidth\": 2, \"linecolor\": \"white\", \"showbackground\": true, \"ticks\": \"\", \"zerolinecolor\": \"white\"}, \"yaxis\": {\"backgroundcolor\": \"#E5ECF6\", \"gridcolor\": \"white\", \"gridwidth\": 2, \"linecolor\": \"white\", \"showbackground\": true, \"ticks\": \"\", \"zerolinecolor\": \"white\"}, \"zaxis\": {\"backgroundcolor\": \"#E5ECF6\", \"gridcolor\": \"white\", \"gridwidth\": 2, \"linecolor\": \"white\", \"showbackground\": true, \"ticks\": \"\", \"zerolinecolor\": \"white\"}}, \"shapedefaults\": {\"line\": {\"color\": \"#2a3f5f\"}}, \"ternary\": {\"aaxis\": {\"gridcolor\": \"white\", \"linecolor\": \"white\", \"ticks\": \"\"}, \"baxis\": {\"gridcolor\": \"white\", \"linecolor\": \"white\", \"ticks\": \"\"}, \"bgcolor\": \"#E5ECF6\", \"caxis\": {\"gridcolor\": \"white\", \"linecolor\": \"white\", \"ticks\": \"\"}}, \"title\": {\"x\": 0.05}, \"xaxis\": {\"automargin\": true, \"gridcolor\": \"white\", \"linecolor\": \"white\", \"ticks\": \"\", \"title\": {\"standoff\": 15}, \"zerolinecolor\": \"white\", \"zerolinewidth\": 2}, \"yaxis\": {\"automargin\": true, \"gridcolor\": \"white\", \"linecolor\": \"white\", \"ticks\": \"\", \"title\": {\"standoff\": 15}, \"zerolinecolor\": \"white\", \"zerolinewidth\": 2}}}, \"xaxis\": {\"anchor\": \"y\", \"domain\": [0.0, 1.0], \"title\": {\"text\": \"Status\"}}, \"yaxis\": {\"anchor\": \"x\", \"domain\": [0.0, 1.0], \"title\": {\"text\": \"count\"}}},\n",
              "                        {\"responsive\": true}\n",
              "                    ).then(function(){\n",
              "                            \n",
              "var gd = document.getElementById('2995c55e-4963-4eba-a482-7c532ed77c86');\n",
              "var x = new MutationObserver(function (mutations, observer) {{\n",
              "        var display = window.getComputedStyle(gd).display;\n",
              "        if (!display || display === 'none') {{\n",
              "            console.log([gd, 'removed!']);\n",
              "            Plotly.purge(gd);\n",
              "            observer.disconnect();\n",
              "        }}\n",
              "}});\n",
              "\n",
              "// Listen for the removal of the full notebook cells\n",
              "var notebookContainer = gd.closest('#notebook-container');\n",
              "if (notebookContainer) {{\n",
              "    x.observe(notebookContainer, {childList: true});\n",
              "}}\n",
              "\n",
              "// Listen for the clearing of the current output cell\n",
              "var outputEl = gd.closest('.output');\n",
              "if (outputEl) {{\n",
              "    x.observe(outputEl, {childList: true});\n",
              "}}\n",
              "\n",
              "                        })\n",
              "                };\n",
              "                \n",
              "            </script>\n",
              "        </div>\n",
              "</body>\n",
              "</html>"
            ]
          },
          "metadata": {
            "tags": []
          }
        }
      ]
    },
    {
      "cell_type": "code",
      "metadata": {
        "colab": {
          "base_uri": "https://localhost:8080/",
          "height": 542
        },
        "id": "5TM7GEPxi7di",
        "outputId": "509e23cf-28ec-48a7-ca2b-2de8f6c29585"
      },
      "source": [
        "px.histogram(df1,x='Transaction')\n"
      ],
      "execution_count": 24,
      "outputs": [
        {
          "output_type": "display_data",
          "data": {
            "text/html": [
              "<html>\n",
              "<head><meta charset=\"utf-8\" /></head>\n",
              "<body>\n",
              "    <div>\n",
              "            <script src=\"https://cdnjs.cloudflare.com/ajax/libs/mathjax/2.7.5/MathJax.js?config=TeX-AMS-MML_SVG\"></script><script type=\"text/javascript\">if (window.MathJax) {MathJax.Hub.Config({SVG: {font: \"STIX-Web\"}});}</script>\n",
              "                <script type=\"text/javascript\">window.PlotlyConfig = {MathJaxConfig: 'local'};</script>\n",
              "        <script src=\"https://cdn.plot.ly/plotly-latest.min.js\"></script>    \n",
              "            <div id=\"4ba813e9-0758-473a-838f-2ca1c19c5a88\" class=\"plotly-graph-div\" style=\"height:525px; width:100%;\"></div>\n",
              "            <script type=\"text/javascript\">\n",
              "                \n",
              "                    window.PLOTLYENV=window.PLOTLYENV || {};\n",
              "                    \n",
              "                if (document.getElementById(\"4ba813e9-0758-473a-838f-2ca1c19c5a88\")) {\n",
              "                    Plotly.newPlot(\n",
              "                        '4ba813e9-0758-473a-838f-2ca1c19c5a88',\n",
              "                        [{\"alignmentgroup\": \"True\", \"bingroup\": \"x\", \"hoverlabel\": {\"namelength\": 0}, \"hovertemplate\": \"Transaction=%{x}<br>count=%{y}\", \"legendgroup\": \"\", \"marker\": {\"color\": \"#636efa\"}, \"name\": \"\", \"offsetgroup\": \"\", \"orientation\": \"v\", \"showlegend\": false, \"type\": \"histogram\", \"x\": [\"New_Property\", \"New_Property\", \"Resale\", \"Resale\", \"New_Property\", \"New_Property\", \"Resale\", \"New_Property\", \"New_Property\", \"New_Property\", \"New_Property\", \"New_Property\", \"New_Property\", \"Resale\", \"Resale\", \"New_Property\", \"New_Property\", \"New_Property\", \"Resale\", \"Resale\", \"Resale\", \"Resale\", \"Resale\", \"Resale\", \"Resale\", \"New_Property\", \"Resale\", \"Resale\", \"New_Property\", \"New_Property\", \"New_Property\", \"New_Property\", \"New_Property\", \"New_Property\", \"New_Property\", \"New_Property\", \"Resale\", \"Resale\", \"New_Property\", \"Resale\", \"Resale\", \"Resale\", \"Resale\", \"New_Property\", \"Resale\", \"New_Property\", \"New_Property\", \"New_Property\", \"New_Property\", \"New_Property\", \"Resale\", \"New_Property\", \"New_Property\", \"New_Property\", \"Resale\", \"Resale\", \"New_Property\", \"Resale\", \"New_Property\", \"Resale\", \"New_Property\", \"New_Property\", \"New_Property\", \"New_Property\", \"Resale\", \"Resale\", \"New_Property\", \"Resale\", \"Resale\", \"Resale\", \"Resale\", \"Resale\", \"Resale\", \"Resale\", \"Resale\", \"Resale\", \"Resale\", \"Resale\", \"Resale\", \"Resale\", \"Resale\", \"Resale\", \"Resale\", \"Resale\", \"Resale\", \"New_Property\", \"New_Property\", \"Resale\", \"Resale\", \"New_Property\", \"Resale\", \"New_Property\", \"Resale\", \"New_Property\", \"Resale\", \"Resale\", \"New_Property\", \"Resale\", \"Resale\", \"Resale\", \"New_Property\", \"Resale\", \"Resale\", \"Resale\", \"New_Property\", \"Resale\", \"New_Property\", \"Resale\", \"Resale\", \"Resale\", \"Resale\", \"New_Property\", \"New_Property\", \"Resale\", \"Resale\", \"Resale\", \"New_Property\", \"Resale\", \"New_Property\", \"New_Property\", \"Resale\", \"New_Property\", \"New_Property\", \"Resale\", \"New_Property\", \"New_Property\", \"Resale\", \"Resale\", \"Resale\", \"New_Property\", \"New_Property\", \"New_Property\", \"New_Property\", \"New_Property\", \"New_Property\", \"New_Property\", \"New_Property\", \"New_Property\", \"New_Property\", \"New_Property\", \"New_Property\", \"Resale\", \"New_Property\", \"Resale\", \"Resale\", \"Resale\", \"New_Property\", \"Resale\", \"Resale\", \"Resale\", \"Resale\", \"Resale\", \"Resale\", \"Resale\", \"Resale\", \"Resale\", \"Resale\", \"Resale\", \"Resale\", \"Resale\", \"Resale\", \"Resale\", \"New_Property\", \"New_Property\", \"New_Property\", \"New_Property\", \"New_Property\", \"New_Property\", \"New_Property\", \"New_Property\", \"New_Property\", \"New_Property\", \"New_Property\", \"New_Property\", \"New_Property\", \"New_Property\", \"New_Property\", \"New_Property\", \"New_Property\", \"New_Property\", \"New_Property\", \"New_Property\", \"New_Property\", \"New_Property\", \"New_Property\", \"New_Property\", \"New_Property\", \"New_Property\", \"New_Property\", \"New_Property\", \"New_Property\", \"New_Property\", \"New_Property\", \"New_Property\", \"New_Property\", \"New_Property\", \"New_Property\", \"New_Property\", \"New_Property\", \"New_Property\", \"New_Property\", \"New_Property\", \"New_Property\", \"New_Property\", \"New_Property\", \"New_Property\", \"New_Property\", \"New_Property\", \"New_Property\", \"New_Property\", \"New_Property\", \"Resale\", \"New_Property\", \"New_Property\", \"New_Property\", \"Resale\", \"New_Property\", \"New_Property\", \"Resale\", \"Resale\", \"Resale\", \"Resale\", \"New_Property\", \"New_Property\", \"New_Property\", \"New_Property\", \"New_Property\", \"Resale\", \"New_Property\", \"New_Property\", \"New_Property\", \"Resale\", \"New_Property\", \"Resale\", \"New_Property\", \"New_Property\", \"New_Property\", \"Resale\", \"Resale\", \"Resale\", \"New_Property\", \"New_Property\", \"New_Property\", \"New_Property\", \"Resale\", \"New_Property\", \"New_Property\", \"Resale\", \"New_Property\", \"Resale\", \"Resale\", \"Resale\", \"New_Property\", \"New_Property\", \"New_Property\", \"Resale\", \"Resale\", \"New_Property\", \"New_Property\", \"New_Property\", \"New_Property\", \"New_Property\", \"New_Property\", \"New_Property\", \"New_Property\", \"Resale\", \"Resale\", \"New_Property\", \"Resale\", \"Resale\", \"New_Property\", \"New_Property\", \"New_Property\", \"New_Property\", \"New_Property\", \"Resale\", \"New_Property\", \"New_Property\", \"New_Property\", \"New_Property\", \"New_Property\", \"Resale\", \"Resale\", \"New_Property\", \"Resale\", \"Resale\", \"New_Property\", \"New_Property\", \"Resale\", \"Resale\", \"Resale\", \"Resale\", \"Resale\", \"Resale\", \"Resale\", \"New_Property\", \"Resale\", \"Resale\", \"Resale\", \"Resale\", \"Resale\", \"Resale\", \"Resale\", \"New_Property\", \"Resale\", \"New_Property\", \"New_Property\", \"Resale\", \"New_Property\", \"New_Property\", \"New_Property\", \"Resale\", \"Resale\", \"New_Property\", \"Resale\", \"Resale\", \"Resale\", \"Resale\", \"Resale\", \"New_Property\", \"Resale\", \"Resale\", \"New_Property\", \"Resale\", \"New_Property\", \"Resale\", \"Resale\", \"Resale\", \"Resale\", \"Resale\", \"Resale\", \"Resale\", \"Resale\", \"Resale\", \"Resale\", \"Resale\", \"Resale\", \"Resale\", \"Resale\", \"Resale\", \"Resale\", \"Resale\", \"Resale\", \"New_Property\", \"Resale\", \"Resale\", \"Resale\", \"New_Property\", \"Resale\", \"Resale\", \"Resale\", \"New_Property\", \"Resale\", \"Resale\", \"Resale\", \"New_Property\", \"Resale\", \"New_Property\", \"Resale\", \"New_Property\", \"New_Property\", \"New_Property\", \"Resale\", \"Resale\", \"Resale\", \"Resale\", \"Resale\", \"New_Property\", \"Resale\", \"Resale\", \"Resale\", \"Resale\", \"Resale\", \"Resale\", \"Resale\", \"Resale\", \"Resale\", \"New_Property\", \"New_Property\", \"New_Property\", \"New_Property\", \"New_Property\", \"New_Property\", \"New_Property\", \"New_Property\", \"New_Property\", \"New_Property\", \"New_Property\", \"New_Property\", \"New_Property\", \"Resale\", \"Resale\", \"New_Property\", \"New_Property\", \"New_Property\", \"New_Property\", \"Resale\", \"New_Property\", \"New_Property\", \"Resale\", \"Resale\", \"Resale\", \"Resale\", \"New_Property\", \"Resale\", \"Resale\", \"Resale\", \"Resale\", \"Resale\", \"Resale\", \"New_Property\", \"Resale\", \"Resale\", \"Resale\", \"Resale\", \"Resale\", \"Resale\", \"Resale\", \"Resale\", \"Resale\", \"Resale\", \"New_Property\", \"Resale\", \"Resale\", \"Resale\", \"Resale\", \"Resale\", \"Resale\", \"Resale\", \"New_Property\", \"Resale\", \"Resale\", \"Resale\", \"New_Property\", \"Resale\", \"Resale\", \"New_Property\", \"Resale\", \"Resale\", \"Resale\", \"Resale\", \"New_Property\", \"Resale\", \"Resale\", \"New_Property\", \"Resale\", \"Resale\", \"New_Property\", \"Resale\", \"Resale\", \"Resale\", \"Resale\", \"Resale\", \"Resale\", \"Resale\", \"New_Property\", \"Resale\", \"New_Property\", \"New_Property\", \"Resale\", \"Resale\", \"Resale\", \"New_Property\", \"Resale\", \"Resale\", \"Resale\", \"Resale\", \"New_Property\", \"Resale\", \"Resale\", \"New_Property\", \"Resale\", \"New_Property\", \"Resale\", \"Resale\", \"Resale\", \"New_Property\", \"Resale\", \"New_Property\", \"New_Property\", \"Resale\", \"Resale\", \"Resale\", \"New_Property\", \"Resale\", \"Resale\", \"Resale\", \"New_Property\", \"New_Property\", \"New_Property\", \"New_Property\", \"New_Property\", \"Resale\", \"Resale\", \"Resale\", \"New_Property\", \"Resale\", \"Resale\", \"Resale\", \"Resale\", \"Resale\", \"Resale\", \"Resale\", \"Resale\", \"New_Property\", \"New_Property\", \"Resale\", \"New_Property\", \"New_Property\", \"Resale\", \"Resale\", \"Resale\", \"Resale\", \"Resale\", \"New_Property\", \"New_Property\", \"New_Property\", \"New_Property\", \"New_Property\", \"Resale\", \"New_Property\", \"Resale\", \"New_Property\", \"Resale\", \"Resale\", \"Resale\", \"Resale\", \"Resale\", \"Resale\", \"Resale\", \"Resale\", \"New_Property\", \"Resale\", \"New_Property\", \"New_Property\", \"New_Property\", \"Resale\", \"Resale\", \"Resale\", \"New_Property\", \"Resale\", \"New_Property\", \"Resale\", \"New_Property\", \"New_Property\", \"New_Property\", \"Resale\", \"Resale\", \"Resale\", \"Resale\", \"Resale\", \"Resale\", \"Resale\", \"Resale\", \"Resale\", \"Resale\", \"Resale\", \"Resale\", \"New_Property\", \"Resale\", \"Resale\", \"Resale\", \"Resale\", \"New_Property\", \"Resale\", \"Resale\", \"Resale\", \"Resale\", \"Resale\", \"Resale\", \"Resale\", \"New_Property\", \"Resale\", \"Resale\", \"Resale\", \"Resale\", \"Resale\", \"Resale\", \"Resale\", \"Resale\", \"Resale\", \"Resale\", \"Resale\", \"Resale\", \"Resale\", \"Resale\", \"Resale\", \"Resale\", \"Resale\", \"Resale\", \"Resale\", \"Resale\", \"Resale\", \"Resale\", \"Resale\", \"Resale\", \"Resale\", \"Resale\", \"Resale\", \"Resale\", \"Resale\", \"Resale\", \"Resale\", \"Resale\", \"Resale\", \"Resale\", \"Resale\", \"Resale\", \"Resale\", \"Resale\", \"Resale\", \"Resale\", \"Resale\", \"Resale\", \"Resale\", \"Resale\", \"Resale\", \"Resale\", \"Resale\", \"Resale\", \"New_Property\", \"Resale\", \"Resale\", \"Resale\", \"Resale\", \"New_Property\", \"Resale\", \"Resale\", \"New_Property\", \"Resale\", \"Resale\", \"Resale\", \"Resale\", \"Resale\", \"Resale\", \"Resale\", \"Resale\", \"Resale\", \"Resale\", \"New_Property\", \"New_Property\", \"Resale\", \"Resale\", \"Resale\", \"New_Property\", \"Resale\", \"Resale\", \"Resale\", \"Resale\", \"Resale\", \"Resale\", \"Resale\", \"Resale\", \"Resale\", \"Resale\", \"Resale\", \"Resale\", \"Resale\", \"Resale\", \"Resale\", \"Resale\", \"Resale\", \"Resale\", \"Resale\", \"Resale\", \"Resale\", \"Resale\", \"Resale\", \"Resale\", \"Resale\", \"Resale\", \"Resale\", \"Resale\", \"Resale\", \"Resale\", \"Resale\", \"Resale\", \"Resale\", \"Resale\", \"Resale\", \"Resale\", \"Resale\", \"Resale\", \"Resale\", \"Resale\", \"Resale\", \"Resale\", \"Resale\", \"New_Property\", \"New_Property\", \"Resale\", \"Resale\", \"Resale\", \"New_Property\", \"Resale\", \"New_Property\", \"Resale\", \"Resale\", \"Resale\", \"Resale\", \"Resale\", \"Resale\", \"Resale\", \"Resale\", \"Resale\", \"New_Property\", \"Resale\", \"Resale\", \"Resale\", \"Resale\", \"Resale\", \"New_Property\", \"Resale\", \"New_Property\", \"Resale\", \"New_Property\", \"New_Property\", \"Resale\", \"Resale\", \"Resale\", \"Resale\", \"Resale\", \"New_Property\", \"New_Property\", \"New_Property\", \"New_Property\", \"New_Property\", \"New_Property\", \"Resale\", \"New_Property\", \"New_Property\", \"New_Property\", \"Resale\", \"Resale\", \"Resale\", \"Resale\", \"New_Property\", \"Resale\", \"New_Property\", \"New_Property\", \"New_Property\", \"New_Property\", \"New_Property\", \"New_Property\", \"New_Property\", \"Resale\", \"New_Property\", \"New_Property\", \"New_Property\", \"New_Property\", \"New_Property\", \"New_Property\", \"Resale\", \"New_Property\", \"Resale\", \"Resale\", \"Resale\", \"Resale\", \"New_Property\", \"New_Property\", \"New_Property\", \"New_Property\", \"New_Property\", \"Resale\", \"New_Property\", \"New_Property\", \"New_Property\", \"Resale\", \"New_Property\", \"New_Property\", \"Resale\", \"Resale\", \"Resale\", \"Resale\", \"Resale\", \"Resale\", \"Resale\", \"Resale\", \"Resale\", \"Resale\", \"Resale\", \"Resale\", \"New_Property\", \"New_Property\", \"New_Property\", \"New_Property\", \"Resale\", \"Resale\", \"Resale\", \"New_Property\", \"New_Property\", \"New_Property\", \"Resale\", \"New_Property\", \"New_Property\", \"Resale\", \"Resale\", \"New_Property\", \"Resale\", \"Resale\", \"Resale\", \"New_Property\", \"Resale\", \"Resale\", \"Resale\", \"New_Property\", \"Resale\", \"Resale\", \"Resale\", \"New_Property\", \"Resale\", \"Resale\", \"Resale\", \"Resale\", \"Resale\", \"Resale\", \"Resale\", \"Resale\", \"Resale\", \"Resale\", \"Resale\", \"New_Property\", \"New_Property\", \"Resale\", \"Resale\", \"Resale\", \"Resale\", \"Resale\", \"Resale\", \"New_Property\", \"New_Property\", \"Resale\", \"Resale\", \"Resale\", \"Resale\", \"Resale\", \"Resale\", \"New_Property\", \"Resale\", \"New_Property\", \"Resale\", \"Resale\", \"New_Property\", \"New_Property\", \"New_Property\", \"New_Property\", \"New_Property\", \"New_Property\", \"New_Property\", \"Resale\", \"New_Property\", \"New_Property\", \"New_Property\", \"Resale\", \"Resale\", \"Resale\", \"Resale\", \"Resale\", \"Resale\", \"New_Property\", \"Resale\", \"New_Property\", \"Resale\", \"Resale\", \"Resale\", \"New_Property\", \"New_Property\", \"Resale\", \"New_Property\", \"New_Property\", \"New_Property\", \"New_Property\", \"Resale\", \"Resale\", \"Resale\", \"Resale\", \"Resale\", \"Resale\", \"Resale\", \"Resale\", \"Resale\", \"Resale\", \"Resale\", \"Resale\", \"Resale\", \"New_Property\", \"Resale\", \"Resale\", \"New_Property\", \"New_Property\", \"Resale\", \"Resale\", \"Resale\", \"Resale\", \"Resale\", \"Resale\", \"Resale\", \"Resale\", \"Resale\", \"Resale\", \"Resale\", \"Resale\", \"Resale\", \"Resale\", \"Resale\", \"Resale\", \"Resale\", \"Resale\", \"Resale\", \"Resale\", \"Resale\", \"Resale\", \"Resale\", \"Resale\", \"Resale\", \"Resale\", \"Resale\", \"Resale\", \"Resale\", \"Resale\", \"Resale\", \"Resale\", \"Resale\", \"Resale\", \"Resale\", \"Resale\", \"Resale\", \"Resale\", \"Resale\", \"Resale\", \"Resale\", \"Resale\", \"New_Property\", \"New_Property\", \"New_Property\", \"New_Property\", \"Resale\", \"Resale\", \"New_Property\", \"New_Property\", \"New_Property\", \"New_Property\", \"Resale\", \"Resale\", \"Resale\", \"New_Property\", \"Resale\", \"Resale\", \"Resale\", \"Resale\", \"Resale\", \"New_Property\", \"New_Property\", \"Resale\", \"Resale\", \"Resale\", \"Resale\", \"Resale\", \"Resale\", \"Resale\", \"New_Property\", \"Resale\", \"New_Property\", \"Resale\", \"New_Property\", \"New_Property\", \"Resale\", \"Resale\", \"New_Property\", \"New_Property\", \"New_Property\", \"New_Property\", \"Resale\", \"Resale\", \"Resale\", \"Resale\", \"Resale\", \"Resale\", \"Resale\", \"Resale\", \"Resale\", \"Resale\", \"New_Property\", \"Resale\", \"New_Property\", \"Resale\", \"Resale\", \"Resale\", \"Resale\", \"New_Property\", \"Resale\", \"Resale\", \"Resale\", \"New_Property\", \"Resale\", \"Resale\", \"New_Property\", \"Resale\", \"Resale\", \"Resale\", \"Resale\", \"Resale\", \"Resale\", \"New_Property\", \"Resale\", \"Resale\", \"Resale\", \"Resale\", \"Resale\", \"Resale\", \"New_Property\", \"Resale\", \"Resale\", \"Resale\", \"Resale\", \"Resale\", \"Resale\", \"New_Property\", \"Resale\", \"New_Property\", \"New_Property\", \"Resale\", \"Resale\", \"Resale\", \"Resale\", \"Resale\", \"Resale\", \"New_Property\", \"New_Property\", \"Resale\", \"Resale\", \"New_Property\", \"New_Property\", \"Resale\", \"Resale\", \"Resale\", \"Resale\", \"New_Property\", \"Resale\", \"Resale\", \"Resale\", \"Resale\", \"Resale\", \"New_Property\", \"Resale\", \"Resale\", \"Resale\", \"Resale\", \"Resale\", \"Resale\", \"New_Property\", \"Resale\", \"New_Property\", \"Resale\", \"Resale\", \"Resale\", \"Resale\", \"New_Property\", \"New_Property\", \"Resale\", \"Resale\", \"New_Property\", \"Resale\", \"Resale\", \"Resale\", \"Resale\", \"New_Property\", \"New_Property\", \"New_Property\", \"Resale\", \"New_Property\", \"Resale\", \"Resale\", \"Resale\", \"Resale\", \"Resale\", \"Resale\", \"Resale\", \"Resale\", \"Resale\", \"New_Property\", \"New_Property\", \"New_Property\", \"Resale\", \"New_Property\", \"Resale\", \"Resale\", \"Resale\", \"New_Property\", \"Resale\", \"Resale\", \"Resale\", \"Resale\", \"Resale\", \"Resale\", \"Resale\", \"Resale\", \"Resale\", \"Resale\", \"New_Property\", \"Resale\", \"Resale\", \"Resale\", \"Resale\", \"Resale\", \"New_Property\", \"Resale\", \"Resale\", \"Resale\", \"New_Property\", \"New_Property\", \"New_Property\", \"New_Property\", \"New_Property\", \"New_Property\", \"Resale\", \"New_Property\", \"New_Property\", \"Resale\", \"New_Property\", \"New_Property\", \"New_Property\", \"New_Property\", \"Resale\", \"New_Property\", \"Resale\", \"Resale\", \"New_Property\", \"New_Property\", \"Resale\", \"New_Property\", \"Resale\", \"Resale\", \"New_Property\", \"New_Property\", \"Resale\", \"Resale\", \"New_Property\", \"New_Property\", \"New_Property\", \"Resale\", \"New_Property\", \"New_Property\", \"New_Property\", \"New_Property\", \"Resale\", \"New_Property\", \"New_Property\", \"New_Property\", \"New_Property\", \"Resale\", \"Resale\", \"Resale\", \"Resale\", \"New_Property\", \"Resale\", \"New_Property\", \"New_Property\", \"New_Property\", \"New_Property\", \"New_Property\", \"Resale\", \"Resale\", \"Resale\", \"Resale\", \"New_Property\", \"Resale\", \"New_Property\", \"Resale\", \"New_Property\"], \"xaxis\": \"x\", \"yaxis\": \"y\"}],\n",
              "                        {\"barmode\": \"relative\", \"legend\": {\"tracegroupgap\": 0}, \"margin\": {\"t\": 60}, \"template\": {\"data\": {\"bar\": [{\"error_x\": {\"color\": \"#2a3f5f\"}, \"error_y\": {\"color\": \"#2a3f5f\"}, \"marker\": {\"line\": {\"color\": \"#E5ECF6\", \"width\": 0.5}}, \"type\": \"bar\"}], \"barpolar\": [{\"marker\": {\"line\": {\"color\": \"#E5ECF6\", \"width\": 0.5}}, \"type\": \"barpolar\"}], \"carpet\": [{\"aaxis\": {\"endlinecolor\": \"#2a3f5f\", \"gridcolor\": \"white\", \"linecolor\": \"white\", \"minorgridcolor\": \"white\", \"startlinecolor\": \"#2a3f5f\"}, \"baxis\": {\"endlinecolor\": \"#2a3f5f\", \"gridcolor\": \"white\", \"linecolor\": \"white\", \"minorgridcolor\": \"white\", \"startlinecolor\": \"#2a3f5f\"}, \"type\": \"carpet\"}], \"choropleth\": [{\"colorbar\": {\"outlinewidth\": 0, \"ticks\": \"\"}, \"type\": \"choropleth\"}], \"contour\": [{\"colorbar\": {\"outlinewidth\": 0, \"ticks\": \"\"}, \"colorscale\": [[0.0, \"#0d0887\"], [0.1111111111111111, \"#46039f\"], [0.2222222222222222, \"#7201a8\"], [0.3333333333333333, \"#9c179e\"], [0.4444444444444444, \"#bd3786\"], [0.5555555555555556, \"#d8576b\"], [0.6666666666666666, \"#ed7953\"], [0.7777777777777778, \"#fb9f3a\"], [0.8888888888888888, \"#fdca26\"], [1.0, \"#f0f921\"]], \"type\": \"contour\"}], \"contourcarpet\": [{\"colorbar\": {\"outlinewidth\": 0, \"ticks\": \"\"}, \"type\": \"contourcarpet\"}], \"heatmap\": [{\"colorbar\": {\"outlinewidth\": 0, \"ticks\": \"\"}, \"colorscale\": [[0.0, \"#0d0887\"], [0.1111111111111111, \"#46039f\"], [0.2222222222222222, \"#7201a8\"], [0.3333333333333333, \"#9c179e\"], [0.4444444444444444, \"#bd3786\"], [0.5555555555555556, \"#d8576b\"], [0.6666666666666666, \"#ed7953\"], [0.7777777777777778, \"#fb9f3a\"], [0.8888888888888888, \"#fdca26\"], [1.0, \"#f0f921\"]], \"type\": \"heatmap\"}], \"heatmapgl\": [{\"colorbar\": {\"outlinewidth\": 0, \"ticks\": \"\"}, \"colorscale\": [[0.0, \"#0d0887\"], [0.1111111111111111, \"#46039f\"], [0.2222222222222222, \"#7201a8\"], [0.3333333333333333, \"#9c179e\"], [0.4444444444444444, \"#bd3786\"], [0.5555555555555556, \"#d8576b\"], [0.6666666666666666, \"#ed7953\"], [0.7777777777777778, \"#fb9f3a\"], [0.8888888888888888, \"#fdca26\"], [1.0, \"#f0f921\"]], \"type\": \"heatmapgl\"}], \"histogram\": [{\"marker\": {\"colorbar\": {\"outlinewidth\": 0, \"ticks\": \"\"}}, \"type\": \"histogram\"}], \"histogram2d\": [{\"colorbar\": {\"outlinewidth\": 0, \"ticks\": \"\"}, \"colorscale\": [[0.0, \"#0d0887\"], [0.1111111111111111, \"#46039f\"], [0.2222222222222222, \"#7201a8\"], [0.3333333333333333, \"#9c179e\"], [0.4444444444444444, \"#bd3786\"], [0.5555555555555556, \"#d8576b\"], [0.6666666666666666, \"#ed7953\"], [0.7777777777777778, \"#fb9f3a\"], [0.8888888888888888, \"#fdca26\"], [1.0, \"#f0f921\"]], \"type\": \"histogram2d\"}], \"histogram2dcontour\": [{\"colorbar\": {\"outlinewidth\": 0, \"ticks\": \"\"}, \"colorscale\": [[0.0, \"#0d0887\"], [0.1111111111111111, \"#46039f\"], [0.2222222222222222, \"#7201a8\"], [0.3333333333333333, \"#9c179e\"], [0.4444444444444444, \"#bd3786\"], [0.5555555555555556, \"#d8576b\"], [0.6666666666666666, \"#ed7953\"], [0.7777777777777778, \"#fb9f3a\"], [0.8888888888888888, \"#fdca26\"], [1.0, \"#f0f921\"]], \"type\": \"histogram2dcontour\"}], \"mesh3d\": [{\"colorbar\": {\"outlinewidth\": 0, \"ticks\": \"\"}, \"type\": \"mesh3d\"}], \"parcoords\": [{\"line\": {\"colorbar\": {\"outlinewidth\": 0, \"ticks\": \"\"}}, \"type\": \"parcoords\"}], \"pie\": [{\"automargin\": true, \"type\": \"pie\"}], \"scatter\": [{\"marker\": {\"colorbar\": {\"outlinewidth\": 0, \"ticks\": \"\"}}, \"type\": \"scatter\"}], \"scatter3d\": [{\"line\": {\"colorbar\": {\"outlinewidth\": 0, \"ticks\": \"\"}}, \"marker\": {\"colorbar\": {\"outlinewidth\": 0, \"ticks\": \"\"}}, \"type\": \"scatter3d\"}], \"scattercarpet\": [{\"marker\": {\"colorbar\": {\"outlinewidth\": 0, \"ticks\": \"\"}}, \"type\": \"scattercarpet\"}], \"scattergeo\": [{\"marker\": {\"colorbar\": {\"outlinewidth\": 0, \"ticks\": \"\"}}, \"type\": \"scattergeo\"}], \"scattergl\": [{\"marker\": {\"colorbar\": {\"outlinewidth\": 0, \"ticks\": \"\"}}, \"type\": \"scattergl\"}], \"scattermapbox\": [{\"marker\": {\"colorbar\": {\"outlinewidth\": 0, \"ticks\": \"\"}}, \"type\": \"scattermapbox\"}], \"scatterpolar\": [{\"marker\": {\"colorbar\": {\"outlinewidth\": 0, \"ticks\": \"\"}}, \"type\": \"scatterpolar\"}], \"scatterpolargl\": [{\"marker\": {\"colorbar\": {\"outlinewidth\": 0, \"ticks\": \"\"}}, \"type\": \"scatterpolargl\"}], \"scatterternary\": [{\"marker\": {\"colorbar\": {\"outlinewidth\": 0, \"ticks\": \"\"}}, \"type\": \"scatterternary\"}], \"surface\": [{\"colorbar\": {\"outlinewidth\": 0, \"ticks\": \"\"}, \"colorscale\": [[0.0, \"#0d0887\"], [0.1111111111111111, \"#46039f\"], [0.2222222222222222, \"#7201a8\"], [0.3333333333333333, \"#9c179e\"], [0.4444444444444444, \"#bd3786\"], [0.5555555555555556, \"#d8576b\"], [0.6666666666666666, \"#ed7953\"], [0.7777777777777778, \"#fb9f3a\"], [0.8888888888888888, \"#fdca26\"], [1.0, \"#f0f921\"]], \"type\": \"surface\"}], \"table\": [{\"cells\": {\"fill\": {\"color\": \"#EBF0F8\"}, \"line\": {\"color\": \"white\"}}, \"header\": {\"fill\": {\"color\": \"#C8D4E3\"}, \"line\": {\"color\": \"white\"}}, \"type\": \"table\"}]}, \"layout\": {\"annotationdefaults\": {\"arrowcolor\": \"#2a3f5f\", \"arrowhead\": 0, \"arrowwidth\": 1}, \"coloraxis\": {\"colorbar\": {\"outlinewidth\": 0, \"ticks\": \"\"}}, \"colorscale\": {\"diverging\": [[0, \"#8e0152\"], [0.1, \"#c51b7d\"], [0.2, \"#de77ae\"], [0.3, \"#f1b6da\"], [0.4, \"#fde0ef\"], [0.5, \"#f7f7f7\"], [0.6, \"#e6f5d0\"], [0.7, \"#b8e186\"], [0.8, \"#7fbc41\"], [0.9, \"#4d9221\"], [1, \"#276419\"]], \"sequential\": [[0.0, \"#0d0887\"], [0.1111111111111111, \"#46039f\"], [0.2222222222222222, \"#7201a8\"], [0.3333333333333333, \"#9c179e\"], [0.4444444444444444, \"#bd3786\"], [0.5555555555555556, \"#d8576b\"], [0.6666666666666666, \"#ed7953\"], [0.7777777777777778, \"#fb9f3a\"], [0.8888888888888888, \"#fdca26\"], [1.0, \"#f0f921\"]], \"sequentialminus\": [[0.0, \"#0d0887\"], [0.1111111111111111, \"#46039f\"], [0.2222222222222222, \"#7201a8\"], [0.3333333333333333, \"#9c179e\"], [0.4444444444444444, \"#bd3786\"], [0.5555555555555556, \"#d8576b\"], [0.6666666666666666, \"#ed7953\"], [0.7777777777777778, \"#fb9f3a\"], [0.8888888888888888, \"#fdca26\"], [1.0, \"#f0f921\"]]}, \"colorway\": [\"#636efa\", \"#EF553B\", \"#00cc96\", \"#ab63fa\", \"#FFA15A\", \"#19d3f3\", \"#FF6692\", \"#B6E880\", \"#FF97FF\", \"#FECB52\"], \"font\": {\"color\": \"#2a3f5f\"}, \"geo\": {\"bgcolor\": \"white\", \"lakecolor\": \"white\", \"landcolor\": \"#E5ECF6\", \"showlakes\": true, \"showland\": true, \"subunitcolor\": \"white\"}, \"hoverlabel\": {\"align\": \"left\"}, \"hovermode\": \"closest\", \"mapbox\": {\"style\": \"light\"}, \"paper_bgcolor\": \"white\", \"plot_bgcolor\": \"#E5ECF6\", \"polar\": {\"angularaxis\": {\"gridcolor\": \"white\", \"linecolor\": \"white\", \"ticks\": \"\"}, \"bgcolor\": \"#E5ECF6\", \"radialaxis\": {\"gridcolor\": \"white\", \"linecolor\": \"white\", \"ticks\": \"\"}}, \"scene\": {\"xaxis\": {\"backgroundcolor\": \"#E5ECF6\", \"gridcolor\": \"white\", \"gridwidth\": 2, \"linecolor\": \"white\", \"showbackground\": true, \"ticks\": \"\", \"zerolinecolor\": \"white\"}, \"yaxis\": {\"backgroundcolor\": \"#E5ECF6\", \"gridcolor\": \"white\", \"gridwidth\": 2, \"linecolor\": \"white\", \"showbackground\": true, \"ticks\": \"\", \"zerolinecolor\": \"white\"}, \"zaxis\": {\"backgroundcolor\": \"#E5ECF6\", \"gridcolor\": \"white\", \"gridwidth\": 2, \"linecolor\": \"white\", \"showbackground\": true, \"ticks\": \"\", \"zerolinecolor\": \"white\"}}, \"shapedefaults\": {\"line\": {\"color\": \"#2a3f5f\"}}, \"ternary\": {\"aaxis\": {\"gridcolor\": \"white\", \"linecolor\": \"white\", \"ticks\": \"\"}, \"baxis\": {\"gridcolor\": \"white\", \"linecolor\": \"white\", \"ticks\": \"\"}, \"bgcolor\": \"#E5ECF6\", \"caxis\": {\"gridcolor\": \"white\", \"linecolor\": \"white\", \"ticks\": \"\"}}, \"title\": {\"x\": 0.05}, \"xaxis\": {\"automargin\": true, \"gridcolor\": \"white\", \"linecolor\": \"white\", \"ticks\": \"\", \"title\": {\"standoff\": 15}, \"zerolinecolor\": \"white\", \"zerolinewidth\": 2}, \"yaxis\": {\"automargin\": true, \"gridcolor\": \"white\", \"linecolor\": \"white\", \"ticks\": \"\", \"title\": {\"standoff\": 15}, \"zerolinecolor\": \"white\", \"zerolinewidth\": 2}}}, \"xaxis\": {\"anchor\": \"y\", \"domain\": [0.0, 1.0], \"title\": {\"text\": \"Transaction\"}}, \"yaxis\": {\"anchor\": \"x\", \"domain\": [0.0, 1.0], \"title\": {\"text\": \"count\"}}},\n",
              "                        {\"responsive\": true}\n",
              "                    ).then(function(){\n",
              "                            \n",
              "var gd = document.getElementById('4ba813e9-0758-473a-838f-2ca1c19c5a88');\n",
              "var x = new MutationObserver(function (mutations, observer) {{\n",
              "        var display = window.getComputedStyle(gd).display;\n",
              "        if (!display || display === 'none') {{\n",
              "            console.log([gd, 'removed!']);\n",
              "            Plotly.purge(gd);\n",
              "            observer.disconnect();\n",
              "        }}\n",
              "}});\n",
              "\n",
              "// Listen for the removal of the full notebook cells\n",
              "var notebookContainer = gd.closest('#notebook-container');\n",
              "if (notebookContainer) {{\n",
              "    x.observe(notebookContainer, {childList: true});\n",
              "}}\n",
              "\n",
              "// Listen for the clearing of the current output cell\n",
              "var outputEl = gd.closest('.output');\n",
              "if (outputEl) {{\n",
              "    x.observe(outputEl, {childList: true});\n",
              "}}\n",
              "\n",
              "                        })\n",
              "                };\n",
              "                \n",
              "            </script>\n",
              "        </div>\n",
              "</body>\n",
              "</html>"
            ]
          },
          "metadata": {
            "tags": []
          }
        }
      ]
    },
    {
      "cell_type": "code",
      "metadata": {
        "colab": {
          "base_uri": "https://localhost:8080/",
          "height": 542
        },
        "id": "28uKPPD1i8Dv",
        "outputId": "357fc89d-163f-4941-95e6-f05c6cee202d"
      },
      "source": [
        "px.histogram(df1,x='Type')\n"
      ],
      "execution_count": 25,
      "outputs": [
        {
          "output_type": "display_data",
          "data": {
            "text/html": [
              "<html>\n",
              "<head><meta charset=\"utf-8\" /></head>\n",
              "<body>\n",
              "    <div>\n",
              "            <script src=\"https://cdnjs.cloudflare.com/ajax/libs/mathjax/2.7.5/MathJax.js?config=TeX-AMS-MML_SVG\"></script><script type=\"text/javascript\">if (window.MathJax) {MathJax.Hub.Config({SVG: {font: \"STIX-Web\"}});}</script>\n",
              "                <script type=\"text/javascript\">window.PlotlyConfig = {MathJaxConfig: 'local'};</script>\n",
              "        <script src=\"https://cdn.plot.ly/plotly-latest.min.js\"></script>    \n",
              "            <div id=\"d5c08574-6cbc-4d19-84a6-95227e989225\" class=\"plotly-graph-div\" style=\"height:525px; width:100%;\"></div>\n",
              "            <script type=\"text/javascript\">\n",
              "                \n",
              "                    window.PLOTLYENV=window.PLOTLYENV || {};\n",
              "                    \n",
              "                if (document.getElementById(\"d5c08574-6cbc-4d19-84a6-95227e989225\")) {\n",
              "                    Plotly.newPlot(\n",
              "                        'd5c08574-6cbc-4d19-84a6-95227e989225',\n",
              "                        [{\"alignmentgroup\": \"True\", \"bingroup\": \"x\", \"hoverlabel\": {\"namelength\": 0}, \"hovertemplate\": \"Type=%{x}<br>count=%{y}\", \"legendgroup\": \"\", \"marker\": {\"color\": \"#636efa\"}, \"name\": \"\", \"offsetgroup\": \"\", \"orientation\": \"v\", \"showlegend\": false, \"type\": \"histogram\", \"x\": [\"Builder_Floor\", \"Apartment\", \"Apartment\", \"Builder_Floor\", \"Builder_Floor\", \"Builder_Floor\", \"Builder_Floor\", \"Apartment\", \"Builder_Floor\", \"Builder_Floor\", \"Builder_Floor\", \"Builder_Floor\", \"Builder_Floor\", \"Builder_Floor\", \"Builder_Floor\", \"Builder_Floor\", \"Builder_Floor\", \"Builder_Floor\", \"Apartment\", \"Builder_Floor\", \"Apartment\", \"Builder_Floor\", \"Apartment\", \"Apartment\", \"Builder_Floor\", \"Builder_Floor\", \"Builder_Floor\", \"Apartment\", \"Apartment\", \"Builder_Floor\", \"Builder_Floor\", \"Builder_Floor\", \"Builder_Floor\", \"Builder_Floor\", \"Builder_Floor\", \"Apartment\", \"Builder_Floor\", \"Apartment\", \"Builder_Floor\", \"Builder_Floor\", \"Builder_Floor\", \"Builder_Floor\", \"Builder_Floor\", \"Builder_Floor\", \"Builder_Floor\", \"Builder_Floor\", \"Builder_Floor\", \"Builder_Floor\", \"Builder_Floor\", \"Builder_Floor\", \"Builder_Floor\", \"Builder_Floor\", \"Builder_Floor\", \"Builder_Floor\", \"Builder_Floor\", \"Builder_Floor\", \"Builder_Floor\", \"Builder_Floor\", \"Builder_Floor\", \"Apartment\", \"Apartment\", \"Apartment\", \"Apartment\", \"Apartment\", \"Apartment\", \"Apartment\", \"Apartment\", \"Apartment\", \"Apartment\", \"Apartment\", \"Apartment\", \"Apartment\", \"Apartment\", \"Apartment\", \"Apartment\", \"Apartment\", \"Apartment\", \"Apartment\", \"Apartment\", \"Apartment\", \"Apartment\", \"Apartment\", \"Apartment\", \"Apartment\", \"Apartment\", \"Builder_Floor\", \"Builder_Floor\", \"Apartment\", \"Builder_Floor\", \"Builder_Floor\", \"Builder_Floor\", \"Builder_Floor\", \"Builder_Floor\", \"Builder_Floor\", \"Builder_Floor\", \"Builder_Floor\", \"Builder_Floor\", \"Builder_Floor\", \"Builder_Floor\", \"Builder_Floor\", \"Builder_Floor\", \"Builder_Floor\", \"Builder_Floor\", \"Apartment\", \"Builder_Floor\", \"Apartment\", \"Builder_Floor\", \"Builder_Floor\", \"Builder_Floor\", \"Builder_Floor\", \"Builder_Floor\", \"Builder_Floor\", \"Builder_Floor\", \"Builder_Floor\", \"Builder_Floor\", \"Builder_Floor\", \"Builder_Floor\", \"Builder_Floor\", \"Builder_Floor\", \"Builder_Floor\", \"Builder_Floor\", \"Builder_Floor\", \"Builder_Floor\", \"Builder_Floor\", \"Builder_Floor\", \"Builder_Floor\", \"Builder_Floor\", \"Builder_Floor\", \"Builder_Floor\", \"Builder_Floor\", \"Builder_Floor\", \"Builder_Floor\", \"Builder_Floor\", \"Builder_Floor\", \"Builder_Floor\", \"Builder_Floor\", \"Builder_Floor\", \"Builder_Floor\", \"Builder_Floor\", \"Builder_Floor\", \"Builder_Floor\", \"Builder_Floor\", \"Builder_Floor\", \"Apartment\", \"Builder_Floor\", \"Builder_Floor\", \"Builder_Floor\", \"Builder_Floor\", \"Apartment\", \"Builder_Floor\", \"Builder_Floor\", \"Apartment\", \"Builder_Floor\", \"Apartment\", \"Builder_Floor\", \"Builder_Floor\", \"Builder_Floor\", \"Builder_Floor\", \"Builder_Floor\", \"Builder_Floor\", \"Builder_Floor\", \"Apartment\", \"Builder_Floor\", \"Builder_Floor\", \"Builder_Floor\", \"Builder_Floor\", \"Builder_Floor\", \"Builder_Floor\", \"Builder_Floor\", \"Builder_Floor\", \"Builder_Floor\", \"Builder_Floor\", \"Builder_Floor\", \"Builder_Floor\", \"Apartment\", \"Apartment\", \"Apartment\", \"Apartment\", \"Apartment\", \"Apartment\", \"Apartment\", \"Apartment\", \"Apartment\", \"Apartment\", \"Apartment\", \"Apartment\", \"Apartment\", \"Apartment\", \"Apartment\", \"Apartment\", \"Apartment\", \"Apartment\", \"Apartment\", \"Builder_Floor\", \"Builder_Floor\", \"Builder_Floor\", \"Builder_Floor\", \"Builder_Floor\", \"Builder_Floor\", \"Builder_Floor\", \"Builder_Floor\", \"Apartment\", \"Apartment\", \"Apartment\", \"Apartment\", \"Apartment\", \"Apartment\", \"Apartment\", \"Apartment\", \"Apartment\", \"Builder_Floor\", \"Apartment\", \"Builder_Floor\", \"Builder_Floor\", \"Builder_Floor\", \"Apartment\", \"Apartment\", \"Apartment\", \"Apartment\", \"Apartment\", \"Builder_Floor\", \"Apartment\", \"Builder_Floor\", \"Builder_Floor\", \"Builder_Floor\", \"Builder_Floor\", \"Builder_Floor\", \"Builder_Floor\", \"Builder_Floor\", \"Builder_Floor\", \"Builder_Floor\", \"Builder_Floor\", \"Builder_Floor\", \"Apartment\", \"Builder_Floor\", \"Builder_Floor\", \"Apartment\", \"Builder_Floor\", \"Apartment\", \"Builder_Floor\", \"Builder_Floor\", \"Builder_Floor\", \"Builder_Floor\", \"Builder_Floor\", \"Builder_Floor\", \"Builder_Floor\", \"Builder_Floor\", \"Builder_Floor\", \"Builder_Floor\", \"Apartment\", \"Builder_Floor\", \"Builder_Floor\", \"Builder_Floor\", \"Builder_Floor\", \"Builder_Floor\", \"Builder_Floor\", \"Builder_Floor\", \"Builder_Floor\", \"Builder_Floor\", \"Builder_Floor\", \"Builder_Floor\", \"Builder_Floor\", \"Builder_Floor\", \"Builder_Floor\", \"Builder_Floor\", \"Builder_Floor\", \"Builder_Floor\", \"Builder_Floor\", \"Builder_Floor\", \"Builder_Floor\", \"Builder_Floor\", \"Builder_Floor\", \"Builder_Floor\", \"Builder_Floor\", \"Builder_Floor\", \"Builder_Floor\", \"Builder_Floor\", \"Builder_Floor\", \"Apartment\", \"Builder_Floor\", \"Builder_Floor\", \"Builder_Floor\", \"Builder_Floor\", \"Builder_Floor\", \"Builder_Floor\", \"Builder_Floor\", \"Builder_Floor\", \"Builder_Floor\", \"Builder_Floor\", \"Apartment\", \"Builder_Floor\", \"Builder_Floor\", \"Builder_Floor\", \"Builder_Floor\", \"Apartment\", \"Builder_Floor\", \"Apartment\", \"Apartment\", \"Builder_Floor\", \"Builder_Floor\", \"Builder_Floor\", \"Builder_Floor\", \"Apartment\", \"Builder_Floor\", \"Builder_Floor\", \"Builder_Floor\", \"Builder_Floor\", \"Builder_Floor\", \"Apartment\", \"Builder_Floor\", \"Builder_Floor\", \"Apartment\", \"Builder_Floor\", \"Apartment\", \"Apartment\", \"Builder_Floor\", \"Builder_Floor\", \"Builder_Floor\", \"Builder_Floor\", \"Apartment\", \"Builder_Floor\", \"Builder_Floor\", \"Apartment\", \"Builder_Floor\", \"Builder_Floor\", \"Builder_Floor\", \"Apartment\", \"Apartment\", \"Builder_Floor\", \"Apartment\", \"Builder_Floor\", \"Builder_Floor\", \"Builder_Floor\", \"Builder_Floor\", \"Builder_Floor\", \"Builder_Floor\", \"Builder_Floor\", \"Builder_Floor\", \"Builder_Floor\", \"Builder_Floor\", \"Builder_Floor\", \"Builder_Floor\", \"Builder_Floor\", \"Builder_Floor\", \"Builder_Floor\", \"Builder_Floor\", \"Builder_Floor\", \"Builder_Floor\", \"Builder_Floor\", \"Apartment\", \"Apartment\", \"Builder_Floor\", \"Builder_Floor\", \"Apartment\", \"Builder_Floor\", \"Builder_Floor\", \"Builder_Floor\", \"Builder_Floor\", \"Builder_Floor\", \"Builder_Floor\", \"Builder_Floor\", \"Builder_Floor\", \"Apartment\", \"Builder_Floor\", \"Builder_Floor\", \"Apartment\", \"Builder_Floor\", \"Builder_Floor\", \"Builder_Floor\", \"Apartment\", \"Builder_Floor\", \"Builder_Floor\", \"Apartment\", \"Builder_Floor\", \"Builder_Floor\", \"Builder_Floor\", \"Apartment\", \"Builder_Floor\", \"Builder_Floor\", \"Builder_Floor\", \"Builder_Floor\", \"Builder_Floor\", \"Builder_Floor\", \"Builder_Floor\", \"Builder_Floor\", \"Builder_Floor\", \"Builder_Floor\", \"Builder_Floor\", \"Builder_Floor\", \"Builder_Floor\", \"Builder_Floor\", \"Builder_Floor\", \"Builder_Floor\", \"Builder_Floor\", \"Builder_Floor\", \"Builder_Floor\", \"Builder_Floor\", \"Builder_Floor\", \"Builder_Floor\", \"Builder_Floor\", \"Builder_Floor\", \"Builder_Floor\", \"Builder_Floor\", \"Builder_Floor\", \"Builder_Floor\", \"Builder_Floor\", \"Builder_Floor\", \"Builder_Floor\", \"Apartment\", \"Builder_Floor\", \"Apartment\", \"Builder_Floor\", \"Apartment\", \"Builder_Floor\", \"Builder_Floor\", \"Builder_Floor\", \"Builder_Floor\", \"Builder_Floor\", \"Apartment\", \"Builder_Floor\", \"Builder_Floor\", \"Builder_Floor\", \"Builder_Floor\", \"Apartment\", \"Apartment\", \"Apartment\", \"Builder_Floor\", \"Apartment\", \"Builder_Floor\", \"Apartment\", \"Apartment\", \"Apartment\", \"Apartment\", \"Apartment\", \"Apartment\", \"Apartment\", \"Apartment\", \"Apartment\", \"Apartment\", \"Apartment\", \"Apartment\", \"Apartment\", \"Apartment\", \"Apartment\", \"Apartment\", \"Apartment\", \"Apartment\", \"Apartment\", \"Apartment\", \"Apartment\", \"Apartment\", \"Apartment\", \"Builder_Floor\", \"Apartment\", \"Builder_Floor\", \"Apartment\", \"Apartment\", \"Apartment\", \"Builder_Floor\", \"Builder_Floor\", \"Apartment\", \"Apartment\", \"Apartment\", \"Apartment\", \"Builder_Floor\", \"Builder_Floor\", \"Builder_Floor\", \"Apartment\", \"Builder_Floor\", \"Builder_Floor\", \"Apartment\", \"Builder_Floor\", \"Apartment\", \"Apartment\", \"Apartment\", \"Builder_Floor\", \"Apartment\", \"Apartment\", \"Builder_Floor\", \"Apartment\", \"Apartment\", \"Apartment\", \"Apartment\", \"Apartment\", \"Builder_Floor\", \"Builder_Floor\", \"Apartment\", \"Builder_Floor\", \"Builder_Floor\", \"Builder_Floor\", \"Builder_Floor\", \"Builder_Floor\", \"Apartment\", \"Apartment\", \"Apartment\", \"Builder_Floor\", \"Builder_Floor\", \"Builder_Floor\", \"Builder_Floor\", \"Builder_Floor\", \"Apartment\", \"Builder_Floor\", \"Builder_Floor\", \"Builder_Floor\", \"Builder_Floor\", \"Builder_Floor\", \"Builder_Floor\", \"Apartment\", \"Builder_Floor\", \"Apartment\", \"Apartment\", \"Builder_Floor\", \"Builder_Floor\", \"Builder_Floor\", \"Builder_Floor\", \"Builder_Floor\", \"Builder_Floor\", \"Builder_Floor\", \"Builder_Floor\", \"Apartment\", \"Builder_Floor\", \"Builder_Floor\", \"Builder_Floor\", \"Builder_Floor\", \"Apartment\", \"Builder_Floor\", \"Builder_Floor\", \"Builder_Floor\", \"Builder_Floor\", \"Builder_Floor\", \"Apartment\", \"Builder_Floor\", \"Apartment\", \"Builder_Floor\", \"Builder_Floor\", \"Builder_Floor\", \"Builder_Floor\", \"Builder_Floor\", \"Builder_Floor\", \"Builder_Floor\", \"Builder_Floor\", \"Builder_Floor\", \"Builder_Floor\", \"Builder_Floor\", \"Builder_Floor\", \"Builder_Floor\", \"Builder_Floor\", \"Builder_Floor\", \"Builder_Floor\", \"Builder_Floor\", \"Builder_Floor\", \"Builder_Floor\", \"Apartment\", \"Apartment\", \"Apartment\", \"Builder_Floor\", \"Apartment\", \"Apartment\", \"Builder_Floor\", \"Apartment\", \"Builder_Floor\", \"Apartment\", \"Builder_Floor\", \"Builder_Floor\", \"Apartment\", \"Apartment\", \"Builder_Floor\", \"Apartment\", \"Apartment\", \"Apartment\", \"Apartment\", \"Builder_Floor\", \"Builder_Floor\", \"Apartment\", \"Apartment\", \"Apartment\", \"Apartment\", \"Apartment\", \"Apartment\", \"Apartment\", \"Apartment\", \"Apartment\", \"Apartment\", \"Apartment\", \"Apartment\", \"Apartment\", \"Apartment\", \"Apartment\", \"Apartment\", \"Apartment\", \"Apartment\", \"Apartment\", \"Apartment\", \"Apartment\", \"Apartment\", \"Apartment\", \"Apartment\", \"Apartment\", \"Apartment\", \"Apartment\", \"Apartment\", \"Apartment\", \"Apartment\", \"Apartment\", \"Apartment\", \"Apartment\", \"Apartment\", \"Apartment\", \"Apartment\", \"Apartment\", \"Apartment\", \"Apartment\", \"Apartment\", \"Apartment\", \"Apartment\", \"Apartment\", \"Apartment\", \"Apartment\", \"Apartment\", \"Apartment\", \"Apartment\", \"Apartment\", \"Apartment\", \"Apartment\", \"Apartment\", \"Apartment\", \"Apartment\", \"Apartment\", \"Apartment\", \"Apartment\", \"Apartment\", \"Apartment\", \"Apartment\", \"Apartment\", \"Apartment\", \"Apartment\", \"Apartment\", \"Apartment\", \"Apartment\", \"Apartment\", \"Apartment\", \"Builder_Floor\", \"Apartment\", \"Apartment\", \"Apartment\", \"Apartment\", \"Apartment\", \"Apartment\", \"Builder_Floor\", \"Apartment\", \"Apartment\", \"Apartment\", \"Apartment\", \"Apartment\", \"Apartment\", \"Apartment\", \"Apartment\", \"Apartment\", \"Builder_Floor\", \"Apartment\", \"Apartment\", \"Apartment\", \"Apartment\", \"Apartment\", \"Apartment\", \"Apartment\", \"Apartment\", \"Apartment\", \"Apartment\", \"Apartment\", \"Apartment\", \"Apartment\", \"Apartment\", \"Apartment\", \"Apartment\", \"Apartment\", \"Apartment\", \"Apartment\", \"Apartment\", \"Apartment\", \"Apartment\", \"Apartment\", \"Apartment\", \"Apartment\", \"Apartment\", \"Apartment\", \"Apartment\", \"Apartment\", \"Apartment\", \"Apartment\", \"Apartment\", \"Apartment\", \"Apartment\", \"Builder_Floor\", \"Builder_Floor\", \"Apartment\", \"Apartment\", \"Apartment\", \"Apartment\", \"Apartment\", \"Builder_Floor\", \"Builder_Floor\", \"Builder_Floor\", \"Builder_Floor\", \"Apartment\", \"Builder_Floor\", \"Builder_Floor\", \"Builder_Floor\", \"Builder_Floor\", \"Builder_Floor\", \"Builder_Floor\", \"Builder_Floor\", \"Builder_Floor\", \"Apartment\", \"Builder_Floor\", \"Apartment\", \"Builder_Floor\", \"Apartment\", \"Builder_Floor\", \"Builder_Floor\", \"Apartment\", \"Builder_Floor\", \"Builder_Floor\", \"Builder_Floor\", \"Builder_Floor\", \"Apartment\", \"Builder_Floor\", \"Apartment\", \"Builder_Floor\", \"Builder_Floor\", \"Builder_Floor\", \"Builder_Floor\", \"Builder_Floor\", \"Apartment\", \"Apartment\", \"Builder_Floor\", \"Builder_Floor\", \"Apartment\", \"Builder_Floor\", \"Builder_Floor\", \"Builder_Floor\", \"Builder_Floor\", \"Apartment\", \"Builder_Floor\", \"Builder_Floor\", \"Apartment\", \"Builder_Floor\", \"Builder_Floor\", \"Builder_Floor\", \"Builder_Floor\", \"Builder_Floor\", \"Builder_Floor\", \"Apartment\", \"Apartment\", \"Builder_Floor\", \"Apartment\", \"Apartment\", \"Apartment\", \"Builder_Floor\", \"Apartment\", \"Builder_Floor\", \"Builder_Floor\", \"Builder_Floor\", \"Builder_Floor\", \"Builder_Floor\", \"Apartment\", \"Builder_Floor\", \"Apartment\", \"Apartment\", \"Apartment\", \"Builder_Floor\", \"Builder_Floor\", \"Builder_Floor\", \"Apartment\", \"Apartment\", \"Apartment\", \"Apartment\", \"Builder_Floor\", \"Apartment\", \"Builder_Floor\", \"Builder_Floor\", \"Builder_Floor\", \"Builder_Floor\", \"Builder_Floor\", \"Builder_Floor\", \"Apartment\", \"Builder_Floor\", \"Builder_Floor\", \"Builder_Floor\", \"Builder_Floor\", \"Apartment\", \"Builder_Floor\", \"Apartment\", \"Builder_Floor\", \"Apartment\", \"Apartment\", \"Builder_Floor\", \"Builder_Floor\", \"Apartment\", \"Apartment\", \"Builder_Floor\", \"Builder_Floor\", \"Apartment\", \"Builder_Floor\", \"Apartment\", \"Builder_Floor\", \"Builder_Floor\", \"Builder_Floor\", \"Builder_Floor\", \"Apartment\", \"Builder_Floor\", \"Builder_Floor\", \"Apartment\", \"Apartment\", \"Apartment\", \"Apartment\", \"Apartment\", \"Apartment\", \"Apartment\", \"Apartment\", \"Apartment\", \"Apartment\", \"Apartment\", \"Apartment\", \"Apartment\", \"Builder_Floor\", \"Apartment\", \"Apartment\", \"Apartment\", \"Apartment\", \"Apartment\", \"Apartment\", \"Builder_Floor\", \"Apartment\", \"Builder_Floor\", \"Builder_Floor\", \"Apartment\", \"Apartment\", \"Builder_Floor\", \"Apartment\", \"Builder_Floor\", \"Apartment\", \"Builder_Floor\", \"Builder_Floor\", \"Builder_Floor\", \"Builder_Floor\", \"Builder_Floor\", \"Builder_Floor\", \"Builder_Floor\", \"Builder_Floor\", \"Builder_Floor\", \"Builder_Floor\", \"Builder_Floor\", \"Builder_Floor\", \"Apartment\", \"Builder_Floor\", \"Apartment\", \"Builder_Floor\", \"Builder_Floor\", \"Builder_Floor\", \"Builder_Floor\", \"Builder_Floor\", \"Apartment\", \"Builder_Floor\", \"Builder_Floor\", \"Builder_Floor\", \"Builder_Floor\", \"Builder_Floor\", \"Builder_Floor\", \"Builder_Floor\", \"Builder_Floor\", \"Builder_Floor\", \"Apartment\", \"Apartment\", \"Apartment\", \"Apartment\", \"Builder_Floor\", \"Builder_Floor\", \"Builder_Floor\", \"Apartment\", \"Apartment\", \"Apartment\", \"Apartment\", \"Apartment\", \"Builder_Floor\", \"Apartment\", \"Builder_Floor\", \"Builder_Floor\", \"Builder_Floor\", \"Apartment\", \"Apartment\", \"Apartment\", \"Apartment\", \"Apartment\", \"Apartment\", \"Apartment\", \"Builder_Floor\", \"Apartment\", \"Builder_Floor\", \"Apartment\", \"Apartment\", \"Apartment\", \"Apartment\", \"Apartment\", \"Apartment\", \"Apartment\", \"Apartment\", \"Apartment\", \"Apartment\", \"Apartment\", \"Apartment\", \"Apartment\", \"Apartment\", \"Apartment\", \"Apartment\", \"Apartment\", \"Apartment\", \"Apartment\", \"Apartment\", \"Apartment\", \"Apartment\", \"Apartment\", \"Apartment\", \"Apartment\", \"Apartment\", \"Apartment\", \"Apartment\", \"Apartment\", \"Apartment\", \"Apartment\", \"Apartment\", \"Apartment\", \"Apartment\", \"Apartment\", \"Builder_Floor\", \"Builder_Floor\", \"Apartment\", \"Builder_Floor\", \"Apartment\", \"Apartment\", \"Apartment\", \"Apartment\", \"Builder_Floor\", \"Apartment\", \"Builder_Floor\", \"Apartment\", \"Apartment\", \"Apartment\", \"Apartment\", \"Builder_Floor\", \"Builder_Floor\", \"Apartment\", \"Apartment\", \"Builder_Floor\", \"Apartment\", \"Apartment\", \"Builder_Floor\", \"Builder_Floor\", \"Builder_Floor\", \"Apartment\", \"Builder_Floor\", \"Builder_Floor\", \"Apartment\", \"Apartment\", \"Apartment\", \"Apartment\", \"Apartment\", \"Builder_Floor\", \"Apartment\", \"Apartment\", \"Apartment\", \"Apartment\", \"Apartment\", \"Apartment\", \"Builder_Floor\", \"Builder_Floor\", \"Apartment\", \"Builder_Floor\", \"Apartment\", \"Builder_Floor\", \"Builder_Floor\", \"Builder_Floor\", \"Builder_Floor\", \"Apartment\", \"Apartment\", \"Builder_Floor\", \"Apartment\", \"Apartment\", \"Apartment\", \"Apartment\", \"Apartment\", \"Apartment\", \"Apartment\", \"Apartment\", \"Apartment\", \"Apartment\", \"Apartment\", \"Apartment\", \"Apartment\", \"Apartment\", \"Apartment\", \"Apartment\", \"Builder_Floor\", \"Apartment\", \"Apartment\", \"Apartment\", \"Apartment\", \"Apartment\", \"Apartment\", \"Apartment\", \"Apartment\", \"Apartment\", \"Builder_Floor\", \"Apartment\", \"Apartment\", \"Apartment\", \"Apartment\", \"Apartment\", \"Apartment\", \"Apartment\", \"Builder_Floor\", \"Builder_Floor\", \"Builder_Floor\", \"Builder_Floor\", \"Builder_Floor\", \"Builder_Floor\", \"Apartment\", \"Apartment\", \"Builder_Floor\", \"Builder_Floor\", \"Apartment\", \"Builder_Floor\", \"Apartment\", \"Builder_Floor\", \"Apartment\", \"Apartment\", \"Apartment\", \"Builder_Floor\", \"Apartment\", \"Builder_Floor\", \"Apartment\", \"Builder_Floor\", \"Apartment\", \"Builder_Floor\", \"Builder_Floor\", \"Apartment\", \"Apartment\", \"Apartment\", \"Apartment\", \"Apartment\", \"Builder_Floor\", \"Builder_Floor\", \"Builder_Floor\", \"Builder_Floor\", \"Apartment\", \"Apartment\", \"Builder_Floor\", \"Builder_Floor\", \"Builder_Floor\", \"Apartment\", \"Apartment\", \"Builder_Floor\", \"Apartment\", \"Builder_Floor\", \"Builder_Floor\", \"Builder_Floor\", \"Builder_Floor\", \"Builder_Floor\", \"Builder_Floor\", \"Builder_Floor\", \"Builder_Floor\", \"Apartment\", \"Builder_Floor\", \"Builder_Floor\", \"Builder_Floor\", \"Builder_Floor\", \"Apartment\", \"Builder_Floor\", \"Builder_Floor\", \"Builder_Floor\", \"Builder_Floor\", \"Builder_Floor\", \"Builder_Floor\", \"Builder_Floor\", \"Apartment\", \"Builder_Floor\", \"Builder_Floor\", \"Builder_Floor\", \"Apartment\", \"Apartment\", \"Builder_Floor\", \"Builder_Floor\", \"Apartment\", \"Builder_Floor\", \"Apartment\", \"Apartment\", \"Apartment\", \"Builder_Floor\", \"Apartment\", \"Builder_Floor\", \"Apartment\", \"Apartment\", \"Builder_Floor\", \"Builder_Floor\", \"Apartment\", \"Builder_Floor\", \"Builder_Floor\", \"Apartment\", \"Apartment\", \"Builder_Floor\", \"Builder_Floor\", \"Builder_Floor\", \"Builder_Floor\", \"Apartment\", \"Builder_Floor\", \"Apartment\", \"Builder_Floor\", \"Builder_Floor\", \"Apartment\", \"Builder_Floor\", \"Builder_Floor\", \"Builder_Floor\", \"Apartment\", \"Builder_Floor\", \"Builder_Floor\", \"Builder_Floor\", \"Builder_Floor\", \"Builder_Floor\", \"Builder_Floor\", \"Builder_Floor\", \"Builder_Floor\", \"Apartment\", \"Builder_Floor\", \"Apartment\", \"Builder_Floor\", \"Builder_Floor\", \"Builder_Floor\", \"Builder_Floor\", \"Builder_Floor\", \"Builder_Floor\", \"Builder_Floor\", \"Builder_Floor\", \"Builder_Floor\", \"Builder_Floor\", \"Builder_Floor\", \"Builder_Floor\", \"Builder_Floor\", \"Builder_Floor\", \"Builder_Floor\", \"Builder_Floor\", \"Builder_Floor\", \"Apartment\", \"Builder_Floor\", \"Apartment\", \"Builder_Floor\", \"Builder_Floor\", \"Builder_Floor\", \"Builder_Floor\", \"Builder_Floor\", \"Builder_Floor\", \"Builder_Floor\", \"Builder_Floor\", \"Builder_Floor\", \"Builder_Floor\", \"Builder_Floor\", \"Builder_Floor\", \"Builder_Floor\", \"Builder_Floor\", \"Builder_Floor\", \"Builder_Floor\"], \"xaxis\": \"x\", \"yaxis\": \"y\"}],\n",
              "                        {\"barmode\": \"relative\", \"legend\": {\"tracegroupgap\": 0}, \"margin\": {\"t\": 60}, \"template\": {\"data\": {\"bar\": [{\"error_x\": {\"color\": \"#2a3f5f\"}, \"error_y\": {\"color\": \"#2a3f5f\"}, \"marker\": {\"line\": {\"color\": \"#E5ECF6\", \"width\": 0.5}}, \"type\": \"bar\"}], \"barpolar\": [{\"marker\": {\"line\": {\"color\": \"#E5ECF6\", \"width\": 0.5}}, \"type\": \"barpolar\"}], \"carpet\": [{\"aaxis\": {\"endlinecolor\": \"#2a3f5f\", \"gridcolor\": \"white\", \"linecolor\": \"white\", \"minorgridcolor\": \"white\", \"startlinecolor\": \"#2a3f5f\"}, \"baxis\": {\"endlinecolor\": \"#2a3f5f\", \"gridcolor\": \"white\", \"linecolor\": \"white\", \"minorgridcolor\": \"white\", \"startlinecolor\": \"#2a3f5f\"}, \"type\": \"carpet\"}], \"choropleth\": [{\"colorbar\": {\"outlinewidth\": 0, \"ticks\": \"\"}, \"type\": \"choropleth\"}], \"contour\": [{\"colorbar\": {\"outlinewidth\": 0, \"ticks\": \"\"}, \"colorscale\": [[0.0, \"#0d0887\"], [0.1111111111111111, \"#46039f\"], [0.2222222222222222, \"#7201a8\"], [0.3333333333333333, \"#9c179e\"], [0.4444444444444444, \"#bd3786\"], [0.5555555555555556, \"#d8576b\"], [0.6666666666666666, \"#ed7953\"], [0.7777777777777778, \"#fb9f3a\"], [0.8888888888888888, \"#fdca26\"], [1.0, \"#f0f921\"]], \"type\": \"contour\"}], \"contourcarpet\": [{\"colorbar\": {\"outlinewidth\": 0, \"ticks\": \"\"}, \"type\": \"contourcarpet\"}], \"heatmap\": [{\"colorbar\": {\"outlinewidth\": 0, \"ticks\": \"\"}, \"colorscale\": [[0.0, \"#0d0887\"], [0.1111111111111111, \"#46039f\"], [0.2222222222222222, \"#7201a8\"], [0.3333333333333333, \"#9c179e\"], [0.4444444444444444, \"#bd3786\"], [0.5555555555555556, \"#d8576b\"], [0.6666666666666666, \"#ed7953\"], [0.7777777777777778, \"#fb9f3a\"], [0.8888888888888888, \"#fdca26\"], [1.0, \"#f0f921\"]], \"type\": \"heatmap\"}], \"heatmapgl\": [{\"colorbar\": {\"outlinewidth\": 0, \"ticks\": \"\"}, \"colorscale\": [[0.0, \"#0d0887\"], [0.1111111111111111, \"#46039f\"], [0.2222222222222222, \"#7201a8\"], [0.3333333333333333, \"#9c179e\"], [0.4444444444444444, \"#bd3786\"], [0.5555555555555556, \"#d8576b\"], [0.6666666666666666, \"#ed7953\"], [0.7777777777777778, \"#fb9f3a\"], [0.8888888888888888, \"#fdca26\"], [1.0, \"#f0f921\"]], \"type\": \"heatmapgl\"}], \"histogram\": [{\"marker\": {\"colorbar\": {\"outlinewidth\": 0, \"ticks\": \"\"}}, \"type\": \"histogram\"}], \"histogram2d\": [{\"colorbar\": {\"outlinewidth\": 0, \"ticks\": \"\"}, \"colorscale\": [[0.0, \"#0d0887\"], [0.1111111111111111, \"#46039f\"], [0.2222222222222222, \"#7201a8\"], [0.3333333333333333, \"#9c179e\"], [0.4444444444444444, \"#bd3786\"], [0.5555555555555556, \"#d8576b\"], [0.6666666666666666, \"#ed7953\"], [0.7777777777777778, \"#fb9f3a\"], [0.8888888888888888, \"#fdca26\"], [1.0, \"#f0f921\"]], \"type\": \"histogram2d\"}], \"histogram2dcontour\": [{\"colorbar\": {\"outlinewidth\": 0, \"ticks\": \"\"}, \"colorscale\": [[0.0, \"#0d0887\"], [0.1111111111111111, \"#46039f\"], [0.2222222222222222, \"#7201a8\"], [0.3333333333333333, \"#9c179e\"], [0.4444444444444444, \"#bd3786\"], [0.5555555555555556, \"#d8576b\"], [0.6666666666666666, \"#ed7953\"], [0.7777777777777778, \"#fb9f3a\"], [0.8888888888888888, \"#fdca26\"], [1.0, \"#f0f921\"]], \"type\": \"histogram2dcontour\"}], \"mesh3d\": [{\"colorbar\": {\"outlinewidth\": 0, \"ticks\": \"\"}, \"type\": \"mesh3d\"}], \"parcoords\": [{\"line\": {\"colorbar\": {\"outlinewidth\": 0, \"ticks\": \"\"}}, \"type\": \"parcoords\"}], \"pie\": [{\"automargin\": true, \"type\": \"pie\"}], \"scatter\": [{\"marker\": {\"colorbar\": {\"outlinewidth\": 0, \"ticks\": \"\"}}, \"type\": \"scatter\"}], \"scatter3d\": [{\"line\": {\"colorbar\": {\"outlinewidth\": 0, \"ticks\": \"\"}}, \"marker\": {\"colorbar\": {\"outlinewidth\": 0, \"ticks\": \"\"}}, \"type\": \"scatter3d\"}], \"scattercarpet\": [{\"marker\": {\"colorbar\": {\"outlinewidth\": 0, \"ticks\": \"\"}}, \"type\": \"scattercarpet\"}], \"scattergeo\": [{\"marker\": {\"colorbar\": {\"outlinewidth\": 0, \"ticks\": \"\"}}, \"type\": \"scattergeo\"}], \"scattergl\": [{\"marker\": {\"colorbar\": {\"outlinewidth\": 0, \"ticks\": \"\"}}, \"type\": \"scattergl\"}], \"scattermapbox\": [{\"marker\": {\"colorbar\": {\"outlinewidth\": 0, \"ticks\": \"\"}}, \"type\": \"scattermapbox\"}], \"scatterpolar\": [{\"marker\": {\"colorbar\": {\"outlinewidth\": 0, \"ticks\": \"\"}}, \"type\": \"scatterpolar\"}], \"scatterpolargl\": [{\"marker\": {\"colorbar\": {\"outlinewidth\": 0, \"ticks\": \"\"}}, \"type\": \"scatterpolargl\"}], \"scatterternary\": [{\"marker\": {\"colorbar\": {\"outlinewidth\": 0, \"ticks\": \"\"}}, \"type\": \"scatterternary\"}], \"surface\": [{\"colorbar\": {\"outlinewidth\": 0, \"ticks\": \"\"}, \"colorscale\": [[0.0, \"#0d0887\"], [0.1111111111111111, \"#46039f\"], [0.2222222222222222, \"#7201a8\"], [0.3333333333333333, \"#9c179e\"], [0.4444444444444444, \"#bd3786\"], [0.5555555555555556, \"#d8576b\"], [0.6666666666666666, \"#ed7953\"], [0.7777777777777778, \"#fb9f3a\"], [0.8888888888888888, \"#fdca26\"], [1.0, \"#f0f921\"]], \"type\": \"surface\"}], \"table\": [{\"cells\": {\"fill\": {\"color\": \"#EBF0F8\"}, \"line\": {\"color\": \"white\"}}, \"header\": {\"fill\": {\"color\": \"#C8D4E3\"}, \"line\": {\"color\": \"white\"}}, \"type\": \"table\"}]}, \"layout\": {\"annotationdefaults\": {\"arrowcolor\": \"#2a3f5f\", \"arrowhead\": 0, \"arrowwidth\": 1}, \"coloraxis\": {\"colorbar\": {\"outlinewidth\": 0, \"ticks\": \"\"}}, \"colorscale\": {\"diverging\": [[0, \"#8e0152\"], [0.1, \"#c51b7d\"], [0.2, \"#de77ae\"], [0.3, \"#f1b6da\"], [0.4, \"#fde0ef\"], [0.5, \"#f7f7f7\"], [0.6, \"#e6f5d0\"], [0.7, \"#b8e186\"], [0.8, \"#7fbc41\"], [0.9, \"#4d9221\"], [1, \"#276419\"]], \"sequential\": [[0.0, \"#0d0887\"], [0.1111111111111111, \"#46039f\"], [0.2222222222222222, \"#7201a8\"], [0.3333333333333333, \"#9c179e\"], [0.4444444444444444, \"#bd3786\"], [0.5555555555555556, \"#d8576b\"], [0.6666666666666666, \"#ed7953\"], [0.7777777777777778, \"#fb9f3a\"], [0.8888888888888888, \"#fdca26\"], [1.0, \"#f0f921\"]], \"sequentialminus\": [[0.0, \"#0d0887\"], [0.1111111111111111, \"#46039f\"], [0.2222222222222222, \"#7201a8\"], [0.3333333333333333, \"#9c179e\"], [0.4444444444444444, \"#bd3786\"], [0.5555555555555556, \"#d8576b\"], [0.6666666666666666, \"#ed7953\"], [0.7777777777777778, \"#fb9f3a\"], [0.8888888888888888, \"#fdca26\"], [1.0, \"#f0f921\"]]}, \"colorway\": [\"#636efa\", \"#EF553B\", \"#00cc96\", \"#ab63fa\", \"#FFA15A\", \"#19d3f3\", \"#FF6692\", \"#B6E880\", \"#FF97FF\", \"#FECB52\"], \"font\": {\"color\": \"#2a3f5f\"}, \"geo\": {\"bgcolor\": \"white\", \"lakecolor\": \"white\", \"landcolor\": \"#E5ECF6\", \"showlakes\": true, \"showland\": true, \"subunitcolor\": \"white\"}, \"hoverlabel\": {\"align\": \"left\"}, \"hovermode\": \"closest\", \"mapbox\": {\"style\": \"light\"}, \"paper_bgcolor\": \"white\", \"plot_bgcolor\": \"#E5ECF6\", \"polar\": {\"angularaxis\": {\"gridcolor\": \"white\", \"linecolor\": \"white\", \"ticks\": \"\"}, \"bgcolor\": \"#E5ECF6\", \"radialaxis\": {\"gridcolor\": \"white\", \"linecolor\": \"white\", \"ticks\": \"\"}}, \"scene\": {\"xaxis\": {\"backgroundcolor\": \"#E5ECF6\", \"gridcolor\": \"white\", \"gridwidth\": 2, \"linecolor\": \"white\", \"showbackground\": true, \"ticks\": \"\", \"zerolinecolor\": \"white\"}, \"yaxis\": {\"backgroundcolor\": \"#E5ECF6\", \"gridcolor\": \"white\", \"gridwidth\": 2, \"linecolor\": \"white\", \"showbackground\": true, \"ticks\": \"\", \"zerolinecolor\": \"white\"}, \"zaxis\": {\"backgroundcolor\": \"#E5ECF6\", \"gridcolor\": \"white\", \"gridwidth\": 2, \"linecolor\": \"white\", \"showbackground\": true, \"ticks\": \"\", \"zerolinecolor\": \"white\"}}, \"shapedefaults\": {\"line\": {\"color\": \"#2a3f5f\"}}, \"ternary\": {\"aaxis\": {\"gridcolor\": \"white\", \"linecolor\": \"white\", \"ticks\": \"\"}, \"baxis\": {\"gridcolor\": \"white\", \"linecolor\": \"white\", \"ticks\": \"\"}, \"bgcolor\": \"#E5ECF6\", \"caxis\": {\"gridcolor\": \"white\", \"linecolor\": \"white\", \"ticks\": \"\"}}, \"title\": {\"x\": 0.05}, \"xaxis\": {\"automargin\": true, \"gridcolor\": \"white\", \"linecolor\": \"white\", \"ticks\": \"\", \"title\": {\"standoff\": 15}, \"zerolinecolor\": \"white\", \"zerolinewidth\": 2}, \"yaxis\": {\"automargin\": true, \"gridcolor\": \"white\", \"linecolor\": \"white\", \"ticks\": \"\", \"title\": {\"standoff\": 15}, \"zerolinecolor\": \"white\", \"zerolinewidth\": 2}}}, \"xaxis\": {\"anchor\": \"y\", \"domain\": [0.0, 1.0], \"title\": {\"text\": \"Type\"}}, \"yaxis\": {\"anchor\": \"x\", \"domain\": [0.0, 1.0], \"title\": {\"text\": \"count\"}}},\n",
              "                        {\"responsive\": true}\n",
              "                    ).then(function(){\n",
              "                            \n",
              "var gd = document.getElementById('d5c08574-6cbc-4d19-84a6-95227e989225');\n",
              "var x = new MutationObserver(function (mutations, observer) {{\n",
              "        var display = window.getComputedStyle(gd).display;\n",
              "        if (!display || display === 'none') {{\n",
              "            console.log([gd, 'removed!']);\n",
              "            Plotly.purge(gd);\n",
              "            observer.disconnect();\n",
              "        }}\n",
              "}});\n",
              "\n",
              "// Listen for the removal of the full notebook cells\n",
              "var notebookContainer = gd.closest('#notebook-container');\n",
              "if (notebookContainer) {{\n",
              "    x.observe(notebookContainer, {childList: true});\n",
              "}}\n",
              "\n",
              "// Listen for the clearing of the current output cell\n",
              "var outputEl = gd.closest('.output');\n",
              "if (outputEl) {{\n",
              "    x.observe(outputEl, {childList: true});\n",
              "}}\n",
              "\n",
              "                        })\n",
              "                };\n",
              "                \n",
              "            </script>\n",
              "        </div>\n",
              "</body>\n",
              "</html>"
            ]
          },
          "metadata": {
            "tags": []
          }
        }
      ]
    },
    {
      "cell_type": "code",
      "metadata": {
        "colab": {
          "base_uri": "https://localhost:8080/"
        },
        "id": "XLTtCN7Ai-u6",
        "outputId": "51bc7a8f-5567-4546-bd5a-96b957468dd9"
      },
      "source": [
        "df1['Furnishing'].value_counts()\n"
      ],
      "execution_count": 26,
      "outputs": [
        {
          "output_type": "execute_result",
          "data": {
            "text/plain": [
              "Semi-Furnished    667\n",
              "Unfurnished       329\n",
              "Furnished         174\n",
              "Name: Furnishing, dtype: int64"
            ]
          },
          "metadata": {
            "tags": []
          },
          "execution_count": 26
        }
      ]
    },
    {
      "cell_type": "code",
      "metadata": {
        "colab": {
          "base_uri": "https://localhost:8080/"
        },
        "id": "0SV0firMjBDS",
        "outputId": "7cf1ae68-2d26-414f-ea32-c9bc3fea7996"
      },
      "source": [
        "df1['Status'].value_counts()\n"
      ],
      "execution_count": 27,
      "outputs": [
        {
          "output_type": "execute_result",
          "data": {
            "text/plain": [
              "Ready_to_move    1109\n",
              "Almost_ready       61\n",
              "Name: Status, dtype: int64"
            ]
          },
          "metadata": {
            "tags": []
          },
          "execution_count": 27
        }
      ]
    },
    {
      "cell_type": "code",
      "metadata": {
        "colab": {
          "base_uri": "https://localhost:8080/"
        },
        "id": "z1STIYH7jDzc",
        "outputId": "bdb0625a-458b-4486-b4a8-66f19454b0ea"
      },
      "source": [
        "df1['Transaction'].value_counts()\n"
      ],
      "execution_count": 28,
      "outputs": [
        {
          "output_type": "execute_result",
          "data": {
            "text/plain": [
              "Resale          735\n",
              "New_Property    435\n",
              "Name: Transaction, dtype: int64"
            ]
          },
          "metadata": {
            "tags": []
          },
          "execution_count": 28
        }
      ]
    },
    {
      "cell_type": "code",
      "metadata": {
        "colab": {
          "base_uri": "https://localhost:8080/"
        },
        "id": "EghSQGzcjFfY",
        "outputId": "062407fd-a7fc-42f0-b238-8d98f2795825"
      },
      "source": [
        "df1['Type'].value_counts()\n"
      ],
      "execution_count": 29,
      "outputs": [
        {
          "output_type": "execute_result",
          "data": {
            "text/plain": [
              "Builder_Floor    643\n",
              "Apartment        527\n",
              "Name: Type, dtype: int64"
            ]
          },
          "metadata": {
            "tags": []
          },
          "execution_count": 29
        }
      ]
    },
    {
      "cell_type": "code",
      "metadata": {
        "colab": {
          "base_uri": "https://localhost:8080/"
        },
        "id": "E02tgCBnjK2j",
        "outputId": "bc33f1cc-0ecd-4bc3-ca6c-d714ff9d20b2"
      },
      "source": [
        "df1['Locality'].value_counts()\n"
      ],
      "execution_count": 30,
      "outputs": [
        {
          "output_type": "execute_result",
          "data": {
            "text/plain": [
              "Lajpat Nagar 3                                                                                                                                                                                                                                                                                             32\n",
              "Kailash Colony, Greater Kailash                                                                                                                                                                                                                                                                            30\n",
              "Yamuna Vihar, Shahdara                                                                                                                                                                                                                                                                                     29\n",
              "Lajpat Nagar 2                                                                                                                                                                                                                                                                                             29\n",
              "J R Designers Floors, Rohini Sector 24                                                                                                                                                                                                                                                                     28\n",
              "                                                                                                                                                                                                                                                                                                           ..\n",
              "Chittaranjan Park Block A                                                                                                                                                                                                                                                                                   1\n",
              "Paschim Vihar Block B2                                                                                                                                                                                                                                                                                      1\n",
              "Dilshad Garden carpet area 1500 sqft status Ready to Move floor 2 out of 4 floors transaction Resale furnishing Unfurnished bathroom 1 balcony 2 Mig dda flat located at a very prime location near to market, school, hospital, metro station etc. Contact Owner View Phone No. Share Feedback Owner R     1\n",
              "Neelachal, Aashirwaad Chowk, Dwarka                                                                                                                                                                                                                                                                         1\n",
              "Rohitash Nagar East, Shahdara                                                                                                                                                                                                                                                                               1\n",
              "Name: Locality, Length: 363, dtype: int64"
            ]
          },
          "metadata": {
            "tags": []
          },
          "execution_count": 30
        }
      ]
    },
    {
      "cell_type": "code",
      "metadata": {
        "colab": {
          "base_uri": "https://localhost:8080/",
          "height": 206
        },
        "id": "rWu5YcMCjLTf",
        "outputId": "e091f0a0-5ae6-4609-a201-bea6e975c39a"
      },
      "source": [
        "from sklearn.preprocessing import LabelEncoder\n",
        "cols = ['Furnishing','Status','Transaction','Type','Locality']\n",
        "df1[cols] = df1[cols].apply(LabelEncoder().fit_transform)\n",
        "df1.head(n=5)\n"
      ],
      "execution_count": 32,
      "outputs": [
        {
          "output_type": "execute_result",
          "data": {
            "text/html": [
              "<div>\n",
              "<style scoped>\n",
              "    .dataframe tbody tr th:only-of-type {\n",
              "        vertical-align: middle;\n",
              "    }\n",
              "\n",
              "    .dataframe tbody tr th {\n",
              "        vertical-align: top;\n",
              "    }\n",
              "\n",
              "    .dataframe thead th {\n",
              "        text-align: right;\n",
              "    }\n",
              "</style>\n",
              "<table border=\"1\" class=\"dataframe\">\n",
              "  <thead>\n",
              "    <tr style=\"text-align: right;\">\n",
              "      <th></th>\n",
              "      <th>Area</th>\n",
              "      <th>BHK</th>\n",
              "      <th>Bathroom</th>\n",
              "      <th>Furnishing</th>\n",
              "      <th>Locality</th>\n",
              "      <th>Parking</th>\n",
              "      <th>Price</th>\n",
              "      <th>Status</th>\n",
              "      <th>Transaction</th>\n",
              "      <th>Type</th>\n",
              "      <th>Per_Sqft</th>\n",
              "    </tr>\n",
              "  </thead>\n",
              "  <tbody>\n",
              "    <tr>\n",
              "      <th>0</th>\n",
              "      <td>800.0</td>\n",
              "      <td>3</td>\n",
              "      <td>2.0</td>\n",
              "      <td>1</td>\n",
              "      <td>282</td>\n",
              "      <td>1.0</td>\n",
              "      <td>6500000</td>\n",
              "      <td>1</td>\n",
              "      <td>0</td>\n",
              "      <td>1</td>\n",
              "      <td>15817.306639</td>\n",
              "    </tr>\n",
              "    <tr>\n",
              "      <th>1</th>\n",
              "      <td>750.0</td>\n",
              "      <td>2</td>\n",
              "      <td>2.0</td>\n",
              "      <td>1</td>\n",
              "      <td>138</td>\n",
              "      <td>1.0</td>\n",
              "      <td>5000000</td>\n",
              "      <td>1</td>\n",
              "      <td>0</td>\n",
              "      <td>0</td>\n",
              "      <td>6667.000000</td>\n",
              "    </tr>\n",
              "    <tr>\n",
              "      <th>2</th>\n",
              "      <td>950.0</td>\n",
              "      <td>2</td>\n",
              "      <td>2.0</td>\n",
              "      <td>0</td>\n",
              "      <td>49</td>\n",
              "      <td>1.0</td>\n",
              "      <td>15500000</td>\n",
              "      <td>1</td>\n",
              "      <td>1</td>\n",
              "      <td>0</td>\n",
              "      <td>6667.000000</td>\n",
              "    </tr>\n",
              "    <tr>\n",
              "      <th>3</th>\n",
              "      <td>600.0</td>\n",
              "      <td>2</td>\n",
              "      <td>2.0</td>\n",
              "      <td>1</td>\n",
              "      <td>280</td>\n",
              "      <td>1.0</td>\n",
              "      <td>4200000</td>\n",
              "      <td>1</td>\n",
              "      <td>1</td>\n",
              "      <td>1</td>\n",
              "      <td>6667.000000</td>\n",
              "    </tr>\n",
              "    <tr>\n",
              "      <th>4</th>\n",
              "      <td>650.0</td>\n",
              "      <td>2</td>\n",
              "      <td>2.0</td>\n",
              "      <td>1</td>\n",
              "      <td>281</td>\n",
              "      <td>1.0</td>\n",
              "      <td>6200000</td>\n",
              "      <td>1</td>\n",
              "      <td>0</td>\n",
              "      <td>1</td>\n",
              "      <td>6667.000000</td>\n",
              "    </tr>\n",
              "  </tbody>\n",
              "</table>\n",
              "</div>"
            ],
            "text/plain": [
              "    Area  BHK  Bathroom  Furnishing  ...  Status  Transaction  Type      Per_Sqft\n",
              "0  800.0    3       2.0           1  ...       1            0     1  15817.306639\n",
              "1  750.0    2       2.0           1  ...       1            0     0   6667.000000\n",
              "2  950.0    2       2.0           0  ...       1            1     0   6667.000000\n",
              "3  600.0    2       2.0           1  ...       1            1     1   6667.000000\n",
              "4  650.0    2       2.0           1  ...       1            0     1   6667.000000\n",
              "\n",
              "[5 rows x 11 columns]"
            ]
          },
          "metadata": {
            "tags": []
          },
          "execution_count": 32
        }
      ]
    },
    {
      "cell_type": "code",
      "metadata": {
        "colab": {
          "base_uri": "https://localhost:8080/",
          "height": 542
        },
        "id": "SMOEat0FjPs7",
        "outputId": "7f70053f-b871-4038-c7f7-99b5ce59661f"
      },
      "source": [
        "px.scatter(df1,x='Price',y='Area',color='Locality',size='BHK',hover_data=['Per_Sqft','Type','Status'])"
      ],
      "execution_count": 33,
      "outputs": [
        {
          "output_type": "display_data",
          "data": {
            "text/html": [
              "<html>\n",
              "<head><meta charset=\"utf-8\" /></head>\n",
              "<body>\n",
              "    <div>\n",
              "            <script src=\"https://cdnjs.cloudflare.com/ajax/libs/mathjax/2.7.5/MathJax.js?config=TeX-AMS-MML_SVG\"></script><script type=\"text/javascript\">if (window.MathJax) {MathJax.Hub.Config({SVG: {font: \"STIX-Web\"}});}</script>\n",
              "                <script type=\"text/javascript\">window.PlotlyConfig = {MathJaxConfig: 'local'};</script>\n",
              "        <script src=\"https://cdn.plot.ly/plotly-latest.min.js\"></script>    \n",
              "            <div id=\"e71951af-23da-4214-8e5b-80e867986465\" class=\"plotly-graph-div\" style=\"height:525px; width:100%;\"></div>\n",
              "            <script type=\"text/javascript\">\n",
              "                \n",
              "                    window.PLOTLYENV=window.PLOTLYENV || {};\n",
              "                    \n",
              "                if (document.getElementById(\"e71951af-23da-4214-8e5b-80e867986465\")) {\n",
              "                    Plotly.newPlot(\n",
              "                        'e71951af-23da-4214-8e5b-80e867986465',\n",
              "                        [{\"customdata\": [[15817.306638566912, 1.0, 1.0], [6667.0, 0.0, 1.0], [6667.0, 0.0, 1.0], [6667.0, 1.0, 1.0], [6667.0, 1.0, 1.0], [6667.0, 1.0, 1.0], [6667.0, 1.0, 1.0], [6154.0, 0.0, 1.0], [6154.0, 1.0, 0.0], [6154.0, 1.0, 1.0], [6154.0, 1.0, 1.0], [6154.0, 1.0, 1.0], [6154.0, 1.0, 1.0], [6154.0, 1.0, 1.0], [6154.0, 1.0, 1.0], [6154.0, 1.0, 1.0], [6154.0, 1.0, 1.0], [6154.0, 1.0, 1.0], [6154.0, 0.0, 1.0], [6154.0, 1.0, 1.0], [6154.0, 0.0, 1.0], [6154.0, 1.0, 1.0], [6154.0, 0.0, 1.0], [6154.0, 0.0, 1.0], [6154.0, 1.0, 1.0], [6364.0, 1.0, 1.0], [8750.0, 1.0, 1.0], [8750.0, 0.0, 1.0], [8750.0, 0.0, 1.0], [9722.0, 1.0, 1.0], [15817.306638566912, 1.0, 1.0], [15817.306638566912, 1.0, 1.0], [15817.306638566912, 1.0, 1.0], [15817.306638566912, 1.0, 1.0], [15817.306638566912, 1.0, 1.0], [15817.306638566912, 0.0, 1.0], [15817.306638566912, 1.0, 1.0], [15817.306638566912, 0.0, 1.0], [15817.306638566912, 1.0, 1.0], [15817.306638566912, 1.0, 1.0], [15817.306638566912, 1.0, 1.0], [15817.306638566912, 1.0, 1.0], [15817.306638566912, 1.0, 1.0], [15817.306638566912, 1.0, 1.0], [15817.306638566912, 1.0, 1.0], [15817.306638566912, 1.0, 1.0], [14444.0, 1.0, 1.0], [22000.0, 1.0, 1.0], [22000.0, 1.0, 1.0], [22000.0, 1.0, 1.0], [22000.0, 1.0, 1.0], [22000.0, 1.0, 1.0], [22000.0, 1.0, 1.0], [22000.0, 1.0, 1.0], [22000.0, 1.0, 1.0], [22000.0, 1.0, 1.0], [22000.0, 1.0, 1.0], [22000.0, 1.0, 1.0], [22000.0, 1.0, 1.0], [15817.306638566912, 0.0, 1.0], [2235.0, 0.0, 1.0], [3800.0, 0.0, 1.0], [4247.0, 0.0, 1.0], [3524.0, 0.0, 1.0], [3524.0, 0.0, 1.0], [3524.0, 0.0, 1.0], [3524.0, 0.0, 0.0], [3524.0, 0.0, 1.0], [3524.0, 0.0, 1.0], [3524.0, 0.0, 1.0], [3524.0, 0.0, 1.0], [3524.0, 0.0, 1.0], [3524.0, 0.0, 1.0], [3524.0, 0.0, 1.0], [3524.0, 0.0, 1.0], [3524.0, 0.0, 1.0], [3524.0, 0.0, 1.0], [3524.0, 0.0, 1.0], [3524.0, 0.0, 1.0], [3524.0, 0.0, 1.0], [3524.0, 0.0, 1.0], [3524.0, 0.0, 1.0], [3524.0, 0.0, 1.0], [3524.0, 0.0, 1.0], [3524.0, 0.0, 1.0], [3524.0, 1.0, 1.0], [3524.0, 1.0, 1.0], [3524.0, 0.0, 1.0], [15817.306638566912, 1.0, 1.0], [15817.306638566912, 1.0, 1.0], [15817.306638566912, 1.0, 1.0], [15817.306638566912, 1.0, 1.0], [15817.306638566912, 1.0, 1.0], [15817.306638566912, 1.0, 1.0], [15817.306638566912, 1.0, 1.0], [15817.306638566912, 1.0, 1.0], [15817.306638566912, 1.0, 1.0], [15817.306638566912, 1.0, 1.0], [15817.306638566912, 1.0, 1.0], [26666.0, 1.0, 1.0], [15972.0, 1.0, 1.0], [183333.0, 1.0, 1.0], [183333.0, 1.0, 1.0], [183333.0, 0.0, 1.0], [183333.0, 1.0, 1.0], [20000.0, 0.0, 1.0], [20000.0, 1.0, 1.0], [20000.0, 1.0, 1.0], [20000.0, 1.0, 1.0], [15556.0, 1.0, 1.0], [16176.0, 1.0, 1.0], [16176.0, 1.0, 1.0], [16176.0, 1.0, 1.0], [15556.0, 1.0, 1.0], [15556.0, 1.0, 1.0], [15556.0, 1.0, 1.0], [15817.306638566912, 1.0, 1.0], [9259.0, 1.0, 1.0], [9259.0, 1.0, 1.0], [9259.0, 1.0, 1.0], [9259.0, 1.0, 1.0], [9259.0, 1.0, 1.0], [18507.0, 1.0, 1.0], [18507.0, 1.0, 1.0], [18507.0, 1.0, 1.0], [18507.0, 1.0, 0.0], [18507.0, 1.0, 1.0], [7000.0, 1.0, 1.0], [7000.0, 1.0, 1.0], [7000.0, 1.0, 1.0], [7000.0, 1.0, 1.0], [7000.0, 1.0, 1.0], [7000.0, 1.0, 1.0], [7000.0, 1.0, 1.0], [7000.0, 1.0, 1.0], [7000.0, 1.0, 1.0], [7000.0, 1.0, 1.0], [7000.0, 1.0, 1.0], [7000.0, 1.0, 1.0], [7000.0, 1.0, 1.0], [7000.0, 1.0, 1.0], [7000.0, 1.0, 1.0], [7000.0, 1.0, 1.0], [15817.306638566912, 0.0, 1.0], [15817.306638566912, 1.0, 1.0], [72000.0, 1.0, 1.0], [43000.0, 1.0, 1.0], [4444.0, 1.0, 1.0], [3300.0, 0.0, 1.0], [4444.0, 1.0, 1.0], [40000.0, 1.0, 1.0], [5185.0, 0.0, 1.0], [4000.0, 1.0, 1.0], [4000.0, 0.0, 1.0], [4000.0, 1.0, 1.0], [3567.0, 1.0, 1.0], [1259.0, 1.0, 1.0], [2500.0, 1.0, 1.0], [2500.0, 1.0, 1.0], [2500.0, 1.0, 1.0], [5255.0, 1.0, 1.0], [5255.0, 0.0, 1.0], [5255.0, 1.0, 1.0], [5255.0, 1.0, 1.0], [5255.0, 1.0, 1.0], [5255.0, 1.0, 1.0], [5255.0, 1.0, 1.0], [5255.0, 1.0, 1.0], [5255.0, 1.0, 1.0], [5255.0, 1.0, 1.0], [5255.0, 1.0, 1.0], [5255.0, 1.0, 1.0], [5255.0, 1.0, 1.0], [15817.306638566912, 1.0, 1.0], [6528.0, 0.0, 1.0], [6875.0, 0.0, 1.0], [5714.0, 0.0, 1.0], [7449.0, 0.0, 1.0], [8125.0, 0.0, 1.0], [7931.0, 0.0, 1.0], [7931.0, 0.0, 1.0], [5789.0, 0.0, 1.0], [6471.0, 0.0, 1.0], [8438.0, 0.0, 1.0], [6508.0, 0.0, 1.0], [8000.0, 0.0, 1.0], [6364.0, 0.0, 1.0], [6000.0, 0.0, 1.0], [6250.0, 0.0, 1.0], [6333.0, 0.0, 1.0], [6875.0, 0.0, 1.0], [6875.0, 0.0, 1.0], [6714.0, 0.0, 1.0], [6714.0, 1.0, 1.0], [6714.0, 1.0, 1.0], [6714.0, 1.0, 1.0], [6714.0, 1.0, 1.0], [6714.0, 1.0, 1.0], [6714.0, 1.0, 1.0], [6714.0, 1.0, 1.0], [6714.0, 1.0, 1.0], [28797.0, 0.0, 0.0], [23840.0, 0.0, 0.0], [4600.0, 0.0, 1.0], [4620.0, 0.0, 1.0], [2235.0, 0.0, 1.0], [2235.0, 0.0, 1.0], [5000.0, 0.0, 1.0], [6111.0, 0.0, 1.0], [25512.0, 0.0, 1.0], [22222.0, 1.0, 1.0], [22222.0, 0.0, 1.0], [22222.0, 1.0, 0.0], [22222.0, 1.0, 0.0], [22222.0, 1.0, 0.0], [22222.0, 0.0, 0.0], [24718.0, 0.0, 0.0], [24718.0, 0.0, 0.0], [24718.0, 0.0, 1.0], [24718.0, 0.0, 1.0], [30556.0, 1.0, 1.0], [30556.0, 0.0, 1.0], [30556.0, 1.0, 0.0], [30556.0, 1.0, 1.0], [18750.0, 1.0, 1.0], [18750.0, 1.0, 1.0], [18750.0, 1.0, 1.0], [15817.306638566912, 1.0, 1.0], [120000.0, 1.0, 1.0], [120000.0, 1.0, 1.0], [120000.0, 1.0, 1.0], [120000.0, 1.0, 1.0], [120000.0, 1.0, 1.0], [120000.0, 0.0, 1.0], [120000.0, 1.0, 1.0], [120000.0, 1.0, 1.0], [15459.0, 0.0, 1.0], [15459.0, 1.0, 1.0], [15459.0, 0.0, 1.0], [15459.0, 1.0, 1.0], [15459.0, 1.0, 1.0], [15459.0, 1.0, 1.0], [15459.0, 1.0, 1.0], [15459.0, 1.0, 1.0], [15459.0, 1.0, 1.0], [15459.0, 1.0, 1.0], [15459.0, 1.0, 1.0], [15459.0, 1.0, 1.0], [15459.0, 1.0, 1.0], [15459.0, 0.0, 1.0], [23529.0, 1.0, 1.0], [23529.0, 1.0, 1.0], [23529.0, 1.0, 1.0], [23529.0, 1.0, 1.0], [23529.0, 1.0, 1.0], [23529.0, 1.0, 1.0], [16667.0, 1.0, 1.0], [15817.306638566912, 1.0, 1.0], [15817.306638566912, 1.0, 1.0], [15817.306638566912, 1.0, 1.0], [20000.0, 1.0, 1.0], [20000.0, 1.0, 1.0], [20000.0, 1.0, 1.0], [20000.0, 1.0, 1.0], [20000.0, 1.0, 1.0], [11111.0, 1.0, 1.0], [11111.0, 1.0, 1.0], [21409.0, 1.0, 0.0], [21409.0, 1.0, 1.0], [95000.0, 1.0, 1.0], [15363.0, 1.0, 1.0], [19259.0, 1.0, 1.0], [20833.0, 1.0, 1.0], [20833.0, 1.0, 1.0], [20833.0, 1.0, 1.0], [20833.0, 1.0, 1.0], [20833.0, 1.0, 1.0], [20930.0, 1.0, 1.0], [20930.0, 0.0, 1.0], [20930.0, 1.0, 1.0], [20930.0, 1.0, 1.0], [20930.0, 1.0, 1.0], [20930.0, 1.0, 1.0], [20930.0, 1.0, 1.0], [20930.0, 1.0, 1.0], [20930.0, 1.0, 1.0], [20930.0, 1.0, 1.0], [15817.306638566912, 1.0, 1.0], [15817.306638566912, 1.0, 1.0], [15817.306638566912, 0.0, 1.0], [15817.306638566912, 1.0, 1.0], [15817.306638566912, 1.0, 1.0], [15817.306638566912, 1.0, 1.0], [6526.0, 1.0, 1.0], [6526.0, 0.0, 1.0], [6526.0, 1.0, 1.0], [6526.0, 0.0, 1.0], [6526.0, 0.0, 1.0], [6526.0, 1.0, 1.0], [6526.0, 1.0, 1.0], [6526.0, 1.0, 1.0], [6526.0, 1.0, 1.0], [6526.0, 0.0, 1.0], [6526.0, 1.0, 1.0], [6526.0, 1.0, 1.0], [6526.0, 1.0, 1.0], [6526.0, 1.0, 1.0], [6526.0, 1.0, 1.0], [3901.0, 0.0, 1.0], [3901.0, 1.0, 1.0], [3901.0, 1.0, 0.0], [3901.0, 0.0, 1.0], [3901.0, 1.0, 1.0], [3901.0, 0.0, 0.0], [6347.0, 0.0, 1.0], [41304.0, 1.0, 1.0], [41304.0, 1.0, 1.0], [15817.306638566912, 1.0, 1.0], [15817.306638566912, 1.0, 1.0], [5000.0, 0.0, 1.0], [8701.0, 1.0, 1.0], [5556.0, 1.0, 1.0], [85715.0, 0.0, 1.0], [4444.0, 1.0, 1.0], [4444.0, 1.0, 1.0], [6944.0, 1.0, 1.0], [7222.0, 0.0, 1.0], [11220.0, 0.0, 1.0], [5357.0, 1.0, 1.0], [5357.0, 0.0, 1.0], [6706.0, 1.0, 1.0], [10288.0, 1.0, 1.0], [28283.0, 1.0, 1.0], [8923.0, 1.0, 1.0], [8222.0, 1.0, 1.0], [20000.0, 1.0, 1.0], [14550.0, 1.0, 1.0], [14550.0, 1.0, 1.0], [30093.0, 1.0, 1.0], [35714.0, 1.0, 1.0], [35714.0, 1.0, 1.0], [35714.0, 1.0, 1.0], [35714.0, 1.0, 1.0], [22857.0, 1.0, 1.0], [22857.0, 1.0, 1.0], [12500.0, 1.0, 1.0], [12500.0, 1.0, 1.0], [15817.306638566912, 1.0, 1.0], [15817.306638566912, 1.0, 1.0], [15817.306638566912, 0.0, 1.0], [4040.0, 0.0, 1.0], [4040.0, 1.0, 1.0], [7778.0, 1.0, 1.0], [7778.0, 0.0, 1.0], [7778.0, 1.0, 1.0], [7778.0, 1.0, 1.0], [7778.0, 1.0, 1.0], [7778.0, 1.0, 1.0], [32000.0, 1.0, 1.0], [32000.0, 1.0, 1.0], [32000.0, 1.0, 1.0], [32000.0, 1.0, 1.0], [32000.0, 0.0, 1.0], [32000.0, 1.0, 1.0], [32000.0, 1.0, 1.0], [32000.0, 0.0, 1.0], [32000.0, 1.0, 1.0], [5666.0, 1.0, 1.0], [5666.0, 1.0, 1.0], [5666.0, 0.0, 1.0], [11667.0, 1.0, 1.0], [11667.0, 1.0, 1.0], [112179.0, 0.0, 1.0], [11111.0, 1.0, 1.0], [11111.0, 1.0, 1.0], [11111.0, 1.0, 1.0], [11111.0, 0.0, 1.0], [15817.306638566912, 1.0, 1.0], [6111.0, 1.0, 0.0], [6111.0, 1.0, 1.0], [6111.0, 1.0, 1.0], [6111.0, 1.0, 1.0], [6111.0, 1.0, 1.0], [6111.0, 1.0, 1.0], [6111.0, 1.0, 1.0], [6111.0, 1.0, 1.0], [6111.0, 1.0, 1.0], [6111.0, 1.0, 1.0], [6111.0, 1.0, 1.0], [6111.0, 1.0, 1.0], [6111.0, 1.0, 1.0], [6584.0, 1.0, 1.0], [6584.0, 1.0, 1.0], [6584.0, 1.0, 1.0], [6584.0, 1.0, 1.0], [5794.0, 1.0, 1.0], [5794.0, 1.0, 1.0], [5794.0, 1.0, 1.0], [5794.0, 1.0, 1.0], [5794.0, 1.0, 1.0], [5794.0, 1.0, 1.0], [5794.0, 1.0, 1.0], [5794.0, 1.0, 1.0], [23840.0, 1.0, 1.0], [23840.0, 1.0, 1.0], [23840.0, 1.0, 1.0], [23840.0, 1.0, 1.0], [23840.0, 1.0, 1.0], [23840.0, 0.0, 1.0], [7500.0, 1.0, 1.0], [7500.0, 0.0, 0.0], [7500.0, 1.0, 1.0], [160000.0, 0.0, 1.0], [11556.0, 1.0, 1.0], [11556.0, 1.0, 1.0], [8421.0, 1.0, 1.0], [8421.0, 1.0, 1.0], [8421.0, 1.0, 1.0], [27778.0, 0.0, 1.0], [11722.0, 1.0, 1.0], [24718.0, 1.0, 1.0], [85714.0, 1.0, 1.0], [13333.0, 1.0, 1.0], [13333.0, 0.0, 1.0], [13333.0, 0.0, 1.0], [8418.0, 0.0, 1.0], [1667.0, 1.0, 1.0], [1667.0, 0.0, 1.0], [8333.0, 1.0, 1.0], [24242.0, 0.0, 1.0], [15817.306638566912, 0.0, 1.0], [15817.306638566912, 0.0, 1.0], [15817.306638566912, 0.0, 1.0], [15817.306638566912, 0.0, 1.0], [15817.306638566912, 0.0, 1.0], [15817.306638566912, 0.0, 1.0], [15817.306638566912, 0.0, 1.0], [15817.306638566912, 0.0, 1.0], [15500.0, 0.0, 1.0], [15500.0, 0.0, 1.0], [15500.0, 0.0, 1.0], [15500.0, 0.0, 1.0], [15500.0, 0.0, 1.0], [20833.0, 0.0, 1.0], [20833.0, 0.0, 1.0], [20833.0, 0.0, 1.0], [20833.0, 0.0, 1.0], [20833.0, 0.0, 1.0], [20833.0, 0.0, 1.0], [20833.0, 0.0, 1.0], [10681.0, 0.0, 1.0], [21818.0, 0.0, 1.0], [21818.0, 1.0, 1.0], [21818.0, 0.0, 1.0], [21818.0, 1.0, 1.0], [21818.0, 0.0, 1.0], [14358.0, 0.0, 1.0], [14358.0, 0.0, 1.0], [14358.0, 1.0, 1.0], [14358.0, 1.0, 1.0], [4444.0, 0.0, 1.0], [7143.0, 0.0, 1.0], [7143.0, 0.0, 1.0], [13333.0, 0.0, 1.0], [9722.0, 1.0, 1.0], [19444.0, 1.0, 1.0], [6667.0, 1.0, 1.0], [6667.0, 0.0, 1.0], [6667.0, 1.0, 1.0], [6667.0, 1.0, 1.0], [6667.0, 0.0, 1.0], [6667.0, 1.0, 1.0], [6667.0, 0.0, 1.0], [6667.0, 0.0, 1.0], [6667.0, 0.0, 1.0], [6667.0, 1.0, 1.0], [6667.0, 0.0, 1.0], [6667.0, 0.0, 1.0], [6667.0, 1.0, 1.0], [6667.0, 0.0, 0.0], [6667.0, 0.0, 1.0], [6667.0, 0.0, 1.0], [6667.0, 0.0, 1.0], [5000.0, 0.0, 1.0], [21071.0, 1.0, 1.0], [14074.0, 1.0, 1.0], [14074.0, 0.0, 1.0], [28846.0, 1.0, 1.0], [28846.0, 1.0, 1.0], [28846.0, 1.0, 0.0], [28846.0, 1.0, 1.0], [28846.0, 1.0, 1.0], [28846.0, 0.0, 1.0], [28846.0, 0.0, 1.0], [28846.0, 0.0, 1.0], [28846.0, 1.0, 1.0], [6944.0, 1.0, 1.0], [6944.0, 1.0, 1.0], [6944.0, 1.0, 1.0], [6944.0, 1.0, 1.0], [6944.0, 0.0, 1.0], [14705.0, 1.0, 1.0], [14705.0, 1.0, 1.0], [18000.0, 1.0, 1.0], [18000.0, 1.0, 1.0], [18000.0, 1.0, 1.0], [17647.0, 1.0, 1.0], [17647.0, 0.0, 1.0], [18055.0, 1.0, 1.0], [18055.0, 0.0, 1.0], [12500.0, 0.0, 1.0], [12500.0, 1.0, 1.0], [12500.0, 1.0, 1.0], [12500.0, 1.0, 1.0], [15817.306638566912, 1.0, 1.0], [15817.306638566912, 1.0, 1.0], [25000.0, 1.0, 1.0], [25000.0, 1.0, 1.0], [25000.0, 1.0, 1.0], [14818.0, 0.0, 1.0], [14818.0, 1.0, 1.0], [14818.0, 1.0, 1.0], [14818.0, 1.0, 1.0], [14818.0, 1.0, 1.0], [14818.0, 0.0, 1.0], [14818.0, 1.0, 1.0], [14818.0, 1.0, 1.0], [14818.0, 1.0, 1.0], [14818.0, 1.0, 1.0], [14818.0, 1.0, 1.0], [14818.0, 0.0, 1.0], [14818.0, 1.0, 1.0], [14818.0, 0.0, 1.0], [14818.0, 1.0, 1.0], [14818.0, 1.0, 1.0], [14818.0, 1.0, 1.0], [14818.0, 1.0, 1.0], [14818.0, 1.0, 1.0], [14818.0, 1.0, 1.0], [14818.0, 1.0, 1.0], [14818.0, 1.0, 1.0], [14818.0, 1.0, 1.0], [14818.0, 1.0, 1.0], [23863.0, 1.0, 1.0], [15817.306638566912, 1.0, 1.0], [15817.306638566912, 1.0, 1.0], [15817.306638566912, 1.0, 1.0], [15817.306638566912, 1.0, 1.0], [15817.306638566912, 1.0, 1.0], [15817.306638566912, 1.0, 1.0], [14722.0, 1.0, 1.0], [14722.0, 1.0, 1.0], [14722.0, 0.0, 1.0], [14722.0, 0.0, 1.0], [14722.0, 0.0, 1.0], [14722.0, 1.0, 1.0], [14722.0, 0.0, 1.0], [14722.0, 0.0, 1.0], [14722.0, 1.0, 1.0], [14722.0, 0.0, 1.0], [14722.0, 1.0, 1.0], [14722.0, 0.0, 1.0], [13889.0, 1.0, 1.0], [13889.0, 1.0, 1.0], [13889.0, 0.0, 1.0], [7875.0, 0.0, 1.0], [11111.0, 1.0, 1.0], [11111.0, 0.0, 1.0], [11111.0, 0.0, 1.0], [11111.0, 0.0, 1.0], [10943.0, 0.0, 1.0], [10943.0, 1.0, 1.0], [10943.0, 1.0, 1.0], [10943.0, 0.0, 1.0], [15817.306638566912, 0.0, 1.0], [15817.306638566912, 0.0, 1.0], [15817.306638566912, 0.0, 1.0], [15817.306638566912, 0.0, 1.0], [15817.306638566912, 0.0, 1.0], [15817.306638566912, 0.0, 1.0], [15817.306638566912, 0.0, 1.0], [15817.306638566912, 0.0, 1.0], [15817.306638566912, 0.0, 1.0], [15817.306638566912, 0.0, 1.0], [15817.306638566912, 0.0, 1.0], [15817.306638566912, 0.0, 1.0], [15817.306638566912, 0.0, 1.0], [15817.306638566912, 0.0, 1.0], [15817.306638566912, 0.0, 1.0], [15817.306638566912, 0.0, 1.0], [15817.306638566912, 0.0, 1.0], [15817.306638566912, 0.0, 1.0], [15817.306638566912, 0.0, 1.0], [15817.306638566912, 0.0, 1.0], [15817.306638566912, 0.0, 1.0], [15817.306638566912, 0.0, 1.0], [15817.306638566912, 0.0, 1.0], [15817.306638566912, 0.0, 1.0], [15817.306638566912, 0.0, 1.0], [10700.0, 0.0, 1.0], [10700.0, 0.0, 1.0], [10700.0, 0.0, 1.0], [10700.0, 0.0, 1.0], [10700.0, 0.0, 1.0], [20492.0, 0.0, 1.0], [20558.0, 0.0, 1.0], [20558.0, 0.0, 1.0], [20558.0, 0.0, 1.0], [17000.0, 0.0, 1.0], [21052.0, 0.0, 1.0], [21052.0, 0.0, 1.0], [21000.0, 0.0, 1.0], [16333.0, 0.0, 1.0], [18793.0, 0.0, 1.0], [19811.0, 0.0, 1.0], [20270.0, 0.0, 1.0], [17619.0, 0.0, 1.0], [17619.0, 0.0, 1.0], [17197.0, 0.0, 1.0], [17197.0, 0.0, 1.0], [16654.0, 0.0, 1.0], [19280.0, 0.0, 1.0], [17176.0, 0.0, 1.0], [20581.0, 0.0, 1.0], [20999.0, 0.0, 1.0], [21311.0, 0.0, 1.0], [21311.0, 0.0, 1.0], [18900.0, 0.0, 1.0], [20588.0, 0.0, 1.0], [20967.0, 0.0, 1.0], [20967.0, 0.0, 1.0], [18344.0, 0.0, 1.0], [17906.0, 0.0, 1.0], [17906.0, 0.0, 1.0], [15817.306638566912, 0.0, 1.0], [15817.306638566912, 0.0, 1.0], [15817.306638566912, 0.0, 1.0], [15817.306638566912, 0.0, 1.0], [15817.306638566912, 0.0, 1.0], [15817.306638566912, 0.0, 1.0], [15817.306638566912, 0.0, 1.0], [15817.306638566912, 1.0, 1.0], [15817.306638566912, 0.0, 1.0], [15817.306638566912, 0.0, 1.0], [15817.306638566912, 0.0, 1.0], [12500.0, 0.0, 1.0], [12500.0, 0.0, 1.0], [12500.0, 0.0, 1.0], [12500.0, 1.0, 1.0], [12500.0, 0.0, 1.0], [12500.0, 0.0, 1.0], [12500.0, 0.0, 1.0], [12500.0, 0.0, 1.0], [12500.0, 0.0, 1.0], [12500.0, 0.0, 1.0], [12500.0, 0.0, 1.0], [12500.0, 0.0, 1.0], [12500.0, 0.0, 1.0], [12500.0, 1.0, 1.0], [11538.0, 0.0, 1.0], [11538.0, 0.0, 1.0], [11538.0, 0.0, 1.0], [11538.0, 0.0, 1.0], [11538.0, 0.0, 1.0], [15817.306638566912, 0.0, 1.0], [15817.306638566912, 0.0, 1.0], [15817.306638566912, 0.0, 1.0], [15817.306638566912, 0.0, 1.0], [15817.306638566912, 0.0, 1.0], [15817.306638566912, 0.0, 1.0], [15817.306638566912, 0.0, 1.0], [15817.306638566912, 0.0, 1.0], [15817.306638566912, 0.0, 1.0], [15817.306638566912, 0.0, 1.0], [15817.306638566912, 0.0, 1.0], [15817.306638566912, 0.0, 1.0], [15817.306638566912, 0.0, 1.0], [15817.306638566912, 0.0, 1.0], [15817.306638566912, 0.0, 1.0], [15817.306638566912, 0.0, 1.0], [15817.306638566912, 0.0, 1.0], [15817.306638566912, 0.0, 1.0], [15817.306638566912, 0.0, 1.0], [15817.306638566912, 0.0, 1.0], [15817.306638566912, 0.0, 1.0], [15817.306638566912, 0.0, 1.0], [15817.306638566912, 0.0, 1.0], [15817.306638566912, 0.0, 1.0], [6667.0, 0.0, 1.0], [15384.0, 0.0, 1.0], [15384.0, 0.0, 1.0], [15384.0, 0.0, 1.0], [15384.0, 0.0, 1.0], [15817.306638566912, 1.0, 1.0], [15817.306638566912, 1.0, 1.0], [15817.306638566912, 0.0, 1.0], [5222.0, 0.0, 1.0], [5222.0, 0.0, 1.0], [5222.0, 0.0, 1.0], [8333.0, 0.0, 1.0], [8333.0, 1.0, 1.0], [8333.0, 1.0, 1.0], [3714.0, 1.0, 1.0], [3714.0, 1.0, 1.0], [3714.0, 0.0, 1.0], [3714.0, 1.0, 1.0], [3714.0, 1.0, 0.0], [3714.0, 1.0, 1.0], [3714.0, 1.0, 0.0], [3714.0, 1.0, 1.0], [3714.0, 1.0, 1.0], [3714.0, 1.0, 1.0], [3714.0, 1.0, 1.0], [3714.0, 0.0, 1.0], [3714.0, 1.0, 1.0], [3714.0, 0.0, 1.0], [7000.0, 1.0, 1.0], [5455.0, 0.0, 1.0], [4837.0, 1.0, 1.0], [3444.0, 1.0, 1.0], [3444.0, 0.0, 1.0], [4167.0, 1.0, 1.0], [15817.306638566912, 1.0, 0.0], [15817.306638566912, 1.0, 1.0], [15817.306638566912, 1.0, 0.0], [15817.306638566912, 0.0, 0.0], [15817.306638566912, 1.0, 0.0], [15817.306638566912, 0.0, 1.0], [15817.306638566912, 1.0, 1.0], [15817.306638566912, 1.0, 1.0], [15817.306638566912, 1.0, 1.0], [15817.306638566912, 1.0, 0.0], [15817.306638566912, 1.0, 1.0], [15817.306638566912, 0.0, 1.0], [15817.306638566912, 0.0, 1.0], [15817.306638566912, 1.0, 1.0], [15817.306638566912, 1.0, 1.0], [4138.0, 0.0, 1.0], [4138.0, 1.0, 1.0], [4138.0, 1.0, 1.0], [4138.0, 1.0, 1.0], [4138.0, 1.0, 0.0], [4138.0, 0.0, 0.0], [4138.0, 1.0, 1.0], [4138.0, 1.0, 1.0], [4138.0, 0.0, 1.0], [4138.0, 1.0, 1.0], [4138.0, 1.0, 1.0], [4138.0, 1.0, 1.0], [4138.0, 1.0, 1.0], [4138.0, 1.0, 1.0], [4138.0, 1.0, 1.0], [15817.306638566912, 0.0, 1.0], [15817.306638566912, 0.0, 1.0], [3259.0, 1.0, 1.0], [3294.0, 0.0, 1.0], [3294.0, 0.0, 1.0], [3294.0, 0.0, 1.0], [3294.0, 1.0, 1.0], [3294.0, 0.0, 1.0], [3294.0, 1.0, 1.0], [3294.0, 1.0, 1.0], [3294.0, 1.0, 1.0], [8060.0, 1.0, 1.0], [8060.0, 1.0, 0.0], [8060.0, 0.0, 1.0], [8060.0, 1.0, 0.0], [8060.0, 0.0, 1.0], [8060.0, 0.0, 1.0], [8060.0, 0.0, 1.0], [4678.0, 1.0, 1.0], [3148.0, 1.0, 1.0], [3148.0, 1.0, 1.0], [3148.0, 0.0, 1.0], [4200.0, 0.0, 1.0], [3778.0, 0.0, 1.0], [3778.0, 0.0, 1.0], [2963.0, 1.0, 1.0], [3667.0, 0.0, 1.0], [3667.0, 1.0, 1.0], [7727.0, 1.0, 1.0], [5333.0, 1.0, 1.0], [15817.306638566912, 1.0, 1.0], [15817.306638566912, 1.0, 0.0], [15817.306638566912, 1.0, 1.0], [15817.306638566912, 0.0, 1.0], [15817.306638566912, 1.0, 1.0], [15817.306638566912, 1.0, 1.0], [15817.306638566912, 1.0, 1.0], [15817.306638566912, 1.0, 1.0], [15817.306638566912, 0.0, 1.0], [15817.306638566912, 1.0, 1.0], [15817.306638566912, 0.0, 1.0], [4922.0, 1.0, 1.0], [4922.0, 0.0, 1.0], [4922.0, 0.0, 1.0], [4922.0, 1.0, 1.0], [4922.0, 1.0, 1.0], [4922.0, 0.0, 1.0], [4922.0, 0.0, 1.0], [4922.0, 1.0, 1.0], [6556.0, 1.0, 0.0], [5820.0, 0.0, 1.0], [5820.0, 1.0, 1.0], [3778.0, 0.0, 1.0], [3778.0, 1.0, 1.0], [3778.0, 1.0, 1.0], [42222.0, 1.0, 1.0], [42222.0, 1.0, 1.0], [42222.0, 0.0, 1.0], [42222.0, 1.0, 1.0], [43137.0, 1.0, 1.0], [15817.306638566912, 0.0, 1.0], [4889.0, 0.0, 1.0], [4222.0, 0.0, 1.0], [5000.0, 0.0, 1.0], [5092.0, 0.0, 1.0], [7143.0, 0.0, 1.0], [7143.0, 0.0, 1.0], [5128.0, 0.0, 1.0], [5128.0, 0.0, 1.0], [5128.0, 0.0, 1.0], [5128.0, 0.0, 1.0], [3600.0, 0.0, 1.0], [4571.0, 0.0, 1.0], [4221.0, 1.0, 1.0], [4221.0, 0.0, 1.0], [4221.0, 0.0, 1.0], [6636.0, 0.0, 1.0], [4270.0, 0.0, 1.0], [4270.0, 0.0, 1.0], [4270.0, 0.0, 1.0], [4270.0, 1.0, 1.0], [4270.0, 0.0, 1.0], [5143.0, 1.0, 1.0], [3248.0, 1.0, 1.0], [5051.0, 0.0, 1.0], [5051.0, 0.0, 1.0], [5051.0, 1.0, 1.0], [5051.0, 0.0, 1.0], [5051.0, 1.0, 1.0], [5176.0, 0.0, 1.0], [15817.306638566912, 1.0, 0.0], [15817.306638566912, 1.0, 1.0], [15817.306638566912, 1.0, 1.0], [15817.306638566912, 1.0, 1.0], [15817.306638566912, 1.0, 0.0], [15817.306638566912, 1.0, 1.0], [14888.0, 1.0, 1.0], [14888.0, 1.0, 1.0], [14888.0, 1.0, 0.0], [14888.0, 1.0, 1.0], [14888.0, 1.0, 1.0], [14888.0, 1.0, 1.0], [14888.0, 0.0, 1.0], [14888.0, 1.0, 1.0], [14888.0, 0.0, 1.0], [14888.0, 1.0, 1.0], [14888.0, 1.0, 1.0], [14888.0, 1.0, 1.0], [14888.0, 1.0, 1.0], [14888.0, 1.0, 1.0], [14888.0, 0.0, 1.0], [7200.0, 1.0, 1.0], [7200.0, 1.0, 1.0], [7200.0, 1.0, 1.0], [7200.0, 1.0, 1.0], [7200.0, 1.0, 1.0], [7200.0, 1.0, 1.0], [7200.0, 1.0, 1.0], [21429.0, 1.0, 1.0], [21429.0, 1.0, 1.0], [15817.306638566912, 0.0, 1.0], [15817.306638566912, 0.0, 1.0], [15817.306638566912, 0.0, 1.0], [15817.306638566912, 0.0, 1.0], [15817.306638566912, 1.0, 1.0], [7666.0, 1.0, 1.0], [7666.0, 1.0, 1.0], [7666.0, 0.0, 1.0], [9200.0, 0.0, 1.0], [9200.0, 0.0, 1.0], [9200.0, 0.0, 1.0], [9200.0, 0.0, 1.0], [8640.0, 1.0, 1.0], [8640.0, 0.0, 1.0], [8640.0, 1.0, 1.0], [6486.0, 1.0, 1.0], [8333.0, 1.0, 1.0], [8333.0, 0.0, 1.0], [12000.0, 0.0, 1.0], [12000.0, 0.0, 1.0], [12000.0, 0.0, 1.0], [9375.0, 0.0, 1.0], [9375.0, 0.0, 1.0], [9375.0, 0.0, 1.0], [5200.0, 1.0, 1.0], [5200.0, 0.0, 1.0], [7500.0, 1.0, 1.0], [6700.0, 0.0, 1.0], [9500.0, 0.0, 1.0], [10625.0, 0.0, 1.0], [15817.306638566912, 0.0, 1.0], [15817.306638566912, 0.0, 1.0], [15817.306638566912, 0.0, 1.0], [15817.306638566912, 0.0, 1.0], [15817.306638566912, 0.0, 1.0], [15817.306638566912, 0.0, 1.0], [15817.306638566912, 0.0, 1.0], [15817.306638566912, 0.0, 1.0], [15817.306638566912, 0.0, 1.0], [15817.306638566912, 0.0, 1.0], [15817.306638566912, 0.0, 1.0], [15817.306638566912, 0.0, 1.0], [15817.306638566912, 0.0, 1.0], [15817.306638566912, 0.0, 1.0], [15817.306638566912, 0.0, 1.0], [15817.306638566912, 0.0, 1.0], [15817.306638566912, 0.0, 1.0], [9655.0, 0.0, 1.0], [9655.0, 0.0, 1.0], [9655.0, 0.0, 1.0], [9655.0, 0.0, 1.0], [9655.0, 0.0, 1.0], [9655.0, 0.0, 1.0], [9655.0, 0.0, 1.0], [9655.0, 0.0, 1.0], [9655.0, 0.0, 1.0], [9655.0, 0.0, 1.0], [10000.0, 0.0, 1.0], [10000.0, 0.0, 1.0], [10000.0, 0.0, 1.0], [16466.0, 0.0, 0.0], [25512.0, 0.0, 0.0], [25512.0, 1.0, 1.0], [25512.0, 1.0, 1.0], [25512.0, 0.0, 1.0], [30000.0, 1.0, 1.0], [30000.0, 0.0, 0.0], [30000.0, 0.0, 0.0], [30000.0, 0.0, 0.0], [16917.0, 0.0, 0.0], [16917.0, 1.0, 1.0], [16917.0, 0.0, 1.0], [16917.0, 1.0, 1.0], [19841.0, 0.0, 0.0], [19841.0, 0.0, 1.0], [19841.0, 0.0, 1.0], [10320.0, 0.0, 1.0], [10320.0, 1.0, 1.0], [10320.0, 1.0, 1.0], [10320.0, 0.0, 0.0], [10320.0, 0.0, 1.0], [2778.0, 1.0, 1.0], [2778.0, 0.0, 1.0], [2778.0, 0.0, 1.0], [2778.0, 1.0, 1.0], [5556.0, 1.0, 1.0], [5556.0, 1.0, 1.0], [5556.0, 0.0, 1.0], [5556.0, 1.0, 1.0], [5556.0, 1.0, 1.0], [14366.0, 0.0, 0.0], [14366.0, 0.0, 0.0], [14776.0, 0.0, 0.0], [14776.0, 0.0, 0.0], [14776.0, 0.0, 1.0], [14776.0, 1.0, 1.0], [14776.0, 0.0, 1.0], [14366.0, 0.0, 1.0], [14382.0, 0.0, 0.0], [14092.0, 0.0, 0.0], [14092.0, 0.0, 0.0], [14092.0, 0.0, 1.0], [14092.0, 1.0, 1.0], [14815.0, 1.0, 1.0], [14815.0, 0.0, 1.0], [16584.0, 1.0, 1.0], [125984.0, 0.0, 1.0], [125984.0, 1.0, 1.0], [9722.0, 1.0, 1.0], [8761.0, 1.0, 1.0], [8761.0, 1.0, 1.0], [8761.0, 0.0, 1.0], [7290.0, 0.0, 1.0], [7290.0, 1.0, 1.0], [13324.0, 0.0, 0.0], [13324.0, 0.0, 0.0], [13324.0, 0.0, 0.0], [13324.0, 0.0, 1.0], [15817.306638566912, 0.0, 1.0], [15817.306638566912, 0.0, 1.0], [15817.306638566912, 0.0, 1.0], [15817.306638566912, 0.0, 1.0], [15817.306638566912, 0.0, 1.0], [15817.306638566912, 0.0, 1.0], [15817.306638566912, 0.0, 1.0], [15817.306638566912, 0.0, 1.0], [14285.0, 0.0, 1.0], [12151.0, 0.0, 1.0], [12151.0, 0.0, 1.0], [12151.0, 0.0, 1.0], [8889.0, 1.0, 1.0], [8889.0, 0.0, 1.0], [8889.0, 0.0, 1.0], [8889.0, 0.0, 1.0], [8889.0, 0.0, 1.0], [8889.0, 0.0, 1.0], [8889.0, 0.0, 1.0], [8889.0, 0.0, 1.0], [8889.0, 0.0, 1.0], [15178.0, 0.0, 1.0], [5806.0, 1.0, 1.0], [5806.0, 0.0, 1.0], [10838.0, 0.0, 1.0], [10838.0, 0.0, 1.0], [10838.0, 0.0, 1.0], [10838.0, 0.0, 1.0], [10838.0, 0.0, 1.0], [10838.0, 0.0, 1.0], [15817.306638566912, 1.0, 1.0], [15817.306638566912, 1.0, 1.0], [15817.306638566912, 1.0, 1.0], [15817.306638566912, 1.0, 1.0], [15817.306638566912, 1.0, 1.0], [15817.306638566912, 1.0, 1.0], [10556.0, 0.0, 1.0], [10556.0, 0.0, 1.0], [10556.0, 1.0, 1.0], [10556.0, 1.0, 1.0], [10556.0, 0.0, 1.0], [10556.0, 1.0, 1.0], [10556.0, 0.0, 1.0], [10556.0, 1.0, 1.0], [10556.0, 0.0, 1.0], [12307.0, 0.0, 1.0], [12307.0, 0.0, 1.0], [12307.0, 1.0, 1.0], [15882.0, 0.0, 1.0], [15882.0, 1.0, 1.0], [15882.0, 0.0, 1.0], [65714.0, 1.0, 1.0], [65714.0, 0.0, 1.0], [65714.0, 1.0, 1.0], [65714.0, 1.0, 1.0], [11363.0, 0.0, 1.0], [13571.0, 0.0, 1.0], [11923.0, 0.0, 1.0], [12272.0, 0.0, 1.0], [13125.0, 0.0, 1.0], [15817.306638566912, 1.0, 1.0], [15817.306638566912, 1.0, 1.0], [15817.306638566912, 1.0, 0.0], [15817.306638566912, 1.0, 1.0], [15817.306638566912, 0.0, 1.0], [13608.0, 0.0, 1.0], [11905.0, 1.0, 1.0], [11905.0, 1.0, 1.0], [11905.0, 1.0, 1.0], [11905.0, 0.0, 1.0], [11905.0, 0.0, 1.0], [11905.0, 1.0, 1.0], [11905.0, 0.0, 1.0], [11905.0, 1.0, 1.0], [11905.0, 1.0, 1.0], [11905.0, 1.0, 1.0], [11905.0, 1.0, 1.0], [11905.0, 1.0, 0.0], [11905.0, 1.0, 0.0], [9909.0, 1.0, 1.0], [9909.0, 1.0, 1.0], [7800.0, 0.0, 1.0], [16667.0, 1.0, 1.0], [15278.0, 1.0, 1.0], [15278.0, 1.0, 1.0], [15278.0, 1.0, 1.0], [15278.0, 0.0, 1.0], [15278.0, 1.0, 1.0], [15278.0, 1.0, 1.0], [15278.0, 1.0, 1.0], [15817.306638566912, 1.0, 1.0], [15817.306638566912, 1.0, 1.0], [15817.306638566912, 1.0, 1.0], [15817.306638566912, 1.0, 1.0], [15817.306638566912, 0.0, 1.0], [15817.306638566912, 1.0, 1.0], [15817.306638566912, 1.0, 1.0], [15817.306638566912, 1.0, 1.0], [15817.306638566912, 0.0, 1.0], [15817.306638566912, 0.0, 1.0], [15817.306638566912, 1.0, 1.0], [15817.306638566912, 1.0, 1.0], [15817.306638566912, 0.0, 1.0], [15817.306638566912, 1.0, 1.0], [15817.306638566912, 0.0, 1.0], [15817.306638566912, 0.0, 1.0], [15817.306638566912, 0.0, 1.0], [10000.0, 1.0, 1.0], [10000.0, 0.0, 1.0], [10000.0, 1.0, 1.0], [10000.0, 0.0, 1.0], [10000.0, 0.0, 1.0], [18000.0, 1.0, 1.0], [18000.0, 1.0, 1.0], [18000.0, 0.0, 1.0], [18000.0, 1.0, 1.0], [18000.0, 1.0, 1.0], [18000.0, 0.0, 1.0], [18000.0, 0.0, 1.0], [18000.0, 1.0, 0.0], [15817.306638566912, 1.0, 1.0], [15817.306638566912, 1.0, 1.0], [24166.0, 1.0, 1.0], [30000.0, 0.0, 1.0], [30000.0, 1.0, 1.0], [30000.0, 0.0, 1.0], [30000.0, 1.0, 0.0], [30000.0, 1.0, 1.0], [30000.0, 0.0, 1.0], [30000.0, 1.0, 1.0], [170000.0, 1.0, 1.0], [170000.0, 1.0, 1.0], [170000.0, 0.0, 1.0], [170000.0, 1.0, 1.0], [18055.0, 1.0, 0.0], [18055.0, 1.0, 1.0], [18055.0, 1.0, 1.0], [18055.0, 1.0, 1.0], [18055.0, 1.0, 1.0], [18055.0, 1.0, 1.0], [25000.0, 1.0, 1.0], [25000.0, 0.0, 1.0], [25000.0, 1.0, 1.0], [17677.0, 0.0, 0.0], [17677.0, 1.0, 1.0], [17677.0, 1.0, 1.0], [17677.0, 1.0, 1.0], [17677.0, 1.0, 1.0], [37037.0, 1.0, 1.0], [37037.0, 1.0, 1.0], [15817.306638566912, 1.0, 1.0], [15817.306638566912, 1.0, 0.0], [20938.0, 1.0, 1.0], [20938.0, 1.0, 1.0], [20938.0, 1.0, 1.0], [20938.0, 1.0, 1.0], [20938.0, 1.0, 1.0], [20938.0, 1.0, 1.0], [18333.0, 1.0, 1.0], [18333.0, 1.0, 1.0], [18333.0, 1.0, 1.0], [18333.0, 0.0, 1.0], [18333.0, 1.0, 1.0], [6878.0, 0.0, 1.0], [6878.0, 1.0, 1.0], [6878.0, 1.0, 1.0], [6878.0, 1.0, 1.0], [6878.0, 1.0, 1.0], [6878.0, 1.0, 1.0], [6878.0, 1.0, 1.0], [6878.0, 1.0, 1.0], [6878.0, 1.0, 1.0], [12916.0, 1.0, 1.0], [12916.0, 1.0, 1.0], [12916.0, 1.0, 1.0], [12916.0, 1.0, 1.0], [12916.0, 1.0, 1.0], [12916.0, 1.0, 1.0], [12916.0, 1.0, 1.0], [12916.0, 1.0, 1.0]], \"hoverlabel\": {\"namelength\": 0}, \"hovertemplate\": \"Price=%{x}<br>Area=%{y}<br>BHK=%{marker.size}<br>Per_Sqft=%{customdata[0]}<br>Type=%{customdata[1]}<br>Status=%{customdata[2]}<br>Locality=%{marker.color}\", \"legendgroup\": \"\", \"marker\": {\"color\": [282, 138, 49, 280, 281, 280, 280, 93, 277, 278, 276, 282, 280, 280, 285, 283, 278, 273, 272, 280, 192, 354, 274, 244, 284, 276, 282, 302, 282, 275, 167, 166, 355, 170, 169, 166, 89, 166, 168, 166, 166, 169, 170, 8, 167, 168, 8, 355, 168, 169, 167, 169, 355, 355, 169, 168, 166, 167, 355, 62, 326, 175, 92, 340, 162, 19, 175, 334, 324, 48, 203, 40, 215, 101, 193, 52, 22, 211, 18, 137, 202, 21, 154, 165, 105, 104, 103, 48, 169, 169, 169, 169, 169, 169, 169, 169, 169, 169, 169, 169, 169, 169, 169, 169, 169, 169, 166, 169, 169, 169, 169, 169, 169, 169, 169, 169, 168, 168, 168, 356, 168, 168, 168, 168, 168, 168, 168, 356, 168, 168, 168, 168, 168, 168, 168, 168, 168, 168, 168, 168, 168, 168, 168, 34, 34, 37, 35, 34, 35, 34, 34, 35, 35, 35, 34, 34, 35, 36, 34, 36, 35, 303, 280, 280, 279, 279, 279, 279, 279, 279, 278, 276, 276, 271, 138, 138, 138, 138, 138, 138, 138, 138, 138, 138, 138, 138, 138, 138, 138, 138, 138, 138, 138, 138, 138, 138, 138, 138, 138, 138, 138, 341, 341, 343, 357, 326, 108, 5, 163, 118, 0, 162, 141, 124, 231, 339, 341, 97, 19, 334, 351, 346, 123, 280, 123, 155, 29, 110, 218, 218, 176, 220, 109, 176, 218, 110, 176, 176, 218, 218, 218, 109, 218, 176, 146, 218, 109, 176, 218, 335, 218, 218, 218, 218, 219, 218, 176, 145, 145, 145, 145, 145, 145, 145, 145, 145, 145, 145, 145, 145, 145, 145, 145, 145, 145, 145, 145, 145, 145, 145, 145, 145, 145, 145, 145, 145, 145, 268, 143, 130, 213, 23, 286, 213, 313, 358, 84, 313, 360, 23, 313, 268, 313, 287, 267, 190, 189, 121, 323, 189, 267, 130, 142, 313, 6, 313, 213, 360, 360, 360, 360, 360, 360, 360, 360, 360, 360, 360, 360, 360, 360, 360, 360, 360, 360, 360, 360, 362, 360, 360, 360, 360, 360, 360, 360, 360, 142, 172, 172, 172, 172, 172, 172, 172, 172, 172, 172, 172, 172, 172, 127, 127, 171, 172, 172, 159, 171, 174, 173, 172, 172, 172, 27, 172, 127, 172, 172, 342, 231, 102, 344, 342, 344, 342, 288, 344, 288, 342, 342, 102, 157, 200, 342, 342, 344, 199, 102, 344, 345, 342, 342, 224, 102, 240, 241, 241, 241, 241, 239, 241, 341, 239, 239, 241, 241, 241, 239, 241, 239, 241, 241, 260, 241, 241, 239, 239, 24, 241, 241, 24, 65, 68, 346, 346, 64, 56, 346, 304, 64, 63, 346, 63, 67, 347, 106, 64, 111, 349, 63, 350, 66, 349, 346, 346, 158, 79, 111, 348, 346, 346, 54, 312, 315, 312, 266, 151, 264, 349, 329, 113, 160, 113, 336, 317, 113, 113, 317, 113, 328, 313, 172, 314, 313, 172, 298, 11, 298, 298, 298, 263, 298, 197, 299, 246, 263, 298, 251, 298, 298, 298, 246, 298, 298, 298, 298, 263, 298, 298, 298, 298, 298, 298, 298, 298, 291, 16, 291, 291, 291, 291, 291, 292, 291, 291, 16, 16, 161, 295, 291, 291, 291, 161, 291, 291, 291, 291, 294, 16, 291, 291, 16, 291, 293, 296, 269, 232, 261, 234, 238, 232, 235, 236, 76, 232, 15, 128, 232, 238, 198, 212, 233, 232, 232, 164, 238, 75, 261, 237, 325, 232, 20, 235, 128, 333, 18, 265, 265, 120, 39, 26, 201, 25, 1, 25, 297, 262, 1, 1, 126, 135, 1, 25, 91, 1, 301, 309, 1, 229, 214, 144, 221, 126, 227, 289, 51, 50, 51, 50, 247, 50, 248, 248, 50, 247, 51, 50, 50, 51, 50, 50, 248, 51, 248, 50, 50, 50, 50, 51, 248, 50, 50, 50, 51, 248, 7, 321, 209, 112, 13, 209, 13, 321, 209, 337, 7, 209, 210, 7, 125, 7, 7, 7, 249, 7, 250, 209, 7, 225, 7, 359, 225, 225, 338, 7, 70, 61, 71, 61, 61, 61, 61, 61, 61, 61, 61, 60, 60, 61, 61, 61, 61, 61, 61, 61, 61, 60, 61, 61, 327, 327, 305, 306, 69, 222, 222, 331, 222, 330, 331, 188, 136, 332, 331, 222, 331, 330, 330, 222, 330, 330, 222, 222, 188, 222, 222, 222, 188, 330, 188, 136, 330, 136, 41, 43, 139, 41, 41, 41, 42, 41, 41, 139, 41, 41, 42, 41, 42, 41, 41, 41, 42, 41, 88, 41, 41, 42, 42, 14, 41, 41, 42, 42, 194, 194, 194, 194, 194, 194, 194, 194, 194, 196, 194, 194, 194, 194, 9, 195, 9, 194, 194, 194, 194, 194, 194, 194, 9, 194, 33, 194, 194, 194, 177, 178, 178, 177, 178, 179, 178, 178, 177, 178, 178, 177, 177, 177, 178, 178, 178, 178, 178, 178, 178, 181, 180, 177, 177, 177, 178, 353, 177, 180, 206, 58, 55, 72, 204, 204, 204, 74, 57, 74, 74, 81, 74, 74, 204, 205, 58, 204, 74, 32, 204, 208, 74, 204, 207, 74, 57, 74, 204, 204, 183, 322, 115, 115, 115, 115, 114, 183, 183, 114, 183, 183, 183, 115, 156, 183, 184, 183, 156, 183, 183, 183, 183, 115, 115, 183, 115, 322, 322, 322, 98, 129, 100, 98, 98, 98, 98, 98, 53, 98, 53, 99, 98, 83, 98, 98, 98, 99, 80, 99, 98, 98, 59, 99, 98, 99, 98, 98, 82, 53, 352, 352, 352, 300, 187, 245, 2, 107, 316, 352, 186, 352, 352, 352, 352, 310, 300, 310, 2, 352, 352, 10, 217, 182, 242, 352, 352, 38, 134, 117, 118, 118, 3, 29, 329, 329, 119, 119, 119, 118, 329, 329, 4, 118, 3, 329, 329, 329, 4, 119, 140, 361, 329, 29, 28, 3, 4, 329, 329, 329, 339, 339, 339, 339, 96, 30, 339, 339, 339, 339, 339, 78, 152, 152, 243, 152, 77, 152, 96, 152, 153, 77, 96, 152, 339, 339, 339, 339, 85, 86, 223, 223, 223, 223, 86, 86, 86, 86, 223, 86, 223, 86, 223, 86, 86, 223, 223, 85, 86, 86, 223, 86, 86, 223, 223, 86, 223, 223, 319, 319, 318, 320, 311, 311, 319, 320, 230, 311, 319, 230, 230, 311, 319, 319, 319, 319, 319, 319, 230, 12, 319, 230, 319, 319, 319, 319, 319, 319, 256, 252, 259, 252, 259, 259, 257, 258, 259, 259, 87, 252, 256, 255, 258, 259, 252, 259, 258, 258, 259, 254, 31, 253, 259, 253, 253, 31, 253, 228, 122, 122, 122, 147, 122, 73, 147, 147, 122, 116, 122, 122, 270, 147, 94, 90, 147, 150, 94, 122, 148, 148, 149, 185, 95, 147, 147, 94, 148, 122, 131, 131, 131, 132, 131, 307, 131, 133, 290, 131, 133, 191, 226, 131, 290, 133, 131, 133, 131, 131, 131, 308, 133, 307, 133, 133, 290, 131, 133, 290, 44, 17, 44, 44, 44, 44, 44, 44, 44, 46, 44, 44, 47, 44, 44, 216, 44, 44, 44, 44, 44, 44, 44, 216, 44, 44, 44, 44, 45, 44], \"coloraxis\": \"coloraxis\", \"size\": [3, 2, 2, 2, 2, 4, 4, 2, 3, 4, 3, 3, 2, 2, 2, 2, 2, 4, 3, 2, 2, 3, 1, 2, 2, 3, 3, 1, 2, 4, 2, 2, 3, 2, 3, 2, 2, 3, 3, 3, 2, 3, 2, 2, 2, 3, 2, 3, 2, 4, 2, 3, 3, 3, 3, 2, 4, 2, 3, 1, 2, 3, 4, 3, 3, 3, 2, 3, 3, 3, 4, 4, 4, 3, 4, 3, 4, 3, 3, 3, 4, 3, 3, 2, 3, 1, 3, 3, 1, 3, 3, 4, 3, 3, 3, 3, 3, 3, 3, 3, 4, 4, 3, 3, 3, 2, 4, 3, 3, 3, 3, 3, 3, 3, 3, 3, 2, 2, 3, 2, 2, 3, 3, 3, 2, 3, 2, 2, 2, 2, 2, 2, 3, 2, 2, 2, 2, 3, 2, 2, 3, 2, 3, 2, 3, 2, 3, 3, 2, 1, 2, 2, 2, 2, 1, 3, 6, 6, 2, 2, 1, 2, 4, 4, 3, 4, 3, 3, 3, 4, 4, 3, 3, 1, 2, 2, 1, 3, 4, 3, 2, 1, 2, 3, 2, 3, 2, 4, 5, 1, 3, 3, 3, 1, 2, 4, 4, 3, 3, 3, 3, 5, 4, 3, 3, 2, 4, 2, 2, 2, 4, 3, 5, 5, 3, 3, 3, 2, 3, 3, 4, 2, 4, 4, 3, 2, 4, 4, 4, 4, 5, 4, 3, 3, 4, 4, 4, 3, 3, 4, 4, 5, 3, 4, 4, 4, 3, 3, 4, 6, 4, 4, 3, 4, 4, 4, 4, 4, 4, 4, 5, 4, 4, 4, 3, 4, 2, 4, 3, 4, 4, 3, 3, 4, 3, 3, 4, 4, 4, 3, 3, 2, 4, 3, 4, 4, 4, 2, 2, 4, 2, 3, 3, 3, 2, 2, 2, 3, 3, 2, 2, 3, 2, 2, 2, 2, 4, 3, 2, 4, 3, 3, 2, 4, 2, 1, 3, 3, 1, 2, 2, 2, 1, 2, 2, 1, 2, 3, 2, 1, 3, 4, 3, 7, 3, 5, 2, 2, 3, 3, 6, 6, 4, 2, 4, 4, 2, 3, 1, 3, 3, 2, 2, 2, 3, 3, 3, 2, 2, 4, 2, 1, 2, 4, 2, 2, 3, 2, 3, 2, 2, 2, 4, 3, 1, 3, 3, 2, 3, 2, 2, 3, 2, 1, 3, 2, 4, 3, 2, 3, 2, 2, 2, 1, 2, 3, 2, 2, 2, 2, 2, 3, 3, 2, 3, 3, 4, 2, 3, 4, 3, 3, 3, 3, 1, 2, 3, 3, 3, 3, 2, 3, 3, 3, 1, 3, 2, 2, 3, 3, 4, 3, 2, 3, 3, 4, 1, 3, 3, 1, 2, 2, 3, 3, 1, 2, 3, 4, 3, 1, 4, 2, 3, 2, 2, 3, 2, 4, 4, 3, 2, 3, 3, 2, 4, 4, 5, 4, 4, 3, 2, 1, 2, 4, 5, 3, 2, 2, 2, 4, 2, 2, 2, 2, 4, 3, 4, 4, 4, 3, 4, 4, 3, 3, 3, 3, 4, 3, 4, 3, 3, 3, 4, 3, 4, 3, 3, 4, 3, 3, 4, 3, 4, 4, 3, 3, 3, 4, 4, 2, 4, 3, 3, 2, 2, 1, 2, 4, 3, 4, 6, 3, 2, 4, 4, 3, 4, 2, 4, 4, 3, 4, 3, 4, 3, 3, 3, 3, 2, 3, 3, 2, 1, 2, 2, 4, 3, 2, 3, 2, 4, 3, 2, 3, 1, 3, 3, 3, 3, 2, 2, 3, 3, 3, 3, 3, 3, 3, 3, 3, 4, 3, 3, 3, 3, 3, 3, 3, 3, 3, 3, 3, 2, 3, 4, 3, 3, 2, 4, 2, 3, 3, 3, 4, 5, 5, 3, 3, 4, 3, 4, 4, 3, 3, 4, 3, 3, 3, 3, 2, 4, 5, 3, 3, 5, 5, 5, 2, 5, 5, 2, 3, 3, 3, 2, 2, 3, 3, 2, 3, 3, 3, 3, 4, 3, 3, 3, 3, 4, 2, 2, 2, 3, 3, 3, 2, 3, 2, 1, 2, 2, 3, 3, 3, 4, 10, 4, 3, 2, 3, 4, 2, 3, 4, 3, 2, 3, 2, 3, 4, 4, 2, 4, 2, 2, 2, 2, 3, 4, 3, 2, 3, 2, 3, 3, 3, 1, 3, 1, 2, 1, 2, 2, 1, 1, 1, 2, 2, 2, 2, 3, 3, 3, 3, 3, 3, 3, 3, 3, 2, 2, 1, 3, 2, 4, 3, 3, 2, 4, 2, 2, 3, 3, 2, 2, 2, 4, 2, 3, 2, 2, 3, 3, 2, 3, 2, 3, 3, 3, 2, 1, 3, 2, 1, 2, 2, 3, 1, 3, 3, 1, 3, 3, 4, 3, 3, 3, 3, 3, 3, 2, 1, 3, 1, 1, 1, 1, 1, 1, 2, 3, 2, 3, 4, 3, 3, 2, 2, 3, 1, 2, 3, 3, 2, 3, 2, 3, 1, 2, 2, 1, 3, 3, 2, 2, 1, 2, 3, 3, 2, 3, 2, 1, 1, 2, 1, 2, 1, 1, 1, 1, 1, 1, 1, 1, 1, 1, 1, 2, 1, 1, 3, 2, 2, 1, 2, 1, 1, 1, 1, 3, 1, 2, 3, 4, 4, 4, 4, 4, 2, 2, 4, 2, 2, 2, 3, 3, 3, 2, 2, 3, 4, 1, 2, 3, 4, 4, 3, 4, 3, 3, 3, 1, 2, 4, 1, 2, 2, 1, 3, 3, 1, 3, 3, 3, 2, 2, 1, 3, 3, 1, 2, 3, 2, 1, 1, 1, 2, 2, 2, 3, 3, 2, 3, 2, 3, 4, 2, 4, 3, 3, 3, 2, 2, 2, 3, 3, 2, 2, 3, 3, 3, 2, 3, 3, 3, 3, 3, 2, 3, 2, 3, 2, 2, 2, 1, 2, 4, 2, 2, 2, 2, 2, 3, 3, 2, 3, 3, 4, 4, 2, 4, 2, 2, 3, 2, 3, 3, 2, 2, 4, 4, 3, 3, 2, 4, 4, 3, 3, 2, 3, 5, 4, 3, 3, 2, 2, 3, 2, 1, 2, 2, 3, 2, 2, 3, 3, 3, 3, 3, 3, 4, 3, 4, 3, 4, 3, 2, 4, 3, 2, 3, 3, 3, 3, 4, 3, 3, 3, 4, 3, 4, 2, 4, 3, 4, 3, 3, 3, 2, 3, 3, 2, 3, 2, 3, 3, 1, 3, 3, 3, 3, 1, 3, 3, 2, 3, 2, 2, 3, 2, 2, 2, 4, 3, 2, 3, 2, 2, 3, 4, 4, 4, 3, 3, 3, 3, 3, 4, 3, 4, 4, 2, 3, 3, 5, 3, 5, 3, 2, 4, 2, 2, 3, 3, 4, 3, 3, 2, 2, 2, 2, 3, 3, 3, 1, 2, 3, 3, 3, 3, 2, 3, 3, 2, 2, 2, 2, 2, 3, 3, 2, 2, 3, 3, 2, 2, 2, 2, 2, 3, 3, 3, 5, 4, 3, 4, 3, 3, 4, 4, 4, 4, 3, 4, 2, 3, 4, 3, 3, 4, 3, 4, 3, 4, 4, 3, 4, 4, 3, 3, 3, 3, 4, 3, 3, 2, 3, 3, 3, 3, 2, 4, 2, 3, 3, 4, 4, 3, 3, 3, 3, 3, 3, 3, 4, 3, 3, 2, 3], \"sizemode\": \"area\", \"sizeref\": 0.025, \"symbol\": \"circle\"}, \"mode\": \"markers\", \"name\": \"\", \"showlegend\": false, \"type\": \"scattergl\", \"x\": [6500000, 5000000, 15500000, 4200000, 6200000, 15500000, 10000000, 4000000, 6800000, 15000000, 6200000, 7700000, 5500000, 5000000, 3310000, 4700000, 4500000, 17000000, 25000000, 6000000, 11000000, 4500000, 5300000, 10500000, 12000000, 7000000, 7000000, 3400000, 5000000, 21000000, 15000000, 10500000, 22500000, 13600000, 30000000, 13500000, 8910000, 25000000, 26000000, 30000000, 12500000, 21000000, 7800000, 11500000, 11500000, 26000000, 13000000, 22000000, 15800000, 57500000, 10000000, 30000000, 22000000, 24000000, 31500000, 14600000, 240000000, 8300000, 22500000, 4600000, 1900000, 5130000, 5890000, 3700000, 17400000, 15500000, 2400000, 17200000, 14200000, 13500000, 30000000, 21000000, 20500000, 24000000, 16500000, 14900000, 19200000, 14500000, 15600000, 11400000, 31500000, 15800000, 16000000, 10500000, 14800000, 1850000, 6800000, 14200000, 8900000, 37500000, 21000000, 57500000, 30000000, 30000000, 31500000, 30000000, 41500000, 24800000, 35000000, 40000000, 46000000, 55000000, 24500000, 24500000, 32500000, 20000000, 240000000, 19000000, 26000000, 21000000, 27500000, 32500000, 45000000, 21000000, 28000000, 29500000, 14000000, 12500000, 26000000, 11500000, 14600000, 25500000, 31000000, 22000000, 13400000, 35000000, 11000000, 6300000, 12500000, 14500000, 22500000, 15500000, 26000000, 15800000, 15000000, 13000000, 15000000, 25000000, 16500000, 10300000, 26000000, 11000000, 28500000, 11000000, 4500000, 3600000, 4300000, 4000000, 1650000, 2000000, 3000000, 1400000, 2000000, 2000000, 2000000, 2600000, 5100000, 6000000, 4000000, 6200000, 3500000, 7600000, 13500000, 12500000, 6500000, 22000000, 6000000, 7300000, 7600000, 20000000, 15000000, 6200000, 6200000, 2300000, 4700000, 5500000, 2000000, 7300000, 13000000, 11500000, 2800000, 2200000, 4400000, 13500000, 4100000, 12000000, 3500000, 15000000, 17500000, 1900000, 5500000, 10000000, 4700000, 2400000, 3800000, 23000000, 24500000, 10000000, 5500000, 7000000, 6500000, 135000000, 93000000, 4370000, 4620000, 1900000, 70000000, 3000000, 3300000, 24900000, 60000000, 17400000, 51000000, 170000000, 5510000, 25000000, 57000000, 2940000, 15500000, 17200000, 55000000, 15000000, 51000000, 13000000, 30000000, 2400000, 5500000, 45000000, 60000000, 65000000, 220000000, 60000000, 38500000, 50000000, 75000000, 70000000, 160000000, 85000000, 40000000, 90000000, 56000000, 135500000, 60000000, 170000000, 50000000, 58000000, 37500000, 45000000, 70000000, 29500000, 60000000, 70000000, 50000000, 75000000, 52500000, 55000000, 120000000, 65000000, 75000000, 47500000, 70000000, 47500000, 40000000, 85000000, 26000000, 35000000, 20000000, 79000000, 17000000, 47500000, 43000000, 26000000, 25000000, 51000000, 40000000, 22500000, 70000000, 45000000, 51100000, 25500000, 26500000, 15000000, 55000000, 26000000, 38000000, 72500000, 65000000, 4600000, 9200000, 9500000, 4500000, 6500000, 5650000, 9300000, 2700000, 6500000, 5800000, 5500000, 6000000, 4500000, 4100000, 3800000, 3300000, 2900000, 2000000, 1550000, 11300000, 4500000, 3300000, 11500000, 6000000, 9000000, 4500000, 14000000, 7300000, 1900000, 7000000, 6000000, 6400000, 2700000, 6500000, 4000000, 3000000, 5000000, 6000000, 2500000, 6500000, 8000000, 2700000, 4500000, 5700000, 25000000, 70000000, 26500000, 18500000, 30000000, 22000000, 9000000, 65000000, 22500000, 8700000, 22000000, 18500000, 16000000, 16000000, 9000000, 4500000, 6000000, 2700000, 6500000, 4000000, 2600000, 3500000, 7500000, 7000000, 4500000, 5500000, 2700000, 2400000, 11500000, 3600000, 1700000, 2500000, 6600000, 3700000, 3500000, 5400000, 2550000, 12500000, 5600000, 7000000, 3500000, 35000000, 9000000, 2300000, 6000000, 6000000, 2650000, 5510000, 3200000, 2600000, 4000000, 1850000, 1700000, 2800000, 2150000, 6800000, 6200000, 3100000, 3400000, 4000000, 4800000, 2500000, 2000000, 1900000, 5800000, 2900000, 2000000, 2600000, 2900000, 3200000, 5400000, 3800000, 8200000, 8000000, 9500000, 20000000, 7400000, 37500000, 15000000, 55300000, 26500000, 16000000, 10400000, 1700000, 8000000, 27000000, 19500000, 50000000, 21100000, 5900000, 12000000, 12000000, 24000000, 7000000, 15000000, 1500000, 3950000, 12500000, 1600000, 36500000, 20000000, 15000000, 25000000, 18500000, 23500000, 8000000, 23000000, 31000000, 7400000, 15500000, 12000000, 23500000, 25000000, 7000000, 17500000, 25000000, 29000000, 21900000, 7500000, 23500000, 24000000, 31000000, 16500000, 5000000, 24000000, 17000000, 40000000, 22500000, 20000000, 7500000, 3600000, 35000000, 6000000, 17500000, 35000000, 10200000, 29000000, 41000000, 6000000, 2500000, 2200000, 21500000, 15000000, 28900000, 5500000, 1950000, 3800000, 6200000, 14000000, 7500000, 2670000, 2500000, 5000000, 29500000, 19000000, 25500000, 75000000, 75000000, 34000000, 47500000, 75000000, 23000000, 24000000, 21500000, 28500000, 12500000, 45000000, 30500000, 22500000, 28000000, 25000000, 33700000, 27000000, 43500000, 29000000, 30000000, 52100000, 32500000, 20500000, 25000000, 30000000, 51000000, 31000000, 37500000, 32500000, 37500000, 55000000, 87500000, 16300000, 65000000, 25000000, 38000000, 15000000, 2000000, 3000000, 8500000, 55000000, 22500000, 72500000, 160000000, 12500000, 17000000, 82500000, 55000000, 35000000, 42500000, 4700000, 52500000, 80000000, 11000000, 74000000, 37500000, 52500000, 26000000, 15500000, 22000000, 21000000, 5000000, 22000000, 26500000, 8770000, 4500000, 8500000, 8600000, 42500000, 13100000, 7000000, 30000000, 13000000, 23100000, 16000000, 12500000, 24500000, 3200000, 6300000, 15000000, 5700000, 21000000, 7500000, 6500000, 27500000, 12000000, 18000000, 15600000, 15500000, 15200000, 25000000, 15000000, 15800000, 31500000, 14000000, 13200000, 15800000, 16200000, 15500000, 14500000, 14900000, 17200000, 18000000, 15500000, 15800000, 12600000, 15000000, 19500000, 16600000, 17200000, 13000000, 16500000, 10700000, 16200000, 16500000, 14900000, 27500000, 62500000, 70000000, 35500000, 42100000, 42500000, 44000000, 43200000, 52500000, 34300000, 38000000, 52500000, 37500000, 37000000, 40000000, 36200000, 29000000, 42500000, 60000000, 36500000, 42500000, 71500000, 65000000, 58000000, 27500000, 70000000, 65000000, 28600000, 39000000, 32500000, 34000000, 16500000, 13800000, 21000000, 22500000, 15000000, 20000000, 20000000, 26000000, 19500000, 21500000, 26500000, 20000000, 18000000, 19000000, 36500000, 15000000, 17500000, 14000000, 21000000, 15600000, 19000000, 16500000, 19000000, 16500000, 3000000, 15000000, 14300000, 18500000, 19000000, 19000000, 15800000, 17000000, 15500000, 16000000, 12900000, 13500000, 17800000, 13200000, 14000000, 17500000, 17000000, 13000000, 17000000, 12700000, 13500000, 17400000, 17800000, 12700000, 16200000, 11100000, 13600000, 13100000, 12500000, 13600000, 12000000, 20000000, 13500000, 14000000, 10800000, 9000000, 6300000, 5500000, 2350000, 8500000, 1650000, 10000000, 1500000, 2800000, 2600000, 2350000, 2350000, 2000000, 5000000, 3500000, 4500000, 4000000, 10800000, 10000000, 9000000, 8500000, 6000000, 5500000, 7000000, 6000000, 3700000, 3100000, 4500000, 1500000, 7090000, 4500000, 5500000, 63000000, 6990000, 4400000, 12500000, 3000000, 2800000, 5000000, 6000000, 4500000, 2800000, 2500000, 8500000, 3000000, 4900000, 3500000, 3000000, 7020000, 60000000, 3500000, 7000000, 7000000, 4500000, 5990000, 4400000, 2500000, 1600000, 6500000, 2750000, 1500000, 2200000, 2800000, 4500000, 1800000, 8500000, 8500000, 1700000, 7000000, 5600000, 13500000, 8500000, 6000000, 7200000, 6500000, 8400000, 8500000, 4000000, 1700000, 6000000, 1600000, 2100000, 1700000, 1500000, 1200000, 1650000, 3500000, 8500000, 3200000, 4400000, 7200000, 7500000, 6500000, 3500000, 6500000, 6200000, 2500000, 3000000, 6000000, 4800000, 3790000, 4200000, 2900000, 5000000, 2100000, 3200000, 3000000, 2300000, 5900000, 5500000, 3500000, 1700000, 1850000, 2300000, 3800000, 4500000, 2200000, 5200000, 2200000, 1500000, 2200000, 3800000, 1800000, 2850000, 2500000, 3500000, 2000000, 3000000, 2000000, 3500000, 1800000, 1600000, 1600000, 2000000, 1500000, 3000000, 1490000, 3500000, 4000000, 1750000, 4600000, 1800000, 1900000, 1000000, 1000000, 1000000, 3500000, 5000000, 2200000, 13000000, 34000000, 60000000, 74500000, 75000000, 62500000, 67000000, 8500000, 11500000, 52500000, 12000000, 10700000, 9000000, 100000000, 6200000, 17000000, 12500000, 13000000, 4200000, 36000000, 2300000, 8100000, 10000000, 62500000, 65000000, 20000000, 57500000, 30000000, 30000000, 30000000, 3300000, 7350000, 12500000, 3500000, 6500000, 6900000, 3600000, 13500000, 9200000, 2500000, 17000000, 9030000, 9300000, 6500000, 3300000, 2400000, 15000000, 7000000, 4200000, 5800000, 4800000, 7500000, 3000000, 4300000, 2600000, 7000000, 6000000, 6700000, 9500000, 17000000, 8000000, 12000000, 9000000, 11500000, 20000000, 8550000, 10500000, 12000000, 11000000, 12000000, 9000000, 10000000, 8100000, 9200000, 14200000, 7500000, 9500000, 14000000, 11600000, 12000000, 7500000, 9800000, 12000000, 12500000, 16500000, 12000000, 7200000, 15000000, 10000000, 11000000, 24700000, 24900000, 3600000, 1700000, 11000000, 75000000, 24800000, 24900000, 24900000, 25900000, 11700000, 13500000, 5500000, 30000000, 4950000, 16000000, 30000000, 41000000, 3800000, 68900000, 1800000, 1500000, 12500000, 1600000, 2400000, 7000000, 3100000, 14500000, 61500000, 27500000, 25500000, 25000000, 18500000, 39700000, 6800000, 6540000, 22000000, 17000000, 27500000, 73700000, 52300000, 16000000, 15000000, 10000000, 5000000, 20000000, 16000000, 5500000, 7000000, 4100000, 24000000, 12500000, 3900000, 14500000, 20000000, 24500000, 20900000, 43100000, 18000000, 50000000, 18500000, 46500000, 17500000, 42500000, 15500000, 15000000, 40000000, 20000000, 6700000, 16000000, 8000000, 25000000, 25000000, 37500000, 25000000, 23000000, 17500000, 44000000, 15000000, 42500000, 5000000, 38000000, 19000000, 43500000, 19500000, 14200000, 14200000, 13500000, 21000000, 22500000, 19000000, 7500000, 4000000, 8000000, 19000000, 7000000, 5800000, 8000000, 18800000, 6000000, 2200000, 6500000, 23500000, 16000000, 20000000, 5500000, 13500000, 22500000, 3800000, 4600000, 17500000, 5500000, 22500000, 12500000, 19000000, 15500000, 13500000, 21000000, 50000000, 42500000, 45500000, 23000000, 12000000, 35000000, 25000000, 29000000, 80000000, 20500000, 52500000, 37500000, 7500000, 32500000, 24500000, 65000000, 27500000, 115000000, 28000000, 8000000, 75100000, 7800000, 15000000, 27500000, 25000000, 26000000, 23500000, 4200000, 10000000, 18500000, 3300000, 3800000, 7000000, 16500000, 8000000, 5600000, 21000000, 21000000, 8600000, 6600000, 14000000, 4700000, 30000000, 26000000, 18500000, 6500000, 15000000, 8000000, 16100000, 6800000, 6800000, 9000000, 18000000, 27500000, 13500000, 14000000, 9000000, 16000000, 11000000, 5500000, 47500000, 45000000, 43500000, 180000000, 80000000, 37500000, 60000000, 71000000, 18500000, 70000000, 85000000, 190000000, 135000000, 35000000, 65000000, 27500000, 45000000, 100000000, 47000000, 27500000, 70000000, 36500000, 65000000, 35000000, 56000000, 110000000, 24000000, 102500000, 100000000, 45000000, 29000000, 25500000, 33500000, 62500000, 47500000, 14700000, 18000000, 22500000, 22000000, 22200000, 22500000, 7500000, 30000000, 6500000, 35000000, 17500000, 60000000, 40000000, 11500000, 22500000, 28500000, 29000000, 15500000, 26000000, 16500000, 55000000, 12500000, 17500000, 11500000, 18500000], \"xaxis\": \"x\", \"y\": [800.0, 750.0, 950.0, 600.0, 650.0, 1300.0, 1350.0, 650.0, 985.0, 1300.0, 1100.0, 870.0, 630.0, 660.0, 344.4448, 660.0, 550.0, 1100.0, 1150.0, 650.0, 850.0, 900.0, 430.556, 900.0, 914.9315, 1100.0, 800.0, 500.0, 28.0, 2160.0, 800.0, 900.0, 1080.0, 750.0, 1450.0, 900.0, 810.0, 1350.0, 1710.0, 1650.0, 1280.0, 1260.0, 1130.0, 600.0, 850.0, 1500.0, 900.0, 1000.0, 900.0, 2925.0, 900.0, 1600.0, 1143.0, 1150.0, 1500.0, 850.0, 8000.0, 890.0, 1100.0, 750.0, 850.0, 1350.0, 1387.0, 1050.0, 1500.0, 1200.0, 700.0, 1700.0, 1550.0, 1400.0, 1900.0, 2160.0, 1700.0, 1850.0, 1800.0, 1620.0, 1800.0, 1540.0, 1600.0, 1400.0, 2300.0, 1560.0, 1500.0, 1050.0, 1800.0, 400.0, 1150.0, 1525.0, 900.0, 1450.0, 1260.0, 2925.0, 1710.0, 1600.0, 1500.0, 2200.0, 1350.0, 1710.0, 1350.0, 1500.0, 2880.0, 2700.0, 1400.0, 1800.0, 1400.0, 1000.0, 8000.0, 1700.0, 1600.0, 1350.0, 1700.0, 1400.0, 1450.0, 1350.0, 1700.0, 1600.0, 800.0, 1350.0, 1500.0, 750.0, 850.0, 1575.0, 1675.0, 1350.0, 900.0, 1800.0, 900.0, 900.0, 900.0, 800.0, 1100.0, 810.0, 1500.0, 900.0, 825.0, 900.0, 875.0, 1350.0, 750.0, 900.0, 1350.0, 900.0, 1800.0, 900.0, 810.0, 450.0, 100.0, 900.0, 500.0, 450.0, 75.0, 270.0, 500.0, 444.0, 400.0, 729.0, 4050.0, 2400.0, 450.0, 405.0, 666.0, 1000.0, 1360.0, 1550.0, 850.0, 2170.0, 720.0, 850.0, 950.0, 2300.0, 1300.0, 1100.0, 1030.0, 350.0, 720.0, 800.0, 350.0, 980.0, 1600.0, 1450.0, 445.0, 380.0, 680.0, 1600.0, 630.0, 1500.0, 550.0, 2500.0, 2800.0, 300.0, 800.0, 1295.0, 700.0, 350.0, 450.0, 2200.0, 2300.0, 1150.0, 800.0, 850.0, 720.0, 4688.0, 3901.0, 950.0, 1000.0, 850.0, 2400.0, 540.0, 540.0, 976.0, 2700.0, 1500.0, 2900.0, 5025.0, 1000.0, 1135.0, 2306.0, 850.0, 1200.0, 1700.0, 1800.0, 1100.0, 22050.0, 1550.0, 1600.0, 700.0, 45.0, 3510.0, 4500.0, 1800.0, 6000.0, 4300.0, 1700.0, 2500.0, 4500.0, 2450.0, 10350.0, 4800.0, 1600.0, 3500.0, 2100.0, 4200.0, 1500.0, 8150.0, 2200.0, 3500.0, 2070.0, 3500.0, 2000.0, 2800.0, 2550.0, 4500.0, 1400.0, 2800.0, 2700.0, 4500.0, 7200.0, 2799.0, 2650.0, 2200.0, 3500.0, 2200.0, 2200.0, 3500.0, 1440.0, 3150.0, 900.0, 3690.0, 1200.0, 4500.0, 2799.0, 1350.0, 1200.0, 2177.0, 1500.0, 1600.0, 4500.0, 2150.0, 2107.0, 1150.0, 1240.0, 1000.0, 4500.0, 1150.0, 2000.0, 4500.0, 3000.0, 700.0, 750.0, 1350.0, 900.0, 970.0, 1000.0, 1425.0, 440.0, 1017.0, 650.0, 950.0, 810.0, 750.0, 990.0, 800.0, 675.0, 558.0, 445.0, 360.0, 1350.0, 850.0, 846.0, 1300.0, 900.0, 1050.0, 850.0, 1650.0, 1150.0, 495.1394, 1053.0, 810.0, 750.0, 540.0, 747.0, 720.0, 376.7365, 1125.0, 713.0, 360.0, 900.0, 713.0, 504.0, 70.0, 850.0, 2430.0, 2475.0, 2970.0, 2250.0, 1500.0, 1512.0, 400.0, 2160.0, 630.0, 324.0, 720.0, 675.0, 700.0, 675.0, 720.0, 850.0, 801.0, 450.0, 1000.0, 990.0, 420.0, 450.0, 1000.0, 900.0, 800.0, 720.0, 450.0, 675.0, 1700.0, 550.0, 387.0, 450.0, 900.0, 500.0, 441.0, 800.0, 450.0, 1000.0, 715.0, 600.0, 540.0, 312.0, 810.0, 270.0, 900.0, 1000.0, 540.0, 1000.0, 500.0, 540.0, 780.0, 450.0, 360.0, 900.0, 495.0, 1200.0, 1000.0, 620.0, 680.0, 805.0, 729.0, 540.0, 360.0, 550.0, 1001.0, 450.0, 550.0, 550.0, 675.0, 585.0, 810.0, 765.0, 70.0, 800.0, 900.0, 1680.0, 900.0, 2000.0, 2000.0, 1900.0, 1530.0, 100.0, 900.0, 270.0, 950.0, 1800.0, 1500.0, 1800.0, 1800.0, 850.0, 140.0, 900.0, 1800.0, 200.0, 1782.0, 900.0, 405.0, 1500.0, 66.0, 2000.0, 1200.0, 1100.0, 1400.0, 1600.0, 1600.0, 600.0, 1600.0, 2000.0, 650.0, 1100.0, 1075.0, 1450.0, 1200.0, 600.0, 1000.0, 1600.0, 1750.0, 1300.0, 550.0, 2200.0, 1100.0, 1700.0, 1100.0, 1000.0, 1350.0, 1184.0, 2000.0, 3500.0, 900.0, 1250.0, 504.0, 65.0, 450.0, 1800.0, 1800.0, 1530.0, 1750.0, 2210.0, 760.0, 400.0, 380.0, 904.1676, 900.0, 810.0, 100.0, 50.0, 58.0, 900.0, 1650.0, 1000.0, 852.0, 700.0, 1000.0, 1700.0, 1350.0, 2100.0, 2600.0, 3000.0, 1450.0, 2050.0, 3000.0, 1800.0, 900.0, 1500.0, 1500.0, 1800.0, 1674.0, 2025.0, 1300.0, 990.0, 2100.0, 2250.0, 1500.0, 2700.0, 1700.0, 1700.0, 2050.0, 1800.0, 1500.0, 2000.0, 1500.0, 24300.0, 2475.0, 1800.0, 1300.0, 1500.0, 2100.0, 1800.0, 1100.0, 2035.0, 1100.0, 1550.0, 700.0, 150.0, 540.0, 810.0, 3250.0, 1600.0, 4000.0, 5500.0, 900.0, 972.0, 4150.0, 2250.0, 1650.0, 2610.0, 600.0, 1700.0, 2250.0, 880.0, 4200.0, 1450.0, 2200.0, 1620.0, 1078.0, 1710.0, 1150.0, 450.0, 1818.0, 1800.0, 780.0, 405.0, 900.0, 807.2925, 2700.0, 1100.0, 585.0, 2152.78, 960.0, 1800.0, 1100.0, 900.0, 1620.0, 378.0, 800.0, 1350.0, 850.0, 1580.0, 820.0, 594.0, 14220.0, 800.0, 1500.0, 1600.0, 1650.0, 1600.0, 1900.0, 1400.0, 1550.0, 2000.0, 1500.0, 1550.0, 1600.0, 1600.0, 1800.0, 1470.0, 1500.0, 1750.0, 1650.0, 1850.0, 1480.0, 1214.0, 1380.0, 1600.0, 1585.0, 1700.0, 1200.0, 1800.0, 1000.0, 1500.0, 1700.0, 1750.0, 2700.0, 3050.0, 3405.0, 1500.0, 2105.0, 2500.0, 2090.0, 2525.0, 2500.0, 2100.0, 2022.0, 2650.0, 1850.0, 2100.0, 1700.0, 2105.0, 1250.0, 2552.0, 3112.0, 2125.0, 2065.0, 3405.0, 3050.0, 2300.0, 1455.0, 3400.0, 3100.0, 1400.0, 2126.0, 1815.0, 1700.0, 700.0, 980.0, 1350.0, 1800.0, 968.7510000000001, 1250.0, 1800.0, 1400.0, 1000.0, 1800.0, 1500.0, 1600.0, 1400.0, 1400.0, 2700.0, 1100.0, 1200.0, 1400.0, 1500.0, 1320.0, 1300.0, 1150.0, 1440.0, 1400.0, 450.0, 1300.0, 1200.0, 1300.0, 1400.0, 1400.0, 1600.0, 1200.0, 1600.0, 1250.0, 950.0, 1200.0, 1400.0, 950.0, 1350.0, 1550.0, 1300.0, 1000.0, 1500.0, 950.0, 1200.0, 1400.0, 1500.0, 1050.0, 1550.0, 950.0, 1150.0, 1150.0, 1150.0, 1500.0, 1800.0, 1300.0, 1150.0, 1500.0, 1150.0, 900.0, 1150.0, 1000.0, 450.0, 1350.0, 445.0, 1200.0, 50.0, 1100.0, 700.0, 500.0, 540.0, 450.0, 800.0, 700.0, 750.0, 750.0, 1600.0, 1000.0, 900.0, 1700.0, 1100.0, 1000.0, 1000.0, 1100.0, 765.0, 900.0, 600.0, 360.0, 950.0, 3600.0, 1305.0, 1800.0, 950.0, 800.0, 1800.0, 800.0, 675.0, 1175.0, 1500.0, 810.0, 630.0, 650.0, 1800.0, 725.0, 900.0, 750.0, 700.0, 950.0, 1600.0, 900.0, 1500.0, 500.0, 1035.0, 825.0, 1300.0, 765.0, 580.0, 1750.0, 650.0, 405.0, 675.0, 850.0, 800.0, 405.0, 1350.0, 1350.0, 450.0, 1300.0, 1050.0, 1675.0, 1250.0, 1080.0, 1170.0, 1250.0, 1500.0, 1350.0, 855.0, 540.0, 1044.0983, 405.0, 500.0, 450.0, 405.0, 405.0, 450.0, 173.0, 1100.0, 600.0, 800.0, 990.0, 1100.0, 1100.0, 527.0, 1000.0, 1000.0, 450.0, 600.0, 950.0, 855.0, 770.0, 810.0, 710.0, 950.0, 450.0, 500.0, 600.0, 420.0, 900.0, 945.0, 565.0, 450.0, 430.0, 550.0, 810.0, 720.0, 360.0, 820.0, 459.0, 378.0, 450.0, 900.0, 360.0, 559.7228, 350.0, 365.0, 390.0, 350.0, 210.0, 50.0, 500.0, 350.0, 379.0, 236.8058, 445.0, 452.0838, 350.0, 437.0, 61.0, 495.0, 900.0, 350.0, 585.0, 198.0, 4900.0, 2077.4327, 50.0, 990.0, 425.0, 750.0, 1400.0, 3600.0, 3000.0, 2750.0, 2050.0, 3000.0, 850.0, 750.0, 2600.0, 800.0, 550.0, 700.0, 2316.0, 900.0, 100.0, 900.0, 1500.0, 650.0, 2000.0, 500.0, 1125.0, 1300.0, 2500.0, 2200.0, 1290.0, 2250.0, 1350.0, 1400.0, 1700.0, 450.0, 750.0, 1500.0, 400.0, 650.0, 900.0, 400.0, 900.0, 1000.0, 405.0, 1700.0, 800.0, 1076.39, 750.0, 460.0, 370.0, 1800.0, 1080.0, 350.0, 500.0, 900.0, 800.0, 350.0, 430.556, 500.0, 1450.0, 800.0, 1000.0, 1000.0, 1600.0, 900.0, 1500.0, 1050.0, 1300.0, 1600.0, 900.0, 1350.0, 1000.0, 1400.0, 975.0, 900.0, 1100.0, 950.0, 1300.0, 1459.0, 1000.0, 1100.0, 1450.0, 1450.0, 1150.0, 780.0, 1300.0, 1350.0, 1200.0, 1460.0, 1460.0, 1100.0, 1500.0, 1050.0, 1350.0, 1500.0, 976.0, 540.0, 450.0, 900.0, 2500.0, 979.5149, 945.0, 976.0, 1531.0, 1000.0, 750.0, 900.0, 1512.0, 35.0, 1500.0, 2907.0, 2210.0, 750.0, 2518.7526, 588.0, 540.0, 1100.0, 550.0, 750.0, 1260.0, 675.0, 810.0, 3150.0, 2000.0, 1775.0, 1135.0, 1252.0, 2000.0, 530.0, 1332.0, 1017.0, 987.0, 1912.0, 5236.0, 2805.0, 1500.0, 1280.0, 675.0, 576.0, 1206.0, 1143.0, 345.0, 720.0, 468.0, 1600.0, 950.0, 535.0, 1200.0, 1501.0, 1135.0, 1200.0, 2200.0, 1240.0, 3002.0, 1350.0, 2300.0, 1429.0, 2430.0, 1450.0, 1250.0, 2800.0, 1646.0, 900.0, 1250.0, 900.0, 1590.0, 990.0, 2282.0, 1260.0, 1457.0, 1400.0, 2175.0, 1450.0, 2800.0, 861.112, 2282.0, 1753.0, 2659.0, 1550.0, 1470.0, 702.0, 1138.0, 1600.0, 1600.0, 1250.0, 810.0, 585.0, 1700.0, 1800.0, 600.0, 1250.0, 600.0, 1600.0, 1100.0, 450.0, 855.0, 1291.6680000000001, 1300.0, 1350.0, 900.0, 850.0, 1650.0, 650.0, 630.0, 1250.0, 1800.0, 1500.0, 1100.0, 1400.0, 1300.0, 1100.0, 1600.0, 2250.0, 2592.0, 1800.0, 1700.0, 1640.0, 2572.0, 2100.0, 1620.0, 2500.0, 2250.0, 2445.0, 2250.0, 800.0, 1450.0, 1440.0, 5220.0, 1800.0, 4455.0, 195.0, 807.2925, 3500.0, 1000.0, 900.0, 1800.0, 17010.0, 2340.0, 1350.0, 464.0, 954.0, 1155.0, 500.0, 700.0, 900.0, 1260.0, 950.0, 405.0, 1800.0, 1300.0, 1000.0, 900.0, 1800.0, 720.0, 1485.0, 1600.0, 1200.0, 900.0, 900.0, 800.0, 1150.0, 900.0, 1070.0, 1050.0, 1000.0, 1550.0, 1300.0, 810.0, 900.0, 1200.0, 1000.0, 720.0, 2520.0, 1700.0, 1800.0, 6000.0, 1800.0, 2000.0, 2066.0, 2050.0, 1100.0, 4500.0, 4500.0, 6500.0, 4350.0, 1750.0, 3600.0, 1200.0, 1500.0, 2250.0, 1800.0, 1600.0, 2800.0, 1700.0, 2400.0, 1980.0, 2100.0, 5400.0, 1250.0, 2300.0, 2700.0, 1450.0, 2097.0, 1250.0, 1600.0, 2600.0, 1700.0, 1116.0, 1070.0, 1200.0, 1200.0, 1200.0, 1450.0, 1000.0, 2430.0, 945.0, 1650.0, 1350.0, 2625.0, 1800.0, 125.0, 1440.0, 1900.0, 1800.0, 1200.0, 1800.0, 1200.0, 4118.0, 1050.0, 875.0, 990.0, 11050.0], \"yaxis\": \"y\"}],\n",
              "                        {\"coloraxis\": {\"colorbar\": {\"title\": {\"text\": \"Locality\"}}, \"colorscale\": [[0.0, \"#0d0887\"], [0.1111111111111111, \"#46039f\"], [0.2222222222222222, \"#7201a8\"], [0.3333333333333333, \"#9c179e\"], [0.4444444444444444, \"#bd3786\"], [0.5555555555555556, \"#d8576b\"], [0.6666666666666666, \"#ed7953\"], [0.7777777777777778, \"#fb9f3a\"], [0.8888888888888888, \"#fdca26\"], [1.0, \"#f0f921\"]]}, \"legend\": {\"itemsizing\": \"constant\", \"tracegroupgap\": 0}, \"margin\": {\"t\": 60}, \"template\": {\"data\": {\"bar\": [{\"error_x\": {\"color\": \"#2a3f5f\"}, \"error_y\": {\"color\": \"#2a3f5f\"}, \"marker\": {\"line\": {\"color\": \"#E5ECF6\", \"width\": 0.5}}, \"type\": \"bar\"}], \"barpolar\": [{\"marker\": {\"line\": {\"color\": \"#E5ECF6\", \"width\": 0.5}}, \"type\": \"barpolar\"}], \"carpet\": [{\"aaxis\": {\"endlinecolor\": \"#2a3f5f\", \"gridcolor\": \"white\", \"linecolor\": \"white\", \"minorgridcolor\": \"white\", \"startlinecolor\": \"#2a3f5f\"}, \"baxis\": {\"endlinecolor\": \"#2a3f5f\", \"gridcolor\": \"white\", \"linecolor\": \"white\", \"minorgridcolor\": \"white\", \"startlinecolor\": \"#2a3f5f\"}, \"type\": \"carpet\"}], \"choropleth\": [{\"colorbar\": {\"outlinewidth\": 0, \"ticks\": \"\"}, \"type\": \"choropleth\"}], \"contour\": [{\"colorbar\": {\"outlinewidth\": 0, \"ticks\": \"\"}, \"colorscale\": [[0.0, \"#0d0887\"], [0.1111111111111111, \"#46039f\"], [0.2222222222222222, \"#7201a8\"], [0.3333333333333333, \"#9c179e\"], [0.4444444444444444, \"#bd3786\"], [0.5555555555555556, \"#d8576b\"], [0.6666666666666666, \"#ed7953\"], [0.7777777777777778, \"#fb9f3a\"], [0.8888888888888888, \"#fdca26\"], [1.0, \"#f0f921\"]], \"type\": \"contour\"}], \"contourcarpet\": [{\"colorbar\": {\"outlinewidth\": 0, \"ticks\": \"\"}, \"type\": \"contourcarpet\"}], \"heatmap\": [{\"colorbar\": {\"outlinewidth\": 0, \"ticks\": \"\"}, \"colorscale\": [[0.0, \"#0d0887\"], [0.1111111111111111, \"#46039f\"], [0.2222222222222222, \"#7201a8\"], [0.3333333333333333, \"#9c179e\"], [0.4444444444444444, \"#bd3786\"], [0.5555555555555556, \"#d8576b\"], [0.6666666666666666, \"#ed7953\"], [0.7777777777777778, \"#fb9f3a\"], [0.8888888888888888, \"#fdca26\"], [1.0, \"#f0f921\"]], \"type\": \"heatmap\"}], \"heatmapgl\": [{\"colorbar\": {\"outlinewidth\": 0, \"ticks\": \"\"}, \"colorscale\": [[0.0, \"#0d0887\"], [0.1111111111111111, \"#46039f\"], [0.2222222222222222, \"#7201a8\"], [0.3333333333333333, \"#9c179e\"], [0.4444444444444444, \"#bd3786\"], [0.5555555555555556, \"#d8576b\"], [0.6666666666666666, \"#ed7953\"], [0.7777777777777778, \"#fb9f3a\"], [0.8888888888888888, \"#fdca26\"], [1.0, \"#f0f921\"]], \"type\": \"heatmapgl\"}], \"histogram\": [{\"marker\": {\"colorbar\": {\"outlinewidth\": 0, \"ticks\": \"\"}}, \"type\": \"histogram\"}], \"histogram2d\": [{\"colorbar\": {\"outlinewidth\": 0, \"ticks\": \"\"}, \"colorscale\": [[0.0, \"#0d0887\"], [0.1111111111111111, \"#46039f\"], [0.2222222222222222, \"#7201a8\"], [0.3333333333333333, \"#9c179e\"], [0.4444444444444444, \"#bd3786\"], [0.5555555555555556, \"#d8576b\"], [0.6666666666666666, \"#ed7953\"], [0.7777777777777778, \"#fb9f3a\"], [0.8888888888888888, \"#fdca26\"], [1.0, \"#f0f921\"]], \"type\": \"histogram2d\"}], \"histogram2dcontour\": [{\"colorbar\": {\"outlinewidth\": 0, \"ticks\": \"\"}, \"colorscale\": [[0.0, \"#0d0887\"], [0.1111111111111111, \"#46039f\"], [0.2222222222222222, \"#7201a8\"], [0.3333333333333333, \"#9c179e\"], [0.4444444444444444, \"#bd3786\"], [0.5555555555555556, \"#d8576b\"], [0.6666666666666666, \"#ed7953\"], [0.7777777777777778, \"#fb9f3a\"], [0.8888888888888888, \"#fdca26\"], [1.0, \"#f0f921\"]], \"type\": \"histogram2dcontour\"}], \"mesh3d\": [{\"colorbar\": {\"outlinewidth\": 0, \"ticks\": \"\"}, \"type\": \"mesh3d\"}], \"parcoords\": [{\"line\": {\"colorbar\": {\"outlinewidth\": 0, \"ticks\": \"\"}}, \"type\": \"parcoords\"}], \"pie\": [{\"automargin\": true, \"type\": \"pie\"}], \"scatter\": [{\"marker\": {\"colorbar\": {\"outlinewidth\": 0, \"ticks\": \"\"}}, \"type\": \"scatter\"}], \"scatter3d\": [{\"line\": {\"colorbar\": {\"outlinewidth\": 0, \"ticks\": \"\"}}, \"marker\": {\"colorbar\": {\"outlinewidth\": 0, \"ticks\": \"\"}}, \"type\": \"scatter3d\"}], \"scattercarpet\": [{\"marker\": {\"colorbar\": {\"outlinewidth\": 0, \"ticks\": \"\"}}, \"type\": \"scattercarpet\"}], \"scattergeo\": [{\"marker\": {\"colorbar\": {\"outlinewidth\": 0, \"ticks\": \"\"}}, \"type\": \"scattergeo\"}], \"scattergl\": [{\"marker\": {\"colorbar\": {\"outlinewidth\": 0, \"ticks\": \"\"}}, \"type\": \"scattergl\"}], \"scattermapbox\": [{\"marker\": {\"colorbar\": {\"outlinewidth\": 0, \"ticks\": \"\"}}, \"type\": \"scattermapbox\"}], \"scatterpolar\": [{\"marker\": {\"colorbar\": {\"outlinewidth\": 0, \"ticks\": \"\"}}, \"type\": \"scatterpolar\"}], \"scatterpolargl\": [{\"marker\": {\"colorbar\": {\"outlinewidth\": 0, \"ticks\": \"\"}}, \"type\": \"scatterpolargl\"}], \"scatterternary\": [{\"marker\": {\"colorbar\": {\"outlinewidth\": 0, \"ticks\": \"\"}}, \"type\": \"scatterternary\"}], \"surface\": [{\"colorbar\": {\"outlinewidth\": 0, \"ticks\": \"\"}, \"colorscale\": [[0.0, \"#0d0887\"], [0.1111111111111111, \"#46039f\"], [0.2222222222222222, \"#7201a8\"], [0.3333333333333333, \"#9c179e\"], [0.4444444444444444, \"#bd3786\"], [0.5555555555555556, \"#d8576b\"], [0.6666666666666666, \"#ed7953\"], [0.7777777777777778, \"#fb9f3a\"], [0.8888888888888888, \"#fdca26\"], [1.0, \"#f0f921\"]], \"type\": \"surface\"}], \"table\": [{\"cells\": {\"fill\": {\"color\": \"#EBF0F8\"}, \"line\": {\"color\": \"white\"}}, \"header\": {\"fill\": {\"color\": \"#C8D4E3\"}, \"line\": {\"color\": \"white\"}}, \"type\": \"table\"}]}, \"layout\": {\"annotationdefaults\": {\"arrowcolor\": \"#2a3f5f\", \"arrowhead\": 0, \"arrowwidth\": 1}, \"coloraxis\": {\"colorbar\": {\"outlinewidth\": 0, \"ticks\": \"\"}}, \"colorscale\": {\"diverging\": [[0, \"#8e0152\"], [0.1, \"#c51b7d\"], [0.2, \"#de77ae\"], [0.3, \"#f1b6da\"], [0.4, \"#fde0ef\"], [0.5, \"#f7f7f7\"], [0.6, \"#e6f5d0\"], [0.7, \"#b8e186\"], [0.8, \"#7fbc41\"], [0.9, \"#4d9221\"], [1, \"#276419\"]], \"sequential\": [[0.0, \"#0d0887\"], [0.1111111111111111, \"#46039f\"], [0.2222222222222222, \"#7201a8\"], [0.3333333333333333, \"#9c179e\"], [0.4444444444444444, \"#bd3786\"], [0.5555555555555556, \"#d8576b\"], [0.6666666666666666, \"#ed7953\"], [0.7777777777777778, \"#fb9f3a\"], [0.8888888888888888, \"#fdca26\"], [1.0, \"#f0f921\"]], \"sequentialminus\": [[0.0, \"#0d0887\"], [0.1111111111111111, \"#46039f\"], [0.2222222222222222, \"#7201a8\"], [0.3333333333333333, \"#9c179e\"], [0.4444444444444444, \"#bd3786\"], [0.5555555555555556, \"#d8576b\"], [0.6666666666666666, \"#ed7953\"], [0.7777777777777778, \"#fb9f3a\"], [0.8888888888888888, \"#fdca26\"], [1.0, \"#f0f921\"]]}, \"colorway\": [\"#636efa\", \"#EF553B\", \"#00cc96\", \"#ab63fa\", \"#FFA15A\", \"#19d3f3\", \"#FF6692\", \"#B6E880\", \"#FF97FF\", \"#FECB52\"], \"font\": {\"color\": \"#2a3f5f\"}, \"geo\": {\"bgcolor\": \"white\", \"lakecolor\": \"white\", \"landcolor\": \"#E5ECF6\", \"showlakes\": true, \"showland\": true, \"subunitcolor\": \"white\"}, \"hoverlabel\": {\"align\": \"left\"}, \"hovermode\": \"closest\", \"mapbox\": {\"style\": \"light\"}, \"paper_bgcolor\": \"white\", \"plot_bgcolor\": \"#E5ECF6\", \"polar\": {\"angularaxis\": {\"gridcolor\": \"white\", \"linecolor\": \"white\", \"ticks\": \"\"}, \"bgcolor\": \"#E5ECF6\", \"radialaxis\": {\"gridcolor\": \"white\", \"linecolor\": \"white\", \"ticks\": \"\"}}, \"scene\": {\"xaxis\": {\"backgroundcolor\": \"#E5ECF6\", \"gridcolor\": \"white\", \"gridwidth\": 2, \"linecolor\": \"white\", \"showbackground\": true, \"ticks\": \"\", \"zerolinecolor\": \"white\"}, \"yaxis\": {\"backgroundcolor\": \"#E5ECF6\", \"gridcolor\": \"white\", \"gridwidth\": 2, \"linecolor\": \"white\", \"showbackground\": true, \"ticks\": \"\", \"zerolinecolor\": \"white\"}, \"zaxis\": {\"backgroundcolor\": \"#E5ECF6\", \"gridcolor\": \"white\", \"gridwidth\": 2, \"linecolor\": \"white\", \"showbackground\": true, \"ticks\": \"\", \"zerolinecolor\": \"white\"}}, \"shapedefaults\": {\"line\": {\"color\": \"#2a3f5f\"}}, \"ternary\": {\"aaxis\": {\"gridcolor\": \"white\", \"linecolor\": \"white\", \"ticks\": \"\"}, \"baxis\": {\"gridcolor\": \"white\", \"linecolor\": \"white\", \"ticks\": \"\"}, \"bgcolor\": \"#E5ECF6\", \"caxis\": {\"gridcolor\": \"white\", \"linecolor\": \"white\", \"ticks\": \"\"}}, \"title\": {\"x\": 0.05}, \"xaxis\": {\"automargin\": true, \"gridcolor\": \"white\", \"linecolor\": \"white\", \"ticks\": \"\", \"title\": {\"standoff\": 15}, \"zerolinecolor\": \"white\", \"zerolinewidth\": 2}, \"yaxis\": {\"automargin\": true, \"gridcolor\": \"white\", \"linecolor\": \"white\", \"ticks\": \"\", \"title\": {\"standoff\": 15}, \"zerolinecolor\": \"white\", \"zerolinewidth\": 2}}}, \"xaxis\": {\"anchor\": \"y\", \"domain\": [0.0, 1.0], \"title\": {\"text\": \"Price\"}}, \"yaxis\": {\"anchor\": \"x\", \"domain\": [0.0, 1.0], \"title\": {\"text\": \"Area\"}}},\n",
              "                        {\"responsive\": true}\n",
              "                    ).then(function(){\n",
              "                            \n",
              "var gd = document.getElementById('e71951af-23da-4214-8e5b-80e867986465');\n",
              "var x = new MutationObserver(function (mutations, observer) {{\n",
              "        var display = window.getComputedStyle(gd).display;\n",
              "        if (!display || display === 'none') {{\n",
              "            console.log([gd, 'removed!']);\n",
              "            Plotly.purge(gd);\n",
              "            observer.disconnect();\n",
              "        }}\n",
              "}});\n",
              "\n",
              "// Listen for the removal of the full notebook cells\n",
              "var notebookContainer = gd.closest('#notebook-container');\n",
              "if (notebookContainer) {{\n",
              "    x.observe(notebookContainer, {childList: true});\n",
              "}}\n",
              "\n",
              "// Listen for the clearing of the current output cell\n",
              "var outputEl = gd.closest('.output');\n",
              "if (outputEl) {{\n",
              "    x.observe(outputEl, {childList: true});\n",
              "}}\n",
              "\n",
              "                        })\n",
              "                };\n",
              "                \n",
              "            </script>\n",
              "        </div>\n",
              "</body>\n",
              "</html>"
            ]
          },
          "metadata": {
            "tags": []
          }
        }
      ]
    },
    {
      "cell_type": "code",
      "metadata": {
        "colab": {
          "base_uri": "https://localhost:8080/",
          "height": 542
        },
        "id": "GsFzsfVpjZeO",
        "outputId": "741184aa-0cc4-4878-ff3f-49c3e8a5a541"
      },
      "source": [
        "px.box(df1,points='all')\n"
      ],
      "execution_count": 34,
      "outputs": [
        {
          "output_type": "display_data",
          "data": {
            "text/html": [
              "<html>\n",
              "<head><meta charset=\"utf-8\" /></head>\n",
              "<body>\n",
              "    <div>\n",
              "            <script src=\"https://cdnjs.cloudflare.com/ajax/libs/mathjax/2.7.5/MathJax.js?config=TeX-AMS-MML_SVG\"></script><script type=\"text/javascript\">if (window.MathJax) {MathJax.Hub.Config({SVG: {font: \"STIX-Web\"}});}</script>\n",
              "                <script type=\"text/javascript\">window.PlotlyConfig = {MathJaxConfig: 'local'};</script>\n",
              "        <script src=\"https://cdn.plot.ly/plotly-latest.min.js\"></script>    \n",
              "            <div id=\"d9438166-18c2-4a2e-acf9-90213dd489b4\" class=\"plotly-graph-div\" style=\"height:525px; width:100%;\"></div>\n",
              "            <script type=\"text/javascript\">\n",
              "                \n",
              "                    window.PLOTLYENV=window.PLOTLYENV || {};\n",
              "                    \n",
              "                if (document.getElementById(\"d9438166-18c2-4a2e-acf9-90213dd489b4\")) {\n",
              "                    Plotly.newPlot(\n",
              "                        'd9438166-18c2-4a2e-acf9-90213dd489b4',\n",
              "                        [],\n",
              "                        {\"boxmode\": \"group\", \"legend\": {\"tracegroupgap\": 0}, \"margin\": {\"t\": 60}, \"template\": {\"data\": {\"bar\": [{\"error_x\": {\"color\": \"#2a3f5f\"}, \"error_y\": {\"color\": \"#2a3f5f\"}, \"marker\": {\"line\": {\"color\": \"#E5ECF6\", \"width\": 0.5}}, \"type\": \"bar\"}], \"barpolar\": [{\"marker\": {\"line\": {\"color\": \"#E5ECF6\", \"width\": 0.5}}, \"type\": \"barpolar\"}], \"carpet\": [{\"aaxis\": {\"endlinecolor\": \"#2a3f5f\", \"gridcolor\": \"white\", \"linecolor\": \"white\", \"minorgridcolor\": \"white\", \"startlinecolor\": \"#2a3f5f\"}, \"baxis\": {\"endlinecolor\": \"#2a3f5f\", \"gridcolor\": \"white\", \"linecolor\": \"white\", \"minorgridcolor\": \"white\", \"startlinecolor\": \"#2a3f5f\"}, \"type\": \"carpet\"}], \"choropleth\": [{\"colorbar\": {\"outlinewidth\": 0, \"ticks\": \"\"}, \"type\": \"choropleth\"}], \"contour\": [{\"colorbar\": {\"outlinewidth\": 0, \"ticks\": \"\"}, \"colorscale\": [[0.0, \"#0d0887\"], [0.1111111111111111, \"#46039f\"], [0.2222222222222222, \"#7201a8\"], [0.3333333333333333, \"#9c179e\"], [0.4444444444444444, \"#bd3786\"], [0.5555555555555556, \"#d8576b\"], [0.6666666666666666, \"#ed7953\"], [0.7777777777777778, \"#fb9f3a\"], [0.8888888888888888, \"#fdca26\"], [1.0, \"#f0f921\"]], \"type\": \"contour\"}], \"contourcarpet\": [{\"colorbar\": {\"outlinewidth\": 0, \"ticks\": \"\"}, \"type\": \"contourcarpet\"}], \"heatmap\": [{\"colorbar\": {\"outlinewidth\": 0, \"ticks\": \"\"}, \"colorscale\": [[0.0, \"#0d0887\"], [0.1111111111111111, \"#46039f\"], [0.2222222222222222, \"#7201a8\"], [0.3333333333333333, \"#9c179e\"], [0.4444444444444444, \"#bd3786\"], [0.5555555555555556, \"#d8576b\"], [0.6666666666666666, \"#ed7953\"], [0.7777777777777778, \"#fb9f3a\"], [0.8888888888888888, \"#fdca26\"], [1.0, \"#f0f921\"]], \"type\": \"heatmap\"}], \"heatmapgl\": [{\"colorbar\": {\"outlinewidth\": 0, \"ticks\": \"\"}, \"colorscale\": [[0.0, \"#0d0887\"], [0.1111111111111111, \"#46039f\"], [0.2222222222222222, \"#7201a8\"], [0.3333333333333333, \"#9c179e\"], [0.4444444444444444, \"#bd3786\"], [0.5555555555555556, \"#d8576b\"], [0.6666666666666666, \"#ed7953\"], [0.7777777777777778, \"#fb9f3a\"], [0.8888888888888888, \"#fdca26\"], [1.0, \"#f0f921\"]], \"type\": \"heatmapgl\"}], \"histogram\": [{\"marker\": {\"colorbar\": {\"outlinewidth\": 0, \"ticks\": \"\"}}, \"type\": \"histogram\"}], \"histogram2d\": [{\"colorbar\": {\"outlinewidth\": 0, \"ticks\": \"\"}, \"colorscale\": [[0.0, \"#0d0887\"], [0.1111111111111111, \"#46039f\"], [0.2222222222222222, \"#7201a8\"], [0.3333333333333333, \"#9c179e\"], [0.4444444444444444, \"#bd3786\"], [0.5555555555555556, \"#d8576b\"], [0.6666666666666666, \"#ed7953\"], [0.7777777777777778, \"#fb9f3a\"], [0.8888888888888888, \"#fdca26\"], [1.0, \"#f0f921\"]], \"type\": \"histogram2d\"}], \"histogram2dcontour\": [{\"colorbar\": {\"outlinewidth\": 0, \"ticks\": \"\"}, \"colorscale\": [[0.0, \"#0d0887\"], [0.1111111111111111, \"#46039f\"], [0.2222222222222222, \"#7201a8\"], [0.3333333333333333, \"#9c179e\"], [0.4444444444444444, \"#bd3786\"], [0.5555555555555556, \"#d8576b\"], [0.6666666666666666, \"#ed7953\"], [0.7777777777777778, \"#fb9f3a\"], [0.8888888888888888, \"#fdca26\"], [1.0, \"#f0f921\"]], \"type\": \"histogram2dcontour\"}], \"mesh3d\": [{\"colorbar\": {\"outlinewidth\": 0, \"ticks\": \"\"}, \"type\": \"mesh3d\"}], \"parcoords\": [{\"line\": {\"colorbar\": {\"outlinewidth\": 0, \"ticks\": \"\"}}, \"type\": \"parcoords\"}], \"pie\": [{\"automargin\": true, \"type\": \"pie\"}], \"scatter\": [{\"marker\": {\"colorbar\": {\"outlinewidth\": 0, \"ticks\": \"\"}}, \"type\": \"scatter\"}], \"scatter3d\": [{\"line\": {\"colorbar\": {\"outlinewidth\": 0, \"ticks\": \"\"}}, \"marker\": {\"colorbar\": {\"outlinewidth\": 0, \"ticks\": \"\"}}, \"type\": \"scatter3d\"}], \"scattercarpet\": [{\"marker\": {\"colorbar\": {\"outlinewidth\": 0, \"ticks\": \"\"}}, \"type\": \"scattercarpet\"}], \"scattergeo\": [{\"marker\": {\"colorbar\": {\"outlinewidth\": 0, \"ticks\": \"\"}}, \"type\": \"scattergeo\"}], \"scattergl\": [{\"marker\": {\"colorbar\": {\"outlinewidth\": 0, \"ticks\": \"\"}}, \"type\": \"scattergl\"}], \"scattermapbox\": [{\"marker\": {\"colorbar\": {\"outlinewidth\": 0, \"ticks\": \"\"}}, \"type\": \"scattermapbox\"}], \"scatterpolar\": [{\"marker\": {\"colorbar\": {\"outlinewidth\": 0, \"ticks\": \"\"}}, \"type\": \"scatterpolar\"}], \"scatterpolargl\": [{\"marker\": {\"colorbar\": {\"outlinewidth\": 0, \"ticks\": \"\"}}, \"type\": \"scatterpolargl\"}], \"scatterternary\": [{\"marker\": {\"colorbar\": {\"outlinewidth\": 0, \"ticks\": \"\"}}, \"type\": \"scatterternary\"}], \"surface\": [{\"colorbar\": {\"outlinewidth\": 0, \"ticks\": \"\"}, \"colorscale\": [[0.0, \"#0d0887\"], [0.1111111111111111, \"#46039f\"], [0.2222222222222222, \"#7201a8\"], [0.3333333333333333, \"#9c179e\"], [0.4444444444444444, \"#bd3786\"], [0.5555555555555556, \"#d8576b\"], [0.6666666666666666, \"#ed7953\"], [0.7777777777777778, \"#fb9f3a\"], [0.8888888888888888, \"#fdca26\"], [1.0, \"#f0f921\"]], \"type\": \"surface\"}], \"table\": [{\"cells\": {\"fill\": {\"color\": \"#EBF0F8\"}, \"line\": {\"color\": \"white\"}}, \"header\": {\"fill\": {\"color\": \"#C8D4E3\"}, \"line\": {\"color\": \"white\"}}, \"type\": \"table\"}]}, \"layout\": {\"annotationdefaults\": {\"arrowcolor\": \"#2a3f5f\", \"arrowhead\": 0, \"arrowwidth\": 1}, \"coloraxis\": {\"colorbar\": {\"outlinewidth\": 0, \"ticks\": \"\"}}, \"colorscale\": {\"diverging\": [[0, \"#8e0152\"], [0.1, \"#c51b7d\"], [0.2, \"#de77ae\"], [0.3, \"#f1b6da\"], [0.4, \"#fde0ef\"], [0.5, \"#f7f7f7\"], [0.6, \"#e6f5d0\"], [0.7, \"#b8e186\"], [0.8, \"#7fbc41\"], [0.9, \"#4d9221\"], [1, \"#276419\"]], \"sequential\": [[0.0, \"#0d0887\"], [0.1111111111111111, \"#46039f\"], [0.2222222222222222, \"#7201a8\"], [0.3333333333333333, \"#9c179e\"], [0.4444444444444444, \"#bd3786\"], [0.5555555555555556, \"#d8576b\"], [0.6666666666666666, \"#ed7953\"], [0.7777777777777778, \"#fb9f3a\"], [0.8888888888888888, \"#fdca26\"], [1.0, \"#f0f921\"]], \"sequentialminus\": [[0.0, \"#0d0887\"], [0.1111111111111111, \"#46039f\"], [0.2222222222222222, \"#7201a8\"], [0.3333333333333333, \"#9c179e\"], [0.4444444444444444, \"#bd3786\"], [0.5555555555555556, \"#d8576b\"], [0.6666666666666666, \"#ed7953\"], [0.7777777777777778, \"#fb9f3a\"], [0.8888888888888888, \"#fdca26\"], [1.0, \"#f0f921\"]]}, \"colorway\": [\"#636efa\", \"#EF553B\", \"#00cc96\", \"#ab63fa\", \"#FFA15A\", \"#19d3f3\", \"#FF6692\", \"#B6E880\", \"#FF97FF\", \"#FECB52\"], \"font\": {\"color\": \"#2a3f5f\"}, \"geo\": {\"bgcolor\": \"white\", \"lakecolor\": \"white\", \"landcolor\": \"#E5ECF6\", \"showlakes\": true, \"showland\": true, \"subunitcolor\": \"white\"}, \"hoverlabel\": {\"align\": \"left\"}, \"hovermode\": \"closest\", \"mapbox\": {\"style\": \"light\"}, \"paper_bgcolor\": \"white\", \"plot_bgcolor\": \"#E5ECF6\", \"polar\": {\"angularaxis\": {\"gridcolor\": \"white\", \"linecolor\": \"white\", \"ticks\": \"\"}, \"bgcolor\": \"#E5ECF6\", \"radialaxis\": {\"gridcolor\": \"white\", \"linecolor\": \"white\", \"ticks\": \"\"}}, \"scene\": {\"xaxis\": {\"backgroundcolor\": \"#E5ECF6\", \"gridcolor\": \"white\", \"gridwidth\": 2, \"linecolor\": \"white\", \"showbackground\": true, \"ticks\": \"\", \"zerolinecolor\": \"white\"}, \"yaxis\": {\"backgroundcolor\": \"#E5ECF6\", \"gridcolor\": \"white\", \"gridwidth\": 2, \"linecolor\": \"white\", \"showbackground\": true, \"ticks\": \"\", \"zerolinecolor\": \"white\"}, \"zaxis\": {\"backgroundcolor\": \"#E5ECF6\", \"gridcolor\": \"white\", \"gridwidth\": 2, \"linecolor\": \"white\", \"showbackground\": true, \"ticks\": \"\", \"zerolinecolor\": \"white\"}}, \"shapedefaults\": {\"line\": {\"color\": \"#2a3f5f\"}}, \"ternary\": {\"aaxis\": {\"gridcolor\": \"white\", \"linecolor\": \"white\", \"ticks\": \"\"}, \"baxis\": {\"gridcolor\": \"white\", \"linecolor\": \"white\", \"ticks\": \"\"}, \"bgcolor\": \"#E5ECF6\", \"caxis\": {\"gridcolor\": \"white\", \"linecolor\": \"white\", \"ticks\": \"\"}}, \"title\": {\"x\": 0.05}, \"xaxis\": {\"automargin\": true, \"gridcolor\": \"white\", \"linecolor\": \"white\", \"ticks\": \"\", \"title\": {\"standoff\": 15}, \"zerolinecolor\": \"white\", \"zerolinewidth\": 2}, \"yaxis\": {\"automargin\": true, \"gridcolor\": \"white\", \"linecolor\": \"white\", \"ticks\": \"\", \"title\": {\"standoff\": 15}, \"zerolinecolor\": \"white\", \"zerolinewidth\": 2}}}, \"xaxis\": {\"anchor\": \"y\", \"domain\": [0.0, 1.0]}, \"yaxis\": {\"anchor\": \"x\", \"domain\": [0.0, 1.0]}},\n",
              "                        {\"responsive\": true}\n",
              "                    ).then(function(){\n",
              "                            \n",
              "var gd = document.getElementById('d9438166-18c2-4a2e-acf9-90213dd489b4');\n",
              "var x = new MutationObserver(function (mutations, observer) {{\n",
              "        var display = window.getComputedStyle(gd).display;\n",
              "        if (!display || display === 'none') {{\n",
              "            console.log([gd, 'removed!']);\n",
              "            Plotly.purge(gd);\n",
              "            observer.disconnect();\n",
              "        }}\n",
              "}});\n",
              "\n",
              "// Listen for the removal of the full notebook cells\n",
              "var notebookContainer = gd.closest('#notebook-container');\n",
              "if (notebookContainer) {{\n",
              "    x.observe(notebookContainer, {childList: true});\n",
              "}}\n",
              "\n",
              "// Listen for the clearing of the current output cell\n",
              "var outputEl = gd.closest('.output');\n",
              "if (outputEl) {{\n",
              "    x.observe(outputEl, {childList: true});\n",
              "}}\n",
              "\n",
              "                        })\n",
              "                };\n",
              "                \n",
              "            </script>\n",
              "        </div>\n",
              "</body>\n",
              "</html>"
            ]
          },
          "metadata": {
            "tags": []
          }
        }
      ]
    },
    {
      "cell_type": "code",
      "metadata": {
        "colab": {
          "base_uri": "https://localhost:8080/",
          "height": 542
        },
        "id": "fpTiPJw7jerA",
        "outputId": "9aa92c2d-a6aa-41ab-b1ac-18f36f2a773e"
      },
      "source": [
        "px.violin(df1,x='Price',box=True,points='all')\n"
      ],
      "execution_count": 35,
      "outputs": [
        {
          "output_type": "display_data",
          "data": {
            "text/html": [
              "<html>\n",
              "<head><meta charset=\"utf-8\" /></head>\n",
              "<body>\n",
              "    <div>\n",
              "            <script src=\"https://cdnjs.cloudflare.com/ajax/libs/mathjax/2.7.5/MathJax.js?config=TeX-AMS-MML_SVG\"></script><script type=\"text/javascript\">if (window.MathJax) {MathJax.Hub.Config({SVG: {font: \"STIX-Web\"}});}</script>\n",
              "                <script type=\"text/javascript\">window.PlotlyConfig = {MathJaxConfig: 'local'};</script>\n",
              "        <script src=\"https://cdn.plot.ly/plotly-latest.min.js\"></script>    \n",
              "            <div id=\"4493543b-5950-48fb-ac3b-7936bf412308\" class=\"plotly-graph-div\" style=\"height:525px; width:100%;\"></div>\n",
              "            <script type=\"text/javascript\">\n",
              "                \n",
              "                    window.PLOTLYENV=window.PLOTLYENV || {};\n",
              "                    \n",
              "                if (document.getElementById(\"4493543b-5950-48fb-ac3b-7936bf412308\")) {\n",
              "                    Plotly.newPlot(\n",
              "                        '4493543b-5950-48fb-ac3b-7936bf412308',\n",
              "                        [{\"alignmentgroup\": \"True\", \"box\": {\"visible\": true}, \"hoverlabel\": {\"namelength\": 0}, \"hovertemplate\": \"Price=%{x}\", \"legendgroup\": \"\", \"marker\": {\"color\": \"#636efa\"}, \"name\": \"\", \"offsetgroup\": \"\", \"orientation\": \"v\", \"points\": \"all\", \"scalegroup\": \"True\", \"showlegend\": false, \"type\": \"violin\", \"x\": [6500000, 5000000, 15500000, 4200000, 6200000, 15500000, 10000000, 4000000, 6800000, 15000000, 6200000, 7700000, 5500000, 5000000, 3310000, 4700000, 4500000, 17000000, 25000000, 6000000, 11000000, 4500000, 5300000, 10500000, 12000000, 7000000, 7000000, 3400000, 5000000, 21000000, 15000000, 10500000, 22500000, 13600000, 30000000, 13500000, 8910000, 25000000, 26000000, 30000000, 12500000, 21000000, 7800000, 11500000, 11500000, 26000000, 13000000, 22000000, 15800000, 57500000, 10000000, 30000000, 22000000, 24000000, 31500000, 14600000, 240000000, 8300000, 22500000, 4600000, 1900000, 5130000, 5890000, 3700000, 17400000, 15500000, 2400000, 17200000, 14200000, 13500000, 30000000, 21000000, 20500000, 24000000, 16500000, 14900000, 19200000, 14500000, 15600000, 11400000, 31500000, 15800000, 16000000, 10500000, 14800000, 1850000, 6800000, 14200000, 8900000, 37500000, 21000000, 57500000, 30000000, 30000000, 31500000, 30000000, 41500000, 24800000, 35000000, 40000000, 46000000, 55000000, 24500000, 24500000, 32500000, 20000000, 240000000, 19000000, 26000000, 21000000, 27500000, 32500000, 45000000, 21000000, 28000000, 29500000, 14000000, 12500000, 26000000, 11500000, 14600000, 25500000, 31000000, 22000000, 13400000, 35000000, 11000000, 6300000, 12500000, 14500000, 22500000, 15500000, 26000000, 15800000, 15000000, 13000000, 15000000, 25000000, 16500000, 10300000, 26000000, 11000000, 28500000, 11000000, 4500000, 3600000, 4300000, 4000000, 1650000, 2000000, 3000000, 1400000, 2000000, 2000000, 2000000, 2600000, 5100000, 6000000, 4000000, 6200000, 3500000, 7600000, 13500000, 12500000, 6500000, 22000000, 6000000, 7300000, 7600000, 20000000, 15000000, 6200000, 6200000, 2300000, 4700000, 5500000, 2000000, 7300000, 13000000, 11500000, 2800000, 2200000, 4400000, 13500000, 4100000, 12000000, 3500000, 15000000, 17500000, 1900000, 5500000, 10000000, 4700000, 2400000, 3800000, 23000000, 24500000, 10000000, 5500000, 7000000, 6500000, 135000000, 93000000, 4370000, 4620000, 1900000, 70000000, 3000000, 3300000, 24900000, 60000000, 17400000, 51000000, 170000000, 5510000, 25000000, 57000000, 2940000, 15500000, 17200000, 55000000, 15000000, 51000000, 13000000, 30000000, 2400000, 5500000, 45000000, 60000000, 65000000, 220000000, 60000000, 38500000, 50000000, 75000000, 70000000, 160000000, 85000000, 40000000, 90000000, 56000000, 135500000, 60000000, 170000000, 50000000, 58000000, 37500000, 45000000, 70000000, 29500000, 60000000, 70000000, 50000000, 75000000, 52500000, 55000000, 120000000, 65000000, 75000000, 47500000, 70000000, 47500000, 40000000, 85000000, 26000000, 35000000, 20000000, 79000000, 17000000, 47500000, 43000000, 26000000, 25000000, 51000000, 40000000, 22500000, 70000000, 45000000, 51100000, 25500000, 26500000, 15000000, 55000000, 26000000, 38000000, 72500000, 65000000, 4600000, 9200000, 9500000, 4500000, 6500000, 5650000, 9300000, 2700000, 6500000, 5800000, 5500000, 6000000, 4500000, 4100000, 3800000, 3300000, 2900000, 2000000, 1550000, 11300000, 4500000, 3300000, 11500000, 6000000, 9000000, 4500000, 14000000, 7300000, 1900000, 7000000, 6000000, 6400000, 2700000, 6500000, 4000000, 3000000, 5000000, 6000000, 2500000, 6500000, 8000000, 2700000, 4500000, 5700000, 25000000, 70000000, 26500000, 18500000, 30000000, 22000000, 9000000, 65000000, 22500000, 8700000, 22000000, 18500000, 16000000, 16000000, 9000000, 4500000, 6000000, 2700000, 6500000, 4000000, 2600000, 3500000, 7500000, 7000000, 4500000, 5500000, 2700000, 2400000, 11500000, 3600000, 1700000, 2500000, 6600000, 3700000, 3500000, 5400000, 2550000, 12500000, 5600000, 7000000, 3500000, 35000000, 9000000, 2300000, 6000000, 6000000, 2650000, 5510000, 3200000, 2600000, 4000000, 1850000, 1700000, 2800000, 2150000, 6800000, 6200000, 3100000, 3400000, 4000000, 4800000, 2500000, 2000000, 1900000, 5800000, 2900000, 2000000, 2600000, 2900000, 3200000, 5400000, 3800000, 8200000, 8000000, 9500000, 20000000, 7400000, 37500000, 15000000, 55300000, 26500000, 16000000, 10400000, 1700000, 8000000, 27000000, 19500000, 50000000, 21100000, 5900000, 12000000, 12000000, 24000000, 7000000, 15000000, 1500000, 3950000, 12500000, 1600000, 36500000, 20000000, 15000000, 25000000, 18500000, 23500000, 8000000, 23000000, 31000000, 7400000, 15500000, 12000000, 23500000, 25000000, 7000000, 17500000, 25000000, 29000000, 21900000, 7500000, 23500000, 24000000, 31000000, 16500000, 5000000, 24000000, 17000000, 40000000, 22500000, 20000000, 7500000, 3600000, 35000000, 6000000, 17500000, 35000000, 10200000, 29000000, 41000000, 6000000, 2500000, 2200000, 21500000, 15000000, 28900000, 5500000, 1950000, 3800000, 6200000, 14000000, 7500000, 2670000, 2500000, 5000000, 29500000, 19000000, 25500000, 75000000, 75000000, 34000000, 47500000, 75000000, 23000000, 24000000, 21500000, 28500000, 12500000, 45000000, 30500000, 22500000, 28000000, 25000000, 33700000, 27000000, 43500000, 29000000, 30000000, 52100000, 32500000, 20500000, 25000000, 30000000, 51000000, 31000000, 37500000, 32500000, 37500000, 55000000, 87500000, 16300000, 65000000, 25000000, 38000000, 15000000, 2000000, 3000000, 8500000, 55000000, 22500000, 72500000, 160000000, 12500000, 17000000, 82500000, 55000000, 35000000, 42500000, 4700000, 52500000, 80000000, 11000000, 74000000, 37500000, 52500000, 26000000, 15500000, 22000000, 21000000, 5000000, 22000000, 26500000, 8770000, 4500000, 8500000, 8600000, 42500000, 13100000, 7000000, 30000000, 13000000, 23100000, 16000000, 12500000, 24500000, 3200000, 6300000, 15000000, 5700000, 21000000, 7500000, 6500000, 27500000, 12000000, 18000000, 15600000, 15500000, 15200000, 25000000, 15000000, 15800000, 31500000, 14000000, 13200000, 15800000, 16200000, 15500000, 14500000, 14900000, 17200000, 18000000, 15500000, 15800000, 12600000, 15000000, 19500000, 16600000, 17200000, 13000000, 16500000, 10700000, 16200000, 16500000, 14900000, 27500000, 62500000, 70000000, 35500000, 42100000, 42500000, 44000000, 43200000, 52500000, 34300000, 38000000, 52500000, 37500000, 37000000, 40000000, 36200000, 29000000, 42500000, 60000000, 36500000, 42500000, 71500000, 65000000, 58000000, 27500000, 70000000, 65000000, 28600000, 39000000, 32500000, 34000000, 16500000, 13800000, 21000000, 22500000, 15000000, 20000000, 20000000, 26000000, 19500000, 21500000, 26500000, 20000000, 18000000, 19000000, 36500000, 15000000, 17500000, 14000000, 21000000, 15600000, 19000000, 16500000, 19000000, 16500000, 3000000, 15000000, 14300000, 18500000, 19000000, 19000000, 15800000, 17000000, 15500000, 16000000, 12900000, 13500000, 17800000, 13200000, 14000000, 17500000, 17000000, 13000000, 17000000, 12700000, 13500000, 17400000, 17800000, 12700000, 16200000, 11100000, 13600000, 13100000, 12500000, 13600000, 12000000, 20000000, 13500000, 14000000, 10800000, 9000000, 6300000, 5500000, 2350000, 8500000, 1650000, 10000000, 1500000, 2800000, 2600000, 2350000, 2350000, 2000000, 5000000, 3500000, 4500000, 4000000, 10800000, 10000000, 9000000, 8500000, 6000000, 5500000, 7000000, 6000000, 3700000, 3100000, 4500000, 1500000, 7090000, 4500000, 5500000, 63000000, 6990000, 4400000, 12500000, 3000000, 2800000, 5000000, 6000000, 4500000, 2800000, 2500000, 8500000, 3000000, 4900000, 3500000, 3000000, 7020000, 60000000, 3500000, 7000000, 7000000, 4500000, 5990000, 4400000, 2500000, 1600000, 6500000, 2750000, 1500000, 2200000, 2800000, 4500000, 1800000, 8500000, 8500000, 1700000, 7000000, 5600000, 13500000, 8500000, 6000000, 7200000, 6500000, 8400000, 8500000, 4000000, 1700000, 6000000, 1600000, 2100000, 1700000, 1500000, 1200000, 1650000, 3500000, 8500000, 3200000, 4400000, 7200000, 7500000, 6500000, 3500000, 6500000, 6200000, 2500000, 3000000, 6000000, 4800000, 3790000, 4200000, 2900000, 5000000, 2100000, 3200000, 3000000, 2300000, 5900000, 5500000, 3500000, 1700000, 1850000, 2300000, 3800000, 4500000, 2200000, 5200000, 2200000, 1500000, 2200000, 3800000, 1800000, 2850000, 2500000, 3500000, 2000000, 3000000, 2000000, 3500000, 1800000, 1600000, 1600000, 2000000, 1500000, 3000000, 1490000, 3500000, 4000000, 1750000, 4600000, 1800000, 1900000, 1000000, 1000000, 1000000, 3500000, 5000000, 2200000, 13000000, 34000000, 60000000, 74500000, 75000000, 62500000, 67000000, 8500000, 11500000, 52500000, 12000000, 10700000, 9000000, 100000000, 6200000, 17000000, 12500000, 13000000, 4200000, 36000000, 2300000, 8100000, 10000000, 62500000, 65000000, 20000000, 57500000, 30000000, 30000000, 30000000, 3300000, 7350000, 12500000, 3500000, 6500000, 6900000, 3600000, 13500000, 9200000, 2500000, 17000000, 9030000, 9300000, 6500000, 3300000, 2400000, 15000000, 7000000, 4200000, 5800000, 4800000, 7500000, 3000000, 4300000, 2600000, 7000000, 6000000, 6700000, 9500000, 17000000, 8000000, 12000000, 9000000, 11500000, 20000000, 8550000, 10500000, 12000000, 11000000, 12000000, 9000000, 10000000, 8100000, 9200000, 14200000, 7500000, 9500000, 14000000, 11600000, 12000000, 7500000, 9800000, 12000000, 12500000, 16500000, 12000000, 7200000, 15000000, 10000000, 11000000, 24700000, 24900000, 3600000, 1700000, 11000000, 75000000, 24800000, 24900000, 24900000, 25900000, 11700000, 13500000, 5500000, 30000000, 4950000, 16000000, 30000000, 41000000, 3800000, 68900000, 1800000, 1500000, 12500000, 1600000, 2400000, 7000000, 3100000, 14500000, 61500000, 27500000, 25500000, 25000000, 18500000, 39700000, 6800000, 6540000, 22000000, 17000000, 27500000, 73700000, 52300000, 16000000, 15000000, 10000000, 5000000, 20000000, 16000000, 5500000, 7000000, 4100000, 24000000, 12500000, 3900000, 14500000, 20000000, 24500000, 20900000, 43100000, 18000000, 50000000, 18500000, 46500000, 17500000, 42500000, 15500000, 15000000, 40000000, 20000000, 6700000, 16000000, 8000000, 25000000, 25000000, 37500000, 25000000, 23000000, 17500000, 44000000, 15000000, 42500000, 5000000, 38000000, 19000000, 43500000, 19500000, 14200000, 14200000, 13500000, 21000000, 22500000, 19000000, 7500000, 4000000, 8000000, 19000000, 7000000, 5800000, 8000000, 18800000, 6000000, 2200000, 6500000, 23500000, 16000000, 20000000, 5500000, 13500000, 22500000, 3800000, 4600000, 17500000, 5500000, 22500000, 12500000, 19000000, 15500000, 13500000, 21000000, 50000000, 42500000, 45500000, 23000000, 12000000, 35000000, 25000000, 29000000, 80000000, 20500000, 52500000, 37500000, 7500000, 32500000, 24500000, 65000000, 27500000, 115000000, 28000000, 8000000, 75100000, 7800000, 15000000, 27500000, 25000000, 26000000, 23500000, 4200000, 10000000, 18500000, 3300000, 3800000, 7000000, 16500000, 8000000, 5600000, 21000000, 21000000, 8600000, 6600000, 14000000, 4700000, 30000000, 26000000, 18500000, 6500000, 15000000, 8000000, 16100000, 6800000, 6800000, 9000000, 18000000, 27500000, 13500000, 14000000, 9000000, 16000000, 11000000, 5500000, 47500000, 45000000, 43500000, 180000000, 80000000, 37500000, 60000000, 71000000, 18500000, 70000000, 85000000, 190000000, 135000000, 35000000, 65000000, 27500000, 45000000, 100000000, 47000000, 27500000, 70000000, 36500000, 65000000, 35000000, 56000000, 110000000, 24000000, 102500000, 100000000, 45000000, 29000000, 25500000, 33500000, 62500000, 47500000, 14700000, 18000000, 22500000, 22000000, 22200000, 22500000, 7500000, 30000000, 6500000, 35000000, 17500000, 60000000, 40000000, 11500000, 22500000, 28500000, 29000000, 15500000, 26000000, 16500000, 55000000, 12500000, 17500000, 11500000, 18500000], \"x0\": \" \", \"xaxis\": \"x\", \"y0\": \" \", \"yaxis\": \"y\"}],\n",
              "                        {\"legend\": {\"tracegroupgap\": 0}, \"margin\": {\"t\": 60}, \"template\": {\"data\": {\"bar\": [{\"error_x\": {\"color\": \"#2a3f5f\"}, \"error_y\": {\"color\": \"#2a3f5f\"}, \"marker\": {\"line\": {\"color\": \"#E5ECF6\", \"width\": 0.5}}, \"type\": \"bar\"}], \"barpolar\": [{\"marker\": {\"line\": {\"color\": \"#E5ECF6\", \"width\": 0.5}}, \"type\": \"barpolar\"}], \"carpet\": [{\"aaxis\": {\"endlinecolor\": \"#2a3f5f\", \"gridcolor\": \"white\", \"linecolor\": \"white\", \"minorgridcolor\": \"white\", \"startlinecolor\": \"#2a3f5f\"}, \"baxis\": {\"endlinecolor\": \"#2a3f5f\", \"gridcolor\": \"white\", \"linecolor\": \"white\", \"minorgridcolor\": \"white\", \"startlinecolor\": \"#2a3f5f\"}, \"type\": \"carpet\"}], \"choropleth\": [{\"colorbar\": {\"outlinewidth\": 0, \"ticks\": \"\"}, \"type\": \"choropleth\"}], \"contour\": [{\"colorbar\": {\"outlinewidth\": 0, \"ticks\": \"\"}, \"colorscale\": [[0.0, \"#0d0887\"], [0.1111111111111111, \"#46039f\"], [0.2222222222222222, \"#7201a8\"], [0.3333333333333333, \"#9c179e\"], [0.4444444444444444, \"#bd3786\"], [0.5555555555555556, \"#d8576b\"], [0.6666666666666666, \"#ed7953\"], [0.7777777777777778, \"#fb9f3a\"], [0.8888888888888888, \"#fdca26\"], [1.0, \"#f0f921\"]], \"type\": \"contour\"}], \"contourcarpet\": [{\"colorbar\": {\"outlinewidth\": 0, \"ticks\": \"\"}, \"type\": \"contourcarpet\"}], \"heatmap\": [{\"colorbar\": {\"outlinewidth\": 0, \"ticks\": \"\"}, \"colorscale\": [[0.0, \"#0d0887\"], [0.1111111111111111, \"#46039f\"], [0.2222222222222222, \"#7201a8\"], [0.3333333333333333, \"#9c179e\"], [0.4444444444444444, \"#bd3786\"], [0.5555555555555556, \"#d8576b\"], [0.6666666666666666, \"#ed7953\"], [0.7777777777777778, \"#fb9f3a\"], [0.8888888888888888, \"#fdca26\"], [1.0, \"#f0f921\"]], \"type\": \"heatmap\"}], \"heatmapgl\": [{\"colorbar\": {\"outlinewidth\": 0, \"ticks\": \"\"}, \"colorscale\": [[0.0, \"#0d0887\"], [0.1111111111111111, \"#46039f\"], [0.2222222222222222, \"#7201a8\"], [0.3333333333333333, \"#9c179e\"], [0.4444444444444444, \"#bd3786\"], [0.5555555555555556, \"#d8576b\"], [0.6666666666666666, \"#ed7953\"], [0.7777777777777778, \"#fb9f3a\"], [0.8888888888888888, \"#fdca26\"], [1.0, \"#f0f921\"]], \"type\": \"heatmapgl\"}], \"histogram\": [{\"marker\": {\"colorbar\": {\"outlinewidth\": 0, \"ticks\": \"\"}}, \"type\": \"histogram\"}], \"histogram2d\": [{\"colorbar\": {\"outlinewidth\": 0, \"ticks\": \"\"}, \"colorscale\": [[0.0, \"#0d0887\"], [0.1111111111111111, \"#46039f\"], [0.2222222222222222, \"#7201a8\"], [0.3333333333333333, \"#9c179e\"], [0.4444444444444444, \"#bd3786\"], [0.5555555555555556, \"#d8576b\"], [0.6666666666666666, \"#ed7953\"], [0.7777777777777778, \"#fb9f3a\"], [0.8888888888888888, \"#fdca26\"], [1.0, \"#f0f921\"]], \"type\": \"histogram2d\"}], \"histogram2dcontour\": [{\"colorbar\": {\"outlinewidth\": 0, \"ticks\": \"\"}, \"colorscale\": [[0.0, \"#0d0887\"], [0.1111111111111111, \"#46039f\"], [0.2222222222222222, \"#7201a8\"], [0.3333333333333333, \"#9c179e\"], [0.4444444444444444, \"#bd3786\"], [0.5555555555555556, \"#d8576b\"], [0.6666666666666666, \"#ed7953\"], [0.7777777777777778, \"#fb9f3a\"], [0.8888888888888888, \"#fdca26\"], [1.0, \"#f0f921\"]], \"type\": \"histogram2dcontour\"}], \"mesh3d\": [{\"colorbar\": {\"outlinewidth\": 0, \"ticks\": \"\"}, \"type\": \"mesh3d\"}], \"parcoords\": [{\"line\": {\"colorbar\": {\"outlinewidth\": 0, \"ticks\": \"\"}}, \"type\": \"parcoords\"}], \"pie\": [{\"automargin\": true, \"type\": \"pie\"}], \"scatter\": [{\"marker\": {\"colorbar\": {\"outlinewidth\": 0, \"ticks\": \"\"}}, \"type\": \"scatter\"}], \"scatter3d\": [{\"line\": {\"colorbar\": {\"outlinewidth\": 0, \"ticks\": \"\"}}, \"marker\": {\"colorbar\": {\"outlinewidth\": 0, \"ticks\": \"\"}}, \"type\": \"scatter3d\"}], \"scattercarpet\": [{\"marker\": {\"colorbar\": {\"outlinewidth\": 0, \"ticks\": \"\"}}, \"type\": \"scattercarpet\"}], \"scattergeo\": [{\"marker\": {\"colorbar\": {\"outlinewidth\": 0, \"ticks\": \"\"}}, \"type\": \"scattergeo\"}], \"scattergl\": [{\"marker\": {\"colorbar\": {\"outlinewidth\": 0, \"ticks\": \"\"}}, \"type\": \"scattergl\"}], \"scattermapbox\": [{\"marker\": {\"colorbar\": {\"outlinewidth\": 0, \"ticks\": \"\"}}, \"type\": \"scattermapbox\"}], \"scatterpolar\": [{\"marker\": {\"colorbar\": {\"outlinewidth\": 0, \"ticks\": \"\"}}, \"type\": \"scatterpolar\"}], \"scatterpolargl\": [{\"marker\": {\"colorbar\": {\"outlinewidth\": 0, \"ticks\": \"\"}}, \"type\": \"scatterpolargl\"}], \"scatterternary\": [{\"marker\": {\"colorbar\": {\"outlinewidth\": 0, \"ticks\": \"\"}}, \"type\": \"scatterternary\"}], \"surface\": [{\"colorbar\": {\"outlinewidth\": 0, \"ticks\": \"\"}, \"colorscale\": [[0.0, \"#0d0887\"], [0.1111111111111111, \"#46039f\"], [0.2222222222222222, \"#7201a8\"], [0.3333333333333333, \"#9c179e\"], [0.4444444444444444, \"#bd3786\"], [0.5555555555555556, \"#d8576b\"], [0.6666666666666666, \"#ed7953\"], [0.7777777777777778, \"#fb9f3a\"], [0.8888888888888888, \"#fdca26\"], [1.0, \"#f0f921\"]], \"type\": \"surface\"}], \"table\": [{\"cells\": {\"fill\": {\"color\": \"#EBF0F8\"}, \"line\": {\"color\": \"white\"}}, \"header\": {\"fill\": {\"color\": \"#C8D4E3\"}, \"line\": {\"color\": \"white\"}}, \"type\": \"table\"}]}, \"layout\": {\"annotationdefaults\": {\"arrowcolor\": \"#2a3f5f\", \"arrowhead\": 0, \"arrowwidth\": 1}, \"coloraxis\": {\"colorbar\": {\"outlinewidth\": 0, \"ticks\": \"\"}}, \"colorscale\": {\"diverging\": [[0, \"#8e0152\"], [0.1, \"#c51b7d\"], [0.2, \"#de77ae\"], [0.3, \"#f1b6da\"], [0.4, \"#fde0ef\"], [0.5, \"#f7f7f7\"], [0.6, \"#e6f5d0\"], [0.7, \"#b8e186\"], [0.8, \"#7fbc41\"], [0.9, \"#4d9221\"], [1, \"#276419\"]], \"sequential\": [[0.0, \"#0d0887\"], [0.1111111111111111, \"#46039f\"], [0.2222222222222222, \"#7201a8\"], [0.3333333333333333, \"#9c179e\"], [0.4444444444444444, \"#bd3786\"], [0.5555555555555556, \"#d8576b\"], [0.6666666666666666, \"#ed7953\"], [0.7777777777777778, \"#fb9f3a\"], [0.8888888888888888, \"#fdca26\"], [1.0, \"#f0f921\"]], \"sequentialminus\": [[0.0, \"#0d0887\"], [0.1111111111111111, \"#46039f\"], [0.2222222222222222, \"#7201a8\"], [0.3333333333333333, \"#9c179e\"], [0.4444444444444444, \"#bd3786\"], [0.5555555555555556, \"#d8576b\"], [0.6666666666666666, \"#ed7953\"], [0.7777777777777778, \"#fb9f3a\"], [0.8888888888888888, \"#fdca26\"], [1.0, \"#f0f921\"]]}, \"colorway\": [\"#636efa\", \"#EF553B\", \"#00cc96\", \"#ab63fa\", \"#FFA15A\", \"#19d3f3\", \"#FF6692\", \"#B6E880\", \"#FF97FF\", \"#FECB52\"], \"font\": {\"color\": \"#2a3f5f\"}, \"geo\": {\"bgcolor\": \"white\", \"lakecolor\": \"white\", \"landcolor\": \"#E5ECF6\", \"showlakes\": true, \"showland\": true, \"subunitcolor\": \"white\"}, \"hoverlabel\": {\"align\": \"left\"}, \"hovermode\": \"closest\", \"mapbox\": {\"style\": \"light\"}, \"paper_bgcolor\": \"white\", \"plot_bgcolor\": \"#E5ECF6\", \"polar\": {\"angularaxis\": {\"gridcolor\": \"white\", \"linecolor\": \"white\", \"ticks\": \"\"}, \"bgcolor\": \"#E5ECF6\", \"radialaxis\": {\"gridcolor\": \"white\", \"linecolor\": \"white\", \"ticks\": \"\"}}, \"scene\": {\"xaxis\": {\"backgroundcolor\": \"#E5ECF6\", \"gridcolor\": \"white\", \"gridwidth\": 2, \"linecolor\": \"white\", \"showbackground\": true, \"ticks\": \"\", \"zerolinecolor\": \"white\"}, \"yaxis\": {\"backgroundcolor\": \"#E5ECF6\", \"gridcolor\": \"white\", \"gridwidth\": 2, \"linecolor\": \"white\", \"showbackground\": true, \"ticks\": \"\", \"zerolinecolor\": \"white\"}, \"zaxis\": {\"backgroundcolor\": \"#E5ECF6\", \"gridcolor\": \"white\", \"gridwidth\": 2, \"linecolor\": \"white\", \"showbackground\": true, \"ticks\": \"\", \"zerolinecolor\": \"white\"}}, \"shapedefaults\": {\"line\": {\"color\": \"#2a3f5f\"}}, \"ternary\": {\"aaxis\": {\"gridcolor\": \"white\", \"linecolor\": \"white\", \"ticks\": \"\"}, \"baxis\": {\"gridcolor\": \"white\", \"linecolor\": \"white\", \"ticks\": \"\"}, \"bgcolor\": \"#E5ECF6\", \"caxis\": {\"gridcolor\": \"white\", \"linecolor\": \"white\", \"ticks\": \"\"}}, \"title\": {\"x\": 0.05}, \"xaxis\": {\"automargin\": true, \"gridcolor\": \"white\", \"linecolor\": \"white\", \"ticks\": \"\", \"title\": {\"standoff\": 15}, \"zerolinecolor\": \"white\", \"zerolinewidth\": 2}, \"yaxis\": {\"automargin\": true, \"gridcolor\": \"white\", \"linecolor\": \"white\", \"ticks\": \"\", \"title\": {\"standoff\": 15}, \"zerolinecolor\": \"white\", \"zerolinewidth\": 2}}}, \"violinmode\": \"group\", \"xaxis\": {\"anchor\": \"y\", \"domain\": [0.0, 1.0], \"title\": {\"text\": \"Price\"}}, \"yaxis\": {\"anchor\": \"x\", \"domain\": [0.0, 1.0]}},\n",
              "                        {\"responsive\": true}\n",
              "                    ).then(function(){\n",
              "                            \n",
              "var gd = document.getElementById('4493543b-5950-48fb-ac3b-7936bf412308');\n",
              "var x = new MutationObserver(function (mutations, observer) {{\n",
              "        var display = window.getComputedStyle(gd).display;\n",
              "        if (!display || display === 'none') {{\n",
              "            console.log([gd, 'removed!']);\n",
              "            Plotly.purge(gd);\n",
              "            observer.disconnect();\n",
              "        }}\n",
              "}});\n",
              "\n",
              "// Listen for the removal of the full notebook cells\n",
              "var notebookContainer = gd.closest('#notebook-container');\n",
              "if (notebookContainer) {{\n",
              "    x.observe(notebookContainer, {childList: true});\n",
              "}}\n",
              "\n",
              "// Listen for the clearing of the current output cell\n",
              "var outputEl = gd.closest('.output');\n",
              "if (outputEl) {{\n",
              "    x.observe(outputEl, {childList: true});\n",
              "}}\n",
              "\n",
              "                        })\n",
              "                };\n",
              "                \n",
              "            </script>\n",
              "        </div>\n",
              "</body>\n",
              "</html>"
            ]
          },
          "metadata": {
            "tags": []
          }
        }
      ]
    },
    {
      "cell_type": "code",
      "metadata": {
        "id": "585-RezOjfR7"
      },
      "source": [
        ""
      ],
      "execution_count": null,
      "outputs": []
    },
    {
      "cell_type": "markdown",
      "metadata": {
        "id": "93mCZXYijnZu"
      },
      "source": [
        "REMOVE OUTLINERS\n"
      ]
    },
    {
      "cell_type": "code",
      "metadata": {
        "colab": {
          "base_uri": "https://localhost:8080/"
        },
        "id": "ViPw2iCujqGb",
        "outputId": "19790d1b-a347-4fcb-ed0d-8cb90d5cc670"
      },
      "source": [
        "zscore = np.abs(stats.zscore(df1))\n",
        "print(zscore)"
      ],
      "execution_count": 36,
      "outputs": [
        {
          "output_type": "stream",
          "text": [
            "[[4.35184660e-01 2.19219994e-01 5.25200889e-01 ... 1.29986737e+00\n",
            "  9.05315219e-01 3.31642331e-03]\n",
            " [4.68738929e-01 8.23411686e-01 5.25200889e-01 ... 1.29986737e+00\n",
            "  1.10458764e+00 4.65746724e-01]\n",
            " [3.34521853e-01 8.23411686e-01 5.25200889e-01 ... 7.69309258e-01\n",
            "  1.10458764e+00 4.65746724e-01]\n",
            " ...\n",
            " [3.84853257e-01 2.19219994e-01 4.23078494e-01 ... 1.29986737e+00\n",
            "  9.05315219e-01 1.45410398e-01]\n",
            " [3.07678438e-01 8.23411686e-01 5.25200889e-01 ... 7.69309258e-01\n",
            "  9.05315219e-01 1.45410398e-01]\n",
            " [6.44344047e+00 2.19219994e-01 4.23078494e-01 ... 1.29986737e+00\n",
            "  9.05315219e-01 1.45410398e-01]]\n"
          ],
          "name": "stdout"
        }
      ]
    },
    {
      "cell_type": "code",
      "metadata": {
        "colab": {
          "base_uri": "https://localhost:8080/"
        },
        "id": "qZYbpYsSjrEw",
        "outputId": "050e927d-f459-41f5-a81b-4a12db5e9a85"
      },
      "source": [
        "print(np.where(zscore > 5))\n"
      ],
      "execution_count": 37,
      "outputs": [
        {
          "output_type": "stream",
          "text": [
            "(array([  56,  101,  102,  103,  104,  106,  213,  222,  228,  229,  230,\n",
            "        230,  231,  232,  233,  234,  235,  236,  236,  243,  412,  512,\n",
            "        530,  571,  665,  818,  819,  820,  821,  822,  823,  824,  912,\n",
            "        913,  914,  978,  979, 1074, 1113, 1120, 1121, 1121, 1122, 1123,\n",
            "       1169]), array([ 6, 10, 10, 10, 10,  6,  6,  0, 10, 10,  6, 10, 10, 10, 10, 10, 10,\n",
            "        0,  6,  6, 10,  0,  6,  0,  1,  5,  5,  5,  5,  5,  5,  5,  5,  5,\n",
            "        5, 10, 10,  0,  6, 10,  6, 10, 10, 10,  0]))\n"
          ],
          "name": "stdout"
        }
      ]
    },
    {
      "cell_type": "code",
      "metadata": {
        "id": "deJ3IYhUjuLO"
      },
      "source": [
        "df1 = df1[(zscore<5).all(axis=1)]\n"
      ],
      "execution_count": 38,
      "outputs": []
    },
    {
      "cell_type": "code",
      "metadata": {
        "colab": {
          "base_uri": "https://localhost:8080/"
        },
        "id": "LNlVvO-Xjxg5",
        "outputId": "b0ed192a-fe98-403d-c704-dee58977a705"
      },
      "source": [
        "df1.shape\n"
      ],
      "execution_count": 39,
      "outputs": [
        {
          "output_type": "execute_result",
          "data": {
            "text/plain": [
              "(1128, 11)"
            ]
          },
          "metadata": {
            "tags": []
          },
          "execution_count": 39
        }
      ]
    },
    {
      "cell_type": "code",
      "metadata": {
        "colab": {
          "base_uri": "https://localhost:8080/",
          "height": 394
        },
        "id": "srqdE8yejzM9",
        "outputId": "eef34eb4-e78f-4f63-f7af-54f2c961cdd2"
      },
      "source": [
        "df1.corr()\n"
      ],
      "execution_count": 40,
      "outputs": [
        {
          "output_type": "execute_result",
          "data": {
            "text/html": [
              "<div>\n",
              "<style scoped>\n",
              "    .dataframe tbody tr th:only-of-type {\n",
              "        vertical-align: middle;\n",
              "    }\n",
              "\n",
              "    .dataframe tbody tr th {\n",
              "        vertical-align: top;\n",
              "    }\n",
              "\n",
              "    .dataframe thead th {\n",
              "        text-align: right;\n",
              "    }\n",
              "</style>\n",
              "<table border=\"1\" class=\"dataframe\">\n",
              "  <thead>\n",
              "    <tr style=\"text-align: right;\">\n",
              "      <th></th>\n",
              "      <th>Area</th>\n",
              "      <th>BHK</th>\n",
              "      <th>Bathroom</th>\n",
              "      <th>Furnishing</th>\n",
              "      <th>Locality</th>\n",
              "      <th>Parking</th>\n",
              "      <th>Price</th>\n",
              "      <th>Status</th>\n",
              "      <th>Transaction</th>\n",
              "      <th>Type</th>\n",
              "      <th>Per_Sqft</th>\n",
              "    </tr>\n",
              "  </thead>\n",
              "  <tbody>\n",
              "    <tr>\n",
              "      <th>Area</th>\n",
              "      <td>1.000000</td>\n",
              "      <td>0.695319</td>\n",
              "      <td>0.754539</td>\n",
              "      <td>-0.018958</td>\n",
              "      <td>0.018804</td>\n",
              "      <td>0.323812</td>\n",
              "      <td>0.817114</td>\n",
              "      <td>-0.096958</td>\n",
              "      <td>-0.091907</td>\n",
              "      <td>0.060262</td>\n",
              "      <td>0.176249</td>\n",
              "    </tr>\n",
              "    <tr>\n",
              "      <th>BHK</th>\n",
              "      <td>0.695319</td>\n",
              "      <td>1.000000</td>\n",
              "      <td>0.774045</td>\n",
              "      <td>-0.123415</td>\n",
              "      <td>0.059766</td>\n",
              "      <td>0.240593</td>\n",
              "      <td>0.616201</td>\n",
              "      <td>-0.084427</td>\n",
              "      <td>-0.114984</td>\n",
              "      <td>0.099607</td>\n",
              "      <td>0.179856</td>\n",
              "    </tr>\n",
              "    <tr>\n",
              "      <th>Bathroom</th>\n",
              "      <td>0.754539</td>\n",
              "      <td>0.774045</td>\n",
              "      <td>1.000000</td>\n",
              "      <td>-0.023353</td>\n",
              "      <td>0.018043</td>\n",
              "      <td>0.332397</td>\n",
              "      <td>0.756453</td>\n",
              "      <td>-0.107261</td>\n",
              "      <td>-0.170953</td>\n",
              "      <td>0.127548</td>\n",
              "      <td>0.196363</td>\n",
              "    </tr>\n",
              "    <tr>\n",
              "      <th>Furnishing</th>\n",
              "      <td>-0.018958</td>\n",
              "      <td>-0.123415</td>\n",
              "      <td>-0.023353</td>\n",
              "      <td>1.000000</td>\n",
              "      <td>-0.012785</td>\n",
              "      <td>-0.002961</td>\n",
              "      <td>0.006107</td>\n",
              "      <td>-0.053721</td>\n",
              "      <td>-0.047520</td>\n",
              "      <td>0.030612</td>\n",
              "      <td>-0.058355</td>\n",
              "    </tr>\n",
              "    <tr>\n",
              "      <th>Locality</th>\n",
              "      <td>0.018804</td>\n",
              "      <td>0.059766</td>\n",
              "      <td>0.018043</td>\n",
              "      <td>-0.012785</td>\n",
              "      <td>1.000000</td>\n",
              "      <td>-0.061884</td>\n",
              "      <td>0.041185</td>\n",
              "      <td>-0.064355</td>\n",
              "      <td>-0.040134</td>\n",
              "      <td>0.079978</td>\n",
              "      <td>0.010562</td>\n",
              "    </tr>\n",
              "    <tr>\n",
              "      <th>Parking</th>\n",
              "      <td>0.323812</td>\n",
              "      <td>0.240593</td>\n",
              "      <td>0.332397</td>\n",
              "      <td>-0.002961</td>\n",
              "      <td>-0.061884</td>\n",
              "      <td>1.000000</td>\n",
              "      <td>0.345736</td>\n",
              "      <td>-0.021157</td>\n",
              "      <td>-0.047261</td>\n",
              "      <td>0.041750</td>\n",
              "      <td>0.153546</td>\n",
              "    </tr>\n",
              "    <tr>\n",
              "      <th>Price</th>\n",
              "      <td>0.817114</td>\n",
              "      <td>0.616201</td>\n",
              "      <td>0.756453</td>\n",
              "      <td>0.006107</td>\n",
              "      <td>0.041185</td>\n",
              "      <td>0.345736</td>\n",
              "      <td>1.000000</td>\n",
              "      <td>-0.146423</td>\n",
              "      <td>-0.188280</td>\n",
              "      <td>0.115434</td>\n",
              "      <td>0.292279</td>\n",
              "    </tr>\n",
              "    <tr>\n",
              "      <th>Status</th>\n",
              "      <td>-0.096958</td>\n",
              "      <td>-0.084427</td>\n",
              "      <td>-0.107261</td>\n",
              "      <td>-0.053721</td>\n",
              "      <td>-0.064355</td>\n",
              "      <td>-0.021157</td>\n",
              "      <td>-0.146423</td>\n",
              "      <td>1.000000</td>\n",
              "      <td>0.242432</td>\n",
              "      <td>0.027444</td>\n",
              "      <td>-0.047851</td>\n",
              "    </tr>\n",
              "    <tr>\n",
              "      <th>Transaction</th>\n",
              "      <td>-0.091907</td>\n",
              "      <td>-0.114984</td>\n",
              "      <td>-0.170953</td>\n",
              "      <td>-0.047520</td>\n",
              "      <td>-0.040134</td>\n",
              "      <td>-0.047261</td>\n",
              "      <td>-0.188280</td>\n",
              "      <td>0.242432</td>\n",
              "      <td>1.000000</td>\n",
              "      <td>-0.249341</td>\n",
              "      <td>-0.001950</td>\n",
              "    </tr>\n",
              "    <tr>\n",
              "      <th>Type</th>\n",
              "      <td>0.060262</td>\n",
              "      <td>0.099607</td>\n",
              "      <td>0.127548</td>\n",
              "      <td>0.030612</td>\n",
              "      <td>0.079978</td>\n",
              "      <td>0.041750</td>\n",
              "      <td>0.115434</td>\n",
              "      <td>0.027444</td>\n",
              "      <td>-0.249341</td>\n",
              "      <td>1.000000</td>\n",
              "      <td>0.061524</td>\n",
              "    </tr>\n",
              "    <tr>\n",
              "      <th>Per_Sqft</th>\n",
              "      <td>0.176249</td>\n",
              "      <td>0.179856</td>\n",
              "      <td>0.196363</td>\n",
              "      <td>-0.058355</td>\n",
              "      <td>0.010562</td>\n",
              "      <td>0.153546</td>\n",
              "      <td>0.292279</td>\n",
              "      <td>-0.047851</td>\n",
              "      <td>-0.001950</td>\n",
              "      <td>0.061524</td>\n",
              "      <td>1.000000</td>\n",
              "    </tr>\n",
              "  </tbody>\n",
              "</table>\n",
              "</div>"
            ],
            "text/plain": [
              "                 Area       BHK  Bathroom  ...  Transaction      Type  Per_Sqft\n",
              "Area         1.000000  0.695319  0.754539  ...    -0.091907  0.060262  0.176249\n",
              "BHK          0.695319  1.000000  0.774045  ...    -0.114984  0.099607  0.179856\n",
              "Bathroom     0.754539  0.774045  1.000000  ...    -0.170953  0.127548  0.196363\n",
              "Furnishing  -0.018958 -0.123415 -0.023353  ...    -0.047520  0.030612 -0.058355\n",
              "Locality     0.018804  0.059766  0.018043  ...    -0.040134  0.079978  0.010562\n",
              "Parking      0.323812  0.240593  0.332397  ...    -0.047261  0.041750  0.153546\n",
              "Price        0.817114  0.616201  0.756453  ...    -0.188280  0.115434  0.292279\n",
              "Status      -0.096958 -0.084427 -0.107261  ...     0.242432  0.027444 -0.047851\n",
              "Transaction -0.091907 -0.114984 -0.170953  ...     1.000000 -0.249341 -0.001950\n",
              "Type         0.060262  0.099607  0.127548  ...    -0.249341  1.000000  0.061524\n",
              "Per_Sqft     0.176249  0.179856  0.196363  ...    -0.001950  0.061524  1.000000\n",
              "\n",
              "[11 rows x 11 columns]"
            ]
          },
          "metadata": {
            "tags": []
          },
          "execution_count": 40
        }
      ]
    },
    {
      "cell_type": "code",
      "metadata": {
        "colab": {
          "base_uri": "https://localhost:8080/",
          "height": 542
        },
        "id": "SnwbpxLCj1qO",
        "outputId": "f7176315-b040-4e9c-d6b3-98e673ee5dde"
      },
      "source": [
        "px.imshow(df1.corr())\n"
      ],
      "execution_count": 41,
      "outputs": [
        {
          "output_type": "display_data",
          "data": {
            "text/html": [
              "<html>\n",
              "<head><meta charset=\"utf-8\" /></head>\n",
              "<body>\n",
              "    <div>\n",
              "            <script src=\"https://cdnjs.cloudflare.com/ajax/libs/mathjax/2.7.5/MathJax.js?config=TeX-AMS-MML_SVG\"></script><script type=\"text/javascript\">if (window.MathJax) {MathJax.Hub.Config({SVG: {font: \"STIX-Web\"}});}</script>\n",
              "                <script type=\"text/javascript\">window.PlotlyConfig = {MathJaxConfig: 'local'};</script>\n",
              "        <script src=\"https://cdn.plot.ly/plotly-latest.min.js\"></script>    \n",
              "            <div id=\"a20838df-cd76-43ea-bab7-1b850b7f3eb6\" class=\"plotly-graph-div\" style=\"height:525px; width:100%;\"></div>\n",
              "            <script type=\"text/javascript\">\n",
              "                \n",
              "                    window.PLOTLYENV=window.PLOTLYENV || {};\n",
              "                    \n",
              "                if (document.getElementById(\"a20838df-cd76-43ea-bab7-1b850b7f3eb6\")) {\n",
              "                    Plotly.newPlot(\n",
              "                        'a20838df-cd76-43ea-bab7-1b850b7f3eb6',\n",
              "                        [{\"coloraxis\": \"coloraxis\", \"type\": \"heatmap\", \"z\": [[1.0, 0.6953186220233789, 0.7545385071747991, -0.01895800490675515, 0.01880394626075354, 0.3238118190631652, 0.8171138870772985, -0.09695820902557883, -0.09190662923970938, 0.06026157196806753, 0.17624915627016383], [0.6953186220233789, 1.0, 0.7740447975786988, -0.1234150966785386, 0.05976625168717537, 0.2405927553058732, 0.616201039990914, -0.08442726873899449, -0.11498442563657299, 0.0996069288525716, 0.1798558702049277], [0.7545385071747991, 0.7740447975786988, 1.0, -0.023352871670218062, 0.018043174870779097, 0.33239724635201207, 0.7564532392191877, -0.10726118100039156, -0.17095315191691715, 0.12754801793128825, 0.19636330249668724], [-0.01895800490675515, -0.1234150966785386, -0.023352871670218062, 1.0, -0.012784881649051076, -0.0029614572533562793, 0.0061069591958651335, -0.05372061347041216, -0.04751982804065108, 0.030611992672208543, -0.05835529816984454], [0.01880394626075354, 0.05976625168717537, 0.018043174870779097, -0.012784881649051076, 1.0, -0.06188371598492925, 0.041185172022880405, -0.06435470168347943, -0.04013356622456492, 0.07997794434458697, 0.010561974419204591], [0.3238118190631652, 0.2405927553058732, 0.33239724635201207, -0.0029614572533562793, -0.06188371598492925, 1.0, 0.3457361680511377, -0.021156709292015276, -0.04726132373270565, 0.04175011932936688, 0.15354646058440655], [0.8171138870772985, 0.616201039990914, 0.7564532392191877, 0.0061069591958651335, 0.041185172022880405, 0.3457361680511377, 1.0, -0.14642303698789708, -0.18827967774095172, 0.11543406175118025, 0.2922789852356759], [-0.09695820902557883, -0.08442726873899449, -0.10726118100039156, -0.05372061347041216, -0.06435470168347943, -0.021156709292015276, -0.14642303698789708, 1.0, 0.24243208660916188, 0.027443778540231546, -0.04785133347333314], [-0.09190662923970938, -0.11498442563657299, -0.17095315191691715, -0.04751982804065108, -0.04013356622456492, -0.04726132373270565, -0.18827967774095172, 0.24243208660916188, 1.0, -0.24934090221182442, -0.0019501174359284248], [0.06026157196806753, 0.0996069288525716, 0.12754801793128825, 0.030611992672208543, 0.07997794434458697, 0.04175011932936688, 0.11543406175118025, 0.027443778540231546, -0.24934090221182442, 1.0, 0.0615240853187847], [0.17624915627016383, 0.1798558702049277, 0.19636330249668724, -0.05835529816984454, 0.010561974419204591, 0.15354646058440655, 0.2922789852356759, -0.04785133347333314, -0.0019501174359284248, 0.0615240853187847, 1.0]]}],\n",
              "                        {\"coloraxis\": {\"colorscale\": [[0.0, \"#0d0887\"], [0.1111111111111111, \"#46039f\"], [0.2222222222222222, \"#7201a8\"], [0.3333333333333333, \"#9c179e\"], [0.4444444444444444, \"#bd3786\"], [0.5555555555555556, \"#d8576b\"], [0.6666666666666666, \"#ed7953\"], [0.7777777777777778, \"#fb9f3a\"], [0.8888888888888888, \"#fdca26\"], [1.0, \"#f0f921\"]]}, \"margin\": {\"t\": 60}, \"template\": {\"data\": {\"bar\": [{\"error_x\": {\"color\": \"#2a3f5f\"}, \"error_y\": {\"color\": \"#2a3f5f\"}, \"marker\": {\"line\": {\"color\": \"#E5ECF6\", \"width\": 0.5}}, \"type\": \"bar\"}], \"barpolar\": [{\"marker\": {\"line\": {\"color\": \"#E5ECF6\", \"width\": 0.5}}, \"type\": \"barpolar\"}], \"carpet\": [{\"aaxis\": {\"endlinecolor\": \"#2a3f5f\", \"gridcolor\": \"white\", \"linecolor\": \"white\", \"minorgridcolor\": \"white\", \"startlinecolor\": \"#2a3f5f\"}, \"baxis\": {\"endlinecolor\": \"#2a3f5f\", \"gridcolor\": \"white\", \"linecolor\": \"white\", \"minorgridcolor\": \"white\", \"startlinecolor\": \"#2a3f5f\"}, \"type\": \"carpet\"}], \"choropleth\": [{\"colorbar\": {\"outlinewidth\": 0, \"ticks\": \"\"}, \"type\": \"choropleth\"}], \"contour\": [{\"colorbar\": {\"outlinewidth\": 0, \"ticks\": \"\"}, \"colorscale\": [[0.0, \"#0d0887\"], [0.1111111111111111, \"#46039f\"], [0.2222222222222222, \"#7201a8\"], [0.3333333333333333, \"#9c179e\"], [0.4444444444444444, \"#bd3786\"], [0.5555555555555556, \"#d8576b\"], [0.6666666666666666, \"#ed7953\"], [0.7777777777777778, \"#fb9f3a\"], [0.8888888888888888, \"#fdca26\"], [1.0, \"#f0f921\"]], \"type\": \"contour\"}], \"contourcarpet\": [{\"colorbar\": {\"outlinewidth\": 0, \"ticks\": \"\"}, \"type\": \"contourcarpet\"}], \"heatmap\": [{\"colorbar\": {\"outlinewidth\": 0, \"ticks\": \"\"}, \"colorscale\": [[0.0, \"#0d0887\"], [0.1111111111111111, \"#46039f\"], [0.2222222222222222, \"#7201a8\"], [0.3333333333333333, \"#9c179e\"], [0.4444444444444444, \"#bd3786\"], [0.5555555555555556, \"#d8576b\"], [0.6666666666666666, \"#ed7953\"], [0.7777777777777778, \"#fb9f3a\"], [0.8888888888888888, \"#fdca26\"], [1.0, \"#f0f921\"]], \"type\": \"heatmap\"}], \"heatmapgl\": [{\"colorbar\": {\"outlinewidth\": 0, \"ticks\": \"\"}, \"colorscale\": [[0.0, \"#0d0887\"], [0.1111111111111111, \"#46039f\"], [0.2222222222222222, \"#7201a8\"], [0.3333333333333333, \"#9c179e\"], [0.4444444444444444, \"#bd3786\"], [0.5555555555555556, \"#d8576b\"], [0.6666666666666666, \"#ed7953\"], [0.7777777777777778, \"#fb9f3a\"], [0.8888888888888888, \"#fdca26\"], [1.0, \"#f0f921\"]], \"type\": \"heatmapgl\"}], \"histogram\": [{\"marker\": {\"colorbar\": {\"outlinewidth\": 0, \"ticks\": \"\"}}, \"type\": \"histogram\"}], \"histogram2d\": [{\"colorbar\": {\"outlinewidth\": 0, \"ticks\": \"\"}, \"colorscale\": [[0.0, \"#0d0887\"], [0.1111111111111111, \"#46039f\"], [0.2222222222222222, \"#7201a8\"], [0.3333333333333333, \"#9c179e\"], [0.4444444444444444, \"#bd3786\"], [0.5555555555555556, \"#d8576b\"], [0.6666666666666666, \"#ed7953\"], [0.7777777777777778, \"#fb9f3a\"], [0.8888888888888888, \"#fdca26\"], [1.0, \"#f0f921\"]], \"type\": \"histogram2d\"}], \"histogram2dcontour\": [{\"colorbar\": {\"outlinewidth\": 0, \"ticks\": \"\"}, \"colorscale\": [[0.0, \"#0d0887\"], [0.1111111111111111, \"#46039f\"], [0.2222222222222222, \"#7201a8\"], [0.3333333333333333, \"#9c179e\"], [0.4444444444444444, \"#bd3786\"], [0.5555555555555556, \"#d8576b\"], [0.6666666666666666, \"#ed7953\"], [0.7777777777777778, \"#fb9f3a\"], [0.8888888888888888, \"#fdca26\"], [1.0, \"#f0f921\"]], \"type\": \"histogram2dcontour\"}], \"mesh3d\": [{\"colorbar\": {\"outlinewidth\": 0, \"ticks\": \"\"}, \"type\": \"mesh3d\"}], \"parcoords\": [{\"line\": {\"colorbar\": {\"outlinewidth\": 0, \"ticks\": \"\"}}, \"type\": \"parcoords\"}], \"pie\": [{\"automargin\": true, \"type\": \"pie\"}], \"scatter\": [{\"marker\": {\"colorbar\": {\"outlinewidth\": 0, \"ticks\": \"\"}}, \"type\": \"scatter\"}], \"scatter3d\": [{\"line\": {\"colorbar\": {\"outlinewidth\": 0, \"ticks\": \"\"}}, \"marker\": {\"colorbar\": {\"outlinewidth\": 0, \"ticks\": \"\"}}, \"type\": \"scatter3d\"}], \"scattercarpet\": [{\"marker\": {\"colorbar\": {\"outlinewidth\": 0, \"ticks\": \"\"}}, \"type\": \"scattercarpet\"}], \"scattergeo\": [{\"marker\": {\"colorbar\": {\"outlinewidth\": 0, \"ticks\": \"\"}}, \"type\": \"scattergeo\"}], \"scattergl\": [{\"marker\": {\"colorbar\": {\"outlinewidth\": 0, \"ticks\": \"\"}}, \"type\": \"scattergl\"}], \"scattermapbox\": [{\"marker\": {\"colorbar\": {\"outlinewidth\": 0, \"ticks\": \"\"}}, \"type\": \"scattermapbox\"}], \"scatterpolar\": [{\"marker\": {\"colorbar\": {\"outlinewidth\": 0, \"ticks\": \"\"}}, \"type\": \"scatterpolar\"}], \"scatterpolargl\": [{\"marker\": {\"colorbar\": {\"outlinewidth\": 0, \"ticks\": \"\"}}, \"type\": \"scatterpolargl\"}], \"scatterternary\": [{\"marker\": {\"colorbar\": {\"outlinewidth\": 0, \"ticks\": \"\"}}, \"type\": \"scatterternary\"}], \"surface\": [{\"colorbar\": {\"outlinewidth\": 0, \"ticks\": \"\"}, \"colorscale\": [[0.0, \"#0d0887\"], [0.1111111111111111, \"#46039f\"], [0.2222222222222222, \"#7201a8\"], [0.3333333333333333, \"#9c179e\"], [0.4444444444444444, \"#bd3786\"], [0.5555555555555556, \"#d8576b\"], [0.6666666666666666, \"#ed7953\"], [0.7777777777777778, \"#fb9f3a\"], [0.8888888888888888, \"#fdca26\"], [1.0, \"#f0f921\"]], \"type\": \"surface\"}], \"table\": [{\"cells\": {\"fill\": {\"color\": \"#EBF0F8\"}, \"line\": {\"color\": \"white\"}}, \"header\": {\"fill\": {\"color\": \"#C8D4E3\"}, \"line\": {\"color\": \"white\"}}, \"type\": \"table\"}]}, \"layout\": {\"annotationdefaults\": {\"arrowcolor\": \"#2a3f5f\", \"arrowhead\": 0, \"arrowwidth\": 1}, \"coloraxis\": {\"colorbar\": {\"outlinewidth\": 0, \"ticks\": \"\"}}, \"colorscale\": {\"diverging\": [[0, \"#8e0152\"], [0.1, \"#c51b7d\"], [0.2, \"#de77ae\"], [0.3, \"#f1b6da\"], [0.4, \"#fde0ef\"], [0.5, \"#f7f7f7\"], [0.6, \"#e6f5d0\"], [0.7, \"#b8e186\"], [0.8, \"#7fbc41\"], [0.9, \"#4d9221\"], [1, \"#276419\"]], \"sequential\": [[0.0, \"#0d0887\"], [0.1111111111111111, \"#46039f\"], [0.2222222222222222, \"#7201a8\"], [0.3333333333333333, \"#9c179e\"], [0.4444444444444444, \"#bd3786\"], [0.5555555555555556, \"#d8576b\"], [0.6666666666666666, \"#ed7953\"], [0.7777777777777778, \"#fb9f3a\"], [0.8888888888888888, \"#fdca26\"], [1.0, \"#f0f921\"]], \"sequentialminus\": [[0.0, \"#0d0887\"], [0.1111111111111111, \"#46039f\"], [0.2222222222222222, \"#7201a8\"], [0.3333333333333333, \"#9c179e\"], [0.4444444444444444, \"#bd3786\"], [0.5555555555555556, \"#d8576b\"], [0.6666666666666666, \"#ed7953\"], [0.7777777777777778, \"#fb9f3a\"], [0.8888888888888888, \"#fdca26\"], [1.0, \"#f0f921\"]]}, \"colorway\": [\"#636efa\", \"#EF553B\", \"#00cc96\", \"#ab63fa\", \"#FFA15A\", \"#19d3f3\", \"#FF6692\", \"#B6E880\", \"#FF97FF\", \"#FECB52\"], \"font\": {\"color\": \"#2a3f5f\"}, \"geo\": {\"bgcolor\": \"white\", \"lakecolor\": \"white\", \"landcolor\": \"#E5ECF6\", \"showlakes\": true, \"showland\": true, \"subunitcolor\": \"white\"}, \"hoverlabel\": {\"align\": \"left\"}, \"hovermode\": \"closest\", \"mapbox\": {\"style\": \"light\"}, \"paper_bgcolor\": \"white\", \"plot_bgcolor\": \"#E5ECF6\", \"polar\": {\"angularaxis\": {\"gridcolor\": \"white\", \"linecolor\": \"white\", \"ticks\": \"\"}, \"bgcolor\": \"#E5ECF6\", \"radialaxis\": {\"gridcolor\": \"white\", \"linecolor\": \"white\", \"ticks\": \"\"}}, \"scene\": {\"xaxis\": {\"backgroundcolor\": \"#E5ECF6\", \"gridcolor\": \"white\", \"gridwidth\": 2, \"linecolor\": \"white\", \"showbackground\": true, \"ticks\": \"\", \"zerolinecolor\": \"white\"}, \"yaxis\": {\"backgroundcolor\": \"#E5ECF6\", \"gridcolor\": \"white\", \"gridwidth\": 2, \"linecolor\": \"white\", \"showbackground\": true, \"ticks\": \"\", \"zerolinecolor\": \"white\"}, \"zaxis\": {\"backgroundcolor\": \"#E5ECF6\", \"gridcolor\": \"white\", \"gridwidth\": 2, \"linecolor\": \"white\", \"showbackground\": true, \"ticks\": \"\", \"zerolinecolor\": \"white\"}}, \"shapedefaults\": {\"line\": {\"color\": \"#2a3f5f\"}}, \"ternary\": {\"aaxis\": {\"gridcolor\": \"white\", \"linecolor\": \"white\", \"ticks\": \"\"}, \"baxis\": {\"gridcolor\": \"white\", \"linecolor\": \"white\", \"ticks\": \"\"}, \"bgcolor\": \"#E5ECF6\", \"caxis\": {\"gridcolor\": \"white\", \"linecolor\": \"white\", \"ticks\": \"\"}}, \"title\": {\"x\": 0.05}, \"xaxis\": {\"automargin\": true, \"gridcolor\": \"white\", \"linecolor\": \"white\", \"ticks\": \"\", \"title\": {\"standoff\": 15}, \"zerolinecolor\": \"white\", \"zerolinewidth\": 2}, \"yaxis\": {\"automargin\": true, \"gridcolor\": \"white\", \"linecolor\": \"white\", \"ticks\": \"\", \"title\": {\"standoff\": 15}, \"zerolinecolor\": \"white\", \"zerolinewidth\": 2}}}, \"xaxis\": {\"constrain\": \"domain\", \"scaleanchor\": \"y\"}, \"yaxis\": {\"autorange\": \"reversed\", \"constrain\": \"domain\"}},\n",
              "                        {\"responsive\": true}\n",
              "                    ).then(function(){\n",
              "                            \n",
              "var gd = document.getElementById('a20838df-cd76-43ea-bab7-1b850b7f3eb6');\n",
              "var x = new MutationObserver(function (mutations, observer) {{\n",
              "        var display = window.getComputedStyle(gd).display;\n",
              "        if (!display || display === 'none') {{\n",
              "            console.log([gd, 'removed!']);\n",
              "            Plotly.purge(gd);\n",
              "            observer.disconnect();\n",
              "        }}\n",
              "}});\n",
              "\n",
              "// Listen for the removal of the full notebook cells\n",
              "var notebookContainer = gd.closest('#notebook-container');\n",
              "if (notebookContainer) {{\n",
              "    x.observe(notebookContainer, {childList: true});\n",
              "}}\n",
              "\n",
              "// Listen for the clearing of the current output cell\n",
              "var outputEl = gd.closest('.output');\n",
              "if (outputEl) {{\n",
              "    x.observe(outputEl, {childList: true});\n",
              "}}\n",
              "\n",
              "                        })\n",
              "                };\n",
              "                \n",
              "            </script>\n",
              "        </div>\n",
              "</body>\n",
              "</html>"
            ]
          },
          "metadata": {
            "tags": []
          }
        }
      ]
    },
    {
      "cell_type": "markdown",
      "metadata": {
        "id": "_UOc47RKj9lZ"
      },
      "source": [
        "**DATA** **PREPROCESSING**"
      ]
    },
    {
      "cell_type": "code",
      "metadata": {
        "id": "sCGJoNuoj4Pc"
      },
      "source": [
        "x = df1.drop('Price',axis=True)\n",
        "y = df1['Price']"
      ],
      "execution_count": 42,
      "outputs": []
    },
    {
      "cell_type": "code",
      "metadata": {
        "id": "22Cu25EikBlw"
      },
      "source": [
        "from sklearn.model_selection import train_test_split\n",
        "x_train,x_test,y_train,y_test = train_test_split(x,y,test_size=0.2,random_state=42)"
      ],
      "execution_count": 43,
      "outputs": []
    },
    {
      "cell_type": "code",
      "metadata": {
        "id": "0EjLupLGkGMo"
      },
      "source": [
        "from sklearn.preprocessing import MinMaxScaler\n",
        "ms = MinMaxScaler()\n",
        "x_train = ms.fit_transform(x_train)\n",
        "x_test = ms.transform(x_test)"
      ],
      "execution_count": 44,
      "outputs": []
    },
    {
      "cell_type": "code",
      "metadata": {
        "id": "w_Os9k-2kIR7"
      },
      "source": [
        "from sklearn.neighbors import KNeighborsRegressor\n",
        "from sklearn.linear_model import LinearRegression\n",
        "from sklearn.tree import DecisionTreeRegressor\n",
        "from sklearn.ensemble import RandomForestRegressor\n",
        "from xgboost import XGBRegressor\n",
        "from sklearn.ensemble import BaggingRegressor\n",
        "from sklearn.ensemble import GradientBoostingRegressor\n",
        "from sklearn.metrics import r2_score"
      ],
      "execution_count": 45,
      "outputs": []
    },
    {
      "cell_type": "markdown",
      "metadata": {
        "id": "v-dWrIl3kOuw"
      },
      "source": [
        "**KNEIGHBOURA REGRESSOR**"
      ]
    },
    {
      "cell_type": "code",
      "metadata": {
        "colab": {
          "base_uri": "https://localhost:8080/"
        },
        "id": "Yja12ARekLfx",
        "outputId": "8e2e366e-1462-42a9-ddd7-720c61272e86"
      },
      "source": [
        "k_reg = KNeighborsRegressor()\n",
        "k_reg.fit(x_train,y_train)\n",
        "\n",
        "k_acc = r2_score(y_test,k_reg.predict(x_test))\n",
        "\n",
        "print(\"Train accuracy:\", (k_reg.score(x_train,y_train)))\n",
        "print(\"Test accuracy:\", (k_reg.score(x_test,y_test))) "
      ],
      "execution_count": 46,
      "outputs": [
        {
          "output_type": "stream",
          "text": [
            "Train accuracy: 0.8031747138685922\n",
            "Test accuracy: 0.5996615029220401\n"
          ],
          "name": "stdout"
        }
      ]
    },
    {
      "cell_type": "markdown",
      "metadata": {
        "id": "usJmw-Swkd9z"
      },
      "source": [
        "LINEAR REGRESSION\n"
      ]
    },
    {
      "cell_type": "code",
      "metadata": {
        "colab": {
          "base_uri": "https://localhost:8080/"
        },
        "id": "DS8XXrpokV-T",
        "outputId": "04ad0023-bcfe-4410-e42c-d0a5bc865191"
      },
      "source": [
        "l_reg = LinearRegression()\n",
        "l_reg.fit(x_train,y_train)\n",
        "\n",
        "l_acc = r2_score(y_test,l_reg.predict(x_test))\n",
        "\n",
        "print(\"Train accuracy:\", (l_reg.score(x_train,y_train)))\n",
        "print(\"Test accuracy:\", (l_reg.score(x_test,y_test)))"
      ],
      "execution_count": 47,
      "outputs": [
        {
          "output_type": "stream",
          "text": [
            "Train accuracy: 0.7431129879586584\n",
            "Test accuracy: 0.7361005004237722\n"
          ],
          "name": "stdout"
        }
      ]
    },
    {
      "cell_type": "markdown",
      "metadata": {
        "id": "eLJKvjxDkmm-"
      },
      "source": [
        "DECISION TREE"
      ]
    },
    {
      "cell_type": "code",
      "metadata": {
        "colab": {
          "base_uri": "https://localhost:8080/"
        },
        "id": "sd4AAsbTkgs4",
        "outputId": "f0d26111-6b51-4793-e86b-4a298db43ae1"
      },
      "source": [
        "d_reg = DecisionTreeRegressor()\n",
        "d_reg.fit(x_train,y_train)\n",
        "\n",
        "d_acc = r2_score(y_test,d_reg.predict(x_test))\n",
        "\n",
        "print(\"Train accuracy:\", (d_reg.score(x_train,y_train)))\n",
        "print(\"Test accuracy:\", (d_reg.score(x_test,y_test)))"
      ],
      "execution_count": 48,
      "outputs": [
        {
          "output_type": "stream",
          "text": [
            "Train accuracy: 0.9996738434770515\n",
            "Test accuracy: 0.5244786995243866\n"
          ],
          "name": "stdout"
        }
      ]
    },
    {
      "cell_type": "markdown",
      "metadata": {
        "id": "JtH7LS93ku90"
      },
      "source": [
        "RANDOM FOREST CLASSIFIER"
      ]
    },
    {
      "cell_type": "code",
      "metadata": {
        "colab": {
          "base_uri": "https://localhost:8080/"
        },
        "id": "f4HU3NfJkpL5",
        "outputId": "f74f5959-0eab-4528-b5ff-614fcb55e764"
      },
      "source": [
        "r_reg = RandomForestRegressor()\n",
        "r_reg.fit(x_train,y_train)\n",
        "\n",
        "r_acc = r2_score(y_test,r_reg.predict(x_test))\n",
        "\n",
        "print(\"Training accuracy:\",(r_reg.score(x_train,y_train)))\n",
        "print(\"Test accuracy:\",(r_reg.score(x_test,y_test)))"
      ],
      "execution_count": 49,
      "outputs": [
        {
          "output_type": "stream",
          "text": [
            "Training accuracy: 0.9671440906652234\n",
            "Test accuracy: 0.7853606882206455\n"
          ],
          "name": "stdout"
        }
      ]
    },
    {
      "cell_type": "code",
      "metadata": {
        "colab": {
          "base_uri": "https://localhost:8080/"
        },
        "id": "jlAxoTBlkyeY",
        "outputId": "73e9533f-226a-4090-f346-45deb446a400"
      },
      "source": [
        "x_reg = XGBRegressor()\n",
        "x_reg.fit(x_train,y_train)\n",
        "\n",
        "x_acc = r2_score(y_test,x_reg.predict(x_test))\n",
        "\n",
        "print(\"Training accuracy:\",(x_reg.score(x_train,y_train)))\n",
        "print(\"Test accuracy:\",(x_reg.score(x_test,y_test)))"
      ],
      "execution_count": 50,
      "outputs": [
        {
          "output_type": "stream",
          "text": [
            "[07:32:21] WARNING: /workspace/src/objective/regression_obj.cu:152: reg:linear is now deprecated in favor of reg:squarederror.\n",
            "Training accuracy: 0.9042119168087907\n",
            "Test accuracy: 0.8053484487989179\n"
          ],
          "name": "stdout"
        }
      ]
    },
    {
      "cell_type": "code",
      "metadata": {
        "colab": {
          "base_uri": "https://localhost:8080/"
        },
        "id": "zwSAi5nMk3cj",
        "outputId": "9dc50a5b-6b0a-4321-cde7-6eccc5291759"
      },
      "source": [
        "B_reg = BaggingRegressor()\n",
        "B_reg.fit(x_train,y_train)\n",
        "\n",
        "B_acc = r2_score(y_test,B_reg.predict(x_test))\n",
        "\n",
        "print(\"Training accuracy:\",(B_reg.score(x_train,y_train)))\n",
        "print(\"Test accuracy:\",(B_reg.score(x_test,y_test)))"
      ],
      "execution_count": 51,
      "outputs": [
        {
          "output_type": "stream",
          "text": [
            "Training accuracy: 0.9588655911724497\n",
            "Test accuracy: 0.7321695818393212\n"
          ],
          "name": "stdout"
        }
      ]
    },
    {
      "cell_type": "code",
      "metadata": {
        "colab": {
          "base_uri": "https://localhost:8080/"
        },
        "id": "_m90MN51lLel",
        "outputId": "ffbcf257-dd36-426e-d6a1-6c81b3be1f7c"
      },
      "source": [
        "GB_reg = GradientBoostingRegressor()\n",
        "GB_reg.fit(x_train,y_train)\n",
        "\n",
        "GB_acc = r2_score(y_test,GB_reg.predict(x_test))\n",
        "\n",
        "print(\"Training accuracy:\",(GB_reg.score(x_train,y_train)))\n",
        "print(\"Test accuracy:\",(GB_reg.score(x_test,y_test)))"
      ],
      "execution_count": 54,
      "outputs": [
        {
          "output_type": "stream",
          "text": [
            "Training accuracy: 0.9198971016372504\n",
            "Test accuracy: 0.7974220961691953\n"
          ],
          "name": "stdout"
        }
      ]
    },
    {
      "cell_type": "code",
      "metadata": {
        "colab": {
          "base_uri": "https://localhost:8080/",
          "height": 269
        },
        "id": "50QFQaM2k612",
        "outputId": "f09095f7-a460-4f55-89fa-e956b0e2079c"
      },
      "source": [
        "models = pd.DataFrame({\n",
        "    'Models': ['Knn','Linear','DecisionTree','RandomForest','XGB','Bagging','GradientBoosting'],\n",
        "    'Scores': [k_acc,l_acc,d_acc,r_acc,x_acc,B_acc,GB_acc]\n",
        "\n",
        "})\n",
        "\n",
        "models.sort_values(by = 'Scores',ascending = False)\n"
      ],
      "execution_count": 55,
      "outputs": [
        {
          "output_type": "execute_result",
          "data": {
            "text/html": [
              "<div>\n",
              "<style scoped>\n",
              "    .dataframe tbody tr th:only-of-type {\n",
              "        vertical-align: middle;\n",
              "    }\n",
              "\n",
              "    .dataframe tbody tr th {\n",
              "        vertical-align: top;\n",
              "    }\n",
              "\n",
              "    .dataframe thead th {\n",
              "        text-align: right;\n",
              "    }\n",
              "</style>\n",
              "<table border=\"1\" class=\"dataframe\">\n",
              "  <thead>\n",
              "    <tr style=\"text-align: right;\">\n",
              "      <th></th>\n",
              "      <th>Models</th>\n",
              "      <th>Scores</th>\n",
              "    </tr>\n",
              "  </thead>\n",
              "  <tbody>\n",
              "    <tr>\n",
              "      <th>4</th>\n",
              "      <td>XGB</td>\n",
              "      <td>0.805348</td>\n",
              "    </tr>\n",
              "    <tr>\n",
              "      <th>6</th>\n",
              "      <td>GradientBoosting</td>\n",
              "      <td>0.797422</td>\n",
              "    </tr>\n",
              "    <tr>\n",
              "      <th>3</th>\n",
              "      <td>RandomForest</td>\n",
              "      <td>0.785361</td>\n",
              "    </tr>\n",
              "    <tr>\n",
              "      <th>1</th>\n",
              "      <td>Linear</td>\n",
              "      <td>0.736101</td>\n",
              "    </tr>\n",
              "    <tr>\n",
              "      <th>5</th>\n",
              "      <td>Bagging</td>\n",
              "      <td>0.732170</td>\n",
              "    </tr>\n",
              "    <tr>\n",
              "      <th>0</th>\n",
              "      <td>Knn</td>\n",
              "      <td>0.599662</td>\n",
              "    </tr>\n",
              "    <tr>\n",
              "      <th>2</th>\n",
              "      <td>DecisionTree</td>\n",
              "      <td>0.524479</td>\n",
              "    </tr>\n",
              "  </tbody>\n",
              "</table>\n",
              "</div>"
            ],
            "text/plain": [
              "             Models    Scores\n",
              "4               XGB  0.805348\n",
              "6  GradientBoosting  0.797422\n",
              "3      RandomForest  0.785361\n",
              "1            Linear  0.736101\n",
              "5           Bagging  0.732170\n",
              "0               Knn  0.599662\n",
              "2      DecisionTree  0.524479"
            ]
          },
          "metadata": {
            "tags": []
          },
          "execution_count": 55
        }
      ]
    },
    {
      "cell_type": "code",
      "metadata": {
        "colab": {
          "base_uri": "https://localhost:8080/",
          "height": 542
        },
        "id": "fWCknBtxk-5c",
        "outputId": "16b3ced6-1197-4509-c8c7-6fcfdec86a3e"
      },
      "source": [
        "px.bar(models,x='Models',y = 'Scores',color='Models')\n"
      ],
      "execution_count": 56,
      "outputs": [
        {
          "output_type": "display_data",
          "data": {
            "text/html": [
              "<html>\n",
              "<head><meta charset=\"utf-8\" /></head>\n",
              "<body>\n",
              "    <div>\n",
              "            <script src=\"https://cdnjs.cloudflare.com/ajax/libs/mathjax/2.7.5/MathJax.js?config=TeX-AMS-MML_SVG\"></script><script type=\"text/javascript\">if (window.MathJax) {MathJax.Hub.Config({SVG: {font: \"STIX-Web\"}});}</script>\n",
              "                <script type=\"text/javascript\">window.PlotlyConfig = {MathJaxConfig: 'local'};</script>\n",
              "        <script src=\"https://cdn.plot.ly/plotly-latest.min.js\"></script>    \n",
              "            <div id=\"4d092c72-431b-4252-bf34-f68863a1382b\" class=\"plotly-graph-div\" style=\"height:525px; width:100%;\"></div>\n",
              "            <script type=\"text/javascript\">\n",
              "                \n",
              "                    window.PLOTLYENV=window.PLOTLYENV || {};\n",
              "                    \n",
              "                if (document.getElementById(\"4d092c72-431b-4252-bf34-f68863a1382b\")) {\n",
              "                    Plotly.newPlot(\n",
              "                        '4d092c72-431b-4252-bf34-f68863a1382b',\n",
              "                        [{\"alignmentgroup\": \"True\", \"hoverlabel\": {\"namelength\": 0}, \"hovertemplate\": \"Models=%{x}<br>Scores=%{y}\", \"legendgroup\": \"Models=Knn\", \"marker\": {\"color\": \"#636efa\"}, \"name\": \"Models=Knn\", \"offsetgroup\": \"Models=Knn\", \"orientation\": \"v\", \"showlegend\": true, \"textposition\": \"auto\", \"type\": \"bar\", \"x\": [\"Knn\"], \"xaxis\": \"x\", \"y\": [0.5996615029220401], \"yaxis\": \"y\"}, {\"alignmentgroup\": \"True\", \"hoverlabel\": {\"namelength\": 0}, \"hovertemplate\": \"Models=%{x}<br>Scores=%{y}\", \"legendgroup\": \"Models=Linear\", \"marker\": {\"color\": \"#EF553B\"}, \"name\": \"Models=Linear\", \"offsetgroup\": \"Models=Linear\", \"orientation\": \"v\", \"showlegend\": true, \"textposition\": \"auto\", \"type\": \"bar\", \"x\": [\"Linear\"], \"xaxis\": \"x\", \"y\": [0.7361005004237722], \"yaxis\": \"y\"}, {\"alignmentgroup\": \"True\", \"hoverlabel\": {\"namelength\": 0}, \"hovertemplate\": \"Models=%{x}<br>Scores=%{y}\", \"legendgroup\": \"Models=DecisionTree\", \"marker\": {\"color\": \"#00cc96\"}, \"name\": \"Models=DecisionTree\", \"offsetgroup\": \"Models=DecisionTree\", \"orientation\": \"v\", \"showlegend\": true, \"textposition\": \"auto\", \"type\": \"bar\", \"x\": [\"DecisionTree\"], \"xaxis\": \"x\", \"y\": [0.5244786995243866], \"yaxis\": \"y\"}, {\"alignmentgroup\": \"True\", \"hoverlabel\": {\"namelength\": 0}, \"hovertemplate\": \"Models=%{x}<br>Scores=%{y}\", \"legendgroup\": \"Models=RandomForest\", \"marker\": {\"color\": \"#ab63fa\"}, \"name\": \"Models=RandomForest\", \"offsetgroup\": \"Models=RandomForest\", \"orientation\": \"v\", \"showlegend\": true, \"textposition\": \"auto\", \"type\": \"bar\", \"x\": [\"RandomForest\"], \"xaxis\": \"x\", \"y\": [0.7853606882206455], \"yaxis\": \"y\"}, {\"alignmentgroup\": \"True\", \"hoverlabel\": {\"namelength\": 0}, \"hovertemplate\": \"Models=%{x}<br>Scores=%{y}\", \"legendgroup\": \"Models=XGB\", \"marker\": {\"color\": \"#FFA15A\"}, \"name\": \"Models=XGB\", \"offsetgroup\": \"Models=XGB\", \"orientation\": \"v\", \"showlegend\": true, \"textposition\": \"auto\", \"type\": \"bar\", \"x\": [\"XGB\"], \"xaxis\": \"x\", \"y\": [0.8053484487989179], \"yaxis\": \"y\"}, {\"alignmentgroup\": \"True\", \"hoverlabel\": {\"namelength\": 0}, \"hovertemplate\": \"Models=%{x}<br>Scores=%{y}\", \"legendgroup\": \"Models=Bagging\", \"marker\": {\"color\": \"#19d3f3\"}, \"name\": \"Models=Bagging\", \"offsetgroup\": \"Models=Bagging\", \"orientation\": \"v\", \"showlegend\": true, \"textposition\": \"auto\", \"type\": \"bar\", \"x\": [\"Bagging\"], \"xaxis\": \"x\", \"y\": [0.7321695818393212], \"yaxis\": \"y\"}, {\"alignmentgroup\": \"True\", \"hoverlabel\": {\"namelength\": 0}, \"hovertemplate\": \"Models=%{x}<br>Scores=%{y}\", \"legendgroup\": \"Models=GradientBoosting\", \"marker\": {\"color\": \"#FF6692\"}, \"name\": \"Models=GradientBoosting\", \"offsetgroup\": \"Models=GradientBoosting\", \"orientation\": \"v\", \"showlegend\": true, \"textposition\": \"auto\", \"type\": \"bar\", \"x\": [\"GradientBoosting\"], \"xaxis\": \"x\", \"y\": [0.7974220961691953], \"yaxis\": \"y\"}],\n",
              "                        {\"barmode\": \"relative\", \"legend\": {\"tracegroupgap\": 0}, \"margin\": {\"t\": 60}, \"template\": {\"data\": {\"bar\": [{\"error_x\": {\"color\": \"#2a3f5f\"}, \"error_y\": {\"color\": \"#2a3f5f\"}, \"marker\": {\"line\": {\"color\": \"#E5ECF6\", \"width\": 0.5}}, \"type\": \"bar\"}], \"barpolar\": [{\"marker\": {\"line\": {\"color\": \"#E5ECF6\", \"width\": 0.5}}, \"type\": \"barpolar\"}], \"carpet\": [{\"aaxis\": {\"endlinecolor\": \"#2a3f5f\", \"gridcolor\": \"white\", \"linecolor\": \"white\", \"minorgridcolor\": \"white\", \"startlinecolor\": \"#2a3f5f\"}, \"baxis\": {\"endlinecolor\": \"#2a3f5f\", \"gridcolor\": \"white\", \"linecolor\": \"white\", \"minorgridcolor\": \"white\", \"startlinecolor\": \"#2a3f5f\"}, \"type\": \"carpet\"}], \"choropleth\": [{\"colorbar\": {\"outlinewidth\": 0, \"ticks\": \"\"}, \"type\": \"choropleth\"}], \"contour\": [{\"colorbar\": {\"outlinewidth\": 0, \"ticks\": \"\"}, \"colorscale\": [[0.0, \"#0d0887\"], [0.1111111111111111, \"#46039f\"], [0.2222222222222222, \"#7201a8\"], [0.3333333333333333, \"#9c179e\"], [0.4444444444444444, \"#bd3786\"], [0.5555555555555556, \"#d8576b\"], [0.6666666666666666, \"#ed7953\"], [0.7777777777777778, \"#fb9f3a\"], [0.8888888888888888, \"#fdca26\"], [1.0, \"#f0f921\"]], \"type\": \"contour\"}], \"contourcarpet\": [{\"colorbar\": {\"outlinewidth\": 0, \"ticks\": \"\"}, \"type\": \"contourcarpet\"}], \"heatmap\": [{\"colorbar\": {\"outlinewidth\": 0, \"ticks\": \"\"}, \"colorscale\": [[0.0, \"#0d0887\"], [0.1111111111111111, \"#46039f\"], [0.2222222222222222, \"#7201a8\"], [0.3333333333333333, \"#9c179e\"], [0.4444444444444444, \"#bd3786\"], [0.5555555555555556, \"#d8576b\"], [0.6666666666666666, \"#ed7953\"], [0.7777777777777778, \"#fb9f3a\"], [0.8888888888888888, \"#fdca26\"], [1.0, \"#f0f921\"]], \"type\": \"heatmap\"}], \"heatmapgl\": [{\"colorbar\": {\"outlinewidth\": 0, \"ticks\": \"\"}, \"colorscale\": [[0.0, \"#0d0887\"], [0.1111111111111111, \"#46039f\"], [0.2222222222222222, \"#7201a8\"], [0.3333333333333333, \"#9c179e\"], [0.4444444444444444, \"#bd3786\"], [0.5555555555555556, \"#d8576b\"], [0.6666666666666666, \"#ed7953\"], [0.7777777777777778, \"#fb9f3a\"], [0.8888888888888888, \"#fdca26\"], [1.0, \"#f0f921\"]], \"type\": \"heatmapgl\"}], \"histogram\": [{\"marker\": {\"colorbar\": {\"outlinewidth\": 0, \"ticks\": \"\"}}, \"type\": \"histogram\"}], \"histogram2d\": [{\"colorbar\": {\"outlinewidth\": 0, \"ticks\": \"\"}, \"colorscale\": [[0.0, \"#0d0887\"], [0.1111111111111111, \"#46039f\"], [0.2222222222222222, \"#7201a8\"], [0.3333333333333333, \"#9c179e\"], [0.4444444444444444, \"#bd3786\"], [0.5555555555555556, \"#d8576b\"], [0.6666666666666666, \"#ed7953\"], [0.7777777777777778, \"#fb9f3a\"], [0.8888888888888888, \"#fdca26\"], [1.0, \"#f0f921\"]], \"type\": \"histogram2d\"}], \"histogram2dcontour\": [{\"colorbar\": {\"outlinewidth\": 0, \"ticks\": \"\"}, \"colorscale\": [[0.0, \"#0d0887\"], [0.1111111111111111, \"#46039f\"], [0.2222222222222222, \"#7201a8\"], [0.3333333333333333, \"#9c179e\"], [0.4444444444444444, \"#bd3786\"], [0.5555555555555556, \"#d8576b\"], [0.6666666666666666, \"#ed7953\"], [0.7777777777777778, \"#fb9f3a\"], [0.8888888888888888, \"#fdca26\"], [1.0, \"#f0f921\"]], \"type\": \"histogram2dcontour\"}], \"mesh3d\": [{\"colorbar\": {\"outlinewidth\": 0, \"ticks\": \"\"}, \"type\": \"mesh3d\"}], \"parcoords\": [{\"line\": {\"colorbar\": {\"outlinewidth\": 0, \"ticks\": \"\"}}, \"type\": \"parcoords\"}], \"pie\": [{\"automargin\": true, \"type\": \"pie\"}], \"scatter\": [{\"marker\": {\"colorbar\": {\"outlinewidth\": 0, \"ticks\": \"\"}}, \"type\": \"scatter\"}], \"scatter3d\": [{\"line\": {\"colorbar\": {\"outlinewidth\": 0, \"ticks\": \"\"}}, \"marker\": {\"colorbar\": {\"outlinewidth\": 0, \"ticks\": \"\"}}, \"type\": \"scatter3d\"}], \"scattercarpet\": [{\"marker\": {\"colorbar\": {\"outlinewidth\": 0, \"ticks\": \"\"}}, \"type\": \"scattercarpet\"}], \"scattergeo\": [{\"marker\": {\"colorbar\": {\"outlinewidth\": 0, \"ticks\": \"\"}}, \"type\": \"scattergeo\"}], \"scattergl\": [{\"marker\": {\"colorbar\": {\"outlinewidth\": 0, \"ticks\": \"\"}}, \"type\": \"scattergl\"}], \"scattermapbox\": [{\"marker\": {\"colorbar\": {\"outlinewidth\": 0, \"ticks\": \"\"}}, \"type\": \"scattermapbox\"}], \"scatterpolar\": [{\"marker\": {\"colorbar\": {\"outlinewidth\": 0, \"ticks\": \"\"}}, \"type\": \"scatterpolar\"}], \"scatterpolargl\": [{\"marker\": {\"colorbar\": {\"outlinewidth\": 0, \"ticks\": \"\"}}, \"type\": \"scatterpolargl\"}], \"scatterternary\": [{\"marker\": {\"colorbar\": {\"outlinewidth\": 0, \"ticks\": \"\"}}, \"type\": \"scatterternary\"}], \"surface\": [{\"colorbar\": {\"outlinewidth\": 0, \"ticks\": \"\"}, \"colorscale\": [[0.0, \"#0d0887\"], [0.1111111111111111, \"#46039f\"], [0.2222222222222222, \"#7201a8\"], [0.3333333333333333, \"#9c179e\"], [0.4444444444444444, \"#bd3786\"], [0.5555555555555556, \"#d8576b\"], [0.6666666666666666, \"#ed7953\"], [0.7777777777777778, \"#fb9f3a\"], [0.8888888888888888, \"#fdca26\"], [1.0, \"#f0f921\"]], \"type\": \"surface\"}], \"table\": [{\"cells\": {\"fill\": {\"color\": \"#EBF0F8\"}, \"line\": {\"color\": \"white\"}}, \"header\": {\"fill\": {\"color\": \"#C8D4E3\"}, \"line\": {\"color\": \"white\"}}, \"type\": \"table\"}]}, \"layout\": {\"annotationdefaults\": {\"arrowcolor\": \"#2a3f5f\", \"arrowhead\": 0, \"arrowwidth\": 1}, \"coloraxis\": {\"colorbar\": {\"outlinewidth\": 0, \"ticks\": \"\"}}, \"colorscale\": {\"diverging\": [[0, \"#8e0152\"], [0.1, \"#c51b7d\"], [0.2, \"#de77ae\"], [0.3, \"#f1b6da\"], [0.4, \"#fde0ef\"], [0.5, \"#f7f7f7\"], [0.6, \"#e6f5d0\"], [0.7, \"#b8e186\"], [0.8, \"#7fbc41\"], [0.9, \"#4d9221\"], [1, \"#276419\"]], \"sequential\": [[0.0, \"#0d0887\"], [0.1111111111111111, \"#46039f\"], [0.2222222222222222, \"#7201a8\"], [0.3333333333333333, \"#9c179e\"], [0.4444444444444444, \"#bd3786\"], [0.5555555555555556, \"#d8576b\"], [0.6666666666666666, \"#ed7953\"], [0.7777777777777778, \"#fb9f3a\"], [0.8888888888888888, \"#fdca26\"], [1.0, \"#f0f921\"]], \"sequentialminus\": [[0.0, \"#0d0887\"], [0.1111111111111111, \"#46039f\"], [0.2222222222222222, \"#7201a8\"], [0.3333333333333333, \"#9c179e\"], [0.4444444444444444, \"#bd3786\"], [0.5555555555555556, \"#d8576b\"], [0.6666666666666666, \"#ed7953\"], [0.7777777777777778, \"#fb9f3a\"], [0.8888888888888888, \"#fdca26\"], [1.0, \"#f0f921\"]]}, \"colorway\": [\"#636efa\", \"#EF553B\", \"#00cc96\", \"#ab63fa\", \"#FFA15A\", \"#19d3f3\", \"#FF6692\", \"#B6E880\", \"#FF97FF\", \"#FECB52\"], \"font\": {\"color\": \"#2a3f5f\"}, \"geo\": {\"bgcolor\": \"white\", \"lakecolor\": \"white\", \"landcolor\": \"#E5ECF6\", \"showlakes\": true, \"showland\": true, \"subunitcolor\": \"white\"}, \"hoverlabel\": {\"align\": \"left\"}, \"hovermode\": \"closest\", \"mapbox\": {\"style\": \"light\"}, \"paper_bgcolor\": \"white\", \"plot_bgcolor\": \"#E5ECF6\", \"polar\": {\"angularaxis\": {\"gridcolor\": \"white\", \"linecolor\": \"white\", \"ticks\": \"\"}, \"bgcolor\": \"#E5ECF6\", \"radialaxis\": {\"gridcolor\": \"white\", \"linecolor\": \"white\", \"ticks\": \"\"}}, \"scene\": {\"xaxis\": {\"backgroundcolor\": \"#E5ECF6\", \"gridcolor\": \"white\", \"gridwidth\": 2, \"linecolor\": \"white\", \"showbackground\": true, \"ticks\": \"\", \"zerolinecolor\": \"white\"}, \"yaxis\": {\"backgroundcolor\": \"#E5ECF6\", \"gridcolor\": \"white\", \"gridwidth\": 2, \"linecolor\": \"white\", \"showbackground\": true, \"ticks\": \"\", \"zerolinecolor\": \"white\"}, \"zaxis\": {\"backgroundcolor\": \"#E5ECF6\", \"gridcolor\": \"white\", \"gridwidth\": 2, \"linecolor\": \"white\", \"showbackground\": true, \"ticks\": \"\", \"zerolinecolor\": \"white\"}}, \"shapedefaults\": {\"line\": {\"color\": \"#2a3f5f\"}}, \"ternary\": {\"aaxis\": {\"gridcolor\": \"white\", \"linecolor\": \"white\", \"ticks\": \"\"}, \"baxis\": {\"gridcolor\": \"white\", \"linecolor\": \"white\", \"ticks\": \"\"}, \"bgcolor\": \"#E5ECF6\", \"caxis\": {\"gridcolor\": \"white\", \"linecolor\": \"white\", \"ticks\": \"\"}}, \"title\": {\"x\": 0.05}, \"xaxis\": {\"automargin\": true, \"gridcolor\": \"white\", \"linecolor\": \"white\", \"ticks\": \"\", \"title\": {\"standoff\": 15}, \"zerolinecolor\": \"white\", \"zerolinewidth\": 2}, \"yaxis\": {\"automargin\": true, \"gridcolor\": \"white\", \"linecolor\": \"white\", \"ticks\": \"\", \"title\": {\"standoff\": 15}, \"zerolinecolor\": \"white\", \"zerolinewidth\": 2}}}, \"xaxis\": {\"anchor\": \"y\", \"categoryarray\": [\"Knn\", \"Linear\", \"DecisionTree\", \"RandomForest\", \"XGB\", \"Bagging\", \"GradientBoosting\"], \"categoryorder\": \"array\", \"domain\": [0.0, 1.0], \"title\": {\"text\": \"Models\"}}, \"yaxis\": {\"anchor\": \"x\", \"domain\": [0.0, 1.0], \"title\": {\"text\": \"Scores\"}}},\n",
              "                        {\"responsive\": true}\n",
              "                    ).then(function(){\n",
              "                            \n",
              "var gd = document.getElementById('4d092c72-431b-4252-bf34-f68863a1382b');\n",
              "var x = new MutationObserver(function (mutations, observer) {{\n",
              "        var display = window.getComputedStyle(gd).display;\n",
              "        if (!display || display === 'none') {{\n",
              "            console.log([gd, 'removed!']);\n",
              "            Plotly.purge(gd);\n",
              "            observer.disconnect();\n",
              "        }}\n",
              "}});\n",
              "\n",
              "// Listen for the removal of the full notebook cells\n",
              "var notebookContainer = gd.closest('#notebook-container');\n",
              "if (notebookContainer) {{\n",
              "    x.observe(notebookContainer, {childList: true});\n",
              "}}\n",
              "\n",
              "// Listen for the clearing of the current output cell\n",
              "var outputEl = gd.closest('.output');\n",
              "if (outputEl) {{\n",
              "    x.observe(outputEl, {childList: true});\n",
              "}}\n",
              "\n",
              "                        })\n",
              "                };\n",
              "                \n",
              "            </script>\n",
              "        </div>\n",
              "</body>\n",
              "</html>"
            ]
          },
          "metadata": {
            "tags": []
          }
        }
      ]
    },
    {
      "cell_type": "code",
      "metadata": {
        "colab": {
          "base_uri": "https://localhost:8080/",
          "height": 345
        },
        "id": "_4CET6dzlRLb",
        "outputId": "1f53361c-bc19-4d58-d460-66f3c53f7439"
      },
      "source": [
        "plt.style.use('dark_background')\n",
        "plt.figure(figsize=(10,5))\n",
        "sns.histplot(y_test, color=\"red\", label=\"100% Equities\", kde=True, stat=\"density\", linewidth=0)\n",
        "sns.histplot(x_reg.predict(x_test), color=\"blue\", label=\"100% Equities\", kde=True, stat=\"density\", linewidth=0)\n",
        "plt.show()"
      ],
      "execution_count": 57,
      "outputs": [
        {
          "output_type": "display_data",
          "data": {
            "image/png": "[encoded data removed]",
            "text/plain": [
              "<Figure size 720x360 with 1 Axes>"
            ]
          },
          "metadata": {
            "tags": []
          }
        }
      ]
    },
    {
      "cell_type": "code",
      "metadata": {
        "id": "8yA_En-NlVR0"
      },
      "source": [
        ""
      ],
      "execution_count": null,
      "outputs": []
    }
  ]
}